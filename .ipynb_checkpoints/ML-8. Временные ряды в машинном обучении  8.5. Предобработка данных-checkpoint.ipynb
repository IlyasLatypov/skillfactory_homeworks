{
 "cells": [
  {
   "cell_type": "markdown",
   "metadata": {},
   "source": [
    "В большинстве случаев до анализа временных рядов их нужно сначала выполнить предобработку данных, то есть:\n",
    "\n",
    "- Избавиться от пропущенных значений (интерполяция)\n",
    "- Привести к фиксированной временной сетке (интерполяция, up-/downsampling)\n",
    "- Изменить временное разрешение (up-/downsampling) \n",
    "\n",
    "Проверка качества данных включает:\n",
    "\n",
    "- Размер DataFrame\n",
    "- Количество интересующих нас уникальных элементов\n",
    "- Количество пропущенных / отсутствующих данных\n",
    "- Основные статистические характеристики данных\n",
    "- Быстрая визуализация того, что можно визуализировать"
   ]
  }
 ],
 "metadata": {
  "kernelspec": {
   "display_name": "Python 3",
   "language": "python",
   "name": "python3"
  },
  "language_info": {
   "codemirror_mode": {
    "name": "ipython",
    "version": 3
   },
   "file_extension": ".py",
   "mimetype": "text/x-python",
   "name": "python",
   "nbconvert_exporter": "python",
   "pygments_lexer": "ipython3",
   "version": "3.8.3"
  }
 },
 "nbformat": 4,
 "nbformat_minor": 4
}
