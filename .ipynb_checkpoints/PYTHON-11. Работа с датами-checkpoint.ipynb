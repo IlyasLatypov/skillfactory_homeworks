{
 "cells": [
  {
   "cell_type": "code",
   "execution_count": 1,
   "metadata": {},
   "outputs": [],
   "source": [
    "from datetime import datetime, timedelta"
   ]
  },
  {
   "cell_type": "code",
   "execution_count": 2,
   "metadata": {},
   "outputs": [],
   "source": [
    "date_string = '05.05.2019 21:00'"
   ]
  },
  {
   "cell_type": "code",
   "execution_count": 4,
   "metadata": {},
   "outputs": [
    {
     "data": {
      "text/plain": [
       "datetime.datetime(2019, 5, 5, 21, 0)"
      ]
     },
     "execution_count": 4,
     "metadata": {},
     "output_type": "execute_result"
    }
   ],
   "source": [
    "dt = datetime.strptime(date_string, '%d.%m.%Y %H:%M')\n",
    "dt"
   ]
  },
  {
   "cell_type": "code",
   "execution_count": 5,
   "metadata": {},
   "outputs": [
    {
     "data": {
      "text/plain": [
       "5"
      ]
     },
     "execution_count": 5,
     "metadata": {},
     "output_type": "execute_result"
    }
   ],
   "source": [
    "dt.month"
   ]
  },
  {
   "cell_type": "code",
   "execution_count": 14,
   "metadata": {},
   "outputs": [
    {
     "data": {
      "text/plain": [
       "'2019-04-01'"
      ]
     },
     "execution_count": 14,
     "metadata": {},
     "output_type": "execute_result"
    }
   ],
   "source": [
    "dt = datetime(2019, 4, 1, 18, 59, 44)\n",
    "dt.strftime('%Y-%m-%d')"
   ]
  },
  {
   "cell_type": "code",
   "execution_count": 25,
   "metadata": {},
   "outputs": [
    {
     "data": {
      "text/plain": [
       "'07.07.2019'"
      ]
     },
     "execution_count": 25,
     "metadata": {},
     "output_type": "execute_result"
    }
   ],
   "source": [
    "\"\"\"\n",
    "Дана строка с датой date_string = '2019-07-07T18:59:33'.\n",
    "\n",
    "Преобразуйте её в строку с форматом %d.%m.%Y. Результат запишите в переменную date_format:\n",
    "\"\"\"\n",
    "\n",
    "date_string = '2019-07-07T18:59:33'\n",
    "\n",
    "tmp = datetime.strptime(date_string, '%Y-%m-%dT%H:%M:%S')\n",
    "\n",
    "\n",
    "date_format = tmp.strftime('%d.%m.%Y')"
   ]
  },
  {
   "cell_type": "code",
   "execution_count": 28,
   "metadata": {},
   "outputs": [
    {
     "data": {
      "text/plain": [
       "[datetime.datetime(2019, 7, 7, 18, 59, 6),\n",
       " datetime.datetime(2019, 7, 7, 19, 0, 2),\n",
       " datetime.datetime(2019, 7, 7, 19, 1, 4)]"
      ]
     },
     "execution_count": 28,
     "metadata": {},
     "output_type": "execute_result"
    }
   ],
   "source": [
    "\"\"\"\n",
    "У вас есть список запуска отчёта по расписанию:\n",
    "\n",
    "dt_list = ['2019-07-07T18:59:06', '2019-07-07T19:00:02', '2019-07-07T19:01:04']\n",
    "\n",
    "Переведите эти значения из строк в формат datetime и запишите результат в переменную datetime_list.\n",
    "В переменной datetime_list должен быть список элементов вида datetime(2019, 7, 7, 18, 59, 6)\n",
    "\"\"\"\n",
    "\n",
    "dt_list = ['2019-07-07T18:59:06', '2019-07-07T19:00:02', '2019-07-07T19:01:04']\n",
    "dt_list\n",
    "\n",
    "datetime_list = [datetime.strptime(x, '%Y-%m-%dT%H:%M:%S') for x in dt_list]\n",
    "datetime_list"
   ]
  },
  {
   "cell_type": "code",
   "execution_count": 48,
   "metadata": {},
   "outputs": [
    {
     "data": {
      "text/plain": [
       "[6, 2, 4]"
      ]
     },
     "execution_count": 48,
     "metadata": {},
     "output_type": "execute_result"
    }
   ],
   "source": [
    "\"\"\"\n",
    "В прошлом задании у вас получился список datetime_list с элементами типа datetime.\n",
    "\n",
    "Наш отчёт запускался каждую минуту в 18:59:00, 19:00:00 и 19:01:00.\n",
    "\n",
    "Посчитайте для каждого элемента количество секунд, которое работал скрипт.\n",
    "\n",
    "Результат запишите в список report_seconds (каждый элемент, соответственно, целое число).\n",
    "\"\"\"\n",
    "\n",
    "reports_list = [datetime(2019, 7, 7, 18, 59, 0), datetime(2019, 7, 7, 19, 0, 0), datetime(2019, 7, 7, 19, 1, 0)]\n",
    "\n",
    "# report_seconds = [datetime_list[i] - reports_list[i] for i in range(0, 3)]\n",
    "\n",
    "# report_seconds = []\n",
    "\n",
    "# for i in range (0, 3):\n",
    "#     delta = datetime_list[i] - reports_list[i]\n",
    "#     report_seconds.append(delta.seconds)\n",
    "\n",
    "report_seconds = [(datetime_list[i] - reports_list[i]).seconds for i in range (0, 3)]\n",
    "\n",
    "report_seconds"
   ]
  },
  {
   "cell_type": "code",
   "execution_count": 50,
   "metadata": {},
   "outputs": [
    {
     "data": {
      "text/plain": [
       "12"
      ]
     },
     "execution_count": 50,
     "metadata": {},
     "output_type": "execute_result"
    }
   ],
   "source": [
    "total_time = sum(report_seconds)"
   ]
  },
  {
   "cell_type": "code",
   "execution_count": null,
   "metadata": {},
   "outputs": [],
   "source": [
    "\"\"\"\n",
    "\n",
    "Синтаксис и принцип работы timedelta\n",
    "Необходимость прибавлять временной интервал к дате часто встречается в самых разнообразных задачах. Например, при заборе данных из внешних источников с помощью API для каждого дня отдельно (для увеличения точности выгрузки).\n",
    "\n",
    "Допустим, у нас есть дата начала выгрузки start_date. Необходимо прибавить к этой дате день: воспользуемся модулем timedelta.\n",
    "\n",
    "start_date = '2019-01-01'\n",
    "Переводим строковую переменную start_date в формат datetime:\n",
    "\n",
    "start_date_datetime = datetime.strptime(start_date, '%Y-%m-%d')\n",
    "Теперь можем прибавлять к ней нужные временные интервалы с помощью timedelta:\n",
    "\n",
    "start_date_datetime + timedelta(days = 1)\n",
    "Out: datetime.datetime(2019, 1, 2, 0, 0)\n",
    "\n",
    "В результате получили 2 января 2019 года. Посмотрим, что получится, если отнять от start_date_datetime (от 1 января) 7 дней:\n",
    "\n",
    "start_date_datetime + timedelta(days = -7)\n",
    "Out: datetime.datetime(2018, 12, 25, 0, 0)\n",
    "\n",
    "Результат корректен. Если к дате выгрузки нужно прибавить час, то просто изменяем параметр функции timedelta:\n",
    "\n",
    "start_date_datetime += timedelta(hours = 1)\n",
    "start_date_datetime\n",
    "\n",
    "\"\"\"\n",
    "\n"
   ]
  },
  {
   "cell_type": "code",
   "execution_count": null,
   "metadata": {},
   "outputs": [],
   "source": [
    "\"\"\"\n",
    "Перебор дат в цикле\n",
    "После того, как мы освоили работу с отдельными датами, давайте посмотрим, как работать с большим количеством дат. Для этого мы реализуем алгоритм, который по дате начала и конца выгрузки будет «пробегать» все значения по дням.\n",
    "\n",
    "Этот метод часто необходим при получении данных от внешних систем, а также для обработки больших выгрузок частями: по дням или по часам. Типичный пример — выгрузка сложных отчётов из Google Analytics по дням, чтобы уменьшить сэмплирование данных. В дальнейшем такой навык понадобится для определения покупательской активности по часам и дням или любой другой аналитики в больших файлах.\n",
    "\n",
    "Потренируемся на простом примере. Представим, что нам необходимо из огромной таблицы с данными за год выбрать (или узнать) показатели за новогодние праздники с 1 по 7 января. Научимся на этом шаге перебирать необходимые даты. \n",
    "\n",
    "Начальную и конечную дату будем задавать в удобном для человека строковом виде:\n",
    "\n",
    "start_date = '2019-01-01'\n",
    "end_date = '2019-01-07'\n",
    "Поскольку нам надо в цикле работать с датами, то переведем строковые переменные в формат datetime:\n",
    "\n",
    "start_date_datetime = datetime.strptime(start_date, '%Y-%m-%d')\n",
    "end_date_datetime = datetime.strptime(end_date, '%Y-%m-%d')\n",
    "print(start_date_datetime, end_date_datetime) \n",
    "Out: 2019-01-01 00:00:00 2019-01-07 00:00:00\n",
    "\n",
    "Заведём переменную current_day, которая в цикле будет изменяться от 1 до 7 января и иметь тип datetime. В первом шаге цикла эта переменная будет равна 1 января\n",
    "\n",
    "current_day = start_date_datetime\n",
    "Теперь в цикле будем увеличивать значение current_day на 1 день, пока её значение не превысит дату конца выгрузки. Для составления таких циклов используется конструкция while. Этот цикл будет работать, пока указанное в нём условие выполняется:\n",
    "\n",
    "a = 1\n",
    "while a <= 5:\n",
    "    print(a)\n",
    "    a += 1\n",
    "Out:\n",
    "\n",
    "1\n",
    "\n",
    "2\n",
    "\n",
    "3\n",
    "\n",
    "4\n",
    "\n",
    "5\n",
    "\n",
    "Напишем такой же цикл, только заменим a на current_day, а число 5 — на 7 января:\n",
    "\n",
    "current_day = start_date_datetime\n",
    "while current_day <= end_date_datetime:\n",
    "    print(current_day)\n",
    "    current_day += timedelta(days=1)\n",
    "Out:\n",
    "\n",
    "2019-01-01 00:00:00\n",
    "\n",
    "2019-01-02 00:00:00\n",
    "\n",
    "2019-01-03 00:00:00\n",
    "\n",
    "2019-01-04 00:00:00\n",
    "\n",
    "2019-01-05 00:00:00\n",
    "\n",
    "2019-01-06 00:00:00\n",
    "\n",
    "2019-01-07 00:00:00\n",
    "\n",
    "Для удобства вывода заменим вывод current_day на более наглядный строковый эквивалент в формате даты\n",
    "\n",
    "current_day = start_date_datetime\n",
    "while current_day <= end_date_datetime:\n",
    "    print(current_day.strftime('%Y-%m-%d'))\n",
    "    current_day += timedelta(days=1)\n",
    "Out:\n",
    "\n",
    "2019-01-01\n",
    "\n",
    "2019-01-02\n",
    "\n",
    "2019-01-03\n",
    "\n",
    "2019-01-04\n",
    "\n",
    "2019-01-05\n",
    "\n",
    "2019-01-06\n",
    "\n",
    "2019-01-07\n",
    "\n",
    "Итак, мы получили цикл, в котором переменная current_day \"пробегает\" между 1 и 7 января по дням.\n",
    "\n",
    "\"\"\""
   ]
  }
 ],
 "metadata": {
  "kernelspec": {
   "display_name": "Python 3",
   "language": "python",
   "name": "python3"
  },
  "language_info": {
   "codemirror_mode": {
    "name": "ipython",
    "version": 3
   },
   "file_extension": ".py",
   "mimetype": "text/x-python",
   "name": "python",
   "nbconvert_exporter": "python",
   "pygments_lexer": "ipython3",
   "version": "3.8.3"
  }
 },
 "nbformat": 4,
 "nbformat_minor": 4
}
