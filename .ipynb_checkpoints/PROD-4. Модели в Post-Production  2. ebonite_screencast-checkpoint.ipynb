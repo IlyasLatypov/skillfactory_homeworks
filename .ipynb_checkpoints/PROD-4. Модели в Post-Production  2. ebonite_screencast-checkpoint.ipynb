{
 "cells": [
  {
   "cell_type": "code",
   "execution_count": null,
   "metadata": {},
   "outputs": [],
   "source": [
    "! pip install -U ebonite flask flasgger==0.9.3 scikit-learn ebonite==0.5.2"
   ]
  },
  {
   "cell_type": "code",
   "execution_count": 1,
   "metadata": {},
   "outputs": [
    {
     "name": "stderr",
     "output_type": "stream",
     "text": [
      "/Users/mike0sv/miniconda3/envs/py36/lib/python3.6/site-packages/sklearn/utils/validation.py:71: FutureWarning: Pass return_X_y=True as keyword args. From version 0.25 passing these as positional arguments will result in an error\n",
      "  FutureWarning)\n"
     ]
    },
    {
     "data": {
      "text/plain": [
       "LinearRegression()"
      ]
     },
     "execution_count": 1,
     "metadata": {},
     "output_type": "execute_result"
    }
   ],
   "source": [
    "from sklearn.datasets import load_diabetes\n",
    "from sklearn.linear_model import LinearRegression\n",
    "\n",
    "X, y = load_diabetes(True)\n",
    "\n",
    "lr = LinearRegression()\n",
    "lr.fit(X, y)"
   ]
  },
  {
   "cell_type": "code",
   "execution_count": 2,
   "metadata": {},
   "outputs": [],
   "source": [
    "import ebonite"
   ]
  },
  {
   "cell_type": "code",
   "execution_count": 3,
   "metadata": {},
   "outputs": [],
   "source": [
    "model = ebonite.create_model(lr, X, model_name='diabetes_model_1')"
   ]
  },
  {
   "cell_type": "code",
   "execution_count": 4,
   "metadata": {},
   "outputs": [
    {
     "data": {
      "text/plain": [
       "Model(id=None,name=diabetes_model_1)"
      ]
     },
     "execution_count": 4,
     "metadata": {},
     "output_type": "execute_result"
    }
   ],
   "source": [
    "model"
   ]
  },
  {
   "cell_type": "code",
   "execution_count": 5,
   "metadata": {},
   "outputs": [],
   "source": [
    "from pprint import pprint"
   ]
  },
  {
   "cell_type": "code",
   "execution_count": 6,
   "metadata": {},
   "outputs": [
    {
     "name": "stdout",
     "output_type": "stream",
     "text": [
      "{'author': 'mike0sv',\n",
      " 'creation_date': '2020-06-03 01:37:20.473379 ',\n",
      " 'name': 'diabetes_model_1',\n",
      " 'params': {'python_version': '3.6.7'},\n",
      " 'requirements': {'requirements': [{'module': 'sklearn',\n",
      "                                    'type': 'installable',\n",
      "                                    'version': '0.23.1'},\n",
      "                                   {'module': 'numpy',\n",
      "                                    'type': 'installable',\n",
      "                                    'version': '1.18.2'}]},\n",
      " 'wrapper_meta': {'type': 'ebonite.ext.sklearn.model.SklearnModelWrapper'}}\n"
     ]
    }
   ],
   "source": [
    "from pyjackson import serialize\n",
    "\n",
    "pprint(serialize(model))"
   ]
  },
  {
   "cell_type": "code",
   "execution_count": 7,
   "metadata": {},
   "outputs": [],
   "source": [
    "ebnt = ebonite.Ebonite.local(clear=True)"
   ]
  },
  {
   "cell_type": "code",
   "execution_count": 8,
   "metadata": {},
   "outputs": [],
   "source": [
    "task = ebnt.get_or_create_task('my_prj', 'diabetes_task')"
   ]
  },
  {
   "cell_type": "code",
   "execution_count": 9,
   "metadata": {},
   "outputs": [
    {
     "data": {
      "text/plain": [
       "Task(id=0,name=diabetes_task)"
      ]
     },
     "execution_count": 9,
     "metadata": {},
     "output_type": "execute_result"
    }
   ],
   "source": [
    "task"
   ]
  },
  {
   "cell_type": "code",
   "execution_count": 10,
   "metadata": {},
   "outputs": [
    {
     "name": "stdout",
     "output_type": "stream",
     "text": [
      "{'author': 'mike0sv',\n",
      " 'creation_date': '2020-06-03 01:40:28.271587 ',\n",
      " 'id': 0,\n",
      " 'name': 'diabetes_task',\n",
      " 'project_id': 0}\n"
     ]
    }
   ],
   "source": [
    "pprint(serialize(task))"
   ]
  },
  {
   "cell_type": "code",
   "execution_count": 11,
   "metadata": {},
   "outputs": [
    {
     "data": {
      "text/plain": [
       "Model(id=0,name=diabetes_model_1)"
      ]
     },
     "execution_count": 11,
     "metadata": {},
     "output_type": "execute_result"
    }
   ],
   "source": [
    "task.push_model(model)"
   ]
  },
  {
   "cell_type": "code",
   "execution_count": 12,
   "metadata": {},
   "outputs": [
    {
     "name": "stdout",
     "output_type": "stream",
     "text": [
      "{'artifact': {'blobs': {'methods.json': {'path': '/Users/mike0sv/PycharmProjects/zyfra/ebonite/ebonite/examples/notebook_tutorial/.ebonite/artifacts/0/methods.json',\n",
      "                                         'type': 'local_file'},\n",
      "                        'model.pkl': {'path': '/Users/mike0sv/PycharmProjects/zyfra/ebonite/ebonite/examples/notebook_tutorial/.ebonite/artifacts/0/model.pkl',\n",
      "                                      'type': 'local_file'},\n",
      "                        'requirements.json': {'path': '/Users/mike0sv/PycharmProjects/zyfra/ebonite/ebonite/examples/notebook_tutorial/.ebonite/artifacts/0/requirements.json',\n",
      "                                              'type': 'local_file'}},\n",
      "              'type': 'blobs'},\n",
      " 'author': 'mike0sv',\n",
      " 'creation_date': '2020-06-03 01:37:20.473379 ',\n",
      " 'id': 0,\n",
      " 'name': 'diabetes_model_1',\n",
      " 'params': {'python_version': '3.6.7'},\n",
      " 'requirements': {'requirements': [{'module': 'sklearn',\n",
      "                                    'type': 'installable',\n",
      "                                    'version': '0.23.1'},\n",
      "                                   {'module': 'numpy',\n",
      "                                    'type': 'installable',\n",
      "                                    'version': '1.18.2'}]},\n",
      " 'task_id': 0,\n",
      " 'wrapper_meta': {'type': 'ebonite.ext.sklearn.model.SklearnModelWrapper'}}\n"
     ]
    }
   ],
   "source": [
    "pprint(serialize(model))"
   ]
  },
  {
   "cell_type": "code",
   "execution_count": 13,
   "metadata": {},
   "outputs": [
    {
     "name": "stdout",
     "output_type": "stream",
     "text": [
      "total 24\r\n",
      "drwxr-xr-x  5 mike0sv  staff  160 Jun  3 04:40 \u001b[34m.\u001b[m\u001b[m\r\n",
      "drwxr-xr-x  3 mike0sv  staff   96 Jun  3 04:40 \u001b[34m..\u001b[m\u001b[m\r\n",
      "-rw-r--r--  1 mike0sv  staff  228 Jun  3 04:40 methods.json\r\n",
      "-rw-r--r--  1 mike0sv  staff  754 Jun  3 04:40 model.pkl\r\n",
      "-rw-r--r--  1 mike0sv  staff  150 Jun  3 04:40 requirements.json\r\n"
     ]
    }
   ],
   "source": [
    "! ls -la .ebonite/artifacts/0"
   ]
  },
  {
   "cell_type": "code",
   "execution_count": 14,
   "metadata": {},
   "outputs": [
    {
     "data": {
      "text/plain": [
       "0"
      ]
     },
     "execution_count": 14,
     "metadata": {},
     "output_type": "execute_result"
    }
   ],
   "source": [
    "model.id"
   ]
  },
  {
   "cell_type": "code",
   "execution_count": 15,
   "metadata": {},
   "outputs": [],
   "source": [
    "del model"
   ]
  },
  {
   "cell_type": "code",
   "execution_count": 16,
   "metadata": {},
   "outputs": [],
   "source": [
    "model = ebnt.get_model('diabetes_model_1', task)"
   ]
  },
  {
   "cell_type": "code",
   "execution_count": 17,
   "metadata": {},
   "outputs": [
    {
     "data": {
      "text/plain": [
       "Model(id=0,name=diabetes_model_1)"
      ]
     },
     "execution_count": 17,
     "metadata": {},
     "output_type": "execute_result"
    }
   ],
   "source": [
    "model"
   ]
  },
  {
   "cell_type": "code",
   "execution_count": 18,
   "metadata": {},
   "outputs": [],
   "source": [
    "from ebonite.runtime import run_model_server"
   ]
  },
  {
   "cell_type": "code",
   "execution_count": 19,
   "metadata": {},
   "outputs": [],
   "source": [
    "from ebonite.ext.flask.server import FlaskServer"
   ]
  },
  {
   "cell_type": "code",
   "execution_count": 20,
   "metadata": {},
   "outputs": [
    {
     "name": "stdout",
     "output_type": "stream",
     "text": [
      "2020-06-03 04:43:31,282 [INFO] ebonite_runtime: Starting Ebonite runtime with loader MockLoader and server FlaskServer ...\n",
      "2020-06-03 04:43:31,287 [INFO] ebonite_runtime: Running server <ebonite.ext.flask.server.FlaskServer object at 0x1a2400cc88>\n",
      " * Serving Flask app \"ebonite.ext.flask.server\" (lazy loading)\n",
      " * Environment: production\n",
      "   WARNING: This is a development server. Do not use it in a production deployment.\n",
      "   Use a production WSGI server instead.\n",
      " * Debug mode: off\n"
     ]
    },
    {
     "name": "stderr",
     "output_type": "stream",
     "text": [
      " * Running on http://0.0.0.0:9000/ (Press CTRL+C to quit)\n",
      "127.0.0.1 - - [03/Jun/2020 04:43:58] \"\u001b[32mGET / HTTP/1.1\u001b[0m\" 302 -\n",
      "127.0.0.1 - - [03/Jun/2020 04:43:58] \"\u001b[32mGET /apidocs HTTP/1.1\u001b[0m\" 308 -\n",
      "127.0.0.1 - - [03/Jun/2020 04:43:58] \"\u001b[37mGET /apidocs/ HTTP/1.1\u001b[0m\" 200 -\n",
      "127.0.0.1 - - [03/Jun/2020 04:43:58] \"\u001b[37mGET /flasgger_static/swagger-ui.css HTTP/1.1\u001b[0m\" 200 -\n",
      "127.0.0.1 - - [03/Jun/2020 04:43:58] \"\u001b[37mGET /flasgger_static/swagger-ui-standalone-preset.js HTTP/1.1\u001b[0m\" 200 -\n",
      "127.0.0.1 - - [03/Jun/2020 04:43:58] \"\u001b[37mGET /flasgger_static/swagger-ui-bundle.js HTTP/1.1\u001b[0m\" 200 -\n",
      "127.0.0.1 - - [03/Jun/2020 04:43:58] \"\u001b[37mGET /flasgger_static/lib/jquery.min.js HTTP/1.1\u001b[0m\" 200 -\n",
      "127.0.0.1 - - [03/Jun/2020 04:43:59] \"\u001b[37mGET /flasgger_static/favicon-32x32.png HTTP/1.1\u001b[0m\" 200 -\n",
      "127.0.0.1 - - [03/Jun/2020 04:43:59] \"\u001b[37mGET /apispec_1.json HTTP/1.1\u001b[0m\" 200 -\n",
      "127.0.0.1 - - [03/Jun/2020 04:44:29] \"\u001b[37mPOST /predict HTTP/1.1\u001b[0m\" 200 -\n",
      "127.0.0.1 - - [03/Jun/2020 04:44:41] \"\u001b[31m\u001b[1mPOST /predict HTTP/1.1\u001b[0m\" 400 -\n"
     ]
    }
   ],
   "source": [
    "run_model_server(model, FlaskServer())"
   ]
  },
  {
   "cell_type": "code",
   "execution_count": 21,
   "metadata": {},
   "outputs": [
    {
     "name": "stdout",
     "output_type": "stream",
     "text": [
      "2020-06-03 04:46:20,791 [INFO] ebonite: Built image nb_example_diabetes:latest\n"
     ]
    }
   ],
   "source": [
    "image = ebnt.build_image('nb_example_diabetes', model, FlaskServer(), force_overwrite=True)"
   ]
  },
  {
   "cell_type": "code",
   "execution_count": 23,
   "metadata": {},
   "outputs": [],
   "source": [
    "instance = ebnt.create_instance('nb_example_diabetes', image, ports_mapping={9000:80})"
   ]
  },
  {
   "cell_type": "code",
   "execution_count": 24,
   "metadata": {},
   "outputs": [
    {
     "data": {
      "text/plain": [
       "False"
      ]
     },
     "execution_count": 24,
     "metadata": {},
     "output_type": "execute_result"
    }
   ],
   "source": [
    "instance.is_running()"
   ]
  },
  {
   "cell_type": "code",
   "execution_count": 25,
   "metadata": {},
   "outputs": [
    {
     "data": {
      "text/plain": [
       "<ebonite.core.objects.core.RuntimeInstance at 0x1a241b9240>"
      ]
     },
     "execution_count": 25,
     "metadata": {},
     "output_type": "execute_result"
    }
   ],
   "source": [
    "instance.run()"
   ]
  },
  {
   "cell_type": "code",
   "execution_count": 26,
   "metadata": {},
   "outputs": [
    {
     "name": "stdout",
     "output_type": "stream",
     "text": [
      "CONTAINER ID        IMAGE                        COMMAND                  CREATED             STATUS              PORTS                  NAMES\r\n",
      "55d620a9c3e3        nb_example_diabetes:latest   \"/usr/bin/supervisord\"   10 seconds ago      Up 10 seconds       0.0.0.0:80->9000/tcp   nb_example_diabetes\r\n"
     ]
    }
   ],
   "source": [
    "! docker ps"
   ]
  },
  {
   "cell_type": "code",
   "execution_count": 27,
   "metadata": {},
   "outputs": [
    {
     "data": {
      "text/plain": [
       "True"
      ]
     },
     "execution_count": 27,
     "metadata": {},
     "output_type": "execute_result"
    }
   ],
   "source": [
    "instance.is_running()"
   ]
  },
  {
   "cell_type": "code",
   "execution_count": 28,
   "metadata": {},
   "outputs": [],
   "source": [
    "from ebonite.ext.flask.client import HTTPClient"
   ]
  },
  {
   "cell_type": "code",
   "execution_count": 29,
   "metadata": {},
   "outputs": [],
   "source": [
    "client = HTTPClient('localhost', 80)"
   ]
  },
  {
   "cell_type": "code",
   "execution_count": 30,
   "metadata": {},
   "outputs": [
    {
     "data": {
      "text/plain": [
       "{'predict': Method(name='predict', args=[Argument(name='vector', type=<class 'pyjackson.generics.NumpyNdarrayDatasetType[shape=(None, 10),dtype=float64]'>)], out_type=<class 'pyjackson.generics.NumpyNdarrayDatasetType[shape=(None,),dtype=float64]'>)}"
      ]
     },
     "execution_count": 30,
     "metadata": {},
     "output_type": "execute_result"
    }
   ],
   "source": [
    "client.methods"
   ]
  },
  {
   "cell_type": "code",
   "execution_count": 31,
   "metadata": {},
   "outputs": [
    {
     "data": {
      "text/plain": [
       "array([10980.71155335])"
      ]
     },
     "execution_count": 31,
     "metadata": {},
     "output_type": "execute_result"
    }
   ],
   "source": [
    "import numpy as np\n",
    "client.predict(np.array([[1.,2,3,4,5,6,7,8,9,10]]))"
   ]
  },
  {
   "cell_type": "code",
   "execution_count": 33,
   "metadata": {},
   "outputs": [],
   "source": [
    "def is_bad(data):\n",
    "    preds = lr.predict(data)\n",
    "    return preds > 50"
   ]
  },
  {
   "cell_type": "code",
   "execution_count": 34,
   "metadata": {},
   "outputs": [
    {
     "data": {
      "text/plain": [
       "Model(id=1,name=diabetes_model_2)"
      ]
     },
     "execution_count": 34,
     "metadata": {},
     "output_type": "execute_result"
    }
   ],
   "source": [
    "model2 = ebonite.create_model(is_bad, X, 'diabetes_model_2')\n",
    "task.push_model(model2)"
   ]
  },
  {
   "cell_type": "code",
   "execution_count": 35,
   "metadata": {},
   "outputs": [
    {
     "name": "stdout",
     "output_type": "stream",
     "text": [
      "{'artifact': {'blobs': {'methods.json': {'path': '/Users/mike0sv/PycharmProjects/zyfra/ebonite/ebonite/examples/notebook_tutorial/.ebonite/artifacts/1/methods.json',\n",
      "                                         'type': 'local_file'},\n",
      "                        'model.pkl': {'path': '/Users/mike0sv/PycharmProjects/zyfra/ebonite/ebonite/examples/notebook_tutorial/.ebonite/artifacts/1/model.pkl',\n",
      "                                      'type': 'local_file'},\n",
      "                        'requirements.json': {'path': '/Users/mike0sv/PycharmProjects/zyfra/ebonite/ebonite/examples/notebook_tutorial/.ebonite/artifacts/1/requirements.json',\n",
      "                                              'type': 'local_file'}},\n",
      "              'type': 'blobs'},\n",
      " 'author': 'mike0sv',\n",
      " 'creation_date': '2020-06-03 01:53:55.378329 ',\n",
      " 'id': 1,\n",
      " 'name': 'diabetes_model_2',\n",
      " 'params': {'python_version': '3.6.7'},\n",
      " 'requirements': {'requirements': [{'module': 'numpy',\n",
      "                                    'type': 'installable',\n",
      "                                    'version': '1.18.2'},\n",
      "                                   {'module': 'sklearn',\n",
      "                                    'type': 'installable',\n",
      "                                    'version': '0.23.1'}]},\n",
      " 'task_id': 0,\n",
      " 'wrapper_meta': {'type': 'callable_method'}}\n"
     ]
    }
   ],
   "source": [
    "pprint(serialize(model2))"
   ]
  },
  {
   "cell_type": "code",
   "execution_count": 36,
   "metadata": {},
   "outputs": [
    {
     "name": "stdout",
     "output_type": "stream",
     "text": [
      "2020-06-03 04:55:10,571 [INFO] ebonite: Built image nb_example_diabetes2:latest\n"
     ]
    }
   ],
   "source": [
    "image2 = ebnt.build_image('nb_example_diabetes2', model2, FlaskServer(), force_overwrite=True)"
   ]
  },
  {
   "cell_type": "code",
   "execution_count": 37,
   "metadata": {},
   "outputs": [],
   "source": [
    "instance2 = ebnt.create_instance('nb_example_diabetes2', image2, ports_mapping={9000:81})"
   ]
  },
  {
   "cell_type": "code",
   "execution_count": 38,
   "metadata": {},
   "outputs": [
    {
     "data": {
      "text/plain": [
       "<ebonite.core.objects.core.RuntimeInstance at 0x1a2422ca90>"
      ]
     },
     "execution_count": 38,
     "metadata": {},
     "output_type": "execute_result"
    }
   ],
   "source": [
    "instance2.run()"
   ]
  },
  {
   "cell_type": "code",
   "execution_count": 39,
   "metadata": {},
   "outputs": [],
   "source": [
    "client2 = HTTPClient('localhost', 81)"
   ]
  },
  {
   "cell_type": "code",
   "execution_count": 40,
   "metadata": {},
   "outputs": [
    {
     "data": {
      "text/plain": [
       "array([ True])"
      ]
     },
     "execution_count": 40,
     "metadata": {},
     "output_type": "execute_result"
    }
   ],
   "source": [
    "client2.predict(np.array([[1.,2,3,4,5,6,7,8,9,10]]))"
   ]
  },
  {
   "cell_type": "code",
   "execution_count": 41,
   "metadata": {},
   "outputs": [
    {
     "data": {
      "text/plain": [
       "{'predict': Method(name='predict', args=[Argument(name='vector', type=<class 'pyjackson.generics.NumpyNdarrayDatasetType[shape=(None, 10),dtype=float64]'>)], out_type=<class 'pyjackson.generics.NumpyNdarrayDatasetType[shape=(None,),dtype=bool]'>)}"
      ]
     },
     "execution_count": 41,
     "metadata": {},
     "output_type": "execute_result"
    }
   ],
   "source": [
    "client2.methods"
   ]
  },
  {
   "cell_type": "code",
   "execution_count": null,
   "metadata": {},
   "outputs": [],
   "source": []
  }
 ],
 "metadata": {
  "kernelspec": {
   "display_name": "Python 3",
   "language": "python",
   "name": "python3"
  },
  "language_info": {
   "codemirror_mode": {
    "name": "ipython",
    "version": 3
   },
   "file_extension": ".py",
   "mimetype": "text/x-python",
   "name": "python",
   "nbconvert_exporter": "python",
   "pygments_lexer": "ipython3",
   "version": "3.8.3"
  },
  "nteract": {
   "version": "0.23.3"
  }
 },
 "nbformat": 4,
 "nbformat_minor": 2
}
