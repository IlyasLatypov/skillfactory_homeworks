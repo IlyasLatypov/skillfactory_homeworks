{
 "cells": [
  {
   "cell_type": "markdown",
   "metadata": {},
   "source": [
    "Настало время для самостоятельной работы! Напишите сервис metric.py, который будет читать очереди y_true и y_pred с истинными ответами и предсказаниями. Дополните код ниже:"
   ]
  },
  {
   "cell_type": "code",
   "execution_count": 1,
   "metadata": {
    "scrolled": true
   },
   "outputs": [
    {
     "ename": "IndentationError",
     "evalue": "unexpected indent (<ipython-input-1-7ca19d416cac>, line 19)",
     "output_type": "error",
     "traceback": [
      "\u001b[1;36m  File \u001b[1;32m\"<ipython-input-1-7ca19d416cac>\"\u001b[1;36m, line \u001b[1;32m19\u001b[0m\n\u001b[1;33m    channel.start_consuming()\u001b[0m\n\u001b[1;37m    ^\u001b[0m\n\u001b[1;31mIndentationError\u001b[0m\u001b[1;31m:\u001b[0m unexpected indent\n"
     ]
    }
   ],
   "source": [
    "import pika\n",
    "import json\n",
    "connection = pika.BlockingConnection(pika.ConnectionParameters(host='localhost'))\n",
    "channel = connection.channel()\n",
    "\n",
    "channel.queue_declare(queue='y_true')\n",
    "channel.queue_declare(queue='y_predict')\n",
    "\n",
    "def callback(ch, method, properties, body):\n",
    "    print(f'Из очереди {method.routing_key} получено значение {json.loads((body))}')\n",
    "\n",
    "channel.basic_consume(\n",
    "    queue='y_predict', on_message_callback=callback, auto_ack=True)\n",
    "\n",
    "channel.basic_consume(\n",
    "      queue='y_true', on_message_callback=callback, auto_ack=True)\n",
    "\n",
    "print('...Ожидание сообщений, для выхода нажмите CTRL+C')\n",
    "      channel.start_consuming()"
   ]
  },
  {
   "cell_type": "markdown",
   "metadata": {},
   "source": [
    "ДОПОЛНИТЕЛЬНЫЕ ССЫЛКИ ПО РАБОТЕ С RABBITMQ\n",
    "\n",
    "Официальное руководство от создателей RabbitMQ (англ.): https://www.rabbitmq.com/tutorials/tutorial-one-python.html\n",
    "\n",
    "То же руководство на русском языке, спасибо habr ☀ (рус.): https://habr.com/ru/post/149694/\n",
    "\n",
    "Официальная документация библиотеки pika (англ.): https://habr.com/ru/post/149694/"
   ]
  }
 ],
 "metadata": {
  "kernelspec": {
   "display_name": "Python 3",
   "language": "python",
   "name": "python3"
  },
  "language_info": {
   "codemirror_mode": {
    "name": "ipython",
    "version": 3
   },
   "file_extension": ".py",
   "mimetype": "text/x-python",
   "name": "python",
   "nbconvert_exporter": "python",
   "pygments_lexer": "ipython3",
   "version": "3.8.3"
  }
 },
 "nbformat": 4,
 "nbformat_minor": 4
}
