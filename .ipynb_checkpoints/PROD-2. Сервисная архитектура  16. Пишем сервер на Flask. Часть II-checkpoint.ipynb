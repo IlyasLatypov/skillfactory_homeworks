{
 "cells": [
  {
   "cell_type": "markdown",
   "metadata": {},
   "source": [
    "Параметры запроса во Flask находятся в специальном объекте request, который нужно импортировать. \n",
    "\n",
    "Параметры адресной строки можно найти в поле args этого объекта, где args — это словарь. "
   ]
  },
  {
   "cell_type": "code",
   "execution_count": null,
   "metadata": {},
   "outputs": [],
   "source": [
    "from flask import Flask, request\n",
    "app = Flask(__name__)\n",
    "\n",
    "@app.route('/hello')\n",
    "def hello_func():\n",
    "    name = request.args.get('name')\n",
    "    return f'hello {name}!'\n",
    "\n",
    "if __name__ == '__main__':\n",
    "    app.run('localhost', 5000)"
   ]
  },
  {
   "cell_type": "markdown",
   "metadata": {},
   "source": [
    "Перезапустите сервер и зайдите по адресу: http://localhost:5000/hello?name=world. "
   ]
  }
 ],
 "metadata": {
  "kernelspec": {
   "display_name": "Python 3",
   "language": "python",
   "name": "python3"
  },
  "language_info": {
   "codemirror_mode": {
    "name": "ipython",
    "version": 3
   },
   "file_extension": ".py",
   "mimetype": "text/x-python",
   "name": "python",
   "nbconvert_exporter": "python",
   "pygments_lexer": "ipython3",
   "version": "3.8.3"
  }
 },
 "nbformat": 4,
 "nbformat_minor": 4
}
