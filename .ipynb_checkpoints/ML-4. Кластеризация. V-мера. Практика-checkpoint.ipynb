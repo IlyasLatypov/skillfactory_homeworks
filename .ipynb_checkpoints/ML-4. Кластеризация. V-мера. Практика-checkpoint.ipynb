{
 "cells": [
  {
   "cell_type": "markdown",
   "metadata": {},
   "source": [
    "# V-мера. Практика"
   ]
  },
  {
   "cell_type": "markdown",
   "metadata": {},
   "source": [
    "V-меру можно посчитать при помощи реализации из библиотеки sklearn:"
   ]
  },
  {
   "cell_type": "code",
   "execution_count": 95,
   "metadata": {},
   "outputs": [],
   "source": [
    "import numpy as np\n",
    "import matplotlib.pyplot as plt\n",
    "from sklearn import datasets\n",
    "\n",
    "n_samples = 1500\n",
    "dataset = datasets.make_blobs(n_samples=n_samples, centers=2, center_box=(-7.0, 7.5),\n",
    "                              cluster_std=[1.4, 1.7],\n",
    "                              random_state=42)\n",
    "X_2, _ = datasets.make_blobs(n_samples=n_samples, random_state=170, centers=[[-4, -3]], cluster_std=[1.9])\n",
    "transformation = [[1.2, -0.8], [-0.4, 1.7]]\n",
    "X_2 = np.dot(X_2, transformation)\n",
    "X, y = np.concatenate((dataset[0], X_2)), np.concatenate((dataset[1], np.array([2] * len(X_2))))"
   ]
  },
  {
   "cell_type": "code",
   "execution_count": 11,
   "metadata": {},
   "outputs": [
    {
     "data": {
      "text/plain": [
       "0.793500872513578"
      ]
     },
     "execution_count": 11,
     "metadata": {},
     "output_type": "execute_result"
    }
   ],
   "source": [
    "from sklearn.cluster import KMeans\n",
    "from sklearn.metrics.cluster import v_measure_score\n",
    "\n",
    "# сначала получим предсказанные кластеры при помощи метода кластеризации\n",
    "kmeans = KMeans(n_clusters=3, random_state=42)\n",
    "kmeans.fit(X)\n",
    "kmeans_pred = kmeans.labels_\n",
    "\n",
    "# теперь посчитаем однородность\n",
    "v_measure_score(labels_true=y, labels_pred=kmeans_pred)"
   ]
  },
  {
   "cell_type": "code",
   "execution_count": 12,
   "metadata": {},
   "outputs": [],
   "source": [
    "X_st = StandardScaler().fit_transform(X)"
   ]
  },
  {
   "cell_type": "markdown",
   "metadata": {},
   "source": [
    "#### Задание 4.14.1\n",
    "\n",
    "Обучите модель GaussianMixture с параметрами n_components=3 и random_state=42 на признаках исходного датасета. Посчитайте v-меру для получившейся кластеризации.\n",
    "\n",
    "Подсказка: При решении задания модуля стандартизация должна быть включена. Ответ округлите до сотых и запишите с точкой."
   ]
  },
  {
   "cell_type": "code",
   "execution_count": 13,
   "metadata": {},
   "outputs": [
    {
     "data": {
      "text/plain": [
       "0.9332760595996924"
      ]
     },
     "execution_count": 13,
     "metadata": {},
     "output_type": "execute_result"
    }
   ],
   "source": [
    "from sklearn.mixture import GaussianMixture\n",
    "from sklearn.preprocessing import StandardScaler\n",
    "\n",
    "gm = GaussianMixture(n_components=3, random_state=42)\n",
    "\n",
    "gm.fit(X_st)\n",
    "gm_predict = gm.predict(X_st)\n",
    "\n",
    "\n",
    "# теперь посчитаем однородность\n",
    "v_measure_score(labels_true=y, labels_pred=gm_predict)"
   ]
  },
  {
   "cell_type": "markdown",
   "metadata": {},
   "source": [
    "#### Задание 4.14.2\n",
    "\n",
    "Сравните результаты кластеризации алгоритмов k-means, GaussianMixture, AgglomerativeClustering и DBSCAN на исходном датасете при помощи v-меры, инициализируйте алгоритмы со следующими параметрами:\n",
    "\n",
    "k-means — n_clusters=3, random_state=42<br />\n",
    "GaussianMixture — n_components=3, random_state=42<br />\n",
    "AgglomerativeClustering — n_clusters=3<br />\n",
    "DBSCAN — eps=0.9, min_samples=35\n",
    "\n",
    "В качестве ответа укажите максимальное значение v-меры, полученное при помощи данных моделей. Ответ округлите до сотых и запишите с точкой."
   ]
  },
  {
   "cell_type": "code",
   "execution_count": 14,
   "metadata": {},
   "outputs": [
    {
     "data": {
      "text/plain": [
       "0.9079037199053294"
      ]
     },
     "execution_count": 14,
     "metadata": {},
     "output_type": "execute_result"
    }
   ],
   "source": [
    "from sklearn.cluster import AgglomerativeClustering\n",
    "\n",
    "ac = AgglomerativeClustering(n_clusters=3)\n",
    "ac.fit(X_st)\n",
    "ac_predict = ac.labels_\n",
    "\n",
    "# теперь посчитаем однородность\n",
    "v_measure_score(labels_true=y, labels_pred=ac_predict)"
   ]
  },
  {
   "cell_type": "code",
   "execution_count": 15,
   "metadata": {},
   "outputs": [
    {
     "data": {
      "text/plain": [
       "0.793500872513578"
      ]
     },
     "execution_count": 15,
     "metadata": {},
     "output_type": "execute_result"
    }
   ],
   "source": [
    "from sklearn.cluster import KMeans\n",
    "from sklearn.metrics.cluster import completeness_score\n",
    "\n",
    "# сначала получим предсказанные кластеры при помощи метода кластеризации\n",
    "kmeans = KMeans(n_clusters=3, random_state=42)\n",
    "kmeans.fit(X_st)\n",
    "kmeans_pred = kmeans.labels_\n",
    "\n",
    "# теперь посчитаем однородность\n",
    "v_measure_score(labels_true=y, labels_pred=kmeans_pred)"
   ]
  },
  {
   "cell_type": "code",
   "execution_count": 16,
   "metadata": {},
   "outputs": [
    {
     "data": {
      "text/plain": [
       "0.000884601531943088"
      ]
     },
     "execution_count": 16,
     "metadata": {},
     "output_type": "execute_result"
    }
   ],
   "source": [
    "from sklearn.cluster import DBSCAN\n",
    "\n",
    "dbscan = DBSCAN(eps=0.9, min_samples=35)\n",
    "dbscan.fit(X_st)\n",
    "dbscan.labels_\n",
    "dbscan_pred = dbscan.labels_.astype(np.int)\n",
    "\n",
    "# теперь посчитаем однородность\n",
    "v_measure_score(labels_true=y, labels_pred=dbscan_pred)"
   ]
  },
  {
   "cell_type": "markdown",
   "metadata": {},
   "source": [
    "#### Задание 4.14.3\n",
    "\n",
    "Сравним модификации K-means с использованием случайной инициализации центроид и с использованием алгоритма K-means++ для инициализации центроид.\n",
    "\n",
    "Для этого обучим на исходном датасете 2 модели k-means со следующими параметрами:\n",
    "\n",
    "n_clusters=3, init='k-means++', n_init=1, random_state=42<br />\n",
    "n_clusters=3, init='random', n_init=1, random_state=42\n",
    "\n",
    "В качестве ответа укажите максимальное значение v-меры, полученное при помощи данных моделей.\n",
    "\n",
    "Подсказка: При решении задания модуля стандартизация должна быть включена. Ответ округлите до сотых и запишите с точкой."
   ]
  },
  {
   "cell_type": "code",
   "execution_count": 17,
   "metadata": {},
   "outputs": [
    {
     "data": {
      "text/plain": [
       "0.7903450330611904"
      ]
     },
     "execution_count": 17,
     "metadata": {},
     "output_type": "execute_result"
    }
   ],
   "source": [
    "from sklearn.cluster import KMeans\n",
    "from sklearn.metrics.cluster import completeness_score\n",
    "\n",
    "# сначала получим предсказанные кластеры при помощи метода кластеризации\n",
    "kmeans = KMeans(n_clusters=3, init='k-means++', n_init=1, random_state=42)\n",
    "kmeans.fit(X_st)\n",
    "kmeans_pred = kmeans.labels_\n",
    "\n",
    "# теперь посчитаем однородность\n",
    "v_measure_score(labels_true=y, labels_pred=kmeans_pred)"
   ]
  },
  {
   "cell_type": "code",
   "execution_count": 18,
   "metadata": {},
   "outputs": [
    {
     "data": {
      "text/plain": [
       "0.7903450330611903"
      ]
     },
     "execution_count": 18,
     "metadata": {},
     "output_type": "execute_result"
    }
   ],
   "source": [
    "from sklearn.cluster import KMeans\n",
    "from sklearn.metrics.cluster import completeness_score\n",
    "\n",
    "# сначала получим предсказанные кластеры при помощи метода кластеризации\n",
    "kmeans = KMeans(n_clusters=3, init='random', n_init=1, random_state=42)\n",
    "kmeans.fit(X_st)\n",
    "kmeans_pred = kmeans.labels_\n",
    "\n",
    "# теперь посчитаем однородность\n",
    "v_measure_score(labels_true=y, labels_pred=kmeans_pred)"
   ]
  },
  {
   "cell_type": "markdown",
   "metadata": {},
   "source": [
    "#### Задание 4.14.4\n",
    "\n",
    "Теперь сравним k-means с ещё одной модификацией — K-means mini batch. Воспользоваться реализацией K-means mini batch в библиотеке sklearn можно следующим образом:"
   ]
  },
  {
   "cell_type": "code",
   "execution_count": 19,
   "metadata": {},
   "outputs": [],
   "source": [
    "from sklearn.cluster import MiniBatchKMeans\n",
    "\n",
    "kmeans_mini_batch = MiniBatchKMeans(n_clusters=3, random_state=42)\n",
    "kmeans_mini_batch.fit(X)\n",
    "kmeans_mini_batch_pred = kmeans_mini_batch.labels_"
   ]
  },
  {
   "cell_type": "markdown",
   "metadata": {},
   "source": [
    "Механизм кластеризации версии K-means mini batch схож с оригинальной версией алгоритма. Обучите на исходном датасете две модели:\n",
    "\n",
    "k-means с параметрами n_clusters=3, n_init=1, random_state=42<br />\n",
    "MiniBatchKMeans с параметрами n_clusters=3, n_init=1, random_state=42\n",
    "\n",
    "В качестве ответа введите максимальное значение v-меры, полученное при помощи данных моделей. В задании может понадобиться, а может не понадобиться нормализация и это нужно проверить во время решения задания. Ответ округлите до сотых и запишите с точкой."
   ]
  },
  {
   "cell_type": "code",
   "execution_count": 20,
   "metadata": {},
   "outputs": [
    {
     "data": {
      "text/plain": [
       "0.7903450330611904"
      ]
     },
     "execution_count": 20,
     "metadata": {},
     "output_type": "execute_result"
    }
   ],
   "source": [
    "from sklearn.cluster import KMeans\n",
    "from sklearn.metrics.cluster import completeness_score\n",
    "\n",
    "# сначала получим предсказанные кластеры при помощи метода кластеризации\n",
    "kmeans = KMeans(n_clusters=3, n_init=1, random_state=42)\n",
    "kmeans.fit(X_st)\n",
    "kmeans_pred = kmeans.labels_\n",
    "\n",
    "# теперь посчитаем однородность\n",
    "v_measure_score(labels_true=y, labels_pred=kmeans_pred)"
   ]
  },
  {
   "cell_type": "code",
   "execution_count": 21,
   "metadata": {},
   "outputs": [
    {
     "data": {
      "text/plain": [
       "0.7903450330611904"
      ]
     },
     "execution_count": 21,
     "metadata": {},
     "output_type": "execute_result"
    }
   ],
   "source": [
    "from sklearn.cluster import KMeans\n",
    "from sklearn.metrics.cluster import completeness_score\n",
    "\n",
    "# сначала получим предсказанные кластеры при помощи метода кластеризации\n",
    "kmeans = KMeans(n_clusters=3, n_init=1, random_state=42)\n",
    "kmeans.fit(X)\n",
    "kmeans_pred = kmeans.labels_\n",
    "\n",
    "# теперь посчитаем однородность\n",
    "v_measure_score(labels_true=y, labels_pred=kmeans_pred)"
   ]
  },
  {
   "cell_type": "code",
   "execution_count": 23,
   "metadata": {},
   "outputs": [
    {
     "data": {
      "text/plain": [
       "0.7497460092948622"
      ]
     },
     "execution_count": 23,
     "metadata": {},
     "output_type": "execute_result"
    }
   ],
   "source": [
    "from sklearn.cluster import MiniBatchKMeans\n",
    "\n",
    "kmeans_mini_batch = MiniBatchKMeans(n_clusters=3, n_init=1, random_state=42)\n",
    "kmeans_mini_batch.fit(X)\n",
    "kmeans_mini_batch_pred = kmeans_mini_batch.labels_\n",
    "\n",
    "# теперь посчитаем однородность\n",
    "v_measure_score(labels_true=y, labels_pred=kmeans_mini_batch_pred)"
   ]
  },
  {
   "cell_type": "code",
   "execution_count": 24,
   "metadata": {
    "scrolled": true
   },
   "outputs": [
    {
     "data": {
      "text/plain": [
       "0.7497460092948622"
      ]
     },
     "execution_count": 24,
     "metadata": {},
     "output_type": "execute_result"
    }
   ],
   "source": [
    "from sklearn.cluster import MiniBatchKMeans\n",
    "\n",
    "kmeans_mini_batch = MiniBatchKMeans(n_clusters=3, n_init=1, random_state=42)\n",
    "kmeans_mini_batch.fit(X_st)\n",
    "kmeans_mini_batch_pred = kmeans_mini_batch.labels_\n",
    "\n",
    "# теперь посчитаем однородность\n",
    "v_measure_score(labels_true=y, labels_pred=kmeans_mini_batch_pred)"
   ]
  },
  {
   "cell_type": "markdown",
   "metadata": {},
   "source": [
    "#### Задание 4.14.5\n",
    "\n",
    "Рассмотрим агломеративную кластеризацию. Сравним, как влияет на качество кластеризации разный тип расстояния между кластерами.\n",
    "\n",
    "Обучите на исходном датасете четыре модели AgglomerativeClustering с параметром n_clusters=3, меняя параметр linkage.\n",
    "\n",
    "В качестве ответа укажите максимальное значение v-меры, полученное при помощи данных моделей. В задании может понадобиться, а может не понадобиться нормализация и это нужно проверить во время решения задания. Ответ округлите до сотых и запишите с точкой."
   ]
  },
  {
   "cell_type": "code",
   "execution_count": 25,
   "metadata": {},
   "outputs": [
    {
     "data": {
      "text/plain": [
       "0.9079037199053294"
      ]
     },
     "execution_count": 25,
     "metadata": {},
     "output_type": "execute_result"
    }
   ],
   "source": [
    "from sklearn.cluster import AgglomerativeClustering\n",
    "\n",
    "ac = AgglomerativeClustering(n_clusters=3, linkage='ward')\n",
    "ac.fit(X_st)\n",
    "ac_predict = ac.labels_\n",
    "\n",
    "# теперь посчитаем однородность\n",
    "v_measure_score(labels_true=y, labels_pred=ac_predict)"
   ]
  },
  {
   "cell_type": "code",
   "execution_count": 26,
   "metadata": {},
   "outputs": [
    {
     "data": {
      "text/plain": [
       "0.9079037199053294"
      ]
     },
     "execution_count": 26,
     "metadata": {},
     "output_type": "execute_result"
    }
   ],
   "source": [
    "from sklearn.cluster import AgglomerativeClustering\n",
    "\n",
    "ac = AgglomerativeClustering(n_clusters=3, linkage='ward')\n",
    "ac.fit(X)\n",
    "ac_predict = ac.labels_\n",
    "\n",
    "# теперь посчитаем однородность\n",
    "v_measure_score(labels_true=y, labels_pred=ac_predict)"
   ]
  },
  {
   "cell_type": "code",
   "execution_count": 27,
   "metadata": {},
   "outputs": [
    {
     "data": {
      "text/plain": [
       "0.5805530251504777"
      ]
     },
     "execution_count": 27,
     "metadata": {},
     "output_type": "execute_result"
    }
   ],
   "source": [
    "from sklearn.cluster import AgglomerativeClustering\n",
    "\n",
    "ac = AgglomerativeClustering(n_clusters=3, linkage='complete')\n",
    "ac.fit(X_st)\n",
    "ac_predict = ac.labels_\n",
    "\n",
    "# теперь посчитаем однородность\n",
    "v_measure_score(labels_true=y, labels_pred=ac_predict)"
   ]
  },
  {
   "cell_type": "code",
   "execution_count": 28,
   "metadata": {},
   "outputs": [
    {
     "data": {
      "text/plain": [
       "0.5805530251504777"
      ]
     },
     "execution_count": 28,
     "metadata": {},
     "output_type": "execute_result"
    }
   ],
   "source": [
    "from sklearn.cluster import AgglomerativeClustering\n",
    "\n",
    "ac = AgglomerativeClustering(n_clusters=3, linkage='complete')\n",
    "ac.fit(X)\n",
    "ac_predict = ac.labels_\n",
    "\n",
    "# теперь посчитаем однородность\n",
    "v_measure_score(labels_true=y, labels_pred=ac_predict)"
   ]
  },
  {
   "cell_type": "code",
   "execution_count": 29,
   "metadata": {},
   "outputs": [
    {
     "data": {
      "text/plain": [
       "0.678656551579543"
      ]
     },
     "execution_count": 29,
     "metadata": {},
     "output_type": "execute_result"
    }
   ],
   "source": [
    "from sklearn.cluster import AgglomerativeClustering\n",
    "\n",
    "ac = AgglomerativeClustering(n_clusters=3, linkage='average')\n",
    "ac.fit(X_st)\n",
    "ac_predict = ac.labels_\n",
    "\n",
    "# теперь посчитаем однородность\n",
    "v_measure_score(labels_true=y, labels_pred=ac_predict)"
   ]
  },
  {
   "cell_type": "code",
   "execution_count": 30,
   "metadata": {},
   "outputs": [
    {
     "data": {
      "text/plain": [
       "0.678656551579543"
      ]
     },
     "execution_count": 30,
     "metadata": {},
     "output_type": "execute_result"
    }
   ],
   "source": [
    "from sklearn.cluster import AgglomerativeClustering\n",
    "\n",
    "ac = AgglomerativeClustering(n_clusters=3, linkage='average')\n",
    "ac.fit(X)\n",
    "ac_predict = ac.labels_\n",
    "\n",
    "# теперь посчитаем однородность\n",
    "v_measure_score(labels_true=y, labels_pred=ac_predict)"
   ]
  },
  {
   "cell_type": "code",
   "execution_count": 31,
   "metadata": {},
   "outputs": [
    {
     "data": {
      "text/plain": [
       "0.0008842106330108959"
      ]
     },
     "execution_count": 31,
     "metadata": {},
     "output_type": "execute_result"
    }
   ],
   "source": [
    "from sklearn.cluster import AgglomerativeClustering\n",
    "\n",
    "ac = AgglomerativeClustering(n_clusters=3, linkage='single')\n",
    "ac.fit(X_st)\n",
    "ac_predict = ac.labels_\n",
    "\n",
    "# теперь посчитаем однородность\n",
    "v_measure_score(labels_true=y, labels_pred=ac_predict)"
   ]
  },
  {
   "cell_type": "code",
   "execution_count": 32,
   "metadata": {},
   "outputs": [
    {
     "data": {
      "text/plain": [
       "0.0008842106330108959"
      ]
     },
     "execution_count": 32,
     "metadata": {},
     "output_type": "execute_result"
    }
   ],
   "source": [
    "from sklearn.cluster import AgglomerativeClustering\n",
    "\n",
    "ac = AgglomerativeClustering(n_clusters=3, linkage='single')\n",
    "ac.fit(X)\n",
    "ac_predict = ac.labels_\n",
    "\n",
    "# теперь посчитаем однородность\n",
    "v_measure_score(labels_true=y, labels_pred=ac_predict)"
   ]
  },
  {
   "cell_type": "markdown",
   "metadata": {},
   "source": [
    "#### Задание 4.14.6\n",
    "\n",
    "Сравним, как влияет предварительный расчёт матрицы смежности на качество агломеративной кластеризации.\n",
    "\n",
    "Обучите на исходном датасете две модели AgglomerativeClustering:\n",
    "\n",
    "с параметром n_clusters=3<br />\n",
    "с параметром n_clusters=3 и предварительно посчитанной матрицей смежности для объектов датасета\n",
    "\n",
    "Построить матрицу смежности можно с помощью кода:"
   ]
  },
  {
   "cell_type": "code",
   "execution_count": 39,
   "metadata": {},
   "outputs": [],
   "source": [
    "from sklearn.neighbors import kneighbors_graph\n",
    "\n",
    "connectivity = kneighbors_graph(X, n_neighbors=6, include_self=False)\n",
    "connectivity = 0.5 * (connectivity + connectivity.T)"
   ]
  },
  {
   "cell_type": "markdown",
   "metadata": {},
   "source": [
    "В качестве ответа введите максимальное значение v-меры, полученное при помощи данных моделей. В задании может понадобиться, а может не понадобиться нормализация и это нужно проверить во время решения задания. Ответ округлите до сотых и запишите с точкой."
   ]
  },
  {
   "cell_type": "code",
   "execution_count": 43,
   "metadata": {},
   "outputs": [
    {
     "name": "stdout",
     "output_type": "stream",
     "text": [
      "  (0, 288)\t1.0\n",
      "  (0, 1364)\t1.0\n",
      "  (0, 1177)\t1.0\n",
      "  (0, 724)\t1.0\n",
      "  (0, 1394)\t1.0\n",
      "  (0, 176)\t1.0\n",
      "  (1, 384)\t0.5\n",
      "  (1, 849)\t1.0\n",
      "  (1, 661)\t1.0\n",
      "  (1, 357)\t1.0\n",
      "  (1, 991)\t1.0\n",
      "  (1, 149)\t1.0\n",
      "  (1, 890)\t1.0\n",
      "  (2, 1194)\t0.5\n",
      "  (2, 239)\t1.0\n",
      "  (2, 844)\t1.0\n",
      "  (2, 721)\t1.0\n",
      "  (2, 1079)\t1.0\n",
      "  (2, 747)\t1.0\n",
      "  (2, 615)\t1.0\n",
      "  (3, 859)\t0.5\n",
      "  (3, 209)\t0.5\n",
      "  (3, 427)\t1.0\n",
      "  (3, 608)\t1.0\n",
      "  (3, 1414)\t1.0\n",
      "  :\t:\n",
      "  (2996, 2856)\t1.0\n",
      "  (2996, 2788)\t1.0\n",
      "  (2996, 1580)\t1.0\n",
      "  (2996, 2831)\t1.0\n",
      "  (2997, 2484)\t0.5\n",
      "  (2997, 2025)\t0.5\n",
      "  (2997, 2488)\t0.5\n",
      "  (2997, 2670)\t1.0\n",
      "  (2997, 2948)\t1.0\n",
      "  (2997, 2217)\t1.0\n",
      "  (2997, 1781)\t1.0\n",
      "  (2997, 2586)\t1.0\n",
      "  (2998, 1726)\t0.5\n",
      "  (2998, 2403)\t1.0\n",
      "  (2998, 1934)\t1.0\n",
      "  (2998, 2463)\t1.0\n",
      "  (2998, 2373)\t1.0\n",
      "  (2998, 1648)\t1.0\n",
      "  (2999, 2427)\t0.5\n",
      "  (2999, 1691)\t1.0\n",
      "  (2999, 2361)\t1.0\n",
      "  (2999, 2074)\t1.0\n",
      "  (2999, 2868)\t1.0\n",
      "  (2999, 1810)\t1.0\n",
      "  (2999, 2628)\t1.0\n"
     ]
    }
   ],
   "source": [
    "print(connectivity)"
   ]
  },
  {
   "cell_type": "code",
   "execution_count": 45,
   "metadata": {
    "scrolled": true
   },
   "outputs": [
    {
     "name": "stderr",
     "output_type": "stream",
     "text": [
      "C:\\Users\\vandr\\anaconda3\\lib\\site-packages\\scipy\\cluster\\hierarchy.py:830: ClusterWarning: scipy.cluster: The symmetric non-negative hollow observation matrix looks suspiciously like an uncondensed distance matrix\n",
      "  return linkage(y, method='ward', metric='euclidean')\n"
     ]
    },
    {
     "data": {
      "text/plain": [
       "0.01652001404826808"
      ]
     },
     "execution_count": 45,
     "metadata": {},
     "output_type": "execute_result"
    }
   ],
   "source": [
    "from sklearn.cluster import AgglomerativeClustering\n",
    "\n",
    "ac = AgglomerativeClustering(n_clusters=3)\n",
    "ac.fit(connectivity.toarray())\n",
    "ac_predict = ac.labels_\n",
    "\n",
    "# теперь посчитаем однородность\n",
    "v_measure_score(labels_true=y, labels_pred=ac_predict)"
   ]
  },
  {
   "cell_type": "code",
   "execution_count": 37,
   "metadata": {},
   "outputs": [
    {
     "data": {
      "text/plain": [
       "0.9079037199053294"
      ]
     },
     "execution_count": 37,
     "metadata": {},
     "output_type": "execute_result"
    }
   ],
   "source": [
    "from sklearn.cluster import AgglomerativeClustering\n",
    "\n",
    "ac = AgglomerativeClustering(n_clusters=3)\n",
    "ac.fit(X)\n",
    "ac_predict = ac.labels_\n",
    "\n",
    "# теперь посчитаем однородность\n",
    "v_measure_score(labels_true=y, labels_pred=ac_predict)"
   ]
  },
  {
   "cell_type": "markdown",
   "metadata": {},
   "source": [
    "#### Задание 4.14.7\n",
    "\n",
    "Алгоритм DBSCAN очень требователен к параметрам: небольшое изменение в параметре eps или max_samples может изменить результат и качество кластеризации.\n",
    "\n",
    "Обучите на исходном датасете две модели DBSCAN:\n",
    "\n",
    "с параметрами eps=0.9, min_samples=35<br />\n",
    "с параметрами eps=0.2, min_samples=35\n",
    "\n",
    "В качестве ответа укажите максимальное значение v-меры, полученное при помощи данных моделей. В задании может понадобиться, а может не понадобиться нормализация и это нужно проверить во время решения задания. Ответ округлите до сотых и запишите с точкой."
   ]
  },
  {
   "cell_type": "code",
   "execution_count": 52,
   "metadata": {},
   "outputs": [
    {
     "data": {
      "text/plain": [
       "0.000884601531943088"
      ]
     },
     "execution_count": 52,
     "metadata": {},
     "output_type": "execute_result"
    }
   ],
   "source": [
    "from sklearn.cluster import DBSCAN\n",
    "\n",
    "dbscan = DBSCAN(eps=0.9, min_samples=35)\n",
    "dbscan.fit(X)\n",
    "# dbscan.labels_\n",
    "# dbscan_pred = dbscan.labels_.astype(np.int)\n",
    "dbscan_pred = dbscan.labels_\n",
    "\n",
    "# теперь посчитаем однородность\n",
    "v_measure_score(labels_true=y, labels_pred=dbscan_pred)"
   ]
  },
  {
   "cell_type": "code",
   "execution_count": 61,
   "metadata": {},
   "outputs": [
    {
     "data": {
      "text/plain": [
       "0.7142284808611982"
      ]
     },
     "execution_count": 61,
     "metadata": {},
     "output_type": "execute_result"
    }
   ],
   "source": [
    "from sklearn.cluster import DBSCAN\n",
    "\n",
    "dbscan = DBSCAN(eps=0.2, min_samples=35)\n",
    "dbscan.fit(X)\n",
    "# dbscan.labels_\n",
    "# dbscan_pred = dbscan.labels_.astype(np.int)\n",
    "dbscan_pred = dbscan.labels_\n",
    "\n",
    "# теперь посчитаем однородность\n",
    "v_measure_score(labels_true=y, labels_pred=dbscan_pred)"
   ]
  },
  {
   "cell_type": "markdown",
   "metadata": {},
   "source": [
    "#### Задание 4.14.8\n",
    "\n",
    "Особенностью алгоритма DBSCAN является то, что помимо кластеризации этот алгоритм определяет выбросы в выборке. Посмотрим на качество кластеризации без учёта таких объектов.\n",
    "\n",
    "Обучите на исходном датасете модель DBSCAN с параметрами eps=0.2, min_samples=35. Посчитайте значение v-меры только для основных и граничных объектов выборки, то есть для объектов, что не являются выбросами. Ответ округлите до сотых и запишите с точкой."
   ]
  },
  {
   "cell_type": "code",
   "execution_count": 72,
   "metadata": {},
   "outputs": [
    {
     "name": "stdout",
     "output_type": "stream",
     "text": [
      "0.7142284808611982\n",
      "{-1: 566, 0: 605, 1: 682, 2: 1147}\n",
      "0.979625473245157\n"
     ]
    }
   ],
   "source": [
    "from sklearn.cluster import DBSCAN\n",
    "\n",
    "dbscan = DBSCAN(eps=0.2, min_samples=35)\n",
    "dbscan.fit(X)\n",
    "# dbscan.labels_\n",
    "# dbscan_pred = dbscan.labels_.astype(np.int)\n",
    "dbscan_pred = dbscan.labels_\n",
    "\n",
    "unique, counts = np.unique(dbscan_pred, return_counts=True)\n",
    "\n",
    "\n",
    "# теперь посчитаем однородность\n",
    "print(v_measure_score(labels_true=y, labels_pred=dbscan_pred))\n",
    "\n",
    "print(dict(zip(unique, counts)))\n",
    "\n",
    "labels = dbscan.labels_\n",
    "\n",
    "print(v_measure_score(labels_true=y[labels != -1], labels_pred=labels[labels != -1]))"
   ]
  },
  {
   "cell_type": "markdown",
   "metadata": {},
   "source": [
    "#### Задание 4.14.9\n",
    "\n",
    "В курсе мы рассмотрели две метода нормализации данных:\n",
    "\n",
    "MinMax нормализация — приведение данных к масштабу между \\(0\\) и \\(1\\).<br />\n",
    "Стандартная нормализация — данные имеют среднее \\(0\\) и стандартное отклонение \\(1\\).<br />\n",
    "\n",
    "Проверим, влияет ли предобработка данных на результат кластеризации. Обучите две модели AgglomerativeClustering с параметрами n_clusters=3:\n",
    "\n",
    "на признаках исходного датасета,<br />\n",
    "предварительно трансформируйте признаки при помощи стандартной нормализации.<br />\n",
    "\n",
    "Посчитайте v-меру для получившихся результатов, в качестве ответа введите наибольшее значение. Ответ округлите до сотых и запишите с точкой."
   ]
  },
  {
   "cell_type": "code",
   "execution_count": 74,
   "metadata": {},
   "outputs": [
    {
     "data": {
      "text/plain": [
       "0.9079037199053294"
      ]
     },
     "execution_count": 74,
     "metadata": {},
     "output_type": "execute_result"
    }
   ],
   "source": [
    "from sklearn.cluster import AgglomerativeClustering\n",
    "\n",
    "ac = AgglomerativeClustering(n_clusters=3)\n",
    "ac.fit(X)\n",
    "ac_predict = ac.labels_\n",
    "\n",
    "# теперь посчитаем однородность\n",
    "v_measure_score(labels_true=y, labels_pred=ac_predict)"
   ]
  },
  {
   "cell_type": "code",
   "execution_count": 73,
   "metadata": {},
   "outputs": [
    {
     "data": {
      "text/plain": [
       "0.9079037199053294"
      ]
     },
     "execution_count": 73,
     "metadata": {},
     "output_type": "execute_result"
    }
   ],
   "source": [
    "from sklearn.cluster import AgglomerativeClustering\n",
    "\n",
    "ac = AgglomerativeClustering(n_clusters=3)\n",
    "ac.fit(X_st)\n",
    "ac_predict = ac.labels_\n",
    "\n",
    "# теперь посчитаем однородность\n",
    "v_measure_score(labels_true=y, labels_pred=ac_predict)"
   ]
  },
  {
   "cell_type": "markdown",
   "metadata": {},
   "source": [
    "#### Задание 4.14.10\n",
    "\n",
    "Обучите две модели AgglomerativeClustering с параметрами n_clusters=3:\n",
    "\n",
    "на признаках исходного датасета,<br />\n",
    "предварительно трансформируйте признаки при помощи MinMax нормализации.<br />\n",
    "\n",
    "Посчитайте v-меру для получившихся результатов, в качестве ответа введите наибольшее значение. Ответ округлите до сотых и запишите с точкой."
   ]
  },
  {
   "cell_type": "code",
   "execution_count": 100,
   "metadata": {},
   "outputs": [],
   "source": [
    "from sklearn.preprocessing import MinMaxScaler\n",
    "\n",
    "scaler = MinMaxScaler()\n",
    "X_sc = scaler.fit_transform(X)"
   ]
  },
  {
   "cell_type": "code",
   "execution_count": 101,
   "metadata": {},
   "outputs": [
    {
     "name": "stdout",
     "output_type": "stream",
     "text": [
      "[[0.80197986 0.69855087]\n",
      " [0.66703238 0.55636478]\n",
      " [0.53852874 0.82281561]\n",
      " ...\n",
      " [0.40494785 0.48780529]\n",
      " [0.34240362 0.51380803]\n",
      " [0.58269886 0.31741592]]\n"
     ]
    }
   ],
   "source": [
    "print(X_sc)"
   ]
  },
  {
   "cell_type": "code",
   "execution_count": 98,
   "metadata": {},
   "outputs": [
    {
     "data": {
      "text/plain": [
       "0.703747024360433"
      ]
     },
     "execution_count": 98,
     "metadata": {},
     "output_type": "execute_result"
    }
   ],
   "source": [
    "from sklearn.cluster import AgglomerativeClustering\n",
    "\n",
    "ac = AgglomerativeClustering(n_clusters=3)\n",
    "ac.fit(X)\n",
    "ac_predict = ac.labels_\n",
    "\n",
    "# теперь посчитаем однородность\n",
    "v_measure_score(labels_true=y, labels_pred=ac_predict)"
   ]
  },
  {
   "cell_type": "code",
   "execution_count": 102,
   "metadata": {},
   "outputs": [
    {
     "data": {
      "text/plain": [
       "0.8929241488344335"
      ]
     },
     "execution_count": 102,
     "metadata": {},
     "output_type": "execute_result"
    }
   ],
   "source": [
    "from sklearn.cluster import AgglomerativeClustering\n",
    "\n",
    "ac = AgglomerativeClustering(n_clusters=3)\n",
    "ac.fit(X_sc)\n",
    "ac_predict = ac.labels_\n",
    "\n",
    "# теперь посчитаем однородность\n",
    "v_measure_score(labels_true=y, labels_pred=ac_predict)"
   ]
  }
 ],
 "metadata": {
  "kernelspec": {
   "display_name": "Python 3",
   "language": "python",
   "name": "python3"
  },
  "language_info": {
   "codemirror_mode": {
    "name": "ipython",
    "version": 3
   },
   "file_extension": ".py",
   "mimetype": "text/x-python",
   "name": "python",
   "nbconvert_exporter": "python",
   "pygments_lexer": "ipython3",
   "version": "3.7.7"
  }
 },
 "nbformat": 4,
 "nbformat_minor": 4
}
