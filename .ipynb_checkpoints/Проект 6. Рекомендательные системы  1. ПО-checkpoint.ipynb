{
 "cells": [
  {
   "cell_type": "markdown",
   "metadata": {},
   "source": [
    "# ПОЛЕЗНЫЕ ПАКЕТЫ И ССЫЛКИ"
   ]
  },
  {
   "cell_type": "markdown",
   "metadata": {},
   "source": [
    "Для того, чтобы протестировать модель, в 99% случаев вам будет достаточно существующих библиотек. В этом проекте мы советуем использовать библиотеки: \n",
    "\n",
    "- LightFm. Проста в использовании и реализует методы матричного разложения, которые очень популярны в рекомендательных система: https://making.lyst.com/lightfm/docs/home.html \n",
    "- Colablearner от fast.ai. Представляет собой реализацию коллаборативной фильтрации на Pytorch: https://docs.fast.ai/collab.html\n",
    "- Surprise. Библиотека для построения и тестирования рекомендательных систем: http://surpriselib.com/\n",
    "- Pytorch. Одна из самых популярных библиотек для глубокого обучения. Конечно, вы свободны в выборе своего набора инструментов и методов: https://pytorch.org/\n",
    "- Nmslib. Библиотека для быстрого поиска ближайших соседей: https://github.com/nmslib/nmslib\n",
    "- PyMF. Библиотека для матричного разложения: https://github.com/cthurau/pymf"
   ]
  },
  {
   "cell_type": "markdown",
   "metadata": {},
   "source": [
    "# ПОЛЕЗНЫЕ ССЫЛКИ\n",
    "\n",
    "- Матричные разложения: https://www.machinelearningmastery.ru/overview-of-matrix-factorisation-techniques-using-python-8e3d118a9b39/\n",
    "- Анатомия рекомендательных систем: https://habr.com/ru/company/lanit/blog/420499/"
   ]
  }
 ],
 "metadata": {
  "kernelspec": {
   "display_name": "Python 3",
   "language": "python",
   "name": "python3"
  },
  "language_info": {
   "codemirror_mode": {
    "name": "ipython",
    "version": 3
   },
   "file_extension": ".py",
   "mimetype": "text/x-python",
   "name": "python",
   "nbconvert_exporter": "python",
   "pygments_lexer": "ipython3",
   "version": "3.8.3"
  }
 },
 "nbformat": 4,
 "nbformat_minor": 4
}
