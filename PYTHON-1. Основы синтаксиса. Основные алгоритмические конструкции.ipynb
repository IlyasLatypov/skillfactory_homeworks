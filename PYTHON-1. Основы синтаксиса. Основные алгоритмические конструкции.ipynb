{
 "cells": [
  {
   "cell_type": "code",
   "execution_count": 28,
   "metadata": {},
   "outputs": [],
   "source": [
    "import csv\n",
    "file = open('E:\\\\Downloads\\\\API_IT.NET.USER.ZS_DS2_en_csv_v2_889089\\\\Metadata_Country_API_IT.NET.USER.ZS_DS2_en_csv_v2_889089.csv', 'r')"
   ]
  },
  {
   "cell_type": "code",
   "execution_count": 29,
   "metadata": {},
   "outputs": [
    {
     "data": {
      "text/plain": [
       "<_io.TextIOWrapper name='E:\\\\Downloads\\\\API_IT.NET.USER.ZS_DS2_en_csv_v2_889089\\\\Metadata_Country_API_IT.NET.USER.ZS_DS2_en_csv_v2_889089.csv' mode='r' encoding='cp1251'>"
      ]
     },
     "execution_count": 29,
     "metadata": {},
     "output_type": "execute_result"
    }
   ],
   "source": [
    "file"
   ]
  },
  {
   "cell_type": "code",
   "execution_count": 30,
   "metadata": {},
   "outputs": [],
   "source": [
    "reader = csv.DictReader(file, delimiter=',')"
   ]
  },
  {
   "cell_type": "code",
   "execution_count": 32,
   "metadata": {},
   "outputs": [
    {
     "name": "stdout",
     "output_type": "stream",
     "text": [
      "OrderedDict([('п»ї\"Country Code\"', 'ABW'), ('Region', 'Latin America & Caribbean'), ('IncomeGroup', 'High income'), ('SpecialNotes', ''), ('TableName', 'Aruba'), ('', '')])\n",
      "OrderedDict([('п»ї\"Country Code\"', 'AFG'), ('Region', 'South Asia'), ('IncomeGroup', 'Low income'), ('SpecialNotes', ''), ('TableName', 'Afghanistan'), ('', '')])\n",
      "OrderedDict([('п»ї\"Country Code\"', 'AGO'), ('Region', 'Sub-Saharan Africa'), ('IncomeGroup', 'Lower middle income'), ('SpecialNotes', ''), ('TableName', 'Angola'), ('', '')])\n",
      "OrderedDict([('п»ї\"Country Code\"', 'ALB'), ('Region', 'Europe & Central Asia'), ('IncomeGroup', 'Upper middle income'), ('SpecialNotes', ''), ('TableName', 'Albania'), ('', '')])\n",
      "OrderedDict([('п»ї\"Country Code\"', 'AND'), ('Region', 'Europe & Central Asia'), ('IncomeGroup', 'High income'), ('SpecialNotes', ''), ('TableName', 'Andorra'), ('', '')])\n",
      "OrderedDict([('п»ї\"Country Code\"', 'ARB'), ('Region', ''), ('IncomeGroup', ''), ('SpecialNotes', 'Arab World aggregate. Arab World is composed of members of the League of Arab States.'), ('TableName', 'Arab World'), ('', '')])\n",
      "OrderedDict([('п»ї\"Country Code\"', 'ARE'), ('Region', 'Middle East & North Africa'), ('IncomeGroup', 'High income'), ('SpecialNotes', ''), ('TableName', 'United Arab Emirates'), ('', '')])\n",
      "OrderedDict([('п»ї\"Country Code\"', 'ARG'), ('Region', 'Latin America & Caribbean'), ('IncomeGroup', 'Upper middle income'), ('SpecialNotes', ''), ('TableName', 'Argentina'), ('', '')])\n",
      "OrderedDict([('п»ї\"Country Code\"', 'ARM'), ('Region', 'Europe & Central Asia'), ('IncomeGroup', 'Upper middle income'), ('SpecialNotes', ''), ('TableName', 'Armenia'), ('', '')])\n",
      "OrderedDict([('п»ї\"Country Code\"', 'ASM'), ('Region', 'East Asia & Pacific'), ('IncomeGroup', 'Upper middle income'), ('SpecialNotes', ''), ('TableName', 'American Samoa'), ('', '')])\n",
      "OrderedDict([('п»ї\"Country Code\"', 'ATG'), ('Region', 'Latin America & Caribbean'), ('IncomeGroup', 'High income'), ('SpecialNotes', ''), ('TableName', 'Antigua and Barbuda'), ('', '')])\n",
      "OrderedDict([('п»ї\"Country Code\"', 'AUS'), ('Region', 'East Asia & Pacific'), ('IncomeGroup', 'High income'), ('SpecialNotes', 'Fiscal year end: June 30; reporting period for national accounts data: FY.'), ('TableName', 'Australia'), ('', '')])\n",
      "OrderedDict([('п»ї\"Country Code\"', 'AUT'), ('Region', 'Europe & Central Asia'), ('IncomeGroup', 'High income'), ('SpecialNotes', 'A simple multiplier is used to convert the national currencies of EMU members to euros. The following irrevocable euro conversion rate was adopted by the EU Council on January 1, 1999: 1 euro = 13.7603 Austrian schilling. Please note that historical data before 1999 are not actual euros and are not comparable or suitable for aggregation across countries.'), ('TableName', 'Austria'), ('', '')])\n",
      "OrderedDict([('п»ї\"Country Code\"', 'AZE'), ('Region', 'Europe & Central Asia'), ('IncomeGroup', 'Upper middle income'), ('SpecialNotes', ''), ('TableName', 'Azerbaijan'), ('', '')])\n",
      "OrderedDict([('п»ї\"Country Code\"', 'BDI'), ('Region', 'Sub-Saharan Africa'), ('IncomeGroup', 'Low income'), ('SpecialNotes', ''), ('TableName', 'Burundi'), ('', '')])\n",
      "OrderedDict([('п»ї\"Country Code\"', 'BEL'), ('Region', 'Europe & Central Asia'), ('IncomeGroup', 'High income'), ('SpecialNotes', 'A simple multiplier is used to convert the national currencies of EMU members to euros. The following irrevocable euro conversion rate was adopted by the EU Council on January 1, 1999: 1 euro = 40.3399 Belgian franc. Please note that historical data before 1999 are not actual euros and are not comparable or suitable for aggregation across countries.'), ('TableName', 'Belgium'), ('', '')])\n",
      "OrderedDict([('п»ї\"Country Code\"', 'BEN'), ('Region', 'Sub-Saharan Africa'), ('IncomeGroup', 'Low income'), ('SpecialNotes', ''), ('TableName', 'Benin'), ('', '')])\n",
      "OrderedDict([('п»ї\"Country Code\"', 'BFA'), ('Region', 'Sub-Saharan Africa'), ('IncomeGroup', 'Low income'), ('SpecialNotes', ''), ('TableName', 'Burkina Faso'), ('', '')])\n",
      "OrderedDict([('п»ї\"Country Code\"', 'BGD'), ('Region', 'South Asia'), ('IncomeGroup', 'Lower middle income'), ('SpecialNotes', 'Fiscal year end: June 30; reporting period for national accounts data: FY.'), ('TableName', 'Bangladesh'), ('', '')])\n",
      "OrderedDict([('п»ї\"Country Code\"', 'BGR'), ('Region', 'Europe & Central Asia'), ('IncomeGroup', 'Upper middle income'), ('SpecialNotes', ''), ('TableName', 'Bulgaria'), ('', '')])\n",
      "OrderedDict([('п»ї\"Country Code\"', 'BHR'), ('Region', 'Middle East & North Africa'), ('IncomeGroup', 'High income'), ('SpecialNotes', ''), ('TableName', 'Bahrain'), ('', '')])\n",
      "OrderedDict([('п»ї\"Country Code\"', 'BHS'), ('Region', 'Latin America & Caribbean'), ('IncomeGroup', 'High income'), ('SpecialNotes', ''), ('TableName', 'Bahamas, The'), ('', '')])\n",
      "OrderedDict([('п»ї\"Country Code\"', 'BIH'), ('Region', 'Europe & Central Asia'), ('IncomeGroup', 'Upper middle income'), ('SpecialNotes', ''), ('TableName', 'Bosnia and Herzegovina'), ('', '')])\n",
      "OrderedDict([('п»ї\"Country Code\"', 'BLR'), ('Region', 'Europe & Central Asia'), ('IncomeGroup', 'Upper middle income'), ('SpecialNotes', 'Data before 2015В\\xa0were adjusted to reflect theВ\\xa0new denomination effective from July 1, 2016 (BYN), a decrease of 10,000 times (1 BYN = 10,000 BYR)'), ('TableName', 'Belarus'), ('', '')])\n",
      "OrderedDict([('п»ї\"Country Code\"', 'BLZ'), ('Region', 'Latin America & Caribbean'), ('IncomeGroup', 'Upper middle income'), ('SpecialNotes', ''), ('TableName', 'Belize'), ('', '')])\n",
      "OrderedDict([('п»ї\"Country Code\"', 'BMU'), ('Region', 'North America'), ('IncomeGroup', 'High income'), ('SpecialNotes', ''), ('TableName', 'Bermuda'), ('', '')])\n",
      "OrderedDict([('п»ї\"Country Code\"', 'BOL'), ('Region', 'Latin America & Caribbean'), ('IncomeGroup', 'Lower middle income'), ('SpecialNotes', ''), ('TableName', 'Bolivia'), ('', '')])\n",
      "OrderedDict([('п»ї\"Country Code\"', 'BRA'), ('Region', 'Latin America & Caribbean'), ('IncomeGroup', 'Upper middle income'), ('SpecialNotes', ''), ('TableName', 'Brazil'), ('', '')])\n",
      "OrderedDict([('п»ї\"Country Code\"', 'BRB'), ('Region', 'Latin America & Caribbean'), ('IncomeGroup', 'High income'), ('SpecialNotes', ''), ('TableName', 'Barbados'), ('', '')])\n",
      "OrderedDict([('п»ї\"Country Code\"', 'BRN'), ('Region', 'East Asia & Pacific'), ('IncomeGroup', 'High income'), ('SpecialNotes', ''), ('TableName', 'Brunei Darussalam'), ('', '')])\n",
      "OrderedDict([('п»ї\"Country Code\"', 'BTN'), ('Region', 'South Asia'), ('IncomeGroup', 'Lower middle income'), ('SpecialNotes', ''), ('TableName', 'Bhutan'), ('', '')])\n",
      "OrderedDict([('п»ї\"Country Code\"', 'BWA'), ('Region', 'Sub-Saharan Africa'), ('IncomeGroup', 'Upper middle income'), ('SpecialNotes', ''), ('TableName', 'Botswana'), ('', '')])\n",
      "OrderedDict([('п»ї\"Country Code\"', 'CAF'), ('Region', 'Sub-Saharan Africa'), ('IncomeGroup', 'Low income'), ('SpecialNotes', ''), ('TableName', 'Central African Republic'), ('', '')])\n",
      "OrderedDict([('п»ї\"Country Code\"', 'CAN'), ('Region', 'North America'), ('IncomeGroup', 'High income'), ('SpecialNotes', 'Fiscal year end: March 31; reporting period for national accounts data: CY.'), ('TableName', 'Canada'), ('', '')])\n",
      "OrderedDict([('п»ї\"Country Code\"', 'CEB'), ('Region', ''), ('IncomeGroup', ''), ('SpecialNotes', 'Central Europe and the Baltics aggregate.'), ('TableName', 'Central Europe and the Baltics'), ('', '')])\n",
      "OrderedDict([('п»ї\"Country Code\"', 'CHE'), ('Region', 'Europe & Central Asia'), ('IncomeGroup', 'High income'), ('SpecialNotes', ''), ('TableName', 'Switzerland'), ('', '')])\n",
      "OrderedDict([('п»ї\"Country Code\"', 'CHI'), ('Region', 'Europe & Central Asia'), ('IncomeGroup', 'High income'), ('SpecialNotes', ''), ('TableName', 'Channel Islands'), ('', '')])\n",
      "OrderedDict([('п»ї\"Country Code\"', 'CHL'), ('Region', 'Latin America & Caribbean'), ('IncomeGroup', 'High income'), ('SpecialNotes', ''), ('TableName', 'Chile'), ('', '')])\n",
      "OrderedDict([('п»ї\"Country Code\"', 'CHN'), ('Region', 'East Asia & Pacific'), ('IncomeGroup', 'Upper middle income'), ('SpecialNotes', 'On 1 July 1997 China resumed its exercise of sovereignty over Hong Kong; and on 20 December 1999 China resumed its exercise of sovereignty over Macao. Unless otherwise noted, data for China do not include data for Hong Kong SAR, China; Macao SAR, China; or Taiwan, China.'), ('TableName', 'China'), ('', '')])\n",
      "OrderedDict([('п»ї\"Country Code\"', 'CIV'), ('Region', 'Sub-Saharan Africa'), ('IncomeGroup', 'Lower middle income'), ('SpecialNotes', ''), ('TableName', \"CГґte d'Ivoire\"), ('', '')])\n",
      "OrderedDict([('п»ї\"Country Code\"', 'CMR'), ('Region', 'Sub-Saharan Africa'), ('IncomeGroup', 'Lower middle income'), ('SpecialNotes', ''), ('TableName', 'Cameroon'), ('', '')])\n",
      "OrderedDict([('п»ї\"Country Code\"', 'COD'), ('Region', 'Sub-Saharan Africa'), ('IncomeGroup', 'Low income'), ('SpecialNotes', ''), ('TableName', 'Congo, Dem. Rep.'), ('', '')])\n",
      "OrderedDict([('п»ї\"Country Code\"', 'COG'), ('Region', 'Sub-Saharan Africa'), ('IncomeGroup', 'Lower middle income'), ('SpecialNotes', ''), ('TableName', 'Congo, Rep.'), ('', '')])\n",
      "OrderedDict([('п»ї\"Country Code\"', 'COL'), ('Region', 'Latin America & Caribbean'), ('IncomeGroup', 'Upper middle income'), ('SpecialNotes', ''), ('TableName', 'Colombia'), ('', '')])\n",
      "OrderedDict([('п»ї\"Country Code\"', 'COM'), ('Region', 'Sub-Saharan Africa'), ('IncomeGroup', 'Lower middle income'), ('SpecialNotes', ''), ('TableName', 'Comoros'), ('', '')])\n",
      "OrderedDict([('п»ї\"Country Code\"', 'CPV'), ('Region', 'Sub-Saharan Africa'), ('IncomeGroup', 'Lower middle income'), ('SpecialNotes', ''), ('TableName', 'Cabo Verde'), ('', '')])\n",
      "OrderedDict([('п»ї\"Country Code\"', 'CRI'), ('Region', 'Latin America & Caribbean'), ('IncomeGroup', 'Upper middle income'), ('SpecialNotes', ''), ('TableName', 'Costa Rica'), ('', '')])\n",
      "OrderedDict([('п»ї\"Country Code\"', 'CSS'), ('Region', ''), ('IncomeGroup', ''), ('SpecialNotes', ''), ('TableName', 'Caribbean small states'), ('', '')])\n",
      "OrderedDict([('п»ї\"Country Code\"', 'CUB'), ('Region', 'Latin America & Caribbean'), ('IncomeGroup', 'Upper middle income'), ('SpecialNotes', ''), ('TableName', 'Cuba'), ('', '')])\n",
      "OrderedDict([('п»ї\"Country Code\"', 'CUW'), ('Region', 'Latin America & Caribbean'), ('IncomeGroup', 'High income'), ('SpecialNotes', ''), ('TableName', 'CuraГ§ao'), ('', '')])\n",
      "OrderedDict([('п»ї\"Country Code\"', 'CYM'), ('Region', 'Latin America & Caribbean'), ('IncomeGroup', 'High income'), ('SpecialNotes', ''), ('TableName', 'Cayman Islands'), ('', '')])\n",
      "OrderedDict([('п»ї\"Country Code\"', 'CYP'), ('Region', 'Europe & Central Asia'), ('IncomeGroup', 'High income'), ('SpecialNotes', 'A simple multiplier is used to convert the national currencies of EMU members to euros. The following irrevocable euro conversion rate entered into force on January 1, 2008: 1 euro = 0.585274 Cyprus pounds. Please note that historical data are not actual euros and are not comparable or suitable for aggregation across countries.'), ('TableName', 'Cyprus'), ('', '')])\n",
      "OrderedDict([('п»ї\"Country Code\"', 'CZE'), ('Region', 'Europe & Central Asia'), ('IncomeGroup', 'High income'), ('SpecialNotes', ''), ('TableName', 'Czech Republic'), ('', '')])\n",
      "OrderedDict([('п»ї\"Country Code\"', 'DEU'), ('Region', 'Europe & Central Asia'), ('IncomeGroup', 'High income'), ('SpecialNotes', ''), ('TableName', 'Germany'), ('', '')])\n",
      "OrderedDict([('п»ї\"Country Code\"', 'DJI'), ('Region', 'Middle East & North Africa'), ('IncomeGroup', 'Lower middle income'), ('SpecialNotes', ''), ('TableName', 'Djibouti'), ('', '')])\n",
      "OrderedDict([('п»ї\"Country Code\"', 'DMA'), ('Region', 'Latin America & Caribbean'), ('IncomeGroup', 'Upper middle income'), ('SpecialNotes', ''), ('TableName', 'Dominica'), ('', '')])\n",
      "OrderedDict([('п»ї\"Country Code\"', 'DNK'), ('Region', 'Europe & Central Asia'), ('IncomeGroup', 'High income'), ('SpecialNotes', ''), ('TableName', 'Denmark'), ('', '')])\n",
      "OrderedDict([('п»ї\"Country Code\"', 'DOM'), ('Region', 'Latin America & Caribbean'), ('IncomeGroup', 'Upper middle income'), ('SpecialNotes', ''), ('TableName', 'Dominican Republic'), ('', '')])\n",
      "OrderedDict([('п»ї\"Country Code\"', 'DZA'), ('Region', 'Middle East & North Africa'), ('IncomeGroup', 'Upper middle income'), ('SpecialNotes', ''), ('TableName', 'Algeria'), ('', '')])\n",
      "OrderedDict([('п»ї\"Country Code\"', 'EAP'), ('Region', ''), ('IncomeGroup', ''), ('SpecialNotes', 'East Asia and Pacific regional aggregate (does not include high-income economies).'), ('TableName', 'East Asia & Pacific (excluding high income)'), ('', '')])\n",
      "OrderedDict([('п»ї\"Country Code\"', 'EAR'), ('Region', ''), ('IncomeGroup', ''), ('SpecialNotes', 'Early-dividend countries are mostly lower-middle-income countries further along the fertility transition. Fertility rates have fallen below four births per woman and the working-age share of the population is likely rising considerably.'), ('TableName', 'Early-demographic dividend'), ('', '')])\n",
      "OrderedDict([('п»ї\"Country Code\"', 'EAS'), ('Region', ''), ('IncomeGroup', ''), ('SpecialNotes', 'East Asia and Pacific regional aggregate (includes all income levels).'), ('TableName', 'East Asia & Pacific'), ('', '')])\n",
      "OrderedDict([('п»ї\"Country Code\"', 'ECA'), ('Region', ''), ('IncomeGroup', ''), ('SpecialNotes', 'Europe and Central Asia regional aggregate (does not include high-income economies).'), ('TableName', 'Europe & Central Asia (excluding high income)'), ('', '')])\n",
      "OrderedDict([('п»ї\"Country Code\"', 'ECS'), ('Region', ''), ('IncomeGroup', ''), ('SpecialNotes', 'Europe and Central Asia regional aggregate (includes all income levels).'), ('TableName', 'Europe & Central Asia'), ('', '')])\n",
      "OrderedDict([('п»ї\"Country Code\"', 'ECU'), ('Region', 'Latin America & Caribbean'), ('IncomeGroup', 'Upper middle income'), ('SpecialNotes', ''), ('TableName', 'Ecuador'), ('', '')])\n",
      "OrderedDict([('п»ї\"Country Code\"', 'EGY'), ('Region', 'Middle East & North Africa'), ('IncomeGroup', 'Lower middle income'), ('SpecialNotes', ''), ('TableName', 'Egypt, Arab Rep.'), ('', '')])\n",
      "OrderedDict([('п»ї\"Country Code\"', 'EMU'), ('Region', ''), ('IncomeGroup', ''), ('SpecialNotes', 'Euro area aggregate.'), ('TableName', 'Euro area'), ('', '')])\n",
      "OrderedDict([('п»ї\"Country Code\"', 'ERI'), ('Region', 'Sub-Saharan Africa'), ('IncomeGroup', 'Low income'), ('SpecialNotes', ''), ('TableName', 'Eritrea'), ('', '')])\n",
      "OrderedDict([('п»ї\"Country Code\"', 'ESP'), ('Region', 'Europe & Central Asia'), ('IncomeGroup', 'High income'), ('SpecialNotes', 'A simple multiplier is used to convert the national currencies of EMU members to euros. The following irrevocable euro conversion rate was adopted by the EU Council on January 1, 1999: 1 euro = 166.386 Spanish peseta. Please note that historical data before 1999 are not actual euros and are not comparable or suitable for aggregation across countries.'), ('TableName', 'Spain'), ('', '')])\n",
      "OrderedDict([('п»ї\"Country Code\"', 'EST'), ('Region', 'Europe & Central Asia'), ('IncomeGroup', 'High income'), ('SpecialNotes', 'The following irrevocable euro conversion rate entered into force on January 1, 2011: 1 euro = 15.6466 Estonian kroon. Please note that historical data are not actual euros and are not comparable or suitable for aggregation across countries.'), ('TableName', 'Estonia'), ('', '')])\n",
      "OrderedDict([('п»ї\"Country Code\"', 'ETH'), ('Region', 'Sub-Saharan Africa'), ('IncomeGroup', 'Low income'), ('SpecialNotes', 'Fiscal year end: July 7; reporting period for national accounts data: FY.'), ('TableName', 'Ethiopia'), ('', '')])\n",
      "OrderedDict([('п»ї\"Country Code\"', 'EUU'), ('Region', ''), ('IncomeGroup', ''), ('SpecialNotes', 'European Union aggregate.'), ('TableName', 'European Union'), ('', '')])\n",
      "OrderedDict([('п»ї\"Country Code\"', 'FCS'), ('Region', ''), ('IncomeGroup', ''), ('SpecialNotes', \"Fragile and conflict affected situations aggregate. Countries with fragile situations are primarily International Development Association-eligible countries and nonmember or inactive countries and territories with a 3.2 or lower harmonized average of the World Bank's Country Policy and Institutional Assessment rating and the corresponding rating by a regional development bank, or that have had a UN or regional peacebuilding and political mission (for example by the African Union, European Union, or Organization of American States) or peacekeeping mission (for example, by the African Union, European Union, North Atlantic Treaty Organization, or Organization of American States) during the last three years. The group excludes IBRD countries (for which the CPIA scores are not publically disclosed); unless there is the presence of a peace-keeping or political/peacebuilding mission. This definition is pursuant to an agreement between the World Bank and other multilateral development banks at the start of the International Development Association 15 round in 2007. The list of countries and territories with fragile situations is imperfect and used here to reflect a complex concept. The World Bank continues to work with partners and client countries to refine the concept.\"), ('TableName', 'Fragile and conflict affected situations'), ('', '')])\n",
      "OrderedDict([('п»ї\"Country Code\"', 'FIN'), ('Region', 'Europe & Central Asia'), ('IncomeGroup', 'High income'), ('SpecialNotes', 'A simple multiplier is used to convert the national currencies of EMU members to euros. The following irrevocable euro conversion rate was adopted by the EU Council on January 1, 1999: 1 euro = 5.94573 Finnish markka. Please note that historical data before 1999 are not actual euros and are not comparable or suitable for aggregation across countries.'), ('TableName', 'Finland'), ('', '')])\n",
      "OrderedDict([('п»ї\"Country Code\"', 'FJI'), ('Region', 'East Asia & Pacific'), ('IncomeGroup', 'Upper middle income'), ('SpecialNotes', ''), ('TableName', 'Fiji'), ('', '')])\n",
      "OrderedDict([('п»ї\"Country Code\"', 'FRA'), ('Region', 'Europe & Central Asia'), ('IncomeGroup', 'High income'), ('SpecialNotes', 'The following irrevocable euro conversion rate was adopted by the EU Council on January 1, 1999: 1 euro = 6.55957 French franc. Please note that historical data before 1999 are not actual euros and are not comparable or suitable for aggregation across countries.'), ('TableName', 'France'), ('', '')])\n",
      "OrderedDict([('п»ї\"Country Code\"', 'FRO'), ('Region', 'Europe & Central Asia'), ('IncomeGroup', 'High income'), ('SpecialNotes', ''), ('TableName', 'Faroe Islands'), ('', '')])\n",
      "OrderedDict([('п»ї\"Country Code\"', 'FSM'), ('Region', 'East Asia & Pacific'), ('IncomeGroup', 'Lower middle income'), ('SpecialNotes', 'Fiscal year ends on September 30; reporting period for national accounts data: FY. Based on the Pacific and Virgin Islands Training Initiative, national accounts data have been revised.'), ('TableName', 'Micronesia, Fed. Sts.'), ('', '')])\n",
      "OrderedDict([('п»ї\"Country Code\"', 'GAB'), ('Region', 'Sub-Saharan Africa'), ('IncomeGroup', 'Upper middle income'), ('SpecialNotes', ''), ('TableName', 'Gabon'), ('', '')])\n",
      "OrderedDict([('п»ї\"Country Code\"', 'GBR'), ('Region', 'Europe & Central Asia'), ('IncomeGroup', 'High income'), ('SpecialNotes', ''), ('TableName', 'United Kingdom'), ('', '')])\n",
      "OrderedDict([('п»ї\"Country Code\"', 'GEO'), ('Region', 'Europe & Central Asia'), ('IncomeGroup', 'Upper middle income'), ('SpecialNotes', 'Includes self-governed areas only, which mostly exclude Abkhazia and South Ossetia, but small areas in Abkhazia and South Ossetia are included before 2008 or 2009 because of the changes in self-governed areas.'), ('TableName', 'Georgia'), ('', '')])\n",
      "OrderedDict([('п»ї\"Country Code\"', 'GHA'), ('Region', 'Sub-Saharan Africa'), ('IncomeGroup', 'Lower middle income'), ('SpecialNotes', ''), ('TableName', 'Ghana'), ('', '')])\n",
      "OrderedDict([('п»ї\"Country Code\"', 'GIB'), ('Region', 'Europe & Central Asia'), ('IncomeGroup', 'High income'), ('SpecialNotes', ''), ('TableName', 'Gibraltar'), ('', '')])\n",
      "OrderedDict([('п»ї\"Country Code\"', 'GIN'), ('Region', 'Sub-Saharan Africa'), ('IncomeGroup', 'Low income'), ('SpecialNotes', ''), ('TableName', 'Guinea'), ('', '')])\n",
      "OrderedDict([('п»ї\"Country Code\"', 'GMB'), ('Region', 'Sub-Saharan Africa'), ('IncomeGroup', 'Low income'), ('SpecialNotes', ''), ('TableName', 'Gambia, The'), ('', '')])\n",
      "OrderedDict([('п»ї\"Country Code\"', 'GNB'), ('Region', 'Sub-Saharan Africa'), ('IncomeGroup', 'Low income'), ('SpecialNotes', ''), ('TableName', 'Guinea-Bissau'), ('', '')])\n",
      "OrderedDict([('п»ї\"Country Code\"', 'GNQ'), ('Region', 'Sub-Saharan Africa'), ('IncomeGroup', 'Upper middle income'), ('SpecialNotes', ''), ('TableName', 'Equatorial Guinea'), ('', '')])\n",
      "OrderedDict([('п»ї\"Country Code\"', 'GRC'), ('Region', 'Europe & Central Asia'), ('IncomeGroup', 'High income'), ('SpecialNotes', 'A simple multiplier is used to convert the national currencies of EMU members to euros. The following irrevocable euro conversion rate was adopted by the EU Council on January 1, 1999: 1 euro = 340.75 Greek drachma. Please note that historical data before 1999 are not actual euros and are not comparable or suitable for aggregation across countries.'), ('TableName', 'Greece'), ('', '')])\n",
      "OrderedDict([('п»ї\"Country Code\"', 'GRD'), ('Region', 'Latin America & Caribbean'), ('IncomeGroup', 'Upper middle income'), ('SpecialNotes', ''), ('TableName', 'Grenada'), ('', '')])\n",
      "OrderedDict([('п»ї\"Country Code\"', 'GRL'), ('Region', 'Europe & Central Asia'), ('IncomeGroup', 'High income'), ('SpecialNotes', ''), ('TableName', 'Greenland'), ('', '')])\n",
      "OrderedDict([('п»ї\"Country Code\"', 'GTM'), ('Region', 'Latin America & Caribbean'), ('IncomeGroup', 'Upper middle income'), ('SpecialNotes', ''), ('TableName', 'Guatemala'), ('', '')])\n",
      "OrderedDict([('п»ї\"Country Code\"', 'GUM'), ('Region', 'East Asia & Pacific'), ('IncomeGroup', 'High income'), ('SpecialNotes', ''), ('TableName', 'Guam'), ('', '')])\n",
      "OrderedDict([('п»ї\"Country Code\"', 'GUY'), ('Region', 'Latin America & Caribbean'), ('IncomeGroup', 'Upper middle income'), ('SpecialNotes', ''), ('TableName', 'Guyana'), ('', '')])\n",
      "OrderedDict([('п»ї\"Country Code\"', 'HIC'), ('Region', ''), ('IncomeGroup', ''), ('SpecialNotes', 'High income group aggregate. High-income economies are those in which 2017 GNI per capita was $12,055 or more.'), ('TableName', 'High income'), ('', '')])\n",
      "OrderedDict([('п»ї\"Country Code\"', 'HKG'), ('Region', 'East Asia & Pacific'), ('IncomeGroup', 'High income'), ('SpecialNotes', 'On 1 July 1997 China resumed its exercise of sovereignty over Hong Kong. Unless otherwise noted, data for China do not include data for Hong Kong SAR, China; Macao SAR, China; or Taiwan, China. Agriculture value added includes mining and quarrying.'), ('TableName', 'Hong Kong SAR, China'), ('', '')])\n",
      "OrderedDict([('п»ї\"Country Code\"', 'HND'), ('Region', 'Latin America & Caribbean'), ('IncomeGroup', 'Lower middle income'), ('SpecialNotes', ''), ('TableName', 'Honduras'), ('', '')])\n",
      "OrderedDict([('п»ї\"Country Code\"', 'HPC'), ('Region', ''), ('IncomeGroup', ''), ('SpecialNotes', 'Heavily indebted poor countries aggregate.'), ('TableName', 'Heavily indebted poor countries (HIPC)'), ('', '')])\n",
      "OrderedDict([('п»ї\"Country Code\"', 'HRV'), ('Region', 'Europe & Central Asia'), ('IncomeGroup', 'High income'), ('SpecialNotes', ''), ('TableName', 'Croatia'), ('', '')])\n",
      "OrderedDict([('п»ї\"Country Code\"', 'HTI'), ('Region', 'Latin America & Caribbean'), ('IncomeGroup', 'Low income'), ('SpecialNotes', 'Fiscal year end: September 30; reporting period for national accounts data: FY.'), ('TableName', 'Haiti'), ('', '')])\n",
      "OrderedDict([('п»ї\"Country Code\"', 'HUN'), ('Region', 'Europe & Central Asia'), ('IncomeGroup', 'High income'), ('SpecialNotes', ''), ('TableName', 'Hungary'), ('', '')])\n",
      "OrderedDict([('п»ї\"Country Code\"', 'IBD'), ('Region', ''), ('IncomeGroup', ''), ('SpecialNotes', 'IBRD only group aggregate.'), ('TableName', 'IBRD only'), ('', '')])\n",
      "OrderedDict([('п»ї\"Country Code\"', 'IBT'), ('Region', ''), ('IncomeGroup', ''), ('SpecialNotes', 'IDA and IBRD total group aggregate (includes IDA only, IDA blend, and IBRD only).'), ('TableName', 'IDA & IBRD total'), ('', '')])\n",
      "OrderedDict([('п»ї\"Country Code\"', 'IDA'), ('Region', ''), ('IncomeGroup', ''), ('SpecialNotes', 'IDA total group aggregate (includes IDA only and IDA blend).'), ('TableName', 'IDA total'), ('', '')])\n",
      "OrderedDict([('п»ї\"Country Code\"', 'IDB'), ('Region', ''), ('IncomeGroup', ''), ('SpecialNotes', 'IDA blend group aggregate.'), ('TableName', 'IDA blend'), ('', '')])\n",
      "OrderedDict([('п»ї\"Country Code\"', 'IDN'), ('Region', 'East Asia & Pacific'), ('IncomeGroup', 'Lower middle income'), ('SpecialNotes', 'Fiscal year end: March 31; reporting period for national accounts data: CY. Data for Indonesia include Timor-Leste through 1999 unless otherwise noted.'), ('TableName', 'Indonesia'), ('', '')])\n",
      "OrderedDict([('п»ї\"Country Code\"', 'IDX'), ('Region', ''), ('IncomeGroup', ''), ('SpecialNotes', 'IDA only group aggregate.'), ('TableName', 'IDA only'), ('', '')])\n",
      "OrderedDict([('п»ї\"Country Code\"', 'IMN'), ('Region', 'Europe & Central Asia'), ('IncomeGroup', 'High income'), ('SpecialNotes', ''), ('TableName', 'Isle of Man'), ('', '')])\n",
      "OrderedDict([('п»ї\"Country Code\"', 'IND'), ('Region', 'South Asia'), ('IncomeGroup', 'Lower middle income'), ('SpecialNotes', 'Fiscal year end: March 31; reporting period for national accounts data: FY.'), ('TableName', 'India'), ('', '')])\n",
      "OrderedDict([('п»ї\"Country Code\"', 'IRL'), ('Region', 'Europe & Central Asia'), ('IncomeGroup', 'High income'), ('SpecialNotes', 'A simple multiplier is used to convert the national currencies of EMU members to euros. The following irrevocable euro conversion rate was adopted by the EU Council on January 1, 1999: 1 euro = 0.787564 Irish pound. Please note that historical data before 1999 are not actual euros and are not comparable or suitable for aggregation across countries.'), ('TableName', 'Ireland'), ('', '')])\n",
      "OrderedDict([('п»ї\"Country Code\"', 'IRN'), ('Region', 'Middle East & North Africa'), ('IncomeGroup', 'Upper middle income'), ('SpecialNotes', 'Fiscal year end: March 20; reporting period for national accounts data: FY.'), ('TableName', 'Iran, Islamic Rep.'), ('', '')])\n",
      "OrderedDict([('п»ї\"Country Code\"', 'IRQ'), ('Region', 'Middle East & North Africa'), ('IncomeGroup', 'Upper middle income'), ('SpecialNotes', ''), ('TableName', 'Iraq'), ('', '')])\n",
      "OrderedDict([('п»ї\"Country Code\"', 'ISL'), ('Region', 'Europe & Central Asia'), ('IncomeGroup', 'High income'), ('SpecialNotes', ''), ('TableName', 'Iceland'), ('', '')])\n",
      "OrderedDict([('п»ї\"Country Code\"', 'ISR'), ('Region', 'Middle East & North Africa'), ('IncomeGroup', 'High income'), ('SpecialNotes', ''), ('TableName', 'Israel'), ('', '')])\n",
      "OrderedDict([('п»ї\"Country Code\"', 'ITA'), ('Region', 'Europe & Central Asia'), ('IncomeGroup', 'High income'), ('SpecialNotes', 'A simple multiplier is used to convert the national currencies of EMU members to euros. The following irrevocable euro conversion rate was adopted by the EU Council on January 1, 1999: 1 euro = 1936.27 Italian lira. Please note that historical data before 1999 are not actual euros and are not comparable or suitable for aggregation across countries.'), ('TableName', 'Italy'), ('', '')])\n",
      "OrderedDict([('п»ї\"Country Code\"', 'JAM'), ('Region', 'Latin America & Caribbean'), ('IncomeGroup', 'Upper middle income'), ('SpecialNotes', ''), ('TableName', 'Jamaica'), ('', '')])\n",
      "OrderedDict([('п»ї\"Country Code\"', 'JOR'), ('Region', 'Middle East & North Africa'), ('IncomeGroup', 'Upper middle income'), ('SpecialNotes', ''), ('TableName', 'Jordan'), ('', '')])\n",
      "OrderedDict([('п»ї\"Country Code\"', 'JPN'), ('Region', 'East Asia & Pacific'), ('IncomeGroup', 'High income'), ('SpecialNotes', 'Fiscal year end: March 31; reporting period for national accounts data: CY.'), ('TableName', 'Japan'), ('', '')])\n",
      "OrderedDict([('п»ї\"Country Code\"', 'KAZ'), ('Region', 'Europe & Central Asia'), ('IncomeGroup', 'Upper middle income'), ('SpecialNotes', ''), ('TableName', 'Kazakhstan'), ('', '')])\n",
      "OrderedDict([('п»ї\"Country Code\"', 'KEN'), ('Region', 'Sub-Saharan Africa'), ('IncomeGroup', 'Lower middle income'), ('SpecialNotes', 'Fiscal year end: June 30; reporting period for national accounts data: CY.'), ('TableName', 'Kenya'), ('', '')])\n",
      "OrderedDict([('п»ї\"Country Code\"', 'KGZ'), ('Region', 'Europe & Central Asia'), ('IncomeGroup', 'Lower middle income'), ('SpecialNotes', ''), ('TableName', 'Kyrgyz Republic'), ('', '')])\n",
      "OrderedDict([('п»ї\"Country Code\"', 'KHM'), ('Region', 'East Asia & Pacific'), ('IncomeGroup', 'Lower middle income'), ('SpecialNotes', ''), ('TableName', 'Cambodia'), ('', '')])\n",
      "OrderedDict([('п»ї\"Country Code\"', 'KIR'), ('Region', 'East Asia & Pacific'), ('IncomeGroup', 'Lower middle income'), ('SpecialNotes', ''), ('TableName', 'Kiribati'), ('', '')])\n",
      "OrderedDict([('п»ї\"Country Code\"', 'KNA'), ('Region', 'Latin America & Caribbean'), ('IncomeGroup', 'High income'), ('SpecialNotes', ''), ('TableName', 'St. Kitts and Nevis'), ('', '')])\n",
      "OrderedDict([('п»ї\"Country Code\"', 'KOR'), ('Region', 'East Asia & Pacific'), ('IncomeGroup', 'High income'), ('SpecialNotes', ''), ('TableName', 'Korea, Rep.'), ('', '')])\n",
      "OrderedDict([('п»ї\"Country Code\"', 'KWT'), ('Region', 'Middle East & North Africa'), ('IncomeGroup', 'High income'), ('SpecialNotes', ''), ('TableName', 'Kuwait'), ('', '')])\n",
      "OrderedDict([('п»ї\"Country Code\"', 'LAC'), ('Region', ''), ('IncomeGroup', ''), ('SpecialNotes', ''), ('TableName', 'Latin America & Caribbean (excluding high income)'), ('', '')])\n",
      "OrderedDict([('п»ї\"Country Code\"', 'LAO'), ('Region', 'East Asia & Pacific'), ('IncomeGroup', 'Lower middle income'), ('SpecialNotes', ''), ('TableName', 'Lao PDR'), ('', '')])\n",
      "OrderedDict([('п»ї\"Country Code\"', 'LBN'), ('Region', 'Middle East & North Africa'), ('IncomeGroup', 'Upper middle income'), ('SpecialNotes', ''), ('TableName', 'Lebanon'), ('', '')])\n",
      "OrderedDict([('п»ї\"Country Code\"', 'LBR'), ('Region', 'Sub-Saharan Africa'), ('IncomeGroup', 'Low income'), ('SpecialNotes', 'Pre-2000 data will be revised further for consistency and quality purpose.'), ('TableName', 'Liberia'), ('', '')])\n",
      "OrderedDict([('п»ї\"Country Code\"', 'LBY'), ('Region', 'Middle East & North Africa'), ('IncomeGroup', 'Upper middle income'), ('SpecialNotes', ''), ('TableName', 'Libya'), ('', '')])\n",
      "OrderedDict([('п»ї\"Country Code\"', 'LCA'), ('Region', 'Latin America & Caribbean'), ('IncomeGroup', 'Upper middle income'), ('SpecialNotes', ''), ('TableName', 'St. Lucia'), ('', '')])\n",
      "OrderedDict([('п»ї\"Country Code\"', 'LCN'), ('Region', ''), ('IncomeGroup', ''), ('SpecialNotes', ''), ('TableName', 'Latin America & Caribbean'), ('', '')])\n",
      "OrderedDict([('п»ї\"Country Code\"', 'LDC'), ('Region', ''), ('IncomeGroup', ''), ('SpecialNotes', ''), ('TableName', 'Least developed countries: UN classification'), ('', '')])\n",
      "OrderedDict([('п»ї\"Country Code\"', 'LIC'), ('Region', ''), ('IncomeGroup', ''), ('SpecialNotes', ''), ('TableName', 'Low income'), ('', '')])\n",
      "OrderedDict([('п»ї\"Country Code\"', 'LIE'), ('Region', 'Europe & Central Asia'), ('IncomeGroup', 'High income'), ('SpecialNotes', ''), ('TableName', 'Liechtenstein'), ('', '')])\n",
      "OrderedDict([('п»ї\"Country Code\"', 'LKA'), ('Region', 'South Asia'), ('IncomeGroup', 'Upper middle income'), ('SpecialNotes', ''), ('TableName', 'Sri Lanka'), ('', '')])\n",
      "OrderedDict([('п»ї\"Country Code\"', 'LMC'), ('Region', ''), ('IncomeGroup', ''), ('SpecialNotes', ''), ('TableName', 'Lower middle income'), ('', '')])\n",
      "OrderedDict([('п»ї\"Country Code\"', 'LMY'), ('Region', ''), ('IncomeGroup', ''), ('SpecialNotes', ''), ('TableName', 'Low & middle income'), ('', '')])\n",
      "OrderedDict([('п»ї\"Country Code\"', 'LSO'), ('Region', 'Sub-Saharan Africa'), ('IncomeGroup', 'Lower middle income'), ('SpecialNotes', 'Fiscal year end: March 31; reporting period for national accounts data: CY.'), ('TableName', 'Lesotho'), ('', '')])\n",
      "OrderedDict([('п»ї\"Country Code\"', 'LTE'), ('Region', ''), ('IncomeGroup', ''), ('SpecialNotes', ''), ('TableName', 'Late-demographic dividend'), ('', '')])\n",
      "OrderedDict([('п»ї\"Country Code\"', 'LTU'), ('Region', 'Europe & Central Asia'), ('IncomeGroup', 'High income'), ('SpecialNotes', 'A simple multiplier is used to convert the national currencies of EMU members to euros. The following irrevocable euro conversion rate entered into force on January 1, 2015: 1 euro = 3.45280 Lithuanian litas. Please note that historical data are not actual euros and are not comparable or suitable for aggregation across countries. Based on data from EUROSTAT, the new reference year is 2010.'), ('TableName', 'Lithuania'), ('', '')])\n",
      "OrderedDict([('п»ї\"Country Code\"', 'LUX'), ('Region', 'Europe & Central Asia'), ('IncomeGroup', 'High income'), ('SpecialNotes', 'A simple multiplier is used to convert the national currencies of EMU members to euros. The following irrevocable euro conversion rate was adopted by the EU Council on January 1, 1999: 1 euro = 40.3399 Luxembourg franc. Please note that historical data before 1999 are not actual euros and are not comparable or suitable for aggregation across countries.'), ('TableName', 'Luxembourg'), ('', '')])\n",
      "OrderedDict([('п»ї\"Country Code\"', 'LVA'), ('Region', 'Europe & Central Asia'), ('IncomeGroup', 'High income'), ('SpecialNotes', 'A simple multiplier is used to convert the national currencies of EMU members to euros. The following irrevocable euro conversion rate entered into force on January 1, 2014: 1 euro = 0.702804 Latvian lats. Please note that historical data are not actual euros and are not comparable or suitable for aggregation across countries. Based on data from EUROSTAT, the new reference year is 2010.'), ('TableName', 'Latvia'), ('', '')])\n",
      "OrderedDict([('п»ї\"Country Code\"', 'MAC'), ('Region', 'East Asia & Pacific'), ('IncomeGroup', 'High income'), ('SpecialNotes', 'On 20 December 1999 China resumed its exercise of sovereignty over Macao. Unless otherwise noted, data for China do not include data for Hong Kong SAR, China; Macao SAR, China; or Taiwan, China.'), ('TableName', 'Macao SAR, China'), ('', '')])\n",
      "OrderedDict([('п»ї\"Country Code\"', 'MAF'), ('Region', 'Latin America & Caribbean'), ('IncomeGroup', 'High income'), ('SpecialNotes', ''), ('TableName', 'St. Martin (French part)'), ('', '')])\n",
      "OrderedDict([('п»ї\"Country Code\"', 'MAR'), ('Region', 'Middle East & North Africa'), ('IncomeGroup', 'Lower middle income'), ('SpecialNotes', ''), ('TableName', 'Morocco'), ('', '')])\n",
      "OrderedDict([('п»ї\"Country Code\"', 'MCO'), ('Region', 'Europe & Central Asia'), ('IncomeGroup', 'High income'), ('SpecialNotes', ''), ('TableName', 'Monaco'), ('', '')])\n",
      "OrderedDict([('п»ї\"Country Code\"', 'MDA'), ('Region', 'Europe & Central Asia'), ('IncomeGroup', 'Lower middle income'), ('SpecialNotes', \"Excluding Transnistria. For 1950-94, World Bank estimates using UN World Population Prospects' growth rates of whole Moldova.\"), ('TableName', 'Moldova'), ('', '')])\n",
      "OrderedDict([('п»ї\"Country Code\"', 'MDG'), ('Region', 'Sub-Saharan Africa'), ('IncomeGroup', 'Low income'), ('SpecialNotes', ''), ('TableName', 'Madagascar'), ('', '')])\n",
      "OrderedDict([('п»ї\"Country Code\"', 'MDV'), ('Region', 'South Asia'), ('IncomeGroup', 'Upper middle income'), ('SpecialNotes', ''), ('TableName', 'Maldives'), ('', '')])\n",
      "OrderedDict([('п»ї\"Country Code\"', 'MEA'), ('Region', ''), ('IncomeGroup', ''), ('SpecialNotes', 'Middle East and North Africa regional aggregate (includes all income levels).'), ('TableName', 'Middle East & North Africa'), ('', '')])\n",
      "OrderedDict([('п»ї\"Country Code\"', 'MEX'), ('Region', 'Latin America & Caribbean'), ('IncomeGroup', 'Upper middle income'), ('SpecialNotes', ''), ('TableName', 'Mexico'), ('', '')])\n",
      "OrderedDict([('п»ї\"Country Code\"', 'MHL'), ('Region', 'East Asia & Pacific'), ('IncomeGroup', 'Upper middle income'), ('SpecialNotes', 'Fiscal year ends on September 30; reporting period for national accounts data: FY.'), ('TableName', 'Marshall Islands'), ('', '')])\n",
      "OrderedDict([('п»ї\"Country Code\"', 'MIC'), ('Region', ''), ('IncomeGroup', ''), ('SpecialNotes', 'Middle income group aggregate. Middle-income economies are those in which 2017 GNI per capita was between $996 and $12,055.'), ('TableName', 'Middle income'), ('', '')])\n",
      "OrderedDict([('п»ї\"Country Code\"', 'MKD'), ('Region', 'Europe & Central Asia'), ('IncomeGroup', 'Upper middle income'), ('SpecialNotes', ''), ('TableName', 'North Macedonia'), ('', '')])\n",
      "OrderedDict([('п»ї\"Country Code\"', 'MLI'), ('Region', 'Sub-Saharan Africa'), ('IncomeGroup', 'Low income'), ('SpecialNotes', ''), ('TableName', 'Mali'), ('', '')])\n",
      "OrderedDict([('п»ї\"Country Code\"', 'MLT'), ('Region', 'Middle East & North Africa'), ('IncomeGroup', 'High income'), ('SpecialNotes', 'A simple multiplier is used to convert the national currencies of EMU members to euros. The following irrevocable euro conversion rate entered into force on January 1, 2008: 1 euro = 0.4293 Maltese lira. Please note that historical data are not actual euros and are not comparable or suitable for aggregation across countries. National accounts data source from 1995 to 2015 is Eurostat; prior to 1995 is UN. The new reference year is 2010.'), ('TableName', 'Malta'), ('', '')])\n",
      "OrderedDict([('п»ї\"Country Code\"', 'MMR'), ('Region', 'East Asia & Pacific'), ('IncomeGroup', 'Lower middle income'), ('SpecialNotes', 'Fiscal year end: March 31; reporting period for national accounts data: FY.'), ('TableName', 'Myanmar'), ('', '')])\n",
      "OrderedDict([('п»ї\"Country Code\"', 'MNA'), ('Region', ''), ('IncomeGroup', ''), ('SpecialNotes', ''), ('TableName', 'Middle East & North Africa (excluding high income)'), ('', '')])\n",
      "OrderedDict([('п»ї\"Country Code\"', 'MNE'), ('Region', 'Europe & Central Asia'), ('IncomeGroup', 'Upper middle income'), ('SpecialNotes', 'Montenegro declared independence from Serbia and Montenegro on June 3, 2006. Where available, data for each country are shown separately. However, for Serbia, some indicators continue to include data for Montenegro through 2005.'), ('TableName', 'Montenegro'), ('', '')])\n",
      "OrderedDict([('п»ї\"Country Code\"', 'MNG'), ('Region', 'East Asia & Pacific'), ('IncomeGroup', 'Lower middle income'), ('SpecialNotes', ''), ('TableName', 'Mongolia'), ('', '')])\n",
      "OrderedDict([('п»ї\"Country Code\"', 'MNP'), ('Region', 'East Asia & Pacific'), ('IncomeGroup', 'High income'), ('SpecialNotes', ''), ('TableName', 'Northern Mariana Islands'), ('', '')])\n",
      "OrderedDict([('п»ї\"Country Code\"', 'MOZ'), ('Region', 'Sub-Saharan Africa'), ('IncomeGroup', 'Low income'), ('SpecialNotes', ''), ('TableName', 'Mozambique'), ('', '')])\n",
      "OrderedDict([('п»ї\"Country Code\"', 'MRT'), ('Region', 'Sub-Saharan Africa'), ('IncomeGroup', 'Lower middle income'), ('SpecialNotes', 'National account dataВ\\xa0were adjusted to reflect theВ\\xa0new banknote (1 new ouguiya = 10 old ouguiya)'), ('TableName', 'Mauritania'), ('', '')])\n",
      "OrderedDict([('п»ї\"Country Code\"', 'MUS'), ('Region', 'Sub-Saharan Africa'), ('IncomeGroup', 'Upper middle income'), ('SpecialNotes', ''), ('TableName', 'Mauritius'), ('', '')])\n",
      "OrderedDict([('п»ї\"Country Code\"', 'MWI'), ('Region', 'Sub-Saharan Africa'), ('IncomeGroup', 'Low income'), ('SpecialNotes', ''), ('TableName', 'Malawi'), ('', '')])\n",
      "OrderedDict([('п»ї\"Country Code\"', 'MYS'), ('Region', 'East Asia & Pacific'), ('IncomeGroup', 'Upper middle income'), ('SpecialNotes', ''), ('TableName', 'Malaysia'), ('', '')])\n",
      "OrderedDict([('п»ї\"Country Code\"', 'NAC'), ('Region', ''), ('IncomeGroup', ''), ('SpecialNotes', 'North America regional aggregate. There are no economies in North America classified as low or middle income.'), ('TableName', 'North America'), ('', '')])\n",
      "OrderedDict([('п»ї\"Country Code\"', 'NAM'), ('Region', 'Sub-Saharan Africa'), ('IncomeGroup', 'Upper middle income'), ('SpecialNotes', 'Fiscal year end: March 31; reporting period for national accounts data: CY.'), ('TableName', 'Namibia'), ('', '')])\n",
      "OrderedDict([('п»ї\"Country Code\"', 'NCL'), ('Region', 'East Asia & Pacific'), ('IncomeGroup', 'High income'), ('SpecialNotes', ''), ('TableName', 'New Caledonia'), ('', '')])\n",
      "OrderedDict([('п»ї\"Country Code\"', 'NER'), ('Region', 'Sub-Saharan Africa'), ('IncomeGroup', 'Low income'), ('SpecialNotes', ''), ('TableName', 'Niger'), ('', '')])\n",
      "OrderedDict([('п»ї\"Country Code\"', 'NGA'), ('Region', 'Sub-Saharan Africa'), ('IncomeGroup', 'Lower middle income'), ('SpecialNotes', ''), ('TableName', 'Nigeria'), ('', '')])\n",
      "OrderedDict([('п»ї\"Country Code\"', 'NIC'), ('Region', 'Latin America & Caribbean'), ('IncomeGroup', 'Lower middle income'), ('SpecialNotes', ''), ('TableName', 'Nicaragua'), ('', '')])\n",
      "OrderedDict([('п»ї\"Country Code\"', 'NLD'), ('Region', 'Europe & Central Asia'), ('IncomeGroup', 'High income'), ('SpecialNotes', 'A simple multiplier is used to convert the national currencies of EMU members to euros. The following irrevocable euro conversion rate was adopted by the EU Council on January 1, 1999: 1 euro = 2.20371 Netherlands guilder. Please note that historical data before 1999 are not actual euros and are not comparable or suitable for aggregation across countries.'), ('TableName', 'Netherlands'), ('', '')])\n",
      "OrderedDict([('п»ї\"Country Code\"', 'NOR'), ('Region', 'Europe & Central Asia'), ('IncomeGroup', 'High income'), ('SpecialNotes', ''), ('TableName', 'Norway'), ('', '')])\n",
      "OrderedDict([('п»ї\"Country Code\"', 'NPL'), ('Region', 'South Asia'), ('IncomeGroup', 'Low income'), ('SpecialNotes', 'Fiscal year end: July 14; reporting period for national accounts data: FY.'), ('TableName', 'Nepal'), ('', '')])\n",
      "OrderedDict([('п»ї\"Country Code\"', 'NRU'), ('Region', 'East Asia & Pacific'), ('IncomeGroup', 'Upper middle income'), ('SpecialNotes', 'Fiscal year end: June 30; reporting period for national accounts data: FY.'), ('TableName', 'Nauru'), ('', '')])\n",
      "OrderedDict([('п»ї\"Country Code\"', 'NZL'), ('Region', 'East Asia & Pacific'), ('IncomeGroup', 'High income'), ('SpecialNotes', 'Fiscal year end: March 31; reporting period for national accounts data: CY.'), ('TableName', 'New Zealand'), ('', '')])\n",
      "OrderedDict([('п»ї\"Country Code\"', 'OED'), ('Region', ''), ('IncomeGroup', ''), ('SpecialNotes', 'Aggregations include Lithuania.'), ('TableName', 'OECD members'), ('', '')])\n",
      "OrderedDict([('п»ї\"Country Code\"', 'OMN'), ('Region', 'Middle East & North Africa'), ('IncomeGroup', 'High income'), ('SpecialNotes', ''), ('TableName', 'Oman'), ('', '')])\n",
      "OrderedDict([('п»ї\"Country Code\"', 'OSS'), ('Region', ''), ('IncomeGroup', ''), ('SpecialNotes', ''), ('TableName', 'Other small states'), ('', '')])\n",
      "OrderedDict([('п»ї\"Country Code\"', 'PAK'), ('Region', 'South Asia'), ('IncomeGroup', 'Lower middle income'), ('SpecialNotes', 'Fiscal year end: June 30; reporting period for national accounts data: FY.'), ('TableName', 'Pakistan'), ('', '')])\n",
      "OrderedDict([('п»ї\"Country Code\"', 'PAN'), ('Region', 'Latin America & Caribbean'), ('IncomeGroup', 'High income'), ('SpecialNotes', ''), ('TableName', 'Panama'), ('', '')])\n",
      "OrderedDict([('п»ї\"Country Code\"', 'PER'), ('Region', 'Latin America & Caribbean'), ('IncomeGroup', 'Upper middle income'), ('SpecialNotes', ''), ('TableName', 'Peru'), ('', '')])\n",
      "OrderedDict([('п»ї\"Country Code\"', 'PHL'), ('Region', 'East Asia & Pacific'), ('IncomeGroup', 'Lower middle income'), ('SpecialNotes', ''), ('TableName', 'Philippines'), ('', '')])\n",
      "OrderedDict([('п»ї\"Country Code\"', 'PLW'), ('Region', 'East Asia & Pacific'), ('IncomeGroup', 'High income'), ('SpecialNotes', 'Fiscal year ends on September 30; reporting period for national accounts data: FY.'), ('TableName', 'Palau'), ('', '')])\n",
      "OrderedDict([('п»ї\"Country Code\"', 'PNG'), ('Region', 'East Asia & Pacific'), ('IncomeGroup', 'Lower middle income'), ('SpecialNotes', ''), ('TableName', 'Papua New Guinea'), ('', '')])\n",
      "OrderedDict([('п»ї\"Country Code\"', 'POL'), ('Region', 'Europe & Central Asia'), ('IncomeGroup', 'High income'), ('SpecialNotes', ''), ('TableName', 'Poland'), ('', '')])\n",
      "OrderedDict([('п»ї\"Country Code\"', 'PRE'), ('Region', ''), ('IncomeGroup', ''), ('SpecialNotes', 'Pre-dividend countries are mostly low-income countries, lagging in key human development indicators and with current fertility levels above four births per woman. They face very rapid population growth.'), ('TableName', 'Pre-demographic dividend'), ('', '')])\n",
      "OrderedDict([('п»ї\"Country Code\"', 'PRI'), ('Region', 'Latin America & Caribbean'), ('IncomeGroup', 'High income'), ('SpecialNotes', 'Fiscal year end: June 30; reporting period for national accounts data: FY.'), ('TableName', 'Puerto Rico'), ('', '')])\n",
      "OrderedDict([('п»ї\"Country Code\"', 'PRK'), ('Region', 'East Asia & Pacific'), ('IncomeGroup', 'Low income'), ('SpecialNotes', ''), ('TableName', \"Korea, Dem. People's Rep.\"), ('', '')])\n",
      "OrderedDict([('п»ї\"Country Code\"', 'PRT'), ('Region', 'Europe & Central Asia'), ('IncomeGroup', 'High income'), ('SpecialNotes', 'A simple multiplier is used to convert the national currencies of EMU members to euros. The following irrevocable euro conversion rate was adopted by the EU Council on January 1, 1999: 1 euro = 200.482 Portuguese escudo. Please note that historical data before 1999 are not actual euros and are not comparable or suitable for aggregation across countries.'), ('TableName', 'Portugal'), ('', '')])\n",
      "OrderedDict([('п»ї\"Country Code\"', 'PRY'), ('Region', 'Latin America & Caribbean'), ('IncomeGroup', 'Upper middle income'), ('SpecialNotes', ''), ('TableName', 'Paraguay'), ('', '')])\n",
      "OrderedDict([('п»ї\"Country Code\"', 'PSE'), ('Region', 'Middle East & North Africa'), ('IncomeGroup', 'Lower middle income'), ('SpecialNotes', ''), ('TableName', 'West Bank and Gaza'), ('', '')])\n",
      "OrderedDict([('п»ї\"Country Code\"', 'PSS'), ('Region', ''), ('IncomeGroup', ''), ('SpecialNotes', 'Pacific island small states aggregate.'), ('TableName', 'Pacific island small states'), ('', '')])\n",
      "OrderedDict([('п»ї\"Country Code\"', 'PST'), ('Region', ''), ('IncomeGroup', ''), ('SpecialNotes', 'Post-dividend countries are mostly high-income countries where fertility has transitioned below replacement levels.'), ('TableName', 'Post-demographic dividend'), ('', '')])\n",
      "OrderedDict([('п»ї\"Country Code\"', 'PYF'), ('Region', 'East Asia & Pacific'), ('IncomeGroup', 'High income'), ('SpecialNotes', ''), ('TableName', 'French Polynesia'), ('', '')])\n",
      "OrderedDict([('п»ї\"Country Code\"', 'QAT'), ('Region', 'Middle East & North Africa'), ('IncomeGroup', 'High income'), ('SpecialNotes', ''), ('TableName', 'Qatar'), ('', '')])\n",
      "OrderedDict([('п»ї\"Country Code\"', 'ROU'), ('Region', 'Europe & Central Asia'), ('IncomeGroup', 'Upper middle income'), ('SpecialNotes', ''), ('TableName', 'Romania'), ('', '')])\n",
      "OrderedDict([('п»ї\"Country Code\"', 'RUS'), ('Region', 'Europe & Central Asia'), ('IncomeGroup', 'Upper middle income'), ('SpecialNotes', ''), ('TableName', 'Russian Federation'), ('', '')])\n",
      "OrderedDict([('п»ї\"Country Code\"', 'RWA'), ('Region', 'Sub-Saharan Africa'), ('IncomeGroup', 'Low income'), ('SpecialNotes', ''), ('TableName', 'Rwanda'), ('', '')])\n",
      "OrderedDict([('п»ї\"Country Code\"', 'SAS'), ('Region', ''), ('IncomeGroup', ''), ('SpecialNotes', ''), ('TableName', 'South Asia'), ('', '')])\n",
      "OrderedDict([('п»ї\"Country Code\"', 'SAU'), ('Region', 'Middle East & North Africa'), ('IncomeGroup', 'High income'), ('SpecialNotes', ''), ('TableName', 'Saudi Arabia'), ('', '')])\n",
      "OrderedDict([('п»ї\"Country Code\"', 'SDN'), ('Region', 'Sub-Saharan Africa'), ('IncomeGroup', 'Lower middle income'), ('SpecialNotes', ''), ('TableName', 'Sudan'), ('', '')])\n",
      "OrderedDict([('п»ї\"Country Code\"', 'SEN'), ('Region', 'Sub-Saharan Africa'), ('IncomeGroup', 'Lower middle income'), ('SpecialNotes', ''), ('TableName', 'Senegal'), ('', '')])\n",
      "OrderedDict([('п»ї\"Country Code\"', 'SGP'), ('Region', 'East Asia & Pacific'), ('IncomeGroup', 'High income'), ('SpecialNotes', 'Fiscal year end: March 31; reporting period for national accounts data: CY.'), ('TableName', 'Singapore'), ('', '')])\n",
      "OrderedDict([('п»ї\"Country Code\"', 'SLB'), ('Region', 'East Asia & Pacific'), ('IncomeGroup', 'Lower middle income'), ('SpecialNotes', ''), ('TableName', 'Solomon Islands'), ('', '')])\n",
      "OrderedDict([('п»ї\"Country Code\"', 'SLE'), ('Region', 'Sub-Saharan Africa'), ('IncomeGroup', 'Low income'), ('SpecialNotes', ''), ('TableName', 'Sierra Leone'), ('', '')])\n",
      "OrderedDict([('п»ї\"Country Code\"', 'SLV'), ('Region', 'Latin America & Caribbean'), ('IncomeGroup', 'Lower middle income'), ('SpecialNotes', ''), ('TableName', 'El Salvador'), ('', '')])\n",
      "OrderedDict([('п»ї\"Country Code\"', 'SMR'), ('Region', 'Europe & Central Asia'), ('IncomeGroup', 'High income'), ('SpecialNotes', ''), ('TableName', 'San Marino'), ('', '')])\n",
      "OrderedDict([('п»ї\"Country Code\"', 'SOM'), ('Region', 'Sub-Saharan Africa'), ('IncomeGroup', 'Low income'), ('SpecialNotes', ''), ('TableName', 'Somalia'), ('', '')])\n",
      "OrderedDict([('п»ї\"Country Code\"', 'SRB'), ('Region', 'Europe & Central Asia'), ('IncomeGroup', 'Upper middle income'), ('SpecialNotes', 'Montenegro declared independence from Serbia and Montenegro on June 3, 2006. Where available, data for each country are shown separately. However, for Serbia, some indicators, such as those series for which data appear only for Serbia and not Montenegro--e.g., aid, environment, external debt, balance of payments, various social indicators excluding population--continue to include data for Montenegro through 2005. Moreover, data from 1999 onward for Serbia for most indicators exclude data for Kosovo, 1999 being the year when Kosovo became a territory under international administration pursuant to UN Security Council Resolution 1244 (1999); any exceptions are noted. Kosovo became a World Bank member on June 29, 2009; available data are shown separately for Kosovo. In 2011, the Statistical Office of Serbia improved the methodology of national accounts data for 2003 onward. Specifically, the classification of sectors was revised.'), ('TableName', 'Serbia'), ('', '')])\n",
      "OrderedDict([('п»ї\"Country Code\"', 'SSA'), ('Region', ''), ('IncomeGroup', ''), ('SpecialNotes', 'Sub-Saharan Africa regional aggregate (does not include high-income economies).'), ('TableName', 'Sub-Saharan Africa (excluding high income)'), ('', '')])\n",
      "OrderedDict([('п»ї\"Country Code\"', 'SSD'), ('Region', 'Sub-Saharan Africa'), ('IncomeGroup', 'Low income'), ('SpecialNotes', ''), ('TableName', 'South Sudan'), ('', '')])\n",
      "OrderedDict([('п»ї\"Country Code\"', 'SSF'), ('Region', ''), ('IncomeGroup', ''), ('SpecialNotes', 'Sub-Saharan Africa regional aggregate (includes all income levels).'), ('TableName', 'Sub-Saharan Africa'), ('', '')])\n",
      "OrderedDict([('п»ї\"Country Code\"', 'SST'), ('Region', ''), ('IncomeGroup', ''), ('SpecialNotes', 'Small states aggregate. Includes 41 members of the Small States Forum.'), ('TableName', 'Small states'), ('', '')])\n",
      "OrderedDict([('п»ї\"Country Code\"', 'STP'), ('Region', 'Sub-Saharan Africa'), ('IncomeGroup', 'Lower middle income'), ('SpecialNotes', 'National account dataВ\\xa0were adjusted to reflect theВ\\xa0new banknote (1 new Dobra STN = 1000 old Dobra STD)'), ('TableName', 'SГЈo TomГ© and Principe'), ('', '')])\n",
      "OrderedDict([('п»ї\"Country Code\"', 'SUR'), ('Region', 'Latin America & Caribbean'), ('IncomeGroup', 'Upper middle income'), ('SpecialNotes', ''), ('TableName', 'Suriname'), ('', '')])\n",
      "OrderedDict([('п»ї\"Country Code\"', 'SVK'), ('Region', 'Europe & Central Asia'), ('IncomeGroup', 'High income'), ('SpecialNotes', 'A simple multiplier is used to convert the national currencies of EMU members to euros. The following irrevocable euro conversion rate entered into force on January 1, 2009: 1 euro = 30.126 Slovak koruna. Please note that historical data are not actual euros and are not comparable or suitable for aggregation across countries.'), ('TableName', 'Slovak Republic'), ('', '')])\n",
      "OrderedDict([('п»ї\"Country Code\"', 'SVN'), ('Region', 'Europe & Central Asia'), ('IncomeGroup', 'High income'), ('SpecialNotes', 'A simple multiplier is used to convert the national currencies of EMU members to euros. The following irrevocable euro conversion rate entered into force on January 1, 2007: 1 euro = 239.64 Slovenian tolar. Please note that historical data are not actual euros and are not comparable or suitable for aggregation across countries.'), ('TableName', 'Slovenia'), ('', '')])\n",
      "OrderedDict([('п»ї\"Country Code\"', 'SWE'), ('Region', 'Europe & Central Asia'), ('IncomeGroup', 'High income'), ('SpecialNotes', 'Fiscal year end: June 30; reporting period for national accounts data: CY.'), ('TableName', 'Sweden'), ('', '')])\n",
      "OrderedDict([('п»ї\"Country Code\"', 'SWZ'), ('Region', 'Sub-Saharan Africa'), ('IncomeGroup', 'Lower middle income'), ('SpecialNotes', 'Fiscal year end: March 31; reporting period for national accounts data: CY. Authorities revised national accounts from 1999 to 2015.'), ('TableName', 'Eswatini'), ('', '')])\n",
      "OrderedDict([('п»ї\"Country Code\"', 'SXM'), ('Region', 'Latin America & Caribbean'), ('IncomeGroup', 'High income'), ('SpecialNotes', ''), ('TableName', 'Sint Maarten (Dutch part)'), ('', '')])\n",
      "OrderedDict([('п»ї\"Country Code\"', 'SYC'), ('Region', 'Sub-Saharan Africa'), ('IncomeGroup', 'High income'), ('SpecialNotes', ''), ('TableName', 'Seychelles'), ('', '')])\n",
      "OrderedDict([('п»ї\"Country Code\"', 'SYR'), ('Region', 'Middle East & North Africa'), ('IncomeGroup', 'Low income'), ('SpecialNotes', ''), ('TableName', 'Syrian Arab Republic'), ('', '')])\n",
      "OrderedDict([('п»ї\"Country Code\"', 'TCA'), ('Region', 'Latin America & Caribbean'), ('IncomeGroup', 'High income'), ('SpecialNotes', ''), ('TableName', 'Turks and Caicos Islands'), ('', '')])\n",
      "OrderedDict([('п»ї\"Country Code\"', 'TCD'), ('Region', 'Sub-Saharan Africa'), ('IncomeGroup', 'Low income'), ('SpecialNotes', ''), ('TableName', 'Chad'), ('', '')])\n",
      "OrderedDict([('п»ї\"Country Code\"', 'TEA'), ('Region', ''), ('IncomeGroup', ''), ('SpecialNotes', 'East Asia & Pacific (IDA & IBRD countries) aggregate.'), ('TableName', 'East Asia & Pacific (IDA & IBRD)'), ('', '')])\n",
      "OrderedDict([('п»ї\"Country Code\"', 'TEC'), ('Region', ''), ('IncomeGroup', ''), ('SpecialNotes', 'Europe & Central Asia (IDA & IBRD countries) aggregate.'), ('TableName', 'Europe & Central Asia (IDA & IBRD)'), ('', '')])\n",
      "OrderedDict([('п»ї\"Country Code\"', 'TGO'), ('Region', 'Sub-Saharan Africa'), ('IncomeGroup', 'Low income'), ('SpecialNotes', ''), ('TableName', 'Togo'), ('', '')])\n",
      "OrderedDict([('п»ї\"Country Code\"', 'THA'), ('Region', 'East Asia & Pacific'), ('IncomeGroup', 'Upper middle income'), ('SpecialNotes', 'Fiscal year end: September 30; reporting period for national accounts data: CY.'), ('TableName', 'Thailand'), ('', '')])\n",
      "OrderedDict([('п»ї\"Country Code\"', 'TJK'), ('Region', 'Europe & Central Asia'), ('IncomeGroup', 'Low income'), ('SpecialNotes', ''), ('TableName', 'Tajikistan'), ('', '')])\n",
      "OrderedDict([('п»ї\"Country Code\"', 'TKM'), ('Region', 'Europe & Central Asia'), ('IncomeGroup', 'Upper middle income'), ('SpecialNotes', ''), ('TableName', 'Turkmenistan'), ('', '')])\n",
      "OrderedDict([('п»ї\"Country Code\"', 'TLA'), ('Region', ''), ('IncomeGroup', ''), ('SpecialNotes', 'Latin America & the Caribbean (IDA & IBRD countries) aggregate.'), ('TableName', 'Latin America & Caribbean (IDA & IBRD)'), ('', '')])\n",
      "OrderedDict([('п»ї\"Country Code\"', 'TLS'), ('Region', 'East Asia & Pacific'), ('IncomeGroup', 'Lower middle income'), ('SpecialNotes', ''), ('TableName', 'Timor-Leste'), ('', '')])\n",
      "OrderedDict([('п»ї\"Country Code\"', 'TMN'), ('Region', ''), ('IncomeGroup', ''), ('SpecialNotes', 'Middle East & North Africa (IDA & IBRD countries) aggregate.'), ('TableName', 'Middle East & North Africa (IDA & IBRD)'), ('', '')])\n",
      "OrderedDict([('п»ї\"Country Code\"', 'TON'), ('Region', 'East Asia & Pacific'), ('IncomeGroup', 'Upper middle income'), ('SpecialNotes', ''), ('TableName', 'Tonga'), ('', '')])\n",
      "OrderedDict([('п»ї\"Country Code\"', 'TSA'), ('Region', ''), ('IncomeGroup', ''), ('SpecialNotes', 'South Asia (IDA & IBRD countries) aggregate.'), ('TableName', 'South Asia (IDA & IBRD)'), ('', '')])\n",
      "OrderedDict([('п»ї\"Country Code\"', 'TSS'), ('Region', ''), ('IncomeGroup', ''), ('SpecialNotes', 'Sub-Saharan Africa (IDA & IBRD countries) aggregate.'), ('TableName', 'Sub-Saharan Africa (IDA & IBRD)'), ('', '')])\n",
      "OrderedDict([('п»ї\"Country Code\"', 'TTO'), ('Region', 'Latin America & Caribbean'), ('IncomeGroup', 'High income'), ('SpecialNotes', ''), ('TableName', 'Trinidad and Tobago'), ('', '')])\n",
      "OrderedDict([('п»ї\"Country Code\"', 'TUN'), ('Region', 'Middle East & North Africa'), ('IncomeGroup', 'Lower middle income'), ('SpecialNotes', ''), ('TableName', 'Tunisia'), ('', '')])\n",
      "OrderedDict([('п»ї\"Country Code\"', 'TUR'), ('Region', 'Europe & Central Asia'), ('IncomeGroup', 'Upper middle income'), ('SpecialNotes', ''), ('TableName', 'Turkey'), ('', '')])\n",
      "OrderedDict([('п»ї\"Country Code\"', 'TUV'), ('Region', 'East Asia & Pacific'), ('IncomeGroup', 'Upper middle income'), ('SpecialNotes', ''), ('TableName', 'Tuvalu'), ('', '')])\n",
      "OrderedDict([('п»ї\"Country Code\"', 'TZA'), ('Region', 'Sub-Saharan Africa'), ('IncomeGroup', 'Low income'), ('SpecialNotes', ''), ('TableName', 'Tanzania'), ('', '')])\n",
      "OrderedDict([('п»ї\"Country Code\"', 'UGA'), ('Region', 'Sub-Saharan Africa'), ('IncomeGroup', 'Low income'), ('SpecialNotes', 'Fiscal year end: June 30; reporting period for national accounts data: FY.'), ('TableName', 'Uganda'), ('', '')])\n",
      "OrderedDict([('п»ї\"Country Code\"', 'UKR'), ('Region', 'Europe & Central Asia'), ('IncomeGroup', 'Lower middle income'), ('SpecialNotes', ''), ('TableName', 'Ukraine'), ('', '')])\n",
      "OrderedDict([('п»ї\"Country Code\"', 'UMC'), ('Region', ''), ('IncomeGroup', ''), ('SpecialNotes', 'Upper middle income group aggregate. Upper-middle-income economies are those in which 2017 GNI per capita was between $3,896 and $12,055.'), ('TableName', 'Upper middle income'), ('', '')])\n",
      "OrderedDict([('п»ї\"Country Code\"', 'URY'), ('Region', 'Latin America & Caribbean'), ('IncomeGroup', 'High income'), ('SpecialNotes', ''), ('TableName', 'Uruguay'), ('', '')])\n",
      "OrderedDict([('п»ї\"Country Code\"', 'USA'), ('Region', 'North America'), ('IncomeGroup', 'High income'), ('SpecialNotes', ''), ('TableName', 'United States'), ('', '')])\n",
      "OrderedDict([('п»ї\"Country Code\"', 'UZB'), ('Region', 'Europe & Central Asia'), ('IncomeGroup', 'Lower middle income'), ('SpecialNotes', ''), ('TableName', 'Uzbekistan'), ('', '')])\n",
      "OrderedDict([('п»ї\"Country Code\"', 'VCT'), ('Region', 'Latin America & Caribbean'), ('IncomeGroup', 'Upper middle income'), ('SpecialNotes', ''), ('TableName', 'St. Vincent and the Grenadines'), ('', '')])\n",
      "OrderedDict([('п»ї\"Country Code\"', 'VEN'), ('Region', 'Latin America & Caribbean'), ('IncomeGroup', 'Upper middle income'), ('SpecialNotes', ''), ('TableName', 'Venezuela, RB'), ('', '')])\n",
      "OrderedDict([('п»ї\"Country Code\"', 'VGB'), ('Region', 'Latin America & Caribbean'), ('IncomeGroup', 'High income'), ('SpecialNotes', ''), ('TableName', 'British Virgin Islands'), ('', '')])\n",
      "OrderedDict([('п»ї\"Country Code\"', 'VIR'), ('Region', 'Latin America & Caribbean'), ('IncomeGroup', 'High income'), ('SpecialNotes', ''), ('TableName', 'Virgin Islands (U.S.)'), ('', '')])\n",
      "OrderedDict([('п»ї\"Country Code\"', 'VNM'), ('Region', 'East Asia & Pacific'), ('IncomeGroup', 'Lower middle income'), ('SpecialNotes', ''), ('TableName', 'Vietnam'), ('', '')])\n",
      "OrderedDict([('п»ї\"Country Code\"', 'VUT'), ('Region', 'East Asia & Pacific'), ('IncomeGroup', 'Lower middle income'), ('SpecialNotes', ''), ('TableName', 'Vanuatu'), ('', '')])\n",
      "OrderedDict([('п»ї\"Country Code\"', 'WLD'), ('Region', ''), ('IncomeGroup', ''), ('SpecialNotes', 'World aggregate.'), ('TableName', 'World'), ('', '')])\n",
      "OrderedDict([('п»ї\"Country Code\"', 'WSM'), ('Region', 'East Asia & Pacific'), ('IncomeGroup', 'Upper middle income'), ('SpecialNotes', 'Fiscal year ends on June 30; reporting period for national accounts data: FY.'), ('TableName', 'Samoa'), ('', '')])\n",
      "OrderedDict([('п»ї\"Country Code\"', 'XKX'), ('Region', 'Europe & Central Asia'), ('IncomeGroup', 'Upper middle income'), ('SpecialNotes', ''), ('TableName', 'Kosovo'), ('', '')])\n",
      "OrderedDict([('п»ї\"Country Code\"', 'YEM'), ('Region', 'Middle East & North Africa'), ('IncomeGroup', 'Low income'), ('SpecialNotes', ''), ('TableName', 'Yemen, Rep.'), ('', '')])\n",
      "OrderedDict([('п»ї\"Country Code\"', 'ZAF'), ('Region', 'Sub-Saharan Africa'), ('IncomeGroup', 'Upper middle income'), ('SpecialNotes', 'Fiscal year end: March 31; reporting period for national accounts data: CY.'), ('TableName', 'South Africa'), ('', '')])\n",
      "OrderedDict([('п»ї\"Country Code\"', 'ZMB'), ('Region', 'Sub-Saharan Africa'), ('IncomeGroup', 'Lower middle income'), ('SpecialNotes', 'National accounts data were rebased to reflect the January 1, 2013, introduction of the new Zambian kwacha at a rate of 1,000 old kwacha = 1 new kwacha.'), ('TableName', 'Zambia'), ('', '')])\n",
      "OrderedDict([('п»ї\"Country Code\"', 'ZWE'), ('Region', 'Sub-Saharan Africa'), ('IncomeGroup', 'Lower middle income'), ('SpecialNotes', ''), ('TableName', 'Zimbabwe'), ('', '')])\n"
     ]
    }
   ],
   "source": [
    "for row in reader:\n",
    "    print(row)"
   ]
  },
  {
   "cell_type": "code",
   "execution_count": 14,
   "metadata": {},
   "outputs": [
    {
     "name": "stdout",
     "output_type": "stream",
     "text": [
      "0 1\n",
      "1 2\n",
      "2 7\n",
      "3 19\n"
     ]
    }
   ],
   "source": [
    "sequence = [1, 2, 7, 19]\n",
    "\n",
    "# Сравните:\n",
    "idx = 0\n",
    "\n",
    "for idx, item in enumerate(sequence):\n",
    "    print(idx, item)       "
   ]
  },
  {
   "cell_type": "code",
   "execution_count": 52,
   "metadata": {},
   "outputs": [
    {
     "name": "stdout",
     "output_type": "stream",
     "text": [
      "пдинк\n"
     ]
    }
   ],
   "source": [
    "# word = \"подшипник\"\n",
    "# secret_word = []\n",
    "\n",
    "# for id, letter in enumerate(word):\n",
    "#     if id % 2 != 0:\n",
    "#         secret_word.append(letter)\n",
    "# print(secret_word)  \n",
    "\n",
    "word = \"подшипник\"\n",
    "\n",
    "print(word[::2])\n"
   ]
  },
  {
   "cell_type": "code",
   "execution_count": 53,
   "metadata": {},
   "outputs": [
    {
     "name": "stdout",
     "output_type": "stream",
     "text": [
      "п\n",
      "д\n",
      "и\n",
      "н\n",
      "к\n"
     ]
    }
   ],
   "source": [
    "word = 'подшипник'\n",
    "for i, item in enumerate(word):\n",
    "    if i%2==0:\n",
    "        print(item)"
   ]
  },
  {
   "cell_type": "code",
   "execution_count": 51,
   "metadata": {},
   "outputs": [
    {
     "name": "stdout",
     "output_type": "stream",
     "text": [
      "0 год невисокосный\n",
      "1 год невисокосный\n",
      "2 год невисокосный\n",
      "3 год високосный\n",
      "4 год невисокосный\n",
      "5 год невисокосный\n",
      "6 год невисокосный\n",
      "7 год високосный\n"
     ]
    }
   ],
   "source": [
    "year_1 = 2013\n",
    "year_2 = 2020\n",
    "\n",
    "for id, year in enumerate(range(year_1, year_2 + 1)):\n",
    "    if year % 4 == 0:\n",
    "        print(str(id) + ' год високосный')\n",
    "    else:\n",
    "        print(str(id) + ' год невисокосный')"
   ]
  },
  {
   "cell_type": "code",
   "execution_count": 56,
   "metadata": {},
   "outputs": [
    {
     "name": "stdout",
     "output_type": "stream",
     "text": [
      "и\n",
      "у\n",
      "а\n",
      "и\n",
      "а\n"
     ]
    }
   ],
   "source": [
    "russian_vowels = ['а', 'у', 'о', 'ы', 'и', 'э', 'я', 'ю', 'ё', 'е'] # Список глассных русского языка\n",
    "word = 'Зимушка-зима' # базовое слово\n",
    "\n",
    "for i in word:\n",
    "    for j in russian_vowels:\n",
    "        if i == j:\n",
    "            print(i)\n",
    "\n"
   ]
  },
  {
   "cell_type": "code",
   "execution_count": 77,
   "metadata": {},
   "outputs": [
    {
     "name": "stdout",
     "output_type": "stream",
     "text": [
      "Буква 1 в этом имени - С\n",
      "Буква 2 в этом имени - е\n",
      "Буква 3 в этом имени - р\n",
      "Буква 4 в этом имени - г\n",
      "Буква 5 в этом имени - е\n",
      "Буква 6 в этом имени - й\n"
     ]
    }
   ],
   "source": [
    "name = 'Сергей'\n",
    "\n",
    "for id, l in enumerate(name):\n",
    "    print('Буква ' + str(id+1) + ' в этом имени - ' + str(l))"
   ]
  },
  {
   "cell_type": "code",
   "execution_count": 79,
   "metadata": {},
   "outputs": [
    {
     "name": "stdout",
     "output_type": "stream",
     "text": [
      "25\n",
      "27\n",
      "33\n",
      "35\n",
      "39\n",
      "45\n"
     ]
    }
   ],
   "source": [
    "num_1 = 25\n",
    "num_2 = 45\n",
    "\n",
    "if num_2 < num_1 or num_1 < 0:\n",
    "    print('Введён неверный диапазон чисел')\n",
    "else:\n",
    "    for i in range(num_1, num_2 + 1):\n",
    "        if i % 2 != 0:\n",
    "            if i % 3 == 0 or i % 5 == 0:\n",
    "                print(i)"
   ]
  },
  {
   "cell_type": "code",
   "execution_count": 81,
   "metadata": {},
   "outputs": [
    {
     "name": "stdout",
     "output_type": "stream",
     "text": [
      "5\n",
      "Факториал числа 5 равен 120\n"
     ]
    }
   ],
   "source": [
    "number = int(input())\n",
    "\n",
    "factorial = 1\n",
    "for i in range(1, number + 1):\n",
    "    factorial = factorial*i \n",
    "else:\n",
    "    print('Факториал числа', number, 'равен', factorial)"
   ]
  },
  {
   "cell_type": "code",
   "execution_count": 82,
   "metadata": {},
   "outputs": [
    {
     "name": "stdout",
     "output_type": "stream",
     "text": [
      "1 1 1\n",
      "2 4 8\n",
      "3 9 27\n",
      "4 16 64\n",
      "5 25 125\n",
      "6 36 216\n",
      "7 49 343\n",
      "8 64 512\n",
      "9 81 729\n",
      "10 100 1000\n"
     ]
    }
   ],
   "source": [
    "for i in range(1, 11):\n",
    "    print(i, i*i, i**3)"
   ]
  },
  {
   "cell_type": "code",
   "execution_count": 83,
   "metadata": {},
   "outputs": [
    {
     "name": "stdout",
     "output_type": "stream",
     "text": [
      "1\n",
      "2\n",
      "3\n",
      "4\n",
      "6\n",
      "7\n",
      "12\n",
      "14\n",
      "21\n",
      "28\n",
      "42\n",
      "84\n"
     ]
    }
   ],
   "source": [
    "number = 84\n",
    "\n",
    "for i in range(1, number + 1):\n",
    "    if number % i == 0:\n",
    "        print(i)"
   ]
  },
  {
   "cell_type": "code",
   "execution_count": 116,
   "metadata": {},
   "outputs": [
    {
     "name": "stdout",
     "output_type": "stream",
     "text": [
      "2\n"
     ]
    }
   ],
   "source": [
    "num_1 = 12\n",
    "num_2 = 38\n",
    "\n",
    "denominator_num_1 = []\n",
    "denominator_num_2 = []\n",
    "\n",
    "for i in range(1, num_1 + 1):\n",
    "    if num_1 % i == 0:\n",
    "        if i > 1:\n",
    "            denominator_num_1.append(i)\n",
    "\n",
    "for j in range(1, num_2 + 1):       \n",
    "    if num_2 % j == 0:\n",
    "        if j > 1:\n",
    "            denominator_num_2.append(j)\n",
    "            \n",
    "common_dividers_num = list(set(denominator_num_1) & set(denominator_num_2))\n",
    "\n",
    "for a in common_dividers_num:\n",
    "    print(a)"
   ]
  },
  {
   "cell_type": "code",
   "execution_count": 122,
   "metadata": {},
   "outputs": [
    {
     "name": "stdout",
     "output_type": "stream",
     "text": [
      "55\n"
     ]
    }
   ],
   "source": [
    "\"\"\"\n",
    "Написать программу, которая на вход получает натуральное число n\n",
    "и выводит n-е число ряда Фибоначчи на экран. Для проверки используйте n = 10\n",
    "\n",
    "Последовательность Фибоначчи — это ряд чисел, в котором первые два элемента равны 1,\n",
    "а каждый следующий элемент равен сумме двух предыдущих: 1, 1, 2, 3, 5, 8, 13, 21, ...\n",
    "\"\"\"\n",
    "\n",
    "n = 10\n",
    "\n",
    "fabonacci_list = [1, 1]\n",
    "\n",
    "for i in range(3, n + 1):\n",
    "    fabonacci_list.append(fabonacci_list[-1] + fabonacci_list[-2])\n",
    "\n",
    "print(fabonacci_list[-1])"
   ]
  },
  {
   "cell_type": "code",
   "execution_count": 126,
   "metadata": {},
   "outputs": [
    {
     "name": "stdout",
     "output_type": "stream",
     "text": [
      "15 x 1 = 15\n",
      "15 x 2 = 30\n",
      "15 x 3 = 45\n",
      "15 x 4 = 60\n",
      "15 x 5 = 75\n",
      "15 x 6 = 90\n",
      "15 x 7 = 105\n",
      "15 x 8 = 120\n",
      "15 x 9 = 135\n",
      "15 x 10 = 150\n"
     ]
    }
   ],
   "source": [
    "\"\"\"\n",
    "Напишите программу, которая выводит таблицу умножения от 1 до 10 для выбранного целого числа (number).\n",
    "Если number = 15, то строка таблицы имеет вид \"15 X 3 = 45\".\n",
    "\n",
    "Для проверки используйте number = 15\n",
    "\"\"\"\n",
    "\n",
    "number = 15\n",
    "\n",
    "for i in range(1, 11):\n",
    "    print(number, 'x', i, '=', number*i)"
   ]
  },
  {
   "cell_type": "code",
   "execution_count": 131,
   "metadata": {},
   "outputs": [
    {
     "name": "stdout",
     "output_type": "stream",
     "text": [
      "4\n"
     ]
    }
   ],
   "source": [
    "\"\"\"\n",
    "Напишите программу, которая ищет наибольший (не равный 1) общий делитель двух чисел, введённых пользователем (num_1, num_2),\n",
    "и выводит его на экран. Если общих делителей нет, выводит на экран \"Общих делителей не найдено\".\n",
    "\n",
    "Для проверки используйте num_1 = 1812, num_2 = 2500 и не меняйте их в ходе решения.\n",
    "\n",
    "PS: Если использовать break в цикле for - else, то при прерывании цикла код после else выполняться не будет.\n",
    "\"\"\"\n",
    "num_1 = 1812\n",
    "num_2 = 2500\n",
    "\n",
    "denominator_num_1 = []\n",
    "denominator_num_2 = []\n",
    "\n",
    "for i in range(1, num_1 + 1):\n",
    "    if num_1 % i == 0:\n",
    "        if i > 1:\n",
    "            denominator_num_1.append(i)\n",
    "\n",
    "for j in range(1, num_2 + 1):       \n",
    "    if num_2 % j == 0:\n",
    "        if j > 1:\n",
    "            denominator_num_2.append(j)\n",
    "            \n",
    "common_dividers_num = list(set(denominator_num_1) & set(denominator_num_2))\n",
    "\n",
    "if not common_dividers_num:\n",
    "    print('Общих делителей не найдено')\n",
    "else:\n",
    "    print(max(common_dividers_num))\n"
   ]
  },
  {
   "cell_type": "code",
   "execution_count": 136,
   "metadata": {},
   "outputs": [
    {
     "name": "stdout",
     "output_type": "stream",
     "text": [
      "[1, 4, 9, 16, 25]\n"
     ]
    }
   ],
   "source": [
    "# Python: советы, уловки, хаки со списками (часть 1) https://habr.com/ru/post/85238/\n",
    "# Python: советы, уловки, хаки со списками (часть 2) https://habr.com/ru/post/85459/\n",
    "# Python: советы, уловки, хаки со списками (часть 3) https://habr.com/ru/post/86706/\n",
    "# Python: советы, уловки, хаки со списками (часть 4) https://habr.com/ru/post/95721/\n",
    "\n",
    "numbers = [1,2,3,4,5]\n",
    "squares = [number*number for number in numbers]\n",
    "print(squares)"
   ]
  },
  {
   "cell_type": "code",
   "execution_count": 137,
   "metadata": {},
   "outputs": [
    {
     "name": "stdout",
     "output_type": "stream",
     "text": [
      "стркция"
     ]
    }
   ],
   "source": [
    "\"\"\"\n",
    "Напишите программу с использованием оператора continue, которая принимает на вход строку (string), после чего выводит её посимвольно,\n",
    "но без букв \"а\", \"б\", \"в\". Пример: ввод \"арбуз\", вывод \"руз\".\n",
    "\n",
    "Для проверки используйте string = 'абстракция'\n",
    "PS: Чтобы выводить побуквенно в одну строчку, в функции print предусмотрен параметр end.\n",
    "Если написать print('Hallo!', end=''), следующий print продолжит вывод не с новой строки.\n",
    "\"\"\"\n",
    "\n",
    "string = 'абстракция'\n",
    "\n",
    "for l in string:\n",
    "    if l == 'а' or l == 'б' or l == 'в':\n",
    "        continue\n",
    "    print(l, end='')\n"
   ]
  },
  {
   "cell_type": "code",
   "execution_count": 139,
   "metadata": {},
   "outputs": [
    {
     "name": "stdout",
     "output_type": "stream",
     "text": [
      "Увы, это неправильный ответ\n",
      "Увы, это неправильный ответ\n",
      "Увы, это неправильный ответ\n",
      "Увы, это неправильный ответ\n",
      "Увы, это неправильный ответ\n",
      "Это безнадёжно!\n"
     ]
    }
   ],
   "source": [
    "\"\"\"\n",
    "Напишите программу, которая анализирует ответы пользователя на вопрос \"Любите ли вы Python?\".\n",
    "Если ответ пользователя (string) — \"Да\", то программа отвечает: \"Это отлично!\", иначе программа отвечает:\n",
    "\"Увы, это неправильный ответ\". Программа должна \"спросить\" пользователя максимум 5 раз. При пяти ответах \"Нет\" выводит:\n",
    "\"Это безнадёжно!\".\n",
    "\n",
    "Для проверки используйте string = 'Нет', а на каждой итерации цикла не меняйте значение переменной.\n",
    "\n",
    "Команду, выводящую на экран вопрос: \"Любите ли вы Python?\", в код включать НЕ нужно.\n",
    "\"\"\"\n",
    "\n",
    "string = 'Нет'\n",
    "count_yes = 0\n",
    "count_no = 0\n",
    "\n",
    "for i in range(1,6):\n",
    "    if string == 'Нет':\n",
    "        print('Увы, это неправильный ответ')\n",
    "        count_no += 1\n",
    "        if count_no == 5:\n",
    "            print('Это безнадёжно!')\n",
    "    elif string == 'Да':\n",
    "        print('Это отлично!')\n",
    "        count_yes += 1\n",
    "    else:\n",
    "        print('Не понял Ваш ответ')\n",
    "    "
   ]
  },
  {
   "cell_type": "code",
   "execution_count": 144,
   "metadata": {},
   "outputs": [
    {
     "name": "stdout",
     "output_type": "stream",
     "text": [
      "Простое\n",
      "[1, 173]\n"
     ]
    }
   ],
   "source": [
    "\"\"\"\n",
    "Напишите программу, которая проверяет, является ли введённое число (number) простым.\n",
    "Если число простое, то программа выводит \"Простое\", иначе \"Не является простым\".\n",
    "\n",
    "Для проверки используйте number = 173\n",
    "\n",
    "\"\"\"\n",
    "\n",
    "# Для больших числе желательно оптимизировать алгоритм\n",
    "# (https://foxford.ru/wiki/informatika/proverka-chisla-na-prostotu-v-python)\n",
    "\n",
    "number = 173\n",
    "\n",
    "list_of_number_deviders = []\n",
    "\n",
    "for i in range(1, number + 1):\n",
    "    if number % i == 0:\n",
    "        list_of_number_deviders.append(i)\n",
    "        \n",
    "if len(list_of_number_deviders) > 2:\n",
    "    print('Не является простым')\n",
    "else:\n",
    "    print('Простое')\n",
    "    \n",
    "print(list_of_number_deviders)\n",
    "        \n",
    "\n"
   ]
  },
  {
   "cell_type": "code",
   "execution_count": 161,
   "metadata": {},
   "outputs": [
    {
     "name": "stdout",
     "output_type": "stream",
     "text": [
      "[False, False, False, False, False]\n",
      "Строка мне не нравится!\n"
     ]
    }
   ],
   "source": [
    "\"\"\"\n",
    "Напишите программу, которая проверяет введённую пользователем строку (string) на соответствие правилу:\n",
    "у строки нет ни одной гласной русской маленькой буквы на каждой чётной позиции.\n",
    "Пример подходящей строки: \"пока!\" (в Python первый символ является нулевым, поэтому мы считаем первый символ чётным).\n",
    "Если строка подходит, программа выводит на экран \"Какая хорошая строка!\", а иначе — \"Строка мне не нравится!\".\n",
    "\n",
    "Для проверки используйте string = 'прелестная строка'\n",
    "\"\"\"\n",
    "\n",
    "string = 'прелестная строка'\n",
    "russian_vowels = ['а', 'у', 'о', 'ы', 'и', 'э', 'я', 'ю', 'ё', 'е']  # Список глассных русского языка\n",
    "true_false_string = []\n",
    "\n",
    "for l in (string[::2]):\n",
    "    for i in russian_vowels:\n",
    "        if l.lower() != i:\n",
    "            pass\n",
    "        else:\n",
    "            true_false_string.append(False)\n",
    "\n",
    "print(true_false_string)\n",
    "\n",
    "if true_false_string:\n",
    "    print('Строка мне не нравится!')\n",
    "else:\n",
    "    print('Какая хорошая строка!')\n",
    "                \n",
    "        \n",
    "\n"
   ]
  },
  {
   "cell_type": "code",
   "execution_count": 199,
   "metadata": {},
   "outputs": [
    {
     "name": "stdout",
     "output_type": "stream",
     "text": [
      "187000.0\n",
      "205700.0\n",
      "226270.0\n",
      "248897.0\n",
      "273786.7\n",
      "301165.37\n",
      "331281.91\n",
      "364410.1\n",
      "400851.11\n",
      "440936.22\n",
      "485029.84\n",
      "533532.82\n",
      "586886.11\n",
      "645574.72\n",
      "710132.19\n",
      "781145.41\n",
      "859259.95\n",
      "945185.94\n",
      "1039704.54\n",
      "19\n"
     ]
    }
   ],
   "source": [
    "\"\"\"\n",
    "Клиент банка открыл вклад под 10% годовых и положил на этот счёт Y рублей. Напишите программу, позволяющую определить,\n",
    "через сколько лет клиент будет иметь на счету сумму не менее Z рублей. На вход программе идут два числа — Y, Z.\n",
    "\n",
    "Для проверки используйте Y = 170000, Z = 1000000. В результате работы программа должна вывести на экран число лет,\n",
    "которое потребуется для накопления требуемой суммы. Ответ должен быть выведен на экран в виде целого числа без какого-либо\n",
    "дополнительного поясняющего текста.\n",
    "\n",
    "Внимание: в процессе выполнения программы изменяйте переменную Y.\n",
    "\"\"\"\n",
    "Y = 170000\n",
    "Z = 1000000\n",
    "yearly_multiplier = 1.1\n",
    "years = 0\n",
    "\n",
    "while Y <= Z:\n",
    "    Y *= yearly_multiplier\n",
    "    years += 1\n",
    "else:\n",
    "    print(int(years))\n",
    "\n",
    "# money = 1\n",
    "# year = 0\n",
    "# yearly_multiplier = 1.06\n",
    "\n",
    "# while money < 2:\n",
    "#     money = money*yearly_multiplier\n",
    "#     year += 1\n",
    "# else:\n",
    "#     print('Деньги удвоятся через', year, 'лет')\n",
    "    \n",
    "\n",
    "    \n"
   ]
  },
  {
   "cell_type": "code",
   "execution_count": 219,
   "metadata": {},
   "outputs": [
    {
     "name": "stdout",
     "output_type": "stream",
     "text": [
      "Перевес 177 кг\n"
     ]
    }
   ],
   "source": [
    "weight = 577\n",
    "summ = weight\n",
    "limit = 400\n",
    "\n",
    "while summ <= limit:\n",
    "    summ += weight\n",
    "else:\n",
    "        print(\"Перевес\", summ - limit, \"кг\")\n"
   ]
  },
  {
   "cell_type": "code",
   "execution_count": 220,
   "metadata": {},
   "outputs": [
    {
     "name": "stdout",
     "output_type": "stream",
     "text": [
      "Игрок убит\n",
      "7\n"
     ]
    }
   ],
   "source": [
    "\"\"\"\n",
    "Вы играете в компьютерную игру, дошли до схватки с финальным боссом, но вот беда:\n",
    "ваш компьютер \"заглючил\", и вы не можете управлять персонажем в игре.\n",
    "Босс атакует и каждую секунду наносит один удар, который отнимает у вас 80 единиц здоровья.\n",
    "На схватку с боссом вы вышли с 500 единицами здоровья. Создайте цикл, позволяющий понять, через сколько секунд босс вас убьет.\n",
    "\n",
    "В результате работы программа должна вывести на экран число секунд, в течение которых будет длиться схватка.\n",
    "Ответ должен быть выведен на экран в виде целого числа без какого-либо дополнительного поясняющего текста.\n",
    "\n",
    "Для проверки используйте переменную current_health для сохранения текущего уровня здоровья и изменяйте её по ходу цикла,\n",
    "и — переменную attack = 80 для хранения значения атаки Босса.\n",
    "\"\"\"\n",
    "\n",
    "attack = 80\n",
    "current_health = 500\n",
    "seconds = 0\n",
    "\n",
    "while current_health > 0:\n",
    "    seconds += 1\n",
    "    current_health -= attack\n",
    "else:\n",
    "    print('Игрок убит')\n",
    "\n",
    "print(seconds)\n",
    "    "
   ]
  },
  {
   "cell_type": "code",
   "execution_count": 226,
   "metadata": {},
   "outputs": [
    {
     "name": "stdout",
     "output_type": "stream",
     "text": [
      "10000\n",
      "7200\n",
      "4400\n",
      "1600\n",
      "Слишком большие расходы\n"
     ]
    }
   ],
   "source": [
    "\"\"\"\n",
    "На банковской карте хранятся 10 000 рублей. Хозяин карты написал программу, в которую вводит свои расходы (spent),\n",
    "после чего программа показывает баланс (balance). Баланс выводится в виде целого числа без каких-либо дополнительных сообщений.\n",
    "Например, при остатке 3500 рублей на экран выводится число 3500. Когда сумма средств на карте становится ниже нуля,\n",
    "программа выводит сообщение: \"Слишком большие расходы\".\n",
    "\n",
    "Напишите программу, которая выводит на экран начальный баланс карты (число 10000), баланс после каждого списания и\n",
    "сообщение \"Слишком большие расходы\" при достижении отрицательного баланса.\n",
    "\n",
    "Для проверки используйте переменную spent = 2800 и НЕ меняйте её по ходу цикла. Переменная balance должна меняться\n",
    "после каждого шага цикла.\n",
    "\"\"\"\n",
    "\n",
    "bank_card_balance = 10000\n",
    "spent = 2800\n",
    "balance = bank_card_balance\n",
    "\n",
    "print(bank_card_balance)\n",
    "while balance > 0:\n",
    "    balance -= spent\n",
    "    if balance > 0:\n",
    "        print(balance)\n",
    "    elif balance < 0:\n",
    "        print('Слишком большие расходы')\n"
   ]
  },
  {
   "cell_type": "code",
   "execution_count": 240,
   "metadata": {},
   "outputs": [
    {
     "name": "stdout",
     "output_type": "stream",
     "text": [
      "20\n"
     ]
    }
   ],
   "source": [
    "\"\"\"\n",
    "Представьте, что перед вами большая цистерна объёмом 1000 литров, которую необходимо заполнить водой.\n",
    "У вас есть робот, который доставляет в цистерну сначала 5 литров, а затем каждый раз на 5 литров больше, чем в предыдущий.\n",
    "Изначально в цистерне нет воды. Через сколько заходов робота вода польётся через край?\n",
    "\n",
    "В результате работы программа должна вывести на экран число заходов, необходимых роботу для заполнения цистерны до краёв.\n",
    "Ответ должен быть выведен на экран в виде целого числа без какого-либо дополнительного поясняющего текста.\n",
    "\n",
    "Для проверки используйте переменную volume, равную свободному объёму в цистерне, и меняйте её по ходу цикла\n",
    "(на последнем шаге она должна быть меньше нуля).\n",
    "\"\"\"\n",
    "\n",
    "max_liters = 1000\n",
    "current_liters = 0\n",
    "basic_robot_production = 5\n",
    "volume = 0\n",
    "count = 0\n",
    "\n",
    "while volume >= 0:\n",
    "    current_liters += basic_robot_production\n",
    "    volume = max_liters - current_liters\n",
    "    count += 1\n",
    "    basic_robot_production += 5\n",
    "\n",
    "print(count)\n",
    "\n"
   ]
  },
  {
   "cell_type": "code",
   "execution_count": null,
   "metadata": {},
   "outputs": [],
   "source": []
  }
 ],
 "metadata": {
  "kernelspec": {
   "display_name": "Python 3",
   "language": "python",
   "name": "python3"
  }
 },
 "nbformat": 4,
 "nbformat_minor": 4
}
