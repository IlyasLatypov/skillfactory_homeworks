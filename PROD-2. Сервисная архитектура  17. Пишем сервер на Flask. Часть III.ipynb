{
 "cells": [
  {
   "cell_type": "markdown",
   "metadata": {},
   "source": [
    "Пока что мы написали обработчик GET-запроса. \n",
    "\n",
    "Если мы хотим обрабатывать другие методы, это нужно указать в декораторе."
   ]
  },
  {
   "cell_type": "code",
   "execution_count": null,
   "metadata": {},
   "outputs": [],
   "source": [
    "@app.route('/add', methods=['POST'])"
   ]
  },
  {
   "cell_type": "markdown",
   "metadata": {},
   "source": [
    "Что же должна возвращать функция-обработчик? Конечно, она будет возвращать объект Response, в котором мы должны были бы задать все компоненты ответа: код обработки, заголовки и тело. \n",
    "\n",
    "На наше счастье, Flask (а точнее, объект Response) умеет и превращать в ответы другие объекты, и самостоятельно формировать ответ. \n",
    "\n",
    "Например, строка"
   ]
  },
  {
   "cell_type": "code",
   "execution_count": null,
   "metadata": {},
   "outputs": [],
   "source": [
    "return f'hello {name}!'"
   ]
  },
  {
   "cell_type": "markdown",
   "metadata": {},
   "source": [
    "преобразуется в ответ с кодом 200 и телом, состоящим из этой строки:"
   ]
  },
  {
   "cell_type": "code",
   "execution_count": null,
   "metadata": {},
   "outputs": [],
   "source": [
    "return f'hello {name}!', 200"
   ]
  },
  {
   "cell_type": "markdown",
   "metadata": {},
   "source": [
    "Так же можно возвращать кортеж из двух элементов, строки и числа. Число используется как код обработки. "
   ]
  },
  {
   "cell_type": "markdown",
   "metadata": {},
   "source": [
    "Примечание. Вспомогательная функция jsonify поможет преобразовать обычный питоновский словарь в ответ в формате json, который очень часто используется для передачи структурированных данных. "
   ]
  },
  {
   "cell_type": "markdown",
   "metadata": {},
   "source": [
    "Вооружившись этими знаниями, напишем обработчик POST-запроса, который будет читать тело запроса в json-формате и составлять ответ на основе его содержимого."
   ]
  },
  {
   "cell_type": "code",
   "execution_count": null,
   "metadata": {},
   "outputs": [],
   "source": [
    "from flask import Flask, request, jsonify\n",
    "app = Flask(__name__)"
   ]
  },
  {
   "cell_type": "markdown",
   "metadata": {},
   "source": [
    "Пометим, что функция обрабатывает метод POST:"
   ]
  },
  {
   "cell_type": "code",
   "execution_count": null,
   "metadata": {},
   "outputs": [],
   "source": [
    "@app.route('/add', methods=['POST'])"
   ]
  },
  {
   "cell_type": "markdown",
   "metadata": {},
   "source": [
    "Напишем саму функцию:"
   ]
  },
  {
   "cell_type": "code",
   "execution_count": null,
   "metadata": {},
   "outputs": [],
   "source": [
    "def add():\n",
    "    num = request.json.get('num')"
   ]
  },
  {
   "cell_type": "markdown",
   "metadata": {},
   "source": [
    "Параметры тела доступны в поле data. Но если тело — это json-строка, то можно использовать поле json.\n",
    "\n",
    "Напишем проверку и укажем код ошибки:"
   ]
  },
  {
   "cell_type": "code",
   "execution_count": null,
   "metadata": {},
   "outputs": [],
   "source": [
    " if num > 10:\n",
    "            return 'too much', 400\n",
    "    return jsonify({\n",
    "        'result': num + 1\n",
    "    })"
   ]
  },
  {
   "cell_type": "markdown",
   "metadata": {},
   "source": [
    "Запускаем!"
   ]
  },
  {
   "cell_type": "code",
   "execution_count": null,
   "metadata": {},
   "outputs": [],
   "source": [
    "if __name__ == '__main__':\n",
    "    app.run('localhost', 5000)"
   ]
  },
  {
   "cell_type": "markdown",
   "metadata": {},
   "source": [
    "К сожалению, браузеры не умеют писать POST-запросы, поэтому нам не хватит обычного браузера, чтобы проверить сервис.\n",
    "\n",
    "→ Если вы любите визуальные редакторы запросов, мы советуем postman. \n",
    "\n",
    "Мы же с вами напишем простой сервис в соседнем скрипте, используя библиотеку requests, которая позволяет отправлять HTTP-запросы.\n",
    "\n",
    "Чтобы выполнить POST-запрос, нужно просто вызвать соответствующую функцию и передать ей адрес (URL) и содержимое тела запроса."
   ]
  },
  {
   "cell_type": "code",
   "execution_count": null,
   "metadata": {},
   "outputs": [],
   "source": [
    "import requests\n",
    "if __name__ == '__main__':\n",
    "    r = requests.post('http://localhost:5000/add', json={'num': 5})"
   ]
  },
  {
   "cell_type": "markdown",
   "metadata": {},
   "source": [
    "Далее напишем статус-код ответа:"
   ]
  },
  {
   "cell_type": "code",
   "execution_count": null,
   "metadata": {},
   "outputs": [],
   "source": [
    "print(r.status_code, r.json())"
   ]
  },
  {
   "cell_type": "markdown",
   "metadata": {},
   "source": [
    "Теперь пропишем проверку:"
   ]
  },
  {
   "cell_type": "code",
   "execution_count": null,
   "metadata": {},
   "outputs": [],
   "source": [
    "if r.status_code == 200:\n",
    "   print(r.json()['result'])\n",
    "else:\n",
    "   print(r.text)"
   ]
  },
  {
   "cell_type": "markdown",
   "metadata": {},
   "source": [
    "Полностью код файла client.py"
   ]
  },
  {
   "cell_type": "code",
   "execution_count": null,
   "metadata": {},
   "outputs": [],
   "source": [
    "import requests\n",
    "\n",
    "if __name__ == '__main__':\n",
    "        r = requests.post('http://localhost:5000/add', json={'num': 5})\n",
    "\n",
    "        print(r.status_code)\n",
    "\n",
    "        if r.status_code == 200:\n",
    "                print(r.json()['result'])\n",
    "        else:\n",
    "                print(r.text)"
   ]
  },
  {
   "cell_type": "markdown",
   "metadata": {},
   "source": [
    "Полностью код файла server.py"
   ]
  },
  {
   "cell_type": "code",
   "execution_count": null,
   "metadata": {},
   "outputs": [],
   "source": [
    "from flask import Flask, request, jsonify\n",
    "\n",
    "app = Flask(__name__)\n",
    "\n",
    "@app.route('/add', methods=['POST'])\n",
    "def add_func():\n",
    "    num = request.json.get('num')\n",
    "    if num > 10:\n",
    "        return 'too much', 400\n",
    "    return jsonify({'result': num +1})\n",
    "\n",
    "\n",
    "if __name__ == '__main__':\n",
    "    app.run('localhost', 5000)"
   ]
  }
 ],
 "metadata": {
  "kernelspec": {
   "display_name": "Python 3",
   "language": "python",
   "name": "python3"
  },
  "language_info": {
   "codemirror_mode": {
    "name": "ipython",
    "version": 3
   },
   "file_extension": ".py",
   "mimetype": "text/x-python",
   "name": "python",
   "nbconvert_exporter": "python",
   "pygments_lexer": "ipython3",
   "version": "3.8.3"
  }
 },
 "nbformat": 4,
 "nbformat_minor": 4
}
