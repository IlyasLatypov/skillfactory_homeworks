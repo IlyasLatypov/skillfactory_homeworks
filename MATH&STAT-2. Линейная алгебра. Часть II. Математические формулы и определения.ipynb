{
 "cells": [
  {
   "cell_type": "markdown",
   "metadata": {},
   "source": [
    "2.3. Случай «Идеальная пара»\n",
    "\n",
    "Решите систему линейных уравнений\n",
    "\n",
    "4x + 7y = 20\n",
    "5x + 10y = 30"
   ]
  },
  {
   "cell_type": "markdown",
   "metadata": {},
   "source": [
    "Решение\n",
    "\n",
    "(Использую Метод Гаусса (последовательного исключения неизвестных. Вариант решения взят отсюда: http://mathprofi.ru/metod_gaussa_dlya_chainikov.html)\n",
    "\n",
    "4 7 | 20\n",
    "5 10 | 30\n",
    "\n",
    "Наша цель – с помощью элементарных преобразований привести матрицу к ступенчатому виду.\n",
    "\n",
    "\n",
    "Смотрим на левую верхнюю «ступеньку». Там у нас должна быть единица. Проблема состоит в том, что в первом столбце единиц нет вообще, поэтому перестановкой строк ничего не решить. В таких случаях единицу нужно организовать с помощью элементарного преобразования. Обычно это можно сделать несколькими способами.\n",
    "\n",
    "\n",
    "Я поступил так:\n",
    "\n",
    "К первой строке прибавляем вторую строку, умноженную на –1. То есть, мысленно умножили вторую строку на –1 и выполнили сложение первой и второй строки, при этом вторая строка у нас не изменилась.\n",
    "\n",
    "-1 -3 | -10\n",
    "5 10 | 30\n",
    "\n",
    "Попутно сократим вторую строчку (кратно 5)\n",
    "\n",
    "-1 -3 | -10\n",
    "1 2 | 6\n",
    "\n",
    "Теперь слева вверху «минус один», что нас вполне устроит. Кто хочет получить +1, может выполнить дополнительное телодвижение: умножить первую строку на –1 (сменить у неё знак).\n",
    "\n",
    "Теперь первая строка у нас останется неизменной до конца решения. Уже легче.\n",
    "\n",
    "Единица в левом верхнем углу организована. Теперь нужно получить нули во второй строчке вместо 0:\n",
    "\n",
    "-1 -3 | -10\n",
    "1 2 | 6\n",
    "\n",
    "Для этого просто прибавляем первую строчку ко второй на место второй, а первую оставляем как есть:\n",
    "\n",
    "-1 -3 | -10\n",
    "0 -1 | -4\n",
    "\n",
    "Поменяем знак во второй строчке:\n",
    "\n",
    "-1 -3 | -10\n",
    "0 1 | 4\n",
    "\n",
    "y = 4\n",
    "\n",
    "-1x - 3y = -10\n",
    "y = 4\n",
    "\n",
    "-x - 12 = -10\n",
    "\n",
    "x + 12 = 10\n",
    "\n",
    "x = -2\n",
    "\n",
    "Проверяем:\n",
    "\n",
    "4x + 7y = 20\n",
    "4 * (-2) + 7 * (4) = 20\n",
    "-8 + 28 = 20\n",
    "\n",
    "5 * (-2) + 10 * (4) = 30\n",
    "-10 + 40 = 30"
   ]
  },
  {
   "cell_type": "markdown",
   "metadata": {},
   "source": [
    "Как найти ранг матрицы?\n",
    "\n",
    "http://mathprofi.ru/rang_matricy.html"
   ]
  },
  {
   "cell_type": "markdown",
   "metadata": {},
   "source": [
    "Как вычислить определитель?\n",
    "\n",
    "http://mathprofi.ru/kak_vychislit_opredelitel.html"
   ]
  },
  {
   "cell_type": "markdown",
   "metadata": {},
   "source": [
    "Свойства определителя. Понижение порядка определителя\n",
    "\n",
    "http://mathprofi.ru/svoistva_opredelitelya_ponizhenie_poryadka_opredelitelya.html"
   ]
  },
  {
   "cell_type": "markdown",
   "metadata": {},
   "source": [
    "Действия с матрицами\n",
    "\n",
    "http://mathprofi.ru/deistviya_s_matricami.html"
   ]
  },
  {
   "cell_type": "markdown",
   "metadata": {},
   "source": [
    "Однородные системы линейных алгебраических уравнений\n",
    "\n",
    "http://www.mathprofi.ru/odnorodnye_sistemy_lineinyh_uravnenij.html"
   ]
  },
  {
   "cell_type": "markdown",
   "metadata": {},
   "source": [
    "Решение систем линейных уравнений. Несовместные системы.\n",
    "Системы с общим решением. Частные решения\n",
    "\n",
    "http://www.mathprofi.ru/slu_nesovmestnye_sistemy_i_sistemy_s_obshim_resheniem.html"
   ]
  },
  {
   "cell_type": "markdown",
   "metadata": {},
   "source": [
    "Как решить систему линейных уравнений?\n",
    "\n",
    "http://mathprofi.ru/kak_reshit_sistemu_uravnenii.html"
   ]
  },
  {
   "cell_type": "markdown",
   "metadata": {},
   "source": [
    "Аналитикам: большая шпаргалка по Pandas\n",
    "\n",
    "http://smysl.io/blog/pandas/"
   ]
  },
  {
   "cell_type": "markdown",
   "metadata": {},
   "source": [
    "Серия уроков по обработке данных\n",
    "\n",
    "https://pythonworld.ru/obrabotka-dannyx"
   ]
  },
  {
   "cell_type": "markdown",
   "metadata": {},
   "source": [
    "Решение квадратного уравнения\n",
    "    \n",
    "http://mathprofi.ru/goryachie_formuly.pdf\n"
   ]
  },
  {
   "cell_type": "markdown",
   "metadata": {},
   "source": [
    "Комплексные числа для чайников\n",
    "\n",
    "http://mathprofi.ru/kompleksnye_chisla_dlya_chainikov.html"
   ]
  },
  {
   "cell_type": "code",
   "execution_count": 3,
   "metadata": {},
   "outputs": [],
   "source": [
    "import numpy as np"
   ]
  },
  {
   "cell_type": "code",
   "execution_count": 13,
   "metadata": {
    "scrolled": false
   },
   "outputs": [
    {
     "data": {
      "text/plain": [
       "array([[ 1, -5],\n",
       "       [ 2,  1],\n",
       "       [ 1,  1]])"
      ]
     },
     "execution_count": 13,
     "metadata": {},
     "output_type": "execute_result"
    }
   ],
   "source": [
    "# Вычислите вектор ошибок для приближённого решения системы w\n",
    "\n",
    "A = np.array([[1,-5],[2,1],[1,1]])\n",
    "A"
   ]
  },
  {
   "cell_type": "code",
   "execution_count": 15,
   "metadata": {},
   "outputs": [
    {
     "data": {
      "text/plain": [
       "array([1, 1])"
      ]
     },
     "execution_count": 15,
     "metadata": {},
     "output_type": "execute_result"
    }
   ],
   "source": [
    "w = np.array([1,1])\n",
    "w"
   ]
  },
  {
   "cell_type": "code",
   "execution_count": 16,
   "metadata": {},
   "outputs": [
    {
     "data": {
      "text/plain": [
       "array([-4,  3,  2])"
      ]
     },
     "execution_count": 16,
     "metadata": {},
     "output_type": "execute_result"
    }
   ],
   "source": [
    "np.dot(A,w)"
   ]
  },
  {
   "cell_type": "code",
   "execution_count": null,
   "metadata": {},
   "outputs": [],
   "source": [
    "A.T@A"
   ]
  },
  {
   "cell_type": "code",
   "execution_count": 14,
   "metadata": {},
   "outputs": [],
   "source": [
    "B = np.array([1,2,2])"
   ]
  },
  {
   "cell_type": "code",
   "execution_count": 17,
   "metadata": {},
   "outputs": [
    {
     "data": {
      "text/plain": [
       "array([ 5, -1,  0])"
      ]
     },
     "execution_count": 17,
     "metadata": {},
     "output_type": "execute_result"
    }
   ],
   "source": [
    "B - np.dot(A,w)"
   ]
  },
  {
   "cell_type": "code",
   "execution_count": null,
   "metadata": {},
   "outputs": [],
   "source": [
    "A.T@B"
   ]
  },
  {
   "cell_type": "code",
   "execution_count": 18,
   "metadata": {},
   "outputs": [],
   "source": [
    "# Найдите OLS оценку для коэффициентов w1, w2 СЛАУ\n",
    "\n",
    "A = np.array([[1,2],[-3,1],[1,2],[1,-1]])\n",
    "\n",
    "B = np.array([1,4,5,0])"
   ]
  },
  {
   "cell_type": "code",
   "execution_count": 24,
   "metadata": {},
   "outputs": [
    {
     "data": {
      "text/plain": [
       "array([[12,  0],\n",
       "       [ 0, 10]])"
      ]
     },
     "execution_count": 24,
     "metadata": {},
     "output_type": "execute_result"
    }
   ],
   "source": [
    "A.T@A"
   ]
  },
  {
   "cell_type": "code",
   "execution_count": 22,
   "metadata": {
    "scrolled": true
   },
   "outputs": [],
   "source": [
    "a = A.T@A"
   ]
  },
  {
   "cell_type": "code",
   "execution_count": 23,
   "metadata": {
    "scrolled": true
   },
   "outputs": [
    {
     "data": {
      "text/plain": [
       "array([12, 10])"
      ]
     },
     "execution_count": 23,
     "metadata": {},
     "output_type": "execute_result"
    }
   ],
   "source": [
    "np.diag(a)"
   ]
  },
  {
   "cell_type": "code",
   "execution_count": 25,
   "metadata": {
    "scrolled": false
   },
   "outputs": [
    {
     "data": {
      "text/plain": [
       "array([[12,  0],\n",
       "       [ 0, 10]])"
      ]
     },
     "execution_count": 25,
     "metadata": {},
     "output_type": "execute_result"
    }
   ],
   "source": [
    "np.diag(np.diag(a))"
   ]
  },
  {
   "cell_type": "code",
   "execution_count": 28,
   "metadata": {},
   "outputs": [
    {
     "data": {
      "text/plain": [
       "array([-6, 16])"
      ]
     },
     "execution_count": 28,
     "metadata": {},
     "output_type": "execute_result"
    }
   ],
   "source": [
    "A.T@B"
   ]
  },
  {
   "cell_type": "code",
   "execution_count": 42,
   "metadata": {
    "scrolled": true
   },
   "outputs": [],
   "source": [
    "b = A.T@B\n",
    "\n",
    "\n",
    "A_1 = np.linalg.inv(A.T@A) # тоже самое, что A_2\n",
    "\n",
    "A_2 = np.linalg.matrix_power(A.T@A, -1) # тоже самое, что A_1\n"
   ]
  },
  {
   "cell_type": "code",
   "execution_count": 38,
   "metadata": {},
   "outputs": [],
   "source": [
    "# A_1 = np.array([[10,0],[0,12]])\n",
    "# A_1"
   ]
  },
  {
   "cell_type": "code",
   "execution_count": 43,
   "metadata": {},
   "outputs": [
    {
     "data": {
      "text/plain": [
       "array([[-0.5,  0. ],\n",
       "       [-0. ,  1.6]])"
      ]
     },
     "execution_count": 43,
     "metadata": {},
     "output_type": "execute_result"
    }
   ],
   "source": [
    "w = A_2 * b\n",
    "w"
   ]
  },
  {
   "cell_type": "code",
   "execution_count": 44,
   "metadata": {
    "scrolled": true
   },
   "outputs": [
    {
     "data": {
      "text/plain": [
       "21.048000000000005"
      ]
     },
     "execution_count": 44,
     "metadata": {},
     "output_type": "execute_result"
    }
   ],
   "source": [
    "\"\"\"\n",
    "Используя данные, полученные нами в модуле ранее (см. таблицу и результат применения OLS к ней)\n",
    "сделайте прогноз типичной стоимости (в тыс. долларов) дома в городке\n",
    "с уровнем преступности CRIM = 0.2\n",
    "и средним количеством комнат в доме RM = 6.\n",
    "\n",
    "\"\"\"\n",
    "\n",
    "CRIM = 0.2\n",
    "RM = 6\n",
    "N = 506\n",
    "k = 2\n",
    "\n",
    "w0 = -29.3\n",
    "w1 = -0.26\n",
    "w2 = 8.4\n",
    "\n",
    "y = w0 + w1 * CRIM + w2 * RM\n",
    "y"
   ]
  },
  {
   "cell_type": "code",
   "execution_count": 49,
   "metadata": {},
   "outputs": [
    {
     "name": "stdout",
     "output_type": "stream",
     "text": [
      "9.5\n",
      "[ 1.5 -1.5]\n",
      "2.1213203435596424\n",
      "[ 0.70710678 -0.70710678]\n"
     ]
    }
   ],
   "source": [
    "x = np.array([11,8])\n",
    "\n",
    "x_mean = (11 + 8) / 2\n",
    "\n",
    "print(x_mean)\n",
    "\n",
    "x_centr = x - np.array([x_mean,x_mean])\n",
    "\n",
    "print(x_centr)\n",
    "\n",
    "x_norm = np.sqrt(1.5**2 + 1.5**2)\n",
    "\n",
    "print(x_norm)\n",
    "\n",
    "x_st = 1/x_norm * x_centr\n",
    "\n",
    "print(x_st)"
   ]
  }
 ],
 "metadata": {
  "kernelspec": {
   "display_name": "Python 3",
   "language": "python",
   "name": "python3"
  },
  "language_info": {
   "codemirror_mode": {
    "name": "ipython",
    "version": 3
   },
   "file_extension": ".py",
   "mimetype": "text/x-python",
   "name": "python",
   "nbconvert_exporter": "python",
   "pygments_lexer": "ipython3",
   "version": "3.7.7"
  }
 },
 "nbformat": 4,
 "nbformat_minor": 4
}
