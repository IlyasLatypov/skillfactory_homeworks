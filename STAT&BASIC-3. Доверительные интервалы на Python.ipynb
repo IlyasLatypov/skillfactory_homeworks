{
 "cells": [
  {
   "cell_type": "code",
   "execution_count": 2,
   "metadata": {},
   "outputs": [
    {
     "name": "stdout",
     "output_type": "stream",
     "text": [
      "1.96\n"
     ]
    },
    {
     "data": {
      "text/plain": [
       "'\\nС 1.65 и 1.64 сложная история.\\n\\nДело в том, что исторически сложилось, что округляют до 1.65, и практически во всех классических учебниках\\nВы встретитесь именно с этим значением (или с 1.645, если 3 знака после запятой).\\n\\nЯ бы посоветовала запомнить 1.645, в статистике по традиции принято оставлять 3 знака после запятой.\\n\\nНо 1.65 - это общепринятое значение, которое не является ошибкой.\\nНо, Вы правы, надо добавить и 1.64 как верный вариант, так как если напрямую округлять, то будет 1.64)\\n\\n'"
      ]
     },
     "execution_count": 2,
     "metadata": {},
     "output_type": "execute_result"
    }
   ],
   "source": [
    "import numpy as np\n",
    "from scipy.stats import norm, t\n",
    "\n",
    "z = abs(round(norm.ppf(0.025,0,1), 3))\n",
    "print(z)\n",
    "\n",
    "\"\"\"\n",
    "С 1.65 и 1.64 сложная история.\n",
    "\n",
    "Дело в том, что исторически сложилось, что округляют до 1.65, и практически во всех классических учебниках\n",
    "Вы встретитесь именно с этим значением (или с 1.645, если 3 знака после запятой).\n",
    "\n",
    "Я бы посоветовала запомнить 1.645, в статистике по традиции принято оставлять 3 знака после запятой.\n",
    "\n",
    "Но 1.65 - это общепринятое значение, которое не является ошибкой.\n",
    "Но, Вы правы, надо добавить и 1.64 как верный вариант, так как если напрямую округлять, то будет 1.64)\n",
    "\n",
    "\"\"\""
   ]
  },
  {
   "cell_type": "code",
   "execution_count": 10,
   "metadata": {
    "scrolled": true
   },
   "outputs": [
    {
     "name": "stdout",
     "output_type": "stream",
     "text": [
      "12.845\n",
      "11.855\n"
     ]
    }
   ],
   "source": [
    "σ = 2.4\n",
    "n = 64\n",
    "X_avrage = 12.35\n",
    "z = 1.65\n",
    "\n",
    "μ1 = X_avrage + (z * (σ / np.sqrt(n)))\n",
    "print(round(μ1, 3))\n",
    "\n",
    "μ2 = X_avrage - (z * (σ / np.sqrt(n)))\n",
    "print(round(μ2, 3))"
   ]
  },
  {
   "cell_type": "code",
   "execution_count": 82,
   "metadata": {},
   "outputs": [],
   "source": [
    "# 3.7.8 Задание 8\n",
    "\n",
    "import math\n",
    "\n",
    "# Вариант 1 просчета базовых значений просто с использованием Python\n",
    "\n",
    "X = [1.2, 0.2, 1.6, 1.9, -0.4, 0.5, 1.4, 1.7, 2.5, 1.3]\n",
    "\n",
    "sum_x = 0\n",
    "\n",
    "for x in X:\n",
    "    sum_x += x\n",
    "    \n",
    "# среднее значение выборки\n",
    "mean_X = sum_x / len(X)\n",
    "\n",
    "sum_x = 0\n",
    "\n",
    "for x in X:\n",
    "    sum_x += (x - mean_X)**2\n",
    "\n",
    "# Отклонение s или sigma \n",
    "s_X = math.sqrt(sum_x / (len(X) - 1))\n",
    "\n",
    "# ----------------------------------------------------------\n",
    "# Вариант в просчета базовых значений с использованием numpy\n",
    "\n",
    "X = np.array([1.2, 0.2, 1.6, 1.9, -0.4, 0.5, 1.4, 1.7, 2.5, 1.3])\n",
    "\n",
    "print(X)\n",
    "\n",
    "# Отклонение (про смещение (ddof = 1) можно почитать в интернете https://statanaliz.info/statistica/opisanie-dannyx/vyborochnaya-dispersiya/)\n",
    "s_X = X.std(ddof=1)\n",
    "\n",
    "print(s_X)\n",
    "\n",
    "mean_X = X.mean()\n",
    "\n",
    "print(mean_X)\n",
    "\n"
   ]
  },
  {
   "cell_type": "code",
   "execution_count": 83,
   "metadata": {},
   "outputs": [
    {
     "data": {
      "text/plain": [
       "(0.57, 1.81)"
      ]
     },
     "execution_count": 83,
     "metadata": {},
     "output_type": "execute_result"
    }
   ],
   "source": [
    "\"\"\"\n",
    "Управляющий супермаркета хочет оценить, сколько денег покупатели тратят за один поход в супермаркет в среднем.\n",
    "\n",
    "На основании ранее собранных данных известно, что расходы одного покупателя распределены приблизительно нормально.\n",
    "\n",
    "Управляющий взял случайную выборку из 15 покупателей и выяснил, что их средние расходы равны 2000 рублей,\n",
    "\n",
    "а выборочное стандартное отклонение равно 400 рублей.\n",
    "\n",
    "\"\"\"\n",
    "\n",
    "# Для случая с известным значением σ предел погрешности и его интервалы\n",
    "# можно найти, используя функцию confidence_interval_norm():\n",
    "\n",
    "from scipy.stats import norm\n",
    "import math\n",
    "\n",
    "def confidence_interval_norm(alpha, sigma, n, mean):\n",
    "    value = -norm.ppf(alpha / 2) * sigma / math.sqrt(n)\n",
    "    return round((mean - value), 2), round((mean + value), 2)\n",
    "\n",
    "\n",
    "# Для случая с неизвестным значением σ предел погрешности\n",
    "# находится через confidence_interval_t().\n",
    "\n",
    "from scipy.stats import t\n",
    "import math\n",
    "\n",
    "def confidence_interval_t(alpha, s, n, mean):\n",
    "    value = -t.ppf(alpha / 2, n - 1) * s / math.sqrt(n)\n",
    "    return round((mean - value), 2), round((mean + value), 2)\n",
    "\n",
    "# В обоих случаях:\n",
    "\n",
    "# первый аргумент функции — уровень значимости alpha;\n",
    "# второй — выборочное отклонение s или sigma ;\n",
    "# третий — размер выборки n;\n",
    "# четвертый — среднее значение выборки.\n",
    "\n",
    "\n",
    "alpha = 0.05\n",
    "sigma = s_X\n",
    "s = s_X\n",
    "n = len(X)\n",
    "mean = mean_X\n",
    "\n",
    "\n",
    "confidence_interval_t(alpha, s, n, mean)"
   ]
  },
  {
   "cell_type": "code",
   "execution_count": 88,
   "metadata": {},
   "outputs": [
    {
     "name": "stdout",
     "output_type": "stream",
     "text": [
      "0.753 0.643\n"
     ]
    }
   ],
   "source": [
    "n = 189\n",
    "positive = 132\n",
    "negative = n - positive\n",
    "\n",
    "positive_portion = positive / n\n",
    "negative_portion = negative / n\n",
    "\n",
    "positive_portion_round = (round(positive_portion, 3))\n",
    "negative_portion_round = (round(negative_portion, 3))\n",
    "\n",
    "p1 = positive_portion_round + 1.65 * math.sqrt((positive_portion_round * negative_portion_round) / n)\n",
    "\n",
    "p2 = positive_portion_round - 1.65 * math.sqrt((positive_portion_round * negative_portion_round) / n)\n",
    "\n",
    "print(round(p1, 3), round(p2, 3))"
   ]
  },
  {
   "cell_type": "code",
   "execution_count": 94,
   "metadata": {},
   "outputs": [
    {
     "name": "stdout",
     "output_type": "stream",
     "text": [
      "1.81\n",
      "1.9842169515086827\n"
     ]
    }
   ],
   "source": [
    "# 3.9. Находим z-критическое и t-критическое\n",
    "\n",
    "from scipy.stats import norm \n",
    "\n",
    "alpha = 0.07\n",
    "value = -norm.ppf(alpha/2)\n",
    "print(round(value, 2))\n",
    "\n"
   ]
  },
  {
   "cell_type": "code",
   "execution_count": 20,
   "metadata": {},
   "outputs": [
    {
     "name": "stdout",
     "output_type": "stream",
     "text": [
      "2.58\n",
      "3.25\n",
      "1.98\n",
      "1.96\n"
     ]
    }
   ],
   "source": [
    "# 3.9.2\n",
    "\n",
    "z = -norm.ppf(0.01/2)\n",
    "print(round(z, 2))\n",
    "\n",
    "# 0.95 - доверительный интервал, 100-1 число степеней свободы\n",
    "# для двустороннего t-теста\n",
    "value = t.ppf((1 + 0.99)/2, 10-1)\n",
    "print(round(value, 2))\n",
    "\n",
    "# 0.95 - доверительный интервал, 100-1 число степеней свободы\n",
    "# для двустороннего t-теста\n",
    "value2 = t.ppf((1 + 0.95)/2, 100-1)\n",
    "print(round(value2, 2))\n",
    "\n",
    "z2 = -norm.ppf(0.05/2)\n",
    "print(round(z2, 2))"
   ]
  }
 ],
 "metadata": {
  "kernelspec": {
   "display_name": "Python 3",
   "language": "python",
   "name": "python3"
  },
  "language_info": {
   "codemirror_mode": {
    "name": "ipython",
    "version": 3
   },
   "file_extension": ".py",
   "mimetype": "text/x-python",
   "name": "python",
   "nbconvert_exporter": "python",
   "pygments_lexer": "ipython3",
   "version": "3.7.6"
  }
 },
 "nbformat": 4,
 "nbformat_minor": 4
}
