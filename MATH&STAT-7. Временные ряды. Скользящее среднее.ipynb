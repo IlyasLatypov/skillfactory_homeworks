{
 "cells": [
  {
   "cell_type": "markdown",
   "metadata": {
    "colab_type": "text",
    "id": "VlnDp96f35Ld"
   },
   "source": [
    "Давайте познакомимся с приближением ряда скользящим средним на примере биржевых котировок акций компании Uniqlo. В этом разделе модуля мы познакомимся с приближением ряда с помощью скользящего среднего на примере биржевых котировок акций компании Uniqlo."
   ]
  },
  {
   "cell_type": "markdown",
   "metadata": {},
   "source": [
    "В качестве дополнительной литературы рекомендуем вам прочесть статью «Скользящие средние. Часть 1 — теория»: https://av-finance.ru/texnicheskij-analiz/skolzyashhie-srednie-chast-1-teoriya.html\n",
    "\n",
    "Также вам будет интересна статья про использование скользящих средних в трейдинге: https://www.investopedia.com/articles/active-trading/052014/how-use-moving-average-buy-stocks.asp"
   ]
  },
  {
   "cell_type": "code",
   "execution_count": 1,
   "metadata": {
    "colab": {},
    "colab_type": "code",
    "id": "xCTGg7tr35Lm"
   },
   "outputs": [],
   "source": [
    "# импорт библиотек и датасета\n",
    "import numpy as np\n",
    "import pandas as pd\n",
    "import matplotlib.pyplot as plt\n",
    "\n",
    "df = pd.read_csv('input/uniqlo.csv')\n"
   ]
  },
  {
   "cell_type": "code",
   "execution_count": 2,
   "metadata": {
    "colab": {},
    "colab_type": "code",
    "id": "55dJnXT035L5",
    "outputId": "0e59f125-6d75-4da1-8a65-1464eb047da6"
   },
   "outputs": [
    {
     "data": {
      "text/html": [
       "<div>\n",
       "<style scoped>\n",
       "    .dataframe tbody tr th:only-of-type {\n",
       "        vertical-align: middle;\n",
       "    }\n",
       "\n",
       "    .dataframe tbody tr th {\n",
       "        vertical-align: top;\n",
       "    }\n",
       "\n",
       "    .dataframe thead th {\n",
       "        text-align: right;\n",
       "    }\n",
       "</style>\n",
       "<table border=\"1\" class=\"dataframe\">\n",
       "  <thead>\n",
       "    <tr style=\"text-align: right;\">\n",
       "      <th></th>\n",
       "      <th>Date</th>\n",
       "      <th>Open</th>\n",
       "      <th>High</th>\n",
       "      <th>Low</th>\n",
       "      <th>Close</th>\n",
       "      <th>Volume</th>\n",
       "      <th>Stock Trading</th>\n",
       "    </tr>\n",
       "  </thead>\n",
       "  <tbody>\n",
       "    <tr>\n",
       "      <th>0</th>\n",
       "      <td>2016-12-30</td>\n",
       "      <td>42120</td>\n",
       "      <td>42330</td>\n",
       "      <td>41700</td>\n",
       "      <td>41830</td>\n",
       "      <td>610000</td>\n",
       "      <td>25628028000</td>\n",
       "    </tr>\n",
       "    <tr>\n",
       "      <th>1</th>\n",
       "      <td>2016-12-29</td>\n",
       "      <td>43000</td>\n",
       "      <td>43220</td>\n",
       "      <td>42540</td>\n",
       "      <td>42660</td>\n",
       "      <td>448400</td>\n",
       "      <td>19188227000</td>\n",
       "    </tr>\n",
       "    <tr>\n",
       "      <th>2</th>\n",
       "      <td>2016-12-28</td>\n",
       "      <td>43940</td>\n",
       "      <td>43970</td>\n",
       "      <td>43270</td>\n",
       "      <td>43270</td>\n",
       "      <td>339900</td>\n",
       "      <td>14780670000</td>\n",
       "    </tr>\n",
       "    <tr>\n",
       "      <th>3</th>\n",
       "      <td>2016-12-27</td>\n",
       "      <td>43140</td>\n",
       "      <td>43700</td>\n",
       "      <td>43140</td>\n",
       "      <td>43620</td>\n",
       "      <td>400100</td>\n",
       "      <td>17427993000</td>\n",
       "    </tr>\n",
       "    <tr>\n",
       "      <th>4</th>\n",
       "      <td>2016-12-26</td>\n",
       "      <td>43310</td>\n",
       "      <td>43660</td>\n",
       "      <td>43090</td>\n",
       "      <td>43340</td>\n",
       "      <td>358200</td>\n",
       "      <td>15547803000</td>\n",
       "    </tr>\n",
       "    <tr>\n",
       "      <th>5</th>\n",
       "      <td>2016-12-22</td>\n",
       "      <td>43660</td>\n",
       "      <td>43840</td>\n",
       "      <td>43190</td>\n",
       "      <td>43480</td>\n",
       "      <td>381600</td>\n",
       "      <td>16586491000</td>\n",
       "    </tr>\n",
       "    <tr>\n",
       "      <th>6</th>\n",
       "      <td>2016-12-21</td>\n",
       "      <td>43900</td>\n",
       "      <td>44370</td>\n",
       "      <td>43610</td>\n",
       "      <td>44000</td>\n",
       "      <td>658900</td>\n",
       "      <td>28994316000</td>\n",
       "    </tr>\n",
       "    <tr>\n",
       "      <th>7</th>\n",
       "      <td>2016-12-20</td>\n",
       "      <td>42910</td>\n",
       "      <td>43630</td>\n",
       "      <td>42860</td>\n",
       "      <td>43620</td>\n",
       "      <td>499400</td>\n",
       "      <td>21606102000</td>\n",
       "    </tr>\n",
       "    <tr>\n",
       "      <th>8</th>\n",
       "      <td>2016-12-19</td>\n",
       "      <td>42790</td>\n",
       "      <td>43150</td>\n",
       "      <td>42740</td>\n",
       "      <td>43130</td>\n",
       "      <td>358700</td>\n",
       "      <td>15428531000</td>\n",
       "    </tr>\n",
       "    <tr>\n",
       "      <th>9</th>\n",
       "      <td>2016-12-16</td>\n",
       "      <td>43350</td>\n",
       "      <td>43550</td>\n",
       "      <td>42810</td>\n",
       "      <td>43130</td>\n",
       "      <td>542000</td>\n",
       "      <td>23380606000</td>\n",
       "    </tr>\n",
       "    <tr>\n",
       "      <th>10</th>\n",
       "      <td>2016-12-15</td>\n",
       "      <td>43440</td>\n",
       "      <td>43880</td>\n",
       "      <td>42550</td>\n",
       "      <td>43000</td>\n",
       "      <td>627400</td>\n",
       "      <td>27055034000</td>\n",
       "    </tr>\n",
       "    <tr>\n",
       "      <th>11</th>\n",
       "      <td>2016-12-14</td>\n",
       "      <td>43300</td>\n",
       "      <td>43440</td>\n",
       "      <td>42590</td>\n",
       "      <td>43090</td>\n",
       "      <td>548800</td>\n",
       "      <td>23600236000</td>\n",
       "    </tr>\n",
       "    <tr>\n",
       "      <th>12</th>\n",
       "      <td>2016-12-13</td>\n",
       "      <td>43130</td>\n",
       "      <td>43300</td>\n",
       "      <td>42630</td>\n",
       "      <td>43210</td>\n",
       "      <td>434500</td>\n",
       "      <td>18658982000</td>\n",
       "    </tr>\n",
       "    <tr>\n",
       "      <th>13</th>\n",
       "      <td>2016-12-12</td>\n",
       "      <td>43950</td>\n",
       "      <td>44000</td>\n",
       "      <td>42880</td>\n",
       "      <td>43130</td>\n",
       "      <td>775300</td>\n",
       "      <td>33633233000</td>\n",
       "    </tr>\n",
       "    <tr>\n",
       "      <th>14</th>\n",
       "      <td>2016-12-09</td>\n",
       "      <td>41700</td>\n",
       "      <td>42970</td>\n",
       "      <td>41150</td>\n",
       "      <td>42590</td>\n",
       "      <td>1975600</td>\n",
       "      <td>83251556000</td>\n",
       "    </tr>\n",
       "  </tbody>\n",
       "</table>\n",
       "</div>"
      ],
      "text/plain": [
       "          Date   Open   High    Low  Close   Volume  Stock Trading\n",
       "0   2016-12-30  42120  42330  41700  41830   610000    25628028000\n",
       "1   2016-12-29  43000  43220  42540  42660   448400    19188227000\n",
       "2   2016-12-28  43940  43970  43270  43270   339900    14780670000\n",
       "3   2016-12-27  43140  43700  43140  43620   400100    17427993000\n",
       "4   2016-12-26  43310  43660  43090  43340   358200    15547803000\n",
       "5   2016-12-22  43660  43840  43190  43480   381600    16586491000\n",
       "6   2016-12-21  43900  44370  43610  44000   658900    28994316000\n",
       "7   2016-12-20  42910  43630  42860  43620   499400    21606102000\n",
       "8   2016-12-19  42790  43150  42740  43130   358700    15428531000\n",
       "9   2016-12-16  43350  43550  42810  43130   542000    23380606000\n",
       "10  2016-12-15  43440  43880  42550  43000   627400    27055034000\n",
       "11  2016-12-14  43300  43440  42590  43090   548800    23600236000\n",
       "12  2016-12-13  43130  43300  42630  43210   434500    18658982000\n",
       "13  2016-12-12  43950  44000  42880  43130   775300    33633233000\n",
       "14  2016-12-09  41700  42970  41150  42590  1975600    83251556000"
      ]
     },
     "execution_count": 2,
     "metadata": {},
     "output_type": "execute_result"
    }
   ],
   "source": [
    "# посмотрим глазами на начало датасета\n",
    "# можно увидеть, что данные отсортированы в обратном порядке\n",
    "# кроме того, данных за некоторые дни нет (например, 2016-12-18)\n",
    "df.head(15)"
   ]
  },
  {
   "cell_type": "code",
   "execution_count": 0,
   "metadata": {
    "colab": {},
    "colab_type": "code",
    "id": "ndZ2rEBO35ML",
    "outputId": "a1d5a006-cd46-470d-d08e-0ec7edaf274d"
   },
   "outputs": [
    {
     "data": {
      "text/html": [
       "<div>\n",
       "<table border=\"1\" class=\"dataframe\">\n",
       "  <thead>\n",
       "    <tr style=\"text-align: right;\">\n",
       "      <th></th>\n",
       "      <th>Date</th>\n",
       "      <th>Open</th>\n",
       "      <th>High</th>\n",
       "      <th>Low</th>\n",
       "      <th>Close</th>\n",
       "      <th>Volume</th>\n",
       "      <th>Stock Trading</th>\n",
       "    </tr>\n",
       "  </thead>\n",
       "  <tbody>\n",
       "    <tr>\n",
       "      <th>0</th>\n",
       "      <td>2016-12-30</td>\n",
       "      <td>42120</td>\n",
       "      <td>42330</td>\n",
       "      <td>41700</td>\n",
       "      <td>41830</td>\n",
       "      <td>610000</td>\n",
       "      <td>25628028000</td>\n",
       "    </tr>\n",
       "    <tr>\n",
       "      <th>1</th>\n",
       "      <td>2016-12-29</td>\n",
       "      <td>43000</td>\n",
       "      <td>43220</td>\n",
       "      <td>42540</td>\n",
       "      <td>42660</td>\n",
       "      <td>448400</td>\n",
       "      <td>19188227000</td>\n",
       "    </tr>\n",
       "    <tr>\n",
       "      <th>2</th>\n",
       "      <td>2016-12-28</td>\n",
       "      <td>43940</td>\n",
       "      <td>43970</td>\n",
       "      <td>43270</td>\n",
       "      <td>43270</td>\n",
       "      <td>339900</td>\n",
       "      <td>14780670000</td>\n",
       "    </tr>\n",
       "    <tr>\n",
       "      <th>3</th>\n",
       "      <td>2016-12-27</td>\n",
       "      <td>43140</td>\n",
       "      <td>43700</td>\n",
       "      <td>43140</td>\n",
       "      <td>43620</td>\n",
       "      <td>400100</td>\n",
       "      <td>17427993000</td>\n",
       "    </tr>\n",
       "    <tr>\n",
       "      <th>4</th>\n",
       "      <td>2016-12-26</td>\n",
       "      <td>43310</td>\n",
       "      <td>43660</td>\n",
       "      <td>43090</td>\n",
       "      <td>43340</td>\n",
       "      <td>358200</td>\n",
       "      <td>15547803000</td>\n",
       "    </tr>\n",
       "  </tbody>\n",
       "</table>\n",
       "</div>"
      ],
      "text/plain": [
       "        Date   Open   High    Low  Close  Volume  Stock Trading\n",
       "0 2016-12-30  42120  42330  41700  41830  610000    25628028000\n",
       "1 2016-12-29  43000  43220  42540  42660  448400    19188227000\n",
       "2 2016-12-28  43940  43970  43270  43270  339900    14780670000\n",
       "3 2016-12-27  43140  43700  43140  43620  400100    17427993000\n",
       "4 2016-12-26  43310  43660  43090  43340  358200    15547803000"
      ]
     },
     "execution_count": 32,
     "metadata": {
      "tags": []
     },
     "output_type": "execute_result"
    }
   ],
   "source": [
    "# приведем формата даты к стандарту datetime. \n",
    "# это стандартный тип данных, который позволит нам красиво отображать графики по временнЫм осям\n",
    "# и делать разные операции, например заполнять недостающие данные по дням\n",
    "df['Date'] = pd.to_datetime(df['Date'], format = '%Y-%m-%d')\n",
    "df.head(5)\n"
   ]
  },
  {
   "cell_type": "code",
   "execution_count": 0,
   "metadata": {
    "colab": {},
    "colab_type": "code",
    "id": "h-cN0f7N35MW",
    "outputId": "feaf1f47-5d41-4213-84c0-37a20d334bbb"
   },
   "outputs": [
    {
     "data": {
      "text/html": [
       "<div>\n",
       "<table border=\"1\" class=\"dataframe\">\n",
       "  <thead>\n",
       "    <tr style=\"text-align: right;\">\n",
       "      <th></th>\n",
       "      <th>Open</th>\n",
       "      <th>High</th>\n",
       "      <th>Low</th>\n",
       "      <th>Close</th>\n",
       "      <th>Volume</th>\n",
       "      <th>Stock Trading</th>\n",
       "    </tr>\n",
       "    <tr>\n",
       "      <th>Date</th>\n",
       "      <th></th>\n",
       "      <th></th>\n",
       "      <th></th>\n",
       "      <th></th>\n",
       "      <th></th>\n",
       "      <th></th>\n",
       "    </tr>\n",
       "  </thead>\n",
       "  <tbody>\n",
       "    <tr>\n",
       "      <th>2016-12-30</th>\n",
       "      <td>42120</td>\n",
       "      <td>42330</td>\n",
       "      <td>41700</td>\n",
       "      <td>41830</td>\n",
       "      <td>610000</td>\n",
       "      <td>25628028000</td>\n",
       "    </tr>\n",
       "    <tr>\n",
       "      <th>2016-12-29</th>\n",
       "      <td>43000</td>\n",
       "      <td>43220</td>\n",
       "      <td>42540</td>\n",
       "      <td>42660</td>\n",
       "      <td>448400</td>\n",
       "      <td>19188227000</td>\n",
       "    </tr>\n",
       "    <tr>\n",
       "      <th>2016-12-28</th>\n",
       "      <td>43940</td>\n",
       "      <td>43970</td>\n",
       "      <td>43270</td>\n",
       "      <td>43270</td>\n",
       "      <td>339900</td>\n",
       "      <td>14780670000</td>\n",
       "    </tr>\n",
       "    <tr>\n",
       "      <th>2016-12-27</th>\n",
       "      <td>43140</td>\n",
       "      <td>43700</td>\n",
       "      <td>43140</td>\n",
       "      <td>43620</td>\n",
       "      <td>400100</td>\n",
       "      <td>17427993000</td>\n",
       "    </tr>\n",
       "    <tr>\n",
       "      <th>2016-12-26</th>\n",
       "      <td>43310</td>\n",
       "      <td>43660</td>\n",
       "      <td>43090</td>\n",
       "      <td>43340</td>\n",
       "      <td>358200</td>\n",
       "      <td>15547803000</td>\n",
       "    </tr>\n",
       "  </tbody>\n",
       "</table>\n",
       "</div>"
      ],
      "text/plain": [
       "             Open   High    Low  Close  Volume  Stock Trading\n",
       "Date                                                         \n",
       "2016-12-30  42120  42330  41700  41830  610000    25628028000\n",
       "2016-12-29  43000  43220  42540  42660  448400    19188227000\n",
       "2016-12-28  43940  43970  43270  43270  339900    14780670000\n",
       "2016-12-27  43140  43700  43140  43620  400100    17427993000\n",
       "2016-12-26  43310  43660  43090  43340  358200    15547803000"
      ]
     },
     "execution_count": 35,
     "metadata": {
      "tags": []
     },
     "output_type": "execute_result"
    }
   ],
   "source": [
    "# переименуем индексы строк в даты\n",
    "df = df.set_index(pd.DatetimeIndex(df['Date']))\n",
    "# столбец Date нам больше не нужен, удалим его\n",
    "df.drop(['Date'], axis =1, inplace = True)\n",
    "df.head(5)"
   ]
  },
  {
   "cell_type": "code",
   "execution_count": 0,
   "metadata": {
    "colab": {},
    "colab_type": "code",
    "id": "00p2mmlJ35Mk",
    "outputId": "a8b470bd-e51c-4abf-93a5-545143bd9f2d"
   },
   "outputs": [
    {
     "name": "stdout",
     "output_type": "stream",
     "text": [
      "Open             0\n",
      "High             0\n",
      "Low              0\n",
      "Close            0\n",
      "Volume           0\n",
      "Stock Trading    0\n",
      "dtype: int64\n"
     ]
    },
    {
     "data": {
      "text/html": [
       "<div>\n",
       "<table border=\"1\" class=\"dataframe\">\n",
       "  <thead>\n",
       "    <tr style=\"text-align: right;\">\n",
       "      <th></th>\n",
       "      <th>Open</th>\n",
       "      <th>High</th>\n",
       "      <th>Low</th>\n",
       "      <th>Close</th>\n",
       "      <th>Volume</th>\n",
       "      <th>Stock Trading</th>\n",
       "    </tr>\n",
       "    <tr>\n",
       "      <th>Date</th>\n",
       "      <th></th>\n",
       "      <th></th>\n",
       "      <th></th>\n",
       "      <th></th>\n",
       "      <th></th>\n",
       "      <th></th>\n",
       "    </tr>\n",
       "  </thead>\n",
       "  <tbody>\n",
       "    <tr>\n",
       "      <th>2016-12-16</th>\n",
       "      <td>43350</td>\n",
       "      <td>43550</td>\n",
       "      <td>42810</td>\n",
       "      <td>43130</td>\n",
       "      <td>542000</td>\n",
       "      <td>23380606000</td>\n",
       "    </tr>\n",
       "    <tr>\n",
       "      <th>2016-12-17</th>\n",
       "      <td>43350</td>\n",
       "      <td>43550</td>\n",
       "      <td>42810</td>\n",
       "      <td>43130</td>\n",
       "      <td>542000</td>\n",
       "      <td>23380606000</td>\n",
       "    </tr>\n",
       "    <tr>\n",
       "      <th>2016-12-18</th>\n",
       "      <td>43350</td>\n",
       "      <td>43550</td>\n",
       "      <td>42810</td>\n",
       "      <td>43130</td>\n",
       "      <td>542000</td>\n",
       "      <td>23380606000</td>\n",
       "    </tr>\n",
       "    <tr>\n",
       "      <th>2016-12-19</th>\n",
       "      <td>42790</td>\n",
       "      <td>43150</td>\n",
       "      <td>42740</td>\n",
       "      <td>43130</td>\n",
       "      <td>358700</td>\n",
       "      <td>15428531000</td>\n",
       "    </tr>\n",
       "    <tr>\n",
       "      <th>2016-12-20</th>\n",
       "      <td>42910</td>\n",
       "      <td>43630</td>\n",
       "      <td>42860</td>\n",
       "      <td>43620</td>\n",
       "      <td>499400</td>\n",
       "      <td>21606102000</td>\n",
       "    </tr>\n",
       "    <tr>\n",
       "      <th>2016-12-21</th>\n",
       "      <td>43900</td>\n",
       "      <td>44370</td>\n",
       "      <td>43610</td>\n",
       "      <td>44000</td>\n",
       "      <td>658900</td>\n",
       "      <td>28994316000</td>\n",
       "    </tr>\n",
       "    <tr>\n",
       "      <th>2016-12-22</th>\n",
       "      <td>43660</td>\n",
       "      <td>43840</td>\n",
       "      <td>43190</td>\n",
       "      <td>43480</td>\n",
       "      <td>381600</td>\n",
       "      <td>16586491000</td>\n",
       "    </tr>\n",
       "    <tr>\n",
       "      <th>2016-12-23</th>\n",
       "      <td>43660</td>\n",
       "      <td>43840</td>\n",
       "      <td>43190</td>\n",
       "      <td>43480</td>\n",
       "      <td>381600</td>\n",
       "      <td>16586491000</td>\n",
       "    </tr>\n",
       "    <tr>\n",
       "      <th>2016-12-24</th>\n",
       "      <td>43660</td>\n",
       "      <td>43840</td>\n",
       "      <td>43190</td>\n",
       "      <td>43480</td>\n",
       "      <td>381600</td>\n",
       "      <td>16586491000</td>\n",
       "    </tr>\n",
       "    <tr>\n",
       "      <th>2016-12-25</th>\n",
       "      <td>43660</td>\n",
       "      <td>43840</td>\n",
       "      <td>43190</td>\n",
       "      <td>43480</td>\n",
       "      <td>381600</td>\n",
       "      <td>16586491000</td>\n",
       "    </tr>\n",
       "    <tr>\n",
       "      <th>2016-12-26</th>\n",
       "      <td>43310</td>\n",
       "      <td>43660</td>\n",
       "      <td>43090</td>\n",
       "      <td>43340</td>\n",
       "      <td>358200</td>\n",
       "      <td>15547803000</td>\n",
       "    </tr>\n",
       "    <tr>\n",
       "      <th>2016-12-27</th>\n",
       "      <td>43140</td>\n",
       "      <td>43700</td>\n",
       "      <td>43140</td>\n",
       "      <td>43620</td>\n",
       "      <td>400100</td>\n",
       "      <td>17427993000</td>\n",
       "    </tr>\n",
       "    <tr>\n",
       "      <th>2016-12-28</th>\n",
       "      <td>43940</td>\n",
       "      <td>43970</td>\n",
       "      <td>43270</td>\n",
       "      <td>43270</td>\n",
       "      <td>339900</td>\n",
       "      <td>14780670000</td>\n",
       "    </tr>\n",
       "    <tr>\n",
       "      <th>2016-12-29</th>\n",
       "      <td>43000</td>\n",
       "      <td>43220</td>\n",
       "      <td>42540</td>\n",
       "      <td>42660</td>\n",
       "      <td>448400</td>\n",
       "      <td>19188227000</td>\n",
       "    </tr>\n",
       "    <tr>\n",
       "      <th>2016-12-30</th>\n",
       "      <td>42120</td>\n",
       "      <td>42330</td>\n",
       "      <td>41700</td>\n",
       "      <td>41830</td>\n",
       "      <td>610000</td>\n",
       "      <td>25628028000</td>\n",
       "    </tr>\n",
       "  </tbody>\n",
       "</table>\n",
       "</div>"
      ],
      "text/plain": [
       "             Open   High    Low  Close  Volume  Stock Trading\n",
       "Date                                                         \n",
       "2016-12-16  43350  43550  42810  43130  542000    23380606000\n",
       "2016-12-17  43350  43550  42810  43130  542000    23380606000\n",
       "2016-12-18  43350  43550  42810  43130  542000    23380606000\n",
       "2016-12-19  42790  43150  42740  43130  358700    15428531000\n",
       "2016-12-20  42910  43630  42860  43620  499400    21606102000\n",
       "2016-12-21  43900  44370  43610  44000  658900    28994316000\n",
       "2016-12-22  43660  43840  43190  43480  381600    16586491000\n",
       "2016-12-23  43660  43840  43190  43480  381600    16586491000\n",
       "2016-12-24  43660  43840  43190  43480  381600    16586491000\n",
       "2016-12-25  43660  43840  43190  43480  381600    16586491000\n",
       "2016-12-26  43310  43660  43090  43340  358200    15547803000\n",
       "2016-12-27  43140  43700  43140  43620  400100    17427993000\n",
       "2016-12-28  43940  43970  43270  43270  339900    14780670000\n",
       "2016-12-29  43000  43220  42540  42660  448400    19188227000\n",
       "2016-12-30  42120  42330  41700  41830  610000    25628028000"
      ]
     },
     "execution_count": 50,
     "metadata": {
      "tags": []
     },
     "output_type": "execute_result"
    }
   ],
   "source": [
    "# заполним данные по пропущенным дням\n",
    "# метод resample('d') выполняет группировку данных по дням,\n",
    "# а ffill заполнит получившиеся пропуски, взяв предыдущее значение вместо пропущенного\n",
    "df = df.resample('d').ffill()\n",
    "print(df.isnull().sum()) # проверим, что пропущенных дней больше нет\n",
    "df.tail(15) # полюбуемся на результат предварительной обработки"
   ]
  },
  {
   "cell_type": "code",
   "execution_count": 0,
   "metadata": {
    "colab": {},
    "colab_type": "code",
    "id": "K1HbxfcF35Mu",
    "outputId": "7ede9db5-3789-4871-88d0-65c223aa304b",
    "scrolled": true
   },
   "outputs": [
    {
     "data": {
      "text/plain": [
       "Date\n",
       "2012-01-04    14050\n",
       "2012-01-05    13720\n",
       "2012-01-06    13990\n",
       "2012-01-07    13990\n",
       "2012-01-08    13990\n",
       "Freq: D, Name: Open, dtype: int64"
      ]
     },
     "execution_count": 42,
     "metadata": {
      "tags": []
     },
     "output_type": "execute_result"
    }
   ],
   "source": [
    "# создадим отдельный Series для цен открытия биржи\n",
    "OpenPrice = df.Open\n",
    "OpenPrice.head()"
   ]
  },
  {
   "cell_type": "markdown",
   "metadata": {
    "colab_type": "text",
    "id": "oS7Z7MeR35M4"
   },
   "source": [
    "Нарисуем приближение простым скользящим средним с шириной окна 2"
   ]
  },
  {
   "cell_type": "code",
   "execution_count": 0,
   "metadata": {
    "colab": {},
    "colab_type": "code",
    "id": "yTZl9rhi35M7",
    "outputId": "c45d24a4-5cdc-4284-f81f-fefb3a0d1a65"
   },
   "outputs": [
    {
     "data": {
      "image/png": "[encoded data removed]",
      "text/plain": [
       "<matplotlib.figure.Figure at 0x110d5b7f0>"
      ]
     },
     "metadata": {
      "tags": []
     },
     "output_type": "display_data"
    }
   ],
   "source": [
    "# метод rolling умеет делать скользящие преобразования. \n",
    "# Параметр window задает ширину окна, а mean() говорит, что в окне нужно взять среднее арифметическое\n",
    "result1 = OpenPrice.rolling(window = 2).mean()\n",
    "# Нарисуем красивый график\n",
    "plt.plot(OpenPrice,label=\"Actual values\")\n",
    "plt.plot(result1,label=\"SMA with window=2\")\n",
    "plt.legend(loc=\"upper left\")\n",
    "plt.show()"
   ]
  },
  {
   "cell_type": "markdown",
   "metadata": {
    "colab_type": "text",
    "id": "kbq0eg4p35NG"
   },
   "source": [
    "Нарисуем приближение простым скользящим средним с шириной окна 10"
   ]
  },
  {
   "cell_type": "code",
   "execution_count": 0,
   "metadata": {
    "colab": {},
    "colab_type": "code",
    "id": "tRdBjRza35NN",
    "outputId": "da16ff8d-ac74-44f0-bd45-73648241a176",
    "scrolled": true
   },
   "outputs": [
    {
     "data": {
      "image/png": "[encoded data removed]",
      "text/plain": [
       "<matplotlib.figure.Figure at 0x10ffb0198>"
      ]
     },
     "metadata": {
      "tags": []
     },
     "output_type": "display_data"
    }
   ],
   "source": [
    "result2 = OpenPrice.rolling(window = 10).mean()\n",
    "plt.plot(OpenPrice,label=\"Actual values\")\n",
    "plt.plot(result2,label=\"SMA with window=10\")\n",
    "plt.legend(loc=\"upper left\")\n",
    "plt.show()"
   ]
  },
  {
   "cell_type": "markdown",
   "metadata": {
    "colab_type": "text",
    "id": "b2aZez8-35NW"
   },
   "source": [
    "Нарисуем приближение простым скользящим средним с шириной окна 50.\n",
    "\n",
    "Можно заметить, что оранжевый график приближения начинается позже графика истинных значений.\n",
    "\n",
    "Подумайте, почему так получается?"
   ]
  },
  {
   "cell_type": "code",
   "execution_count": 0,
   "metadata": {
    "colab": {},
    "colab_type": "code",
    "id": "vBmHqSzj35NZ",
    "outputId": "125331d0-6f1d-4cdd-d674-7361b4940aa2",
    "scrolled": false
   },
   "outputs": [
    {
     "data": {
      "image/png": "[encoded data removed]",
      "text/plain": [
       "<matplotlib.figure.Figure at 0x10ea79cf8>"
      ]
     },
     "metadata": {
      "tags": []
     },
     "output_type": "display_data"
    }
   ],
   "source": [
    "result3 = OpenPrice.rolling(window = 50).mean()\n",
    "plt.plot(OpenPrice,label=\"Actual values\")\n",
    "plt.plot(result3,label=\"SMA with window=50\")\n",
    "plt.legend(loc=\"upper left\")\n",
    "plt.show()"
   ]
  },
  {
   "cell_type": "markdown",
   "metadata": {},
   "source": [
    "А теперь OLARPOWER_CUMULDAYBYDAY2. \n",
    "\n",
    "В нём содержится информация о производстве энергии солнечными батареями.\n",
    "\n",
    "→ Агрегируйте данные по неделям.\n",
    "\n",
    "→ Выполните задания ниже."
   ]
  },
  {
   "cell_type": "code",
   "execution_count": 5,
   "metadata": {},
   "outputs": [],
   "source": [
    "df = pd.read_csv('input/solarpower_cumuldaybyday2.csv')\n",
    "df = df.drop(['Unnamed: 2'], axis=1,)"
   ]
  },
  {
   "cell_type": "code",
   "execution_count": 6,
   "metadata": {
    "scrolled": true
   },
   "outputs": [
    {
     "data": {
      "text/html": [
       "<div>\n",
       "<style scoped>\n",
       "    .dataframe tbody tr th:only-of-type {\n",
       "        vertical-align: middle;\n",
       "    }\n",
       "\n",
       "    .dataframe tbody tr th {\n",
       "        vertical-align: top;\n",
       "    }\n",
       "\n",
       "    .dataframe thead th {\n",
       "        text-align: right;\n",
       "    }\n",
       "</style>\n",
       "<table border=\"1\" class=\"dataframe\">\n",
       "  <thead>\n",
       "    <tr style=\"text-align: right;\">\n",
       "      <th></th>\n",
       "      <th>date</th>\n",
       "      <th>cum_power</th>\n",
       "    </tr>\n",
       "  </thead>\n",
       "  <tbody>\n",
       "    <tr>\n",
       "      <th>0</th>\n",
       "      <td>26/10/2011</td>\n",
       "      <td>0.1</td>\n",
       "    </tr>\n",
       "    <tr>\n",
       "      <th>1</th>\n",
       "      <td>27/10/2011</td>\n",
       "      <td>10.2</td>\n",
       "    </tr>\n",
       "    <tr>\n",
       "      <th>2</th>\n",
       "      <td>28/10/2011</td>\n",
       "      <td>20.2</td>\n",
       "    </tr>\n",
       "    <tr>\n",
       "      <th>3</th>\n",
       "      <td>29/10/2011</td>\n",
       "      <td>29.6</td>\n",
       "    </tr>\n",
       "    <tr>\n",
       "      <th>4</th>\n",
       "      <td>30/10/2011</td>\n",
       "      <td>34.2</td>\n",
       "    </tr>\n",
       "    <tr>\n",
       "      <th>...</th>\n",
       "      <td>...</td>\n",
       "      <td>...</td>\n",
       "    </tr>\n",
       "    <tr>\n",
       "      <th>2553</th>\n",
       "      <td>22/10/2018</td>\n",
       "      <td>28101.0</td>\n",
       "    </tr>\n",
       "    <tr>\n",
       "      <th>2554</th>\n",
       "      <td>23/10/2018</td>\n",
       "      <td>28109.0</td>\n",
       "    </tr>\n",
       "    <tr>\n",
       "      <th>2555</th>\n",
       "      <td>24/10/2018</td>\n",
       "      <td>28115.0</td>\n",
       "    </tr>\n",
       "    <tr>\n",
       "      <th>2556</th>\n",
       "      <td>25/10/2018</td>\n",
       "      <td>28117.0</td>\n",
       "    </tr>\n",
       "    <tr>\n",
       "      <th>2557</th>\n",
       "      <td>26/10/2018</td>\n",
       "      <td>28120.0</td>\n",
       "    </tr>\n",
       "  </tbody>\n",
       "</table>\n",
       "<p>2558 rows × 2 columns</p>\n",
       "</div>"
      ],
      "text/plain": [
       "            date  cum_power\n",
       "0     26/10/2011        0.1\n",
       "1     27/10/2011       10.2\n",
       "2     28/10/2011       20.2\n",
       "3     29/10/2011       29.6\n",
       "4     30/10/2011       34.2\n",
       "...          ...        ...\n",
       "2553  22/10/2018    28101.0\n",
       "2554  23/10/2018    28109.0\n",
       "2555  24/10/2018    28115.0\n",
       "2556  25/10/2018    28117.0\n",
       "2557  26/10/2018    28120.0\n",
       "\n",
       "[2558 rows x 2 columns]"
      ]
     },
     "execution_count": 6,
     "metadata": {},
     "output_type": "execute_result"
    }
   ],
   "source": [
    "df"
   ]
  },
  {
   "cell_type": "markdown",
   "metadata": {},
   "source": [
    "Постройте ряд еженедельного производства энергии, вычислив приращения полученного недельного ряда. В поле для ответа введите значение произведенной энергии за неделю с 6 по 12 октября 2014, округлив до целых."
   ]
  },
  {
   "cell_type": "code",
   "execution_count": 9,
   "metadata": {
    "scrolled": true
   },
   "outputs": [
    {
     "data": {
      "text/html": [
       "<div>\n",
       "<style scoped>\n",
       "    .dataframe tbody tr th:only-of-type {\n",
       "        vertical-align: middle;\n",
       "    }\n",
       "\n",
       "    .dataframe tbody tr th {\n",
       "        vertical-align: top;\n",
       "    }\n",
       "\n",
       "    .dataframe thead th {\n",
       "        text-align: right;\n",
       "    }\n",
       "</style>\n",
       "<table border=\"1\" class=\"dataframe\">\n",
       "  <thead>\n",
       "    <tr style=\"text-align: right;\">\n",
       "      <th></th>\n",
       "      <th>date</th>\n",
       "      <th>cum_power</th>\n",
       "    </tr>\n",
       "  </thead>\n",
       "  <tbody>\n",
       "    <tr>\n",
       "      <th>0</th>\n",
       "      <td>2011-10-26</td>\n",
       "      <td>0.1</td>\n",
       "    </tr>\n",
       "    <tr>\n",
       "      <th>1</th>\n",
       "      <td>2011-10-27</td>\n",
       "      <td>10.2</td>\n",
       "    </tr>\n",
       "    <tr>\n",
       "      <th>2</th>\n",
       "      <td>2011-10-28</td>\n",
       "      <td>20.2</td>\n",
       "    </tr>\n",
       "    <tr>\n",
       "      <th>3</th>\n",
       "      <td>2011-10-29</td>\n",
       "      <td>29.6</td>\n",
       "    </tr>\n",
       "    <tr>\n",
       "      <th>4</th>\n",
       "      <td>2011-10-30</td>\n",
       "      <td>34.2</td>\n",
       "    </tr>\n",
       "  </tbody>\n",
       "</table>\n",
       "</div>"
      ],
      "text/plain": [
       "        date  cum_power\n",
       "0 2011-10-26        0.1\n",
       "1 2011-10-27       10.2\n",
       "2 2011-10-28       20.2\n",
       "3 2011-10-29       29.6\n",
       "4 2011-10-30       34.2"
      ]
     },
     "execution_count": 9,
     "metadata": {},
     "output_type": "execute_result"
    }
   ],
   "source": [
    "# приведем формата даты к стандарту datetime. \n",
    "# это стандартный тип данных, который позволит нам красиво отображать графики по временнЫм осям\n",
    "# и делать разные операции, например заполнять недостающие данные по дням\n",
    "df['date'] = pd.to_datetime(df['date'], format = '%d/%m/%Y')\n",
    "df.head(5)\n"
   ]
  },
  {
   "cell_type": "code",
   "execution_count": 10,
   "metadata": {
    "scrolled": true
   },
   "outputs": [
    {
     "data": {
      "text/html": [
       "<div>\n",
       "<style scoped>\n",
       "    .dataframe tbody tr th:only-of-type {\n",
       "        vertical-align: middle;\n",
       "    }\n",
       "\n",
       "    .dataframe tbody tr th {\n",
       "        vertical-align: top;\n",
       "    }\n",
       "\n",
       "    .dataframe thead th {\n",
       "        text-align: right;\n",
       "    }\n",
       "</style>\n",
       "<table border=\"1\" class=\"dataframe\">\n",
       "  <thead>\n",
       "    <tr style=\"text-align: right;\">\n",
       "      <th></th>\n",
       "      <th>cum_power</th>\n",
       "    </tr>\n",
       "    <tr>\n",
       "      <th>date</th>\n",
       "      <th></th>\n",
       "    </tr>\n",
       "  </thead>\n",
       "  <tbody>\n",
       "    <tr>\n",
       "      <th>2011-10-26</th>\n",
       "      <td>0.1</td>\n",
       "    </tr>\n",
       "    <tr>\n",
       "      <th>2011-10-27</th>\n",
       "      <td>10.2</td>\n",
       "    </tr>\n",
       "    <tr>\n",
       "      <th>2011-10-28</th>\n",
       "      <td>20.2</td>\n",
       "    </tr>\n",
       "    <tr>\n",
       "      <th>2011-10-29</th>\n",
       "      <td>29.6</td>\n",
       "    </tr>\n",
       "    <tr>\n",
       "      <th>2011-10-30</th>\n",
       "      <td>34.2</td>\n",
       "    </tr>\n",
       "  </tbody>\n",
       "</table>\n",
       "</div>"
      ],
      "text/plain": [
       "            cum_power\n",
       "date                 \n",
       "2011-10-26        0.1\n",
       "2011-10-27       10.2\n",
       "2011-10-28       20.2\n",
       "2011-10-29       29.6\n",
       "2011-10-30       34.2"
      ]
     },
     "execution_count": 10,
     "metadata": {},
     "output_type": "execute_result"
    }
   ],
   "source": [
    "# переименуем индексы строк в даты\n",
    "df = df.set_index(pd.DatetimeIndex(df['date']))\n",
    "\n",
    "# столбец Date нам больше не нужен, удалим его\n",
    "df.drop(['date'], axis =1, inplace = True)\n",
    "df.head(5)"
   ]
  },
  {
   "cell_type": "code",
   "execution_count": 22,
   "metadata": {
    "scrolled": false
   },
   "outputs": [
    {
     "name": "stdout",
     "output_type": "stream",
     "text": [
      "cum_power       0\n",
      "weekly_power    1\n",
      "dtype: int64\n"
     ]
    },
    {
     "data": {
      "text/html": [
       "<div>\n",
       "<style scoped>\n",
       "    .dataframe tbody tr th:only-of-type {\n",
       "        vertical-align: middle;\n",
       "    }\n",
       "\n",
       "    .dataframe tbody tr th {\n",
       "        vertical-align: top;\n",
       "    }\n",
       "\n",
       "    .dataframe thead th {\n",
       "        text-align: right;\n",
       "    }\n",
       "</style>\n",
       "<table border=\"1\" class=\"dataframe\">\n",
       "  <thead>\n",
       "    <tr style=\"text-align: right;\">\n",
       "      <th></th>\n",
       "      <th>cum_power</th>\n",
       "      <th>weekly_power</th>\n",
       "    </tr>\n",
       "    <tr>\n",
       "      <th>date</th>\n",
       "      <th></th>\n",
       "      <th></th>\n",
       "    </tr>\n",
       "  </thead>\n",
       "  <tbody>\n",
       "    <tr>\n",
       "      <th>2011-10-30</th>\n",
       "      <td>34.2</td>\n",
       "      <td>NaN</td>\n",
       "    </tr>\n",
       "    <tr>\n",
       "      <th>2011-11-06</th>\n",
       "      <td>71.8</td>\n",
       "      <td>37.6</td>\n",
       "    </tr>\n",
       "    <tr>\n",
       "      <th>2011-11-13</th>\n",
       "      <td>99.9</td>\n",
       "      <td>28.1</td>\n",
       "    </tr>\n",
       "    <tr>\n",
       "      <th>2011-11-20</th>\n",
       "      <td>136.5</td>\n",
       "      <td>36.6</td>\n",
       "    </tr>\n",
       "    <tr>\n",
       "      <th>2011-11-27</th>\n",
       "      <td>156.1</td>\n",
       "      <td>19.6</td>\n",
       "    </tr>\n",
       "    <tr>\n",
       "      <th>2011-12-04</th>\n",
       "      <td>175.3</td>\n",
       "      <td>19.2</td>\n",
       "    </tr>\n",
       "    <tr>\n",
       "      <th>2011-12-11</th>\n",
       "      <td>192.6</td>\n",
       "      <td>17.3</td>\n",
       "    </tr>\n",
       "    <tr>\n",
       "      <th>2011-12-18</th>\n",
       "      <td>205.4</td>\n",
       "      <td>12.8</td>\n",
       "    </tr>\n",
       "    <tr>\n",
       "      <th>2011-12-25</th>\n",
       "      <td>219.7</td>\n",
       "      <td>14.3</td>\n",
       "    </tr>\n",
       "    <tr>\n",
       "      <th>2012-01-01</th>\n",
       "      <td>226.7</td>\n",
       "      <td>7.0</td>\n",
       "    </tr>\n",
       "    <tr>\n",
       "      <th>2012-01-08</th>\n",
       "      <td>240.6</td>\n",
       "      <td>13.9</td>\n",
       "    </tr>\n",
       "    <tr>\n",
       "      <th>2012-01-15</th>\n",
       "      <td>258.1</td>\n",
       "      <td>17.5</td>\n",
       "    </tr>\n",
       "    <tr>\n",
       "      <th>2012-01-22</th>\n",
       "      <td>278.9</td>\n",
       "      <td>20.8</td>\n",
       "    </tr>\n",
       "    <tr>\n",
       "      <th>2012-01-29</th>\n",
       "      <td>300.3</td>\n",
       "      <td>21.4</td>\n",
       "    </tr>\n",
       "    <tr>\n",
       "      <th>2012-02-05</th>\n",
       "      <td>334.2</td>\n",
       "      <td>33.9</td>\n",
       "    </tr>\n",
       "  </tbody>\n",
       "</table>\n",
       "</div>"
      ],
      "text/plain": [
       "            cum_power  weekly_power\n",
       "date                               \n",
       "2011-10-30       34.2           NaN\n",
       "2011-11-06       71.8          37.6\n",
       "2011-11-13       99.9          28.1\n",
       "2011-11-20      136.5          36.6\n",
       "2011-11-27      156.1          19.6\n",
       "2011-12-04      175.3          19.2\n",
       "2011-12-11      192.6          17.3\n",
       "2011-12-18      205.4          12.8\n",
       "2011-12-25      219.7          14.3\n",
       "2012-01-01      226.7           7.0\n",
       "2012-01-08      240.6          13.9\n",
       "2012-01-15      258.1          17.5\n",
       "2012-01-22      278.9          20.8\n",
       "2012-01-29      300.3          21.4\n",
       "2012-02-05      334.2          33.9"
      ]
     },
     "execution_count": 22,
     "metadata": {},
     "output_type": "execute_result"
    }
   ],
   "source": [
    "# заполним данные по пропущенным дням\n",
    "# метод resample('w') выполняет группировку данных по неделям,\n",
    "# а ffill заполнит получившиеся пропуски, взяв предыдущее значение вместо пропущенного\n",
    "df = df.resample('w').ffill()\n",
    "print(df.isnull().sum()) # проверим, что пропущенных дней больше нет\n",
    "df.head(15) # полюбуемся на результат предварительной обработки"
   ]
  },
  {
   "cell_type": "code",
   "execution_count": 23,
   "metadata": {},
   "outputs": [],
   "source": [
    "# Посчитаем разницу между текущим значением и предыдущим (по неделям)\n",
    "df['weekly_power'] = df.diff()"
   ]
  },
  {
   "cell_type": "code",
   "execution_count": 25,
   "metadata": {},
   "outputs": [],
   "source": [
    "# Есть один пропуск - первое значение. Так и быть, заполню его данным из колонки cum_power\n",
    "df['weekly_power'] = df['weekly_power'].fillna(cum_power)"
   ]
  },
  {
   "cell_type": "code",
   "execution_count": 26,
   "metadata": {
    "scrolled": true
   },
   "outputs": [
    {
     "data": {
      "text/html": [
       "<div>\n",
       "<style scoped>\n",
       "    .dataframe tbody tr th:only-of-type {\n",
       "        vertical-align: middle;\n",
       "    }\n",
       "\n",
       "    .dataframe tbody tr th {\n",
       "        vertical-align: top;\n",
       "    }\n",
       "\n",
       "    .dataframe thead th {\n",
       "        text-align: right;\n",
       "    }\n",
       "</style>\n",
       "<table border=\"1\" class=\"dataframe\">\n",
       "  <thead>\n",
       "    <tr style=\"text-align: right;\">\n",
       "      <th></th>\n",
       "      <th>cum_power</th>\n",
       "      <th>weekly_power</th>\n",
       "    </tr>\n",
       "    <tr>\n",
       "      <th>date</th>\n",
       "      <th></th>\n",
       "      <th></th>\n",
       "    </tr>\n",
       "  </thead>\n",
       "  <tbody>\n",
       "    <tr>\n",
       "      <th>2011-10-30</th>\n",
       "      <td>34.2</td>\n",
       "      <td>34.2</td>\n",
       "    </tr>\n",
       "    <tr>\n",
       "      <th>2011-11-06</th>\n",
       "      <td>71.8</td>\n",
       "      <td>37.6</td>\n",
       "    </tr>\n",
       "    <tr>\n",
       "      <th>2011-11-13</th>\n",
       "      <td>99.9</td>\n",
       "      <td>28.1</td>\n",
       "    </tr>\n",
       "    <tr>\n",
       "      <th>2011-11-20</th>\n",
       "      <td>136.5</td>\n",
       "      <td>36.6</td>\n",
       "    </tr>\n",
       "    <tr>\n",
       "      <th>2011-11-27</th>\n",
       "      <td>156.1</td>\n",
       "      <td>19.6</td>\n",
       "    </tr>\n",
       "    <tr>\n",
       "      <th>2011-12-04</th>\n",
       "      <td>175.3</td>\n",
       "      <td>19.2</td>\n",
       "    </tr>\n",
       "    <tr>\n",
       "      <th>2011-12-11</th>\n",
       "      <td>192.6</td>\n",
       "      <td>17.3</td>\n",
       "    </tr>\n",
       "    <tr>\n",
       "      <th>2011-12-18</th>\n",
       "      <td>205.4</td>\n",
       "      <td>12.8</td>\n",
       "    </tr>\n",
       "    <tr>\n",
       "      <th>2011-12-25</th>\n",
       "      <td>219.7</td>\n",
       "      <td>14.3</td>\n",
       "    </tr>\n",
       "    <tr>\n",
       "      <th>2012-01-01</th>\n",
       "      <td>226.7</td>\n",
       "      <td>7.0</td>\n",
       "    </tr>\n",
       "    <tr>\n",
       "      <th>2012-01-08</th>\n",
       "      <td>240.6</td>\n",
       "      <td>13.9</td>\n",
       "    </tr>\n",
       "    <tr>\n",
       "      <th>2012-01-15</th>\n",
       "      <td>258.1</td>\n",
       "      <td>17.5</td>\n",
       "    </tr>\n",
       "    <tr>\n",
       "      <th>2012-01-22</th>\n",
       "      <td>278.9</td>\n",
       "      <td>20.8</td>\n",
       "    </tr>\n",
       "    <tr>\n",
       "      <th>2012-01-29</th>\n",
       "      <td>300.3</td>\n",
       "      <td>21.4</td>\n",
       "    </tr>\n",
       "    <tr>\n",
       "      <th>2012-02-05</th>\n",
       "      <td>334.2</td>\n",
       "      <td>33.9</td>\n",
       "    </tr>\n",
       "  </tbody>\n",
       "</table>\n",
       "</div>"
      ],
      "text/plain": [
       "            cum_power  weekly_power\n",
       "date                               \n",
       "2011-10-30       34.2          34.2\n",
       "2011-11-06       71.8          37.6\n",
       "2011-11-13       99.9          28.1\n",
       "2011-11-20      136.5          36.6\n",
       "2011-11-27      156.1          19.6\n",
       "2011-12-04      175.3          19.2\n",
       "2011-12-11      192.6          17.3\n",
       "2011-12-18      205.4          12.8\n",
       "2011-12-25      219.7          14.3\n",
       "2012-01-01      226.7           7.0\n",
       "2012-01-08      240.6          13.9\n",
       "2012-01-15      258.1          17.5\n",
       "2012-01-22      278.9          20.8\n",
       "2012-01-29      300.3          21.4\n",
       "2012-02-05      334.2          33.9"
      ]
     },
     "execution_count": 26,
     "metadata": {},
     "output_type": "execute_result"
    }
   ],
   "source": [
    "df.head(15)"
   ]
  },
  {
   "cell_type": "code",
   "execution_count": 27,
   "metadata": {
    "scrolled": true
   },
   "outputs": [
    {
     "data": {
      "text/html": [
       "<div>\n",
       "<style scoped>\n",
       "    .dataframe tbody tr th:only-of-type {\n",
       "        vertical-align: middle;\n",
       "    }\n",
       "\n",
       "    .dataframe tbody tr th {\n",
       "        vertical-align: top;\n",
       "    }\n",
       "\n",
       "    .dataframe thead th {\n",
       "        text-align: right;\n",
       "    }\n",
       "</style>\n",
       "<table border=\"1\" class=\"dataframe\">\n",
       "  <thead>\n",
       "    <tr style=\"text-align: right;\">\n",
       "      <th></th>\n",
       "      <th>weekly_power</th>\n",
       "    </tr>\n",
       "    <tr>\n",
       "      <th>date</th>\n",
       "      <th></th>\n",
       "    </tr>\n",
       "  </thead>\n",
       "  <tbody>\n",
       "    <tr>\n",
       "      <th>2014-10-05</th>\n",
       "      <td>61.0</td>\n",
       "    </tr>\n",
       "    <tr>\n",
       "      <th>2014-10-12</th>\n",
       "      <td>44.0</td>\n",
       "    </tr>\n",
       "    <tr>\n",
       "      <th>2014-10-19</th>\n",
       "      <td>49.0</td>\n",
       "    </tr>\n",
       "    <tr>\n",
       "      <th>2014-10-26</th>\n",
       "      <td>33.0</td>\n",
       "    </tr>\n",
       "  </tbody>\n",
       "</table>\n",
       "</div>"
      ],
      "text/plain": [
       "            weekly_power\n",
       "date                    \n",
       "2014-10-05          61.0\n",
       "2014-10-12          44.0\n",
       "2014-10-19          49.0\n",
       "2014-10-26          33.0"
      ]
     },
     "execution_count": 27,
     "metadata": {},
     "output_type": "execute_result"
    }
   ],
   "source": [
    "# Постройте ряд еженедельного производства энергии, вычислив приращения полученного недельного ряда.\n",
    "# В поле для ответа введите значение произведенной энергии за неделю с 6 по 12 октября 2014, округлив до целых.\n",
    "df.loc[(df.index.year==2014)&(df.index.month==10),['weekly_power']]"
   ]
  },
  {
   "cell_type": "markdown",
   "metadata": {},
   "source": [
    "Постройте ряд скользящего среднего для размера окна 4. Сколько элементов в ряде скользящего среднего?"
   ]
  },
  {
   "cell_type": "markdown",
   "metadata": {},
   "source": [
    "Нарисуем приближение простым скользящим средним с шириной окна 6"
   ]
  },
  {
   "cell_type": "code",
   "execution_count": 33,
   "metadata": {},
   "outputs": [
    {
     "data": {
      "text/plain": [
       "date\n",
       "2011-10-30    34.2\n",
       "2011-11-06    37.6\n",
       "2011-11-13    28.1\n",
       "2011-11-20    36.6\n",
       "2011-11-27    19.6\n",
       "Freq: W-SUN, Name: weekly_power, dtype: float64"
      ]
     },
     "execution_count": 33,
     "metadata": {},
     "output_type": "execute_result"
    }
   ],
   "source": [
    "# создадим отдельный Series для выработки энергии\n",
    "weekly_power = df.weekly_power\n",
    "weekly_power.head()"
   ]
  },
  {
   "cell_type": "code",
   "execution_count": 29,
   "metadata": {},
   "outputs": [],
   "source": [
    "df['moving_av'] = df['weekly_power'].rolling(window=4).mean()"
   ]
  },
  {
   "cell_type": "code",
   "execution_count": 31,
   "metadata": {},
   "outputs": [],
   "source": [
    "moving_av = df.weekly_power.rolling(window=4).mean()"
   ]
  },
  {
   "cell_type": "code",
   "execution_count": 30,
   "metadata": {
    "scrolled": true
   },
   "outputs": [
    {
     "data": {
      "text/plain": [
       "date\n",
       "2011-10-30       NaN\n",
       "2011-11-06       NaN\n",
       "2011-11-13       NaN\n",
       "2011-11-20    34.125\n",
       "2011-11-27    30.475\n",
       "               ...  \n",
       "2018-09-30    95.250\n",
       "2018-10-07    90.500\n",
       "2018-10-14    87.250\n",
       "2018-10-21    74.500\n",
       "2018-10-28    58.500\n",
       "Freq: W-SUN, Name: moving_av, Length: 366, dtype: float64"
      ]
     },
     "execution_count": 30,
     "metadata": {},
     "output_type": "execute_result"
    }
   ],
   "source": [
    "df['moving_av']"
   ]
  },
  {
   "cell_type": "code",
   "execution_count": 34,
   "metadata": {
    "scrolled": true
   },
   "outputs": [
    {
     "data": {
      "image/png": "[encoded data removed]",
      "text/plain": [
       "<Figure size 432x288 with 1 Axes>"
      ]
     },
     "metadata": {
      "needs_background": "light"
     },
     "output_type": "display_data"
    }
   ],
   "source": [
    "# Нарисуем красивый график\n",
    "plt.plot(weekly_power,label=\"Actual values\") # тут у нас оригинальный ряд\n",
    "plt.plot(moving_av,label=\"SMA with window=4\") # тут прогнозный\n",
    "plt.legend(loc=\"upper left\")\n",
    "plt.show()"
   ]
  },
  {
   "cell_type": "code",
   "execution_count": 36,
   "metadata": {
    "scrolled": true
   },
   "outputs": [
    {
     "data": {
      "text/plain": [
       "cum_power       8132.0\n",
       "weekly_power      28.0\n",
       "moving_av         21.5\n",
       "Name: 2014-02-09 00:00:00, dtype: float64"
      ]
     },
     "execution_count": 36,
     "metadata": {},
     "output_type": "execute_result"
    }
   ],
   "source": [
    "df.iloc[119]"
   ]
  },
  {
   "cell_type": "code",
   "execution_count": 37,
   "metadata": {},
   "outputs": [
    {
     "name": "stdout",
     "output_type": "stream",
     "text": [
      "<class 'pandas.core.frame.DataFrame'>\n",
      "DatetimeIndex: 366 entries, 2011-10-30 to 2018-10-28\n",
      "Freq: W-SUN\n",
      "Data columns (total 3 columns):\n",
      " #   Column        Non-Null Count  Dtype  \n",
      "---  ------        --------------  -----  \n",
      " 0   cum_power     366 non-null    float64\n",
      " 1   weekly_power  366 non-null    float64\n",
      " 2   moving_av     363 non-null    float64\n",
      "dtypes: float64(3)\n",
      "memory usage: 11.4 KB\n"
     ]
    }
   ],
   "source": [
    "df.info()"
   ]
  }
 ],
 "metadata": {
  "colab": {
   "name": "SMA_uniqlo_analysis.ipynb",
   "provenance": [],
   "version": "0.3.2"
  },
  "kernelspec": {
   "display_name": "Python 3",
   "language": "python",
   "name": "python3"
  },
  "language_info": {
   "codemirror_mode": {
    "name": "ipython",
    "version": 3
   },
   "file_extension": ".py",
   "mimetype": "text/x-python",
   "name": "python",
   "nbconvert_exporter": "python",
   "pygments_lexer": "ipython3",
   "version": "3.8.3"
  }
 },
 "nbformat": 4,
 "nbformat_minor": 1
}
