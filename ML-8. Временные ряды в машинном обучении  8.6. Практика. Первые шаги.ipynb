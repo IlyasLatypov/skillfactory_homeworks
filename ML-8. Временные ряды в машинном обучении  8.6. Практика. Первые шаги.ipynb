{
 "cells": [
  {
   "cell_type": "markdown",
   "metadata": {},
   "source": [
    "# \"Первые шаги\""
   ]
  },
  {
   "cell_type": "code",
   "execution_count": 1,
   "metadata": {
    "ExecuteTime": {
     "end_time": "2019-08-11T16:38:24.515634Z",
     "start_time": "2019-08-11T16:38:22.013322Z"
    }
   },
   "outputs": [],
   "source": [
    "import numpy as np, pandas as pd\n",
    "import matplotlib.pyplot as plt"
   ]
  },
  {
   "cell_type": "code",
   "execution_count": 2,
   "metadata": {
    "ExecuteTime": {
     "end_time": "2019-08-11T16:38:27.710187Z",
     "start_time": "2019-08-11T16:38:27.679268Z"
    }
   },
   "outputs": [
    {
     "data": {
      "text/html": [
       "<div>\n",
       "<style scoped>\n",
       "    .dataframe tbody tr th:only-of-type {\n",
       "        vertical-align: middle;\n",
       "    }\n",
       "\n",
       "    .dataframe tbody tr th {\n",
       "        vertical-align: top;\n",
       "    }\n",
       "\n",
       "    .dataframe thead th {\n",
       "        text-align: right;\n",
       "    }\n",
       "</style>\n",
       "<table border=\"1\" class=\"dataframe\">\n",
       "  <thead>\n",
       "    <tr style=\"text-align: right;\">\n",
       "      <th></th>\n",
       "      <th>ts</th>\n",
       "      <th>serialNo</th>\n",
       "      <th>home</th>\n",
       "      <th>batteryVoltageMilliV</th>\n",
       "      <th>insideTemperatureCentiC</th>\n",
       "      <th>humidityMilliPerc</th>\n",
       "    </tr>\n",
       "  </thead>\n",
       "  <tbody>\n",
       "    <tr>\n",
       "      <th>0</th>\n",
       "      <td>2018-10-01</td>\n",
       "      <td>VA4202760704</td>\n",
       "      <td>165132</td>\n",
       "      <td>2787.1310</td>\n",
       "      <td>1953.0737</td>\n",
       "      <td>575.49180</td>\n",
       "    </tr>\n",
       "    <tr>\n",
       "      <th>1</th>\n",
       "      <td>2018-10-02</td>\n",
       "      <td>VA4202760704</td>\n",
       "      <td>165132</td>\n",
       "      <td>2786.1047</td>\n",
       "      <td>1901.0000</td>\n",
       "      <td>550.63710</td>\n",
       "    </tr>\n",
       "    <tr>\n",
       "      <th>2</th>\n",
       "      <td>2018-10-03</td>\n",
       "      <td>VA4202760704</td>\n",
       "      <td>165132</td>\n",
       "      <td>2784.6934</td>\n",
       "      <td>1878.0369</td>\n",
       "      <td>550.09204</td>\n",
       "    </tr>\n",
       "    <tr>\n",
       "      <th>3</th>\n",
       "      <td>2018-10-04</td>\n",
       "      <td>VA4202760704</td>\n",
       "      <td>165132</td>\n",
       "      <td>2773.3500</td>\n",
       "      <td>1976.9114</td>\n",
       "      <td>583.65820</td>\n",
       "    </tr>\n",
       "    <tr>\n",
       "      <th>4</th>\n",
       "      <td>2018-10-05</td>\n",
       "      <td>VA4202760704</td>\n",
       "      <td>165132</td>\n",
       "      <td>2776.4314</td>\n",
       "      <td>2041.4010</td>\n",
       "      <td>589.74110</td>\n",
       "    </tr>\n",
       "  </tbody>\n",
       "</table>\n",
       "</div>"
      ],
      "text/plain": [
       "           ts      serialNo    home  batteryVoltageMilliV  \\\n",
       "0  2018-10-01  VA4202760704  165132             2787.1310   \n",
       "1  2018-10-02  VA4202760704  165132             2786.1047   \n",
       "2  2018-10-03  VA4202760704  165132             2784.6934   \n",
       "3  2018-10-04  VA4202760704  165132             2773.3500   \n",
       "4  2018-10-05  VA4202760704  165132             2776.4314   \n",
       "\n",
       "   insideTemperatureCentiC  humidityMilliPerc  \n",
       "0                1953.0737          575.49180  \n",
       "1                1901.0000          550.63710  \n",
       "2                1878.0369          550.09204  \n",
       "3                1976.9114          583.65820  \n",
       "4                2041.4010          589.74110  "
      ]
     },
     "execution_count": 2,
     "metadata": {},
     "output_type": "execute_result"
    }
   ],
   "source": [
    "data = pd.read_csv('input/srt_data.csv')\n",
    "df = data.copy()\n",
    "df.head()"
   ]
  },
  {
   "cell_type": "code",
   "execution_count": 3,
   "metadata": {
    "ExecuteTime": {
     "end_time": "2019-08-11T16:38:42.642291Z",
     "start_time": "2019-08-11T16:38:42.637304Z"
    }
   },
   "outputs": [
    {
     "data": {
      "text/plain": [
       "(4824, 6)"
      ]
     },
     "execution_count": 3,
     "metadata": {},
     "output_type": "execute_result"
    }
   ],
   "source": [
    "df.shape"
   ]
  },
  {
   "cell_type": "code",
   "execution_count": 4,
   "metadata": {
    "ExecuteTime": {
     "end_time": "2019-08-11T16:39:17.259008Z",
     "start_time": "2019-08-11T16:39:17.253024Z"
    }
   },
   "outputs": [
    {
     "name": "stdout",
     "output_type": "stream",
     "text": [
      "df.ts.min() = 2018-10-01\n",
      "df.ts.max() = 2019-04-30\n"
     ]
    }
   ],
   "source": [
    "print(f'df.ts.min() = {df.ts.min()}')\n",
    "print(f'df.ts.max() = {df.ts.max()}')"
   ]
  },
  {
   "cell_type": "code",
   "execution_count": 5,
   "metadata": {
    "ExecuteTime": {
     "end_time": "2019-08-11T16:39:40.369262Z",
     "start_time": "2019-08-11T16:39:40.360290Z"
    }
   },
   "outputs": [
    {
     "data": {
      "text/plain": [
       "ts                         0\n",
       "serialNo                   0\n",
       "home                       0\n",
       "batteryVoltageMilliV       3\n",
       "insideTemperatureCentiC    2\n",
       "humidityMilliPerc          0\n",
       "dtype: int64"
      ]
     },
     "execution_count": 5,
     "metadata": {},
     "output_type": "execute_result"
    }
   ],
   "source": [
    "df.isna().sum()"
   ]
  },
  {
   "cell_type": "code",
   "execution_count": 6,
   "metadata": {
    "ExecuteTime": {
     "end_time": "2019-08-11T16:40:39.218359Z",
     "start_time": "2019-08-11T16:40:39.212375Z"
    }
   },
   "outputs": [
    {
     "data": {
      "text/plain": [
       "8"
      ]
     },
     "execution_count": 6,
     "metadata": {},
     "output_type": "execute_result"
    }
   ],
   "source": [
    "df.home.nunique()"
   ]
  },
  {
   "cell_type": "code",
   "execution_count": 7,
   "metadata": {
    "ExecuteTime": {
     "end_time": "2019-08-11T16:40:49.799134Z",
     "start_time": "2019-08-11T16:40:49.793149Z"
    }
   },
   "outputs": [
    {
     "data": {
      "text/plain": [
       "array([165132, 174376,  29473, 234419, 193000, 213528, 251841, 300551],\n",
       "      dtype=int64)"
      ]
     },
     "execution_count": 7,
     "metadata": {},
     "output_type": "execute_result"
    }
   ],
   "source": [
    "df.home.unique()"
   ]
  },
  {
   "cell_type": "code",
   "execution_count": 8,
   "metadata": {
    "ExecuteTime": {
     "end_time": "2019-08-11T16:41:02.362659Z",
     "start_time": "2019-08-11T16:41:02.357672Z"
    }
   },
   "outputs": [
    {
     "data": {
      "text/plain": [
       "25"
      ]
     },
     "execution_count": 8,
     "metadata": {},
     "output_type": "execute_result"
    }
   ],
   "source": [
    "df.serialNo.nunique()"
   ]
  },
  {
   "cell_type": "code",
   "execution_count": 9,
   "metadata": {
    "ExecuteTime": {
     "end_time": "2019-08-11T16:41:46.647505Z",
     "start_time": "2019-08-11T16:41:46.429090Z"
    }
   },
   "outputs": [
    {
     "data": {
      "text/plain": [
       "<matplotlib.axes._subplots.AxesSubplot at 0x1c333f23d00>"
      ]
     },
     "execution_count": 9,
     "metadata": {},
     "output_type": "execute_result"
    },
    {
     "data": {
      "image/png": "[encoded data removed]",
      "text/plain": [
       "<Figure size 432x288 with 1 Axes>"
      ]
     },
     "metadata": {
      "needs_background": "light"
     },
     "output_type": "display_data"
    }
   ],
   "source": [
    "df.plot('ts', 'batteryVoltageMilliV')"
   ]
  },
  {
   "cell_type": "code",
   "execution_count": 10,
   "metadata": {
    "ExecuteTime": {
     "end_time": "2019-08-11T16:42:19.137839Z",
     "start_time": "2019-08-11T16:42:19.124872Z"
    }
   },
   "outputs": [
    {
     "data": {
      "text/html": [
       "<div>\n",
       "<style scoped>\n",
       "    .dataframe tbody tr th:only-of-type {\n",
       "        vertical-align: middle;\n",
       "    }\n",
       "\n",
       "    .dataframe tbody tr th {\n",
       "        vertical-align: top;\n",
       "    }\n",
       "\n",
       "    .dataframe thead th {\n",
       "        text-align: right;\n",
       "    }\n",
       "</style>\n",
       "<table border=\"1\" class=\"dataframe\">\n",
       "  <thead>\n",
       "    <tr style=\"text-align: right;\">\n",
       "      <th></th>\n",
       "      <th>ts</th>\n",
       "      <th>serialNo</th>\n",
       "      <th>home</th>\n",
       "      <th>batteryVoltageMilliV</th>\n",
       "      <th>insideTemperatureCentiC</th>\n",
       "      <th>humidityMilliPerc</th>\n",
       "    </tr>\n",
       "  </thead>\n",
       "  <tbody>\n",
       "    <tr>\n",
       "      <th>10</th>\n",
       "      <td>2018-10-11</td>\n",
       "      <td>VA4202760704</td>\n",
       "      <td>165132</td>\n",
       "      <td>NaN</td>\n",
       "      <td>2135.1000</td>\n",
       "      <td>657.02356</td>\n",
       "    </tr>\n",
       "    <tr>\n",
       "      <th>11</th>\n",
       "      <td>2018-10-12</td>\n",
       "      <td>VA4202760704</td>\n",
       "      <td>165132</td>\n",
       "      <td>NaN</td>\n",
       "      <td>2138.1677</td>\n",
       "      <td>676.12256</td>\n",
       "    </tr>\n",
       "    <tr>\n",
       "      <th>12</th>\n",
       "      <td>2018-10-13</td>\n",
       "      <td>VA4202760704</td>\n",
       "      <td>165132</td>\n",
       "      <td>NaN</td>\n",
       "      <td>2080.6738</td>\n",
       "      <td>653.83685</td>\n",
       "    </tr>\n",
       "  </tbody>\n",
       "</table>\n",
       "</div>"
      ],
      "text/plain": [
       "            ts      serialNo    home  batteryVoltageMilliV  \\\n",
       "10  2018-10-11  VA4202760704  165132                   NaN   \n",
       "11  2018-10-12  VA4202760704  165132                   NaN   \n",
       "12  2018-10-13  VA4202760704  165132                   NaN   \n",
       "\n",
       "    insideTemperatureCentiC  humidityMilliPerc  \n",
       "10                2135.1000          657.02356  \n",
       "11                2138.1677          676.12256  \n",
       "12                2080.6738          653.83685  "
      ]
     },
     "execution_count": 10,
     "metadata": {},
     "output_type": "execute_result"
    }
   ],
   "source": [
    "df[df.batteryVoltageMilliV.isna()].head()"
   ]
  },
  {
   "cell_type": "code",
   "execution_count": 11,
   "metadata": {
    "ExecuteTime": {
     "end_time": "2019-08-11T16:42:45.261041Z",
     "start_time": "2019-08-11T16:42:45.249087Z"
    },
    "scrolled": true
   },
   "outputs": [
    {
     "data": {
      "text/html": [
       "<div>\n",
       "<style scoped>\n",
       "    .dataframe tbody tr th:only-of-type {\n",
       "        vertical-align: middle;\n",
       "    }\n",
       "\n",
       "    .dataframe tbody tr th {\n",
       "        vertical-align: top;\n",
       "    }\n",
       "\n",
       "    .dataframe thead th {\n",
       "        text-align: right;\n",
       "    }\n",
       "</style>\n",
       "<table border=\"1\" class=\"dataframe\">\n",
       "  <thead>\n",
       "    <tr style=\"text-align: right;\">\n",
       "      <th></th>\n",
       "      <th>ts</th>\n",
       "      <th>serialNo</th>\n",
       "      <th>home</th>\n",
       "      <th>batteryVoltageMilliV</th>\n",
       "      <th>insideTemperatureCentiC</th>\n",
       "      <th>humidityMilliPerc</th>\n",
       "    </tr>\n",
       "  </thead>\n",
       "  <tbody>\n",
       "    <tr>\n",
       "      <th>23</th>\n",
       "      <td>2018-10-24</td>\n",
       "      <td>VA4202760704</td>\n",
       "      <td>165132</td>\n",
       "      <td>2750.4220</td>\n",
       "      <td>NaN</td>\n",
       "      <td>605.1256</td>\n",
       "    </tr>\n",
       "    <tr>\n",
       "      <th>24</th>\n",
       "      <td>2018-10-25</td>\n",
       "      <td>VA4202760704</td>\n",
       "      <td>165132</td>\n",
       "      <td>2750.6438</td>\n",
       "      <td>NaN</td>\n",
       "      <td>617.4750</td>\n",
       "    </tr>\n",
       "  </tbody>\n",
       "</table>\n",
       "</div>"
      ],
      "text/plain": [
       "            ts      serialNo    home  batteryVoltageMilliV  \\\n",
       "23  2018-10-24  VA4202760704  165132             2750.4220   \n",
       "24  2018-10-25  VA4202760704  165132             2750.6438   \n",
       "\n",
       "    insideTemperatureCentiC  humidityMilliPerc  \n",
       "23                      NaN           605.1256  \n",
       "24                      NaN           617.4750  "
      ]
     },
     "execution_count": 11,
     "metadata": {},
     "output_type": "execute_result"
    }
   ],
   "source": [
    "df[df.insideTemperatureCentiC.isna()].head()"
   ]
  },
  {
   "cell_type": "markdown",
   "metadata": {},
   "source": [
    "Выберите данные с датчика с серийным номером VA2170620672.\n",
    "\n",
    "Укажите максимальное значение напряжения на батарее (batteryVoltageMilliV)."
   ]
  },
  {
   "cell_type": "code",
   "execution_count": 12,
   "metadata": {
    "scrolled": false
   },
   "outputs": [
    {
     "data": {
      "text/html": [
       "<div>\n",
       "<style scoped>\n",
       "    .dataframe tbody tr th:only-of-type {\n",
       "        vertical-align: middle;\n",
       "    }\n",
       "\n",
       "    .dataframe tbody tr th {\n",
       "        vertical-align: top;\n",
       "    }\n",
       "\n",
       "    .dataframe thead th {\n",
       "        text-align: right;\n",
       "    }\n",
       "</style>\n",
       "<table border=\"1\" class=\"dataframe\">\n",
       "  <thead>\n",
       "    <tr style=\"text-align: right;\">\n",
       "      <th></th>\n",
       "      <th>ts</th>\n",
       "      <th>serialNo</th>\n",
       "      <th>home</th>\n",
       "      <th>batteryVoltageMilliV</th>\n",
       "      <th>insideTemperatureCentiC</th>\n",
       "      <th>humidityMilliPerc</th>\n",
       "    </tr>\n",
       "  </thead>\n",
       "  <tbody>\n",
       "    <tr>\n",
       "      <th>2683</th>\n",
       "      <td>2018-10-11</td>\n",
       "      <td>VA2170620672</td>\n",
       "      <td>234419</td>\n",
       "      <td>3219.5670</td>\n",
       "      <td>2089.8218</td>\n",
       "      <td>557.57960</td>\n",
       "    </tr>\n",
       "    <tr>\n",
       "      <th>2684</th>\n",
       "      <td>2018-10-12</td>\n",
       "      <td>VA2170620672</td>\n",
       "      <td>234419</td>\n",
       "      <td>3204.8310</td>\n",
       "      <td>1991.7760</td>\n",
       "      <td>670.36255</td>\n",
       "    </tr>\n",
       "    <tr>\n",
       "      <th>2685</th>\n",
       "      <td>2018-10-13</td>\n",
       "      <td>VA2170620672</td>\n",
       "      <td>234419</td>\n",
       "      <td>3181.2230</td>\n",
       "      <td>2087.8027</td>\n",
       "      <td>679.25050</td>\n",
       "    </tr>\n",
       "    <tr>\n",
       "      <th>2686</th>\n",
       "      <td>2018-10-14</td>\n",
       "      <td>VA2170620672</td>\n",
       "      <td>234419</td>\n",
       "      <td>3167.7480</td>\n",
       "      <td>2017.2100</td>\n",
       "      <td>648.57200</td>\n",
       "    </tr>\n",
       "    <tr>\n",
       "      <th>2687</th>\n",
       "      <td>2018-10-15</td>\n",
       "      <td>VA2170620672</td>\n",
       "      <td>234419</td>\n",
       "      <td>3156.4385</td>\n",
       "      <td>2006.8866</td>\n",
       "      <td>714.70510</td>\n",
       "    </tr>\n",
       "    <tr>\n",
       "      <th>...</th>\n",
       "      <td>...</td>\n",
       "      <td>...</td>\n",
       "      <td>...</td>\n",
       "      <td>...</td>\n",
       "      <td>...</td>\n",
       "      <td>...</td>\n",
       "    </tr>\n",
       "    <tr>\n",
       "      <th>2879</th>\n",
       "      <td>2019-04-25</td>\n",
       "      <td>VA2170620672</td>\n",
       "      <td>234419</td>\n",
       "      <td>2709.6470</td>\n",
       "      <td>1661.8823</td>\n",
       "      <td>531.35297</td>\n",
       "    </tr>\n",
       "    <tr>\n",
       "      <th>2880</th>\n",
       "      <td>2019-04-26</td>\n",
       "      <td>VA2170620672</td>\n",
       "      <td>234419</td>\n",
       "      <td>2708.6106</td>\n",
       "      <td>2143.1892</td>\n",
       "      <td>456.81430</td>\n",
       "    </tr>\n",
       "    <tr>\n",
       "      <th>2881</th>\n",
       "      <td>2019-04-27</td>\n",
       "      <td>VA2170620672</td>\n",
       "      <td>234419</td>\n",
       "      <td>2707.6350</td>\n",
       "      <td>2039.3175</td>\n",
       "      <td>478.39154</td>\n",
       "    </tr>\n",
       "    <tr>\n",
       "      <th>2884</th>\n",
       "      <td>2019-04-30</td>\n",
       "      <td>VA2170620672</td>\n",
       "      <td>234419</td>\n",
       "      <td>2705.8604</td>\n",
       "      <td>2107.1162</td>\n",
       "      <td>590.30700</td>\n",
       "    </tr>\n",
       "    <tr>\n",
       "      <th>2878</th>\n",
       "      <td>2019-04-24</td>\n",
       "      <td>VA2170620672</td>\n",
       "      <td>234419</td>\n",
       "      <td>2698.5662</td>\n",
       "      <td>1554.0240</td>\n",
       "      <td>538.86750</td>\n",
       "    </tr>\n",
       "  </tbody>\n",
       "</table>\n",
       "<p>202 rows × 6 columns</p>\n",
       "</div>"
      ],
      "text/plain": [
       "              ts      serialNo    home  batteryVoltageMilliV  \\\n",
       "2683  2018-10-11  VA2170620672  234419             3219.5670   \n",
       "2684  2018-10-12  VA2170620672  234419             3204.8310   \n",
       "2685  2018-10-13  VA2170620672  234419             3181.2230   \n",
       "2686  2018-10-14  VA2170620672  234419             3167.7480   \n",
       "2687  2018-10-15  VA2170620672  234419             3156.4385   \n",
       "...          ...           ...     ...                   ...   \n",
       "2879  2019-04-25  VA2170620672  234419             2709.6470   \n",
       "2880  2019-04-26  VA2170620672  234419             2708.6106   \n",
       "2881  2019-04-27  VA2170620672  234419             2707.6350   \n",
       "2884  2019-04-30  VA2170620672  234419             2705.8604   \n",
       "2878  2019-04-24  VA2170620672  234419             2698.5662   \n",
       "\n",
       "      insideTemperatureCentiC  humidityMilliPerc  \n",
       "2683                2089.8218          557.57960  \n",
       "2684                1991.7760          670.36255  \n",
       "2685                2087.8027          679.25050  \n",
       "2686                2017.2100          648.57200  \n",
       "2687                2006.8866          714.70510  \n",
       "...                       ...                ...  \n",
       "2879                1661.8823          531.35297  \n",
       "2880                2143.1892          456.81430  \n",
       "2881                2039.3175          478.39154  \n",
       "2884                2107.1162          590.30700  \n",
       "2878                1554.0240          538.86750  \n",
       "\n",
       "[202 rows x 6 columns]"
      ]
     },
     "execution_count": 12,
     "metadata": {},
     "output_type": "execute_result"
    }
   ],
   "source": [
    "df[df['serialNo'] == 'VA2170620672'].sort_values(by='batteryVoltageMilliV', ascending=False)"
   ]
  },
  {
   "cell_type": "markdown",
   "metadata": {},
   "source": [
    "Для того же датчика укажите значение напряжения на батарее, соответствующее 75% квантиля распределения."
   ]
  },
  {
   "cell_type": "code",
   "execution_count": 13,
   "metadata": {
    "scrolled": false
   },
   "outputs": [
    {
     "data": {
      "text/plain": [
       "home                       234419.000000\n",
       "batteryVoltageMilliV         2951.280100\n",
       "insideTemperatureCentiC      2119.292500\n",
       "humidityMilliPerc             575.341825\n",
       "Name: 0.75, dtype: float64"
      ]
     },
     "execution_count": 13,
     "metadata": {},
     "output_type": "execute_result"
    }
   ],
   "source": [
    "df[df['serialNo'] == 'VA2170620672'].quantile(0.75)"
   ]
  },
  {
   "cell_type": "markdown",
   "metadata": {},
   "source": [
    "Для того же датчика выберите данные за ноябрь 2018 г. и укажите медианное значение на влажности (humidityMilliPerc)."
   ]
  },
  {
   "cell_type": "code",
   "execution_count": 14,
   "metadata": {
    "scrolled": true
   },
   "outputs": [
    {
     "data": {
      "text/plain": [
       "566.3562"
      ]
     },
     "execution_count": 14,
     "metadata": {},
     "output_type": "execute_result"
    }
   ],
   "source": [
    "VA2170620672 = df[df['serialNo'] == 'VA2170620672']\n",
    "VA2170620672[(VA2170620672['ts'] >= '2018-11-01') & (VA2170620672['ts'] <= '2018-11-31')]['humidityMilliPerc'].median()"
   ]
  },
  {
   "cell_type": "markdown",
   "metadata": {},
   "source": [
    "Выберите данные с датчика с серийным номером VA2048854528.\n",
    "\n",
    "Постройте график напряжения на батарее (batteryVoltageMilliV).\n",
    "\n",
    "Укажите, сколько раз батарея была заменена (количество пиков со значением выше \\(3200\\) mV)."
   ]
  },
  {
   "cell_type": "code",
   "execution_count": 15,
   "metadata": {
    "scrolled": true
   },
   "outputs": [
    {
     "data": {
      "text/plain": [
       "<matplotlib.axes._subplots.AxesSubplot at 0x1c334673070>"
      ]
     },
     "execution_count": 15,
     "metadata": {},
     "output_type": "execute_result"
    },
    {
     "data": {
      "image/png": "[encoded data removed]",
      "text/plain": [
       "<Figure size 432x288 with 1 Axes>"
      ]
     },
     "metadata": {
      "needs_background": "light"
     },
     "output_type": "display_data"
    }
   ],
   "source": [
    "df[df['serialNo'] == 'VA2048854528'].plot('ts', 'batteryVoltageMilliV')"
   ]
  },
  {
   "cell_type": "markdown",
   "metadata": {},
   "source": [
    "Укажите, сколько значений температуры (среди всех данных) лежат строго ниже \\(1200\\) сС (\\(12\\) градусов Цельсия)."
   ]
  },
  {
   "cell_type": "code",
   "execution_count": 16,
   "metadata": {
    "scrolled": true
   },
   "outputs": [
    {
     "data": {
      "text/html": [
       "<div>\n",
       "<style scoped>\n",
       "    .dataframe tbody tr th:only-of-type {\n",
       "        vertical-align: middle;\n",
       "    }\n",
       "\n",
       "    .dataframe tbody tr th {\n",
       "        vertical-align: top;\n",
       "    }\n",
       "\n",
       "    .dataframe thead th {\n",
       "        text-align: right;\n",
       "    }\n",
       "</style>\n",
       "<table border=\"1\" class=\"dataframe\">\n",
       "  <thead>\n",
       "    <tr style=\"text-align: right;\">\n",
       "      <th></th>\n",
       "      <th>ts</th>\n",
       "      <th>serialNo</th>\n",
       "      <th>home</th>\n",
       "      <th>batteryVoltageMilliV</th>\n",
       "      <th>insideTemperatureCentiC</th>\n",
       "      <th>humidityMilliPerc</th>\n",
       "    </tr>\n",
       "  </thead>\n",
       "  <tbody>\n",
       "    <tr>\n",
       "      <th>264</th>\n",
       "      <td>2018-11-22</td>\n",
       "      <td>VA2048854528</td>\n",
       "      <td>174376</td>\n",
       "      <td>2721.2770</td>\n",
       "      <td>1152.2410</td>\n",
       "      <td>626.10846</td>\n",
       "    </tr>\n",
       "    <tr>\n",
       "      <th>337</th>\n",
       "      <td>2019-02-03</td>\n",
       "      <td>VA2048854528</td>\n",
       "      <td>174376</td>\n",
       "      <td>2972.3306</td>\n",
       "      <td>1174.6075</td>\n",
       "      <td>543.82794</td>\n",
       "    </tr>\n",
       "    <tr>\n",
       "      <th>338</th>\n",
       "      <td>2019-02-04</td>\n",
       "      <td>VA2048854528</td>\n",
       "      <td>174376</td>\n",
       "      <td>2966.4320</td>\n",
       "      <td>1021.8357</td>\n",
       "      <td>583.23944</td>\n",
       "    </tr>\n",
       "    <tr>\n",
       "      <th>339</th>\n",
       "      <td>2019-02-05</td>\n",
       "      <td>VA2048854528</td>\n",
       "      <td>174376</td>\n",
       "      <td>2968.2415</td>\n",
       "      <td>1022.4770</td>\n",
       "      <td>609.74713</td>\n",
       "    </tr>\n",
       "    <tr>\n",
       "      <th>340</th>\n",
       "      <td>2019-02-06</td>\n",
       "      <td>VA2048854528</td>\n",
       "      <td>174376</td>\n",
       "      <td>2968.0305</td>\n",
       "      <td>1030.8877</td>\n",
       "      <td>629.58160</td>\n",
       "    </tr>\n",
       "    <tr>\n",
       "      <th>...</th>\n",
       "      <td>...</td>\n",
       "      <td>...</td>\n",
       "      <td>...</td>\n",
       "      <td>...</td>\n",
       "      <td>...</td>\n",
       "      <td>...</td>\n",
       "    </tr>\n",
       "    <tr>\n",
       "      <th>4250</th>\n",
       "      <td>2019-02-05</td>\n",
       "      <td>VA1730087424</td>\n",
       "      <td>174376</td>\n",
       "      <td>2838.7285</td>\n",
       "      <td>1115.2593</td>\n",
       "      <td>597.77780</td>\n",
       "    </tr>\n",
       "    <tr>\n",
       "      <th>4251</th>\n",
       "      <td>2019-02-06</td>\n",
       "      <td>VA1730087424</td>\n",
       "      <td>174376</td>\n",
       "      <td>2837.4568</td>\n",
       "      <td>1173.8643</td>\n",
       "      <td>614.67900</td>\n",
       "    </tr>\n",
       "    <tr>\n",
       "      <th>4253</th>\n",
       "      <td>2019-02-08</td>\n",
       "      <td>VA1730087424</td>\n",
       "      <td>174376</td>\n",
       "      <td>2834.6500</td>\n",
       "      <td>1179.2250</td>\n",
       "      <td>633.05000</td>\n",
       "    </tr>\n",
       "    <tr>\n",
       "      <th>4255</th>\n",
       "      <td>2019-02-10</td>\n",
       "      <td>VA1730087424</td>\n",
       "      <td>174376</td>\n",
       "      <td>2833.3132</td>\n",
       "      <td>1154.0240</td>\n",
       "      <td>631.37350</td>\n",
       "    </tr>\n",
       "    <tr>\n",
       "      <th>4256</th>\n",
       "      <td>2019-02-11</td>\n",
       "      <td>VA1730087424</td>\n",
       "      <td>174376</td>\n",
       "      <td>2832.3027</td>\n",
       "      <td>1170.7432</td>\n",
       "      <td>630.18350</td>\n",
       "    </tr>\n",
       "  </tbody>\n",
       "</table>\n",
       "<p>92 rows × 6 columns</p>\n",
       "</div>"
      ],
      "text/plain": [
       "              ts      serialNo    home  batteryVoltageMilliV  \\\n",
       "264   2018-11-22  VA2048854528  174376             2721.2770   \n",
       "337   2019-02-03  VA2048854528  174376             2972.3306   \n",
       "338   2019-02-04  VA2048854528  174376             2966.4320   \n",
       "339   2019-02-05  VA2048854528  174376             2968.2415   \n",
       "340   2019-02-06  VA2048854528  174376             2968.0305   \n",
       "...          ...           ...     ...                   ...   \n",
       "4250  2019-02-05  VA1730087424  174376             2838.7285   \n",
       "4251  2019-02-06  VA1730087424  174376             2837.4568   \n",
       "4253  2019-02-08  VA1730087424  174376             2834.6500   \n",
       "4255  2019-02-10  VA1730087424  174376             2833.3132   \n",
       "4256  2019-02-11  VA1730087424  174376             2832.3027   \n",
       "\n",
       "      insideTemperatureCentiC  humidityMilliPerc  \n",
       "264                 1152.2410          626.10846  \n",
       "337                 1174.6075          543.82794  \n",
       "338                 1021.8357          583.23944  \n",
       "339                 1022.4770          609.74713  \n",
       "340                 1030.8877          629.58160  \n",
       "...                       ...                ...  \n",
       "4250                1115.2593          597.77780  \n",
       "4251                1173.8643          614.67900  \n",
       "4253                1179.2250          633.05000  \n",
       "4255                1154.0240          631.37350  \n",
       "4256                1170.7432          630.18350  \n",
       "\n",
       "[92 rows x 6 columns]"
      ]
     },
     "execution_count": 16,
     "metadata": {},
     "output_type": "execute_result"
    }
   ],
   "source": [
    "df[df['insideTemperatureCentiC'] < 1200]"
   ]
  },
  {
   "cell_type": "markdown",
   "metadata": {},
   "source": [
    "Укажите, сколько значений температуры (среди всех данных) лежат нестрого выше \\(75\\)%-квантиля, вычисленного по всем датчикам."
   ]
  },
  {
   "cell_type": "code",
   "execution_count": 18,
   "metadata": {
    "scrolled": true
   },
   "outputs": [
    {
     "data": {
      "text/plain": [
       "2147.1974499999997"
      ]
     },
     "execution_count": 18,
     "metadata": {},
     "output_type": "execute_result"
    }
   ],
   "source": [
    "df['insideTemperatureCentiC'].quantile(0.75)"
   ]
  },
  {
   "cell_type": "code",
   "execution_count": 19,
   "metadata": {},
   "outputs": [
    {
     "data": {
      "text/html": [
       "<div>\n",
       "<style scoped>\n",
       "    .dataframe tbody tr th:only-of-type {\n",
       "        vertical-align: middle;\n",
       "    }\n",
       "\n",
       "    .dataframe tbody tr th {\n",
       "        vertical-align: top;\n",
       "    }\n",
       "\n",
       "    .dataframe thead th {\n",
       "        text-align: right;\n",
       "    }\n",
       "</style>\n",
       "<table border=\"1\" class=\"dataframe\">\n",
       "  <thead>\n",
       "    <tr style=\"text-align: right;\">\n",
       "      <th></th>\n",
       "      <th>ts</th>\n",
       "      <th>serialNo</th>\n",
       "      <th>home</th>\n",
       "      <th>batteryVoltageMilliV</th>\n",
       "      <th>insideTemperatureCentiC</th>\n",
       "      <th>humidityMilliPerc</th>\n",
       "    </tr>\n",
       "  </thead>\n",
       "  <tbody>\n",
       "    <tr>\n",
       "      <th>214</th>\n",
       "      <td>2018-10-03</td>\n",
       "      <td>VA2048854528</td>\n",
       "      <td>174376</td>\n",
       "      <td>2885.0188</td>\n",
       "      <td>2147.3062</td>\n",
       "      <td>680.43750</td>\n",
       "    </tr>\n",
       "    <tr>\n",
       "      <th>222</th>\n",
       "      <td>2018-10-11</td>\n",
       "      <td>VA2048854528</td>\n",
       "      <td>174376</td>\n",
       "      <td>2864.1000</td>\n",
       "      <td>2153.4500</td>\n",
       "      <td>732.01000</td>\n",
       "    </tr>\n",
       "    <tr>\n",
       "      <th>223</th>\n",
       "      <td>2018-10-12</td>\n",
       "      <td>VA2048854528</td>\n",
       "      <td>174376</td>\n",
       "      <td>2861.0735</td>\n",
       "      <td>2151.8257</td>\n",
       "      <td>723.97250</td>\n",
       "    </tr>\n",
       "    <tr>\n",
       "      <th>224</th>\n",
       "      <td>2018-10-13</td>\n",
       "      <td>VA2048854528</td>\n",
       "      <td>174376</td>\n",
       "      <td>2858.7065</td>\n",
       "      <td>2285.0000</td>\n",
       "      <td>700.31525</td>\n",
       "    </tr>\n",
       "    <tr>\n",
       "      <th>225</th>\n",
       "      <td>2018-10-14</td>\n",
       "      <td>VA2048854528</td>\n",
       "      <td>174376</td>\n",
       "      <td>2861.2908</td>\n",
       "      <td>2227.0496</td>\n",
       "      <td>730.78015</td>\n",
       "    </tr>\n",
       "    <tr>\n",
       "      <th>...</th>\n",
       "      <td>...</td>\n",
       "      <td>...</td>\n",
       "      <td>...</td>\n",
       "      <td>...</td>\n",
       "      <td>...</td>\n",
       "      <td>...</td>\n",
       "    </tr>\n",
       "    <tr>\n",
       "      <th>4819</th>\n",
       "      <td>2018-11-04</td>\n",
       "      <td>VA2297627392</td>\n",
       "      <td>29473</td>\n",
       "      <td>2839.3096</td>\n",
       "      <td>2206.2460</td>\n",
       "      <td>546.30554</td>\n",
       "    </tr>\n",
       "    <tr>\n",
       "      <th>4820</th>\n",
       "      <td>2018-11-05</td>\n",
       "      <td>VA2297627392</td>\n",
       "      <td>29473</td>\n",
       "      <td>2837.7888</td>\n",
       "      <td>2283.2390</td>\n",
       "      <td>507.30124</td>\n",
       "    </tr>\n",
       "    <tr>\n",
       "      <th>4821</th>\n",
       "      <td>2018-11-06</td>\n",
       "      <td>VA2297627392</td>\n",
       "      <td>29473</td>\n",
       "      <td>2834.2258</td>\n",
       "      <td>2211.2030</td>\n",
       "      <td>531.17975</td>\n",
       "    </tr>\n",
       "    <tr>\n",
       "      <th>4822</th>\n",
       "      <td>2018-11-07</td>\n",
       "      <td>VA2297627392</td>\n",
       "      <td>29473</td>\n",
       "      <td>2832.5845</td>\n",
       "      <td>2289.9302</td>\n",
       "      <td>529.25730</td>\n",
       "    </tr>\n",
       "    <tr>\n",
       "      <th>4823</th>\n",
       "      <td>2018-11-08</td>\n",
       "      <td>VA2297627392</td>\n",
       "      <td>29473</td>\n",
       "      <td>2822.0774</td>\n",
       "      <td>2313.9124</td>\n",
       "      <td>522.14813</td>\n",
       "    </tr>\n",
       "  </tbody>\n",
       "</table>\n",
       "<p>1206 rows × 6 columns</p>\n",
       "</div>"
      ],
      "text/plain": [
       "              ts      serialNo    home  batteryVoltageMilliV  \\\n",
       "214   2018-10-03  VA2048854528  174376             2885.0188   \n",
       "222   2018-10-11  VA2048854528  174376             2864.1000   \n",
       "223   2018-10-12  VA2048854528  174376             2861.0735   \n",
       "224   2018-10-13  VA2048854528  174376             2858.7065   \n",
       "225   2018-10-14  VA2048854528  174376             2861.2908   \n",
       "...          ...           ...     ...                   ...   \n",
       "4819  2018-11-04  VA2297627392   29473             2839.3096   \n",
       "4820  2018-11-05  VA2297627392   29473             2837.7888   \n",
       "4821  2018-11-06  VA2297627392   29473             2834.2258   \n",
       "4822  2018-11-07  VA2297627392   29473             2832.5845   \n",
       "4823  2018-11-08  VA2297627392   29473             2822.0774   \n",
       "\n",
       "      insideTemperatureCentiC  humidityMilliPerc  \n",
       "214                 2147.3062          680.43750  \n",
       "222                 2153.4500          732.01000  \n",
       "223                 2151.8257          723.97250  \n",
       "224                 2285.0000          700.31525  \n",
       "225                 2227.0496          730.78015  \n",
       "...                       ...                ...  \n",
       "4819                2206.2460          546.30554  \n",
       "4820                2283.2390          507.30124  \n",
       "4821                2211.2030          531.17975  \n",
       "4822                2289.9302          529.25730  \n",
       "4823                2313.9124          522.14813  \n",
       "\n",
       "[1206 rows x 6 columns]"
      ]
     },
     "execution_count": 19,
     "metadata": {},
     "output_type": "execute_result"
    }
   ],
   "source": [
    "df[df['insideTemperatureCentiC'] > df['insideTemperatureCentiC'].quantile(0.75)]"
   ]
  }
 ],
 "metadata": {
  "kernelspec": {
   "display_name": "Python 3",
   "language": "python",
   "name": "python3"
  },
  "language_info": {
   "codemirror_mode": {
    "name": "ipython",
    "version": 3
   },
   "file_extension": ".py",
   "mimetype": "text/x-python",
   "name": "python",
   "nbconvert_exporter": "python",
   "pygments_lexer": "ipython3",
   "version": "3.8.3"
  },
  "toc": {
   "base_numbering": 1,
   "nav_menu": {},
   "number_sections": true,
   "sideBar": true,
   "skip_h1_title": false,
   "title_cell": "Table of Contents",
   "title_sidebar": "Contents",
   "toc_cell": false,
   "toc_position": {},
   "toc_section_display": true,
   "toc_window_display": false
  },
  "varInspector": {
   "cols": {
    "lenName": 16,
    "lenType": 16,
    "lenVar": 40
   },
   "kernels_config": {
    "python": {
     "delete_cmd_postfix": "",
     "delete_cmd_prefix": "del ",
     "library": "var_list.py",
     "varRefreshCmd": "print(var_dic_list())"
    },
    "r": {
     "delete_cmd_postfix": ") ",
     "delete_cmd_prefix": "rm(",
     "library": "var_list.r",
     "varRefreshCmd": "cat(var_dic_list()) "
    }
   },
   "types_to_exclude": [
    "module",
    "function",
    "builtin_function_or_method",
    "instance",
    "_Feature"
   ],
   "window_display": false
  }
 },
 "nbformat": 4,
 "nbformat_minor": 2
}
