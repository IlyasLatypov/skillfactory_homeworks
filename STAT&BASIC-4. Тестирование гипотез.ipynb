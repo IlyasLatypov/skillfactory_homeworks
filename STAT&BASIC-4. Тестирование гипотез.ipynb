{
 "cells": [
  {
   "cell_type": "code",
   "execution_count": 1,
   "metadata": {},
   "outputs": [],
   "source": [
    "import math\n",
    "from scipy.stats import norm, t"
   ]
  },
  {
   "cell_type": "code",
   "execution_count": 2,
   "metadata": {},
   "outputs": [
    {
     "data": {
      "text/plain": [
       "0.509972518195238"
      ]
     },
     "execution_count": 2,
     "metadata": {},
     "output_type": "execute_result"
    }
   ],
   "source": [
    "norm.cdf(0.025)"
   ]
  },
  {
   "cell_type": "code",
   "execution_count": 3,
   "metadata": {},
   "outputs": [
    {
     "data": {
      "text/plain": [
       "-2.0"
      ]
     },
     "execution_count": 3,
     "metadata": {},
     "output_type": "execute_result"
    }
   ],
   "source": [
    "H0 = 14\n",
    "H1 = 13.5\n",
    "O = 2\n",
    "n = 64\n",
    "\n",
    "z = (H1 - H0) / (O / math.sqrt(n))\n",
    "z"
   ]
  },
  {
   "cell_type": "code",
   "execution_count": 4,
   "metadata": {},
   "outputs": [
    {
     "data": {
      "text/plain": [
       "0.023"
      ]
     },
     "execution_count": 4,
     "metadata": {},
     "output_type": "execute_result"
    }
   ],
   "source": [
    "p_value = norm.cdf(z)\n",
    "round(p_value, 3)"
   ]
  },
  {
   "cell_type": "code",
   "execution_count": 5,
   "metadata": {},
   "outputs": [
    {
     "data": {
      "text/plain": [
       "-1.92"
      ]
     },
     "execution_count": 5,
     "metadata": {},
     "output_type": "execute_result"
    }
   ],
   "source": [
    "H0 = 455\n",
    "H1 = 449\n",
    "n = 16\n",
    "O = 12.5\n",
    "\n",
    "z = (H1 - H0) / (O / math.sqrt(n))\n",
    "z"
   ]
  },
  {
   "cell_type": "code",
   "execution_count": 6,
   "metadata": {},
   "outputs": [
    {
     "data": {
      "text/plain": [
       "0.027"
      ]
     },
     "execution_count": 6,
     "metadata": {},
     "output_type": "execute_result"
    }
   ],
   "source": [
    "p_value = norm.cdf(z)\n",
    "round(p_value, 3)"
   ]
  },
  {
   "cell_type": "code",
   "execution_count": 7,
   "metadata": {},
   "outputs": [
    {
     "data": {
      "text/plain": [
       "0.037"
      ]
     },
     "execution_count": 7,
     "metadata": {},
     "output_type": "execute_result"
    }
   ],
   "source": [
    "H0 = 6.5\n",
    "H1 = 7\n",
    "n = 25\n",
    "O = 1.4\n",
    "\n",
    "z = (H1 - H0) / (O / math.sqrt(n))\n",
    "z\n",
    "\n",
    "p_value = 1 - norm.cdf(z)\n",
    "round(p_value, 3)"
   ]
  },
  {
   "cell_type": "code",
   "execution_count": 8,
   "metadata": {},
   "outputs": [
    {
     "name": "stdout",
     "output_type": "stream",
     "text": [
      "-1.139\n"
     ]
    },
    {
     "data": {
      "text/plain": [
       "0.128"
      ]
     },
     "execution_count": 8,
     "metadata": {},
     "output_type": "execute_result"
    }
   ],
   "source": [
    "H0 = 12000\n",
    "H1 = 11500\n",
    "n = 135\n",
    "O = 5100\n",
    "\n",
    "z = (H1 - H0) / (O / math.sqrt(n))\n",
    "print(round(z, 3))\n",
    "\n",
    "p_value = t.cdf(z, n - 1)\n",
    "round(p_value, 3)"
   ]
  },
  {
   "cell_type": "code",
   "execution_count": 9,
   "metadata": {},
   "outputs": [
    {
     "name": "stdout",
     "output_type": "stream",
     "text": [
      "[ 6.1  9.2 11.5  8.6 12.1  3.9  8.4 10.1  9.4  8.9]\n",
      "2.401295946405237\n",
      "8.820000000000002\n"
     ]
    }
   ],
   "source": [
    "# 4.8.7\n",
    "\n",
    "import numpy as np\n",
    "\n",
    "X = np.array([6.1, 9.2, 11.5, 8.6, 12.1, 3.9, 8.4, 10.1, 9.4, 8.9])\n",
    "\n",
    "print(X)\n",
    "\n",
    "# Отклонение (про смещение (ddof = 1) можно почитать в интернете https://statanaliz.info/statistica/opisanie-dannyx/vyborochnaya-dispersiya/)\n",
    "s_X = X.std(ddof=1)\n",
    "\n",
    "print(s_X)\n",
    "\n",
    "mean_X = X.mean()\n",
    "\n",
    "print(mean_X)"
   ]
  },
  {
   "cell_type": "code",
   "execution_count": 10,
   "metadata": {},
   "outputs": [
    {
     "name": "stdout",
     "output_type": "stream",
     "text": [
      "-1.58114\n"
     ]
    },
    {
     "data": {
      "text/plain": [
       "0.074"
      ]
     },
     "execution_count": 10,
     "metadata": {},
     "output_type": "execute_result"
    }
   ],
   "source": [
    "H0 = 10\n",
    "H1 = 8.8\n",
    "n = 10\n",
    "O = 2.4\n",
    "\n",
    "z = (H1 - H0) / (O / math.sqrt(n))\n",
    "print(round(z, 5))\n",
    "\n",
    "p_value = t.cdf(z, n - 1)\n",
    "round(p_value, 3)"
   ]
  },
  {
   "cell_type": "code",
   "execution_count": 18,
   "metadata": {},
   "outputs": [
    {
     "data": {
      "text/plain": [
       "0.082"
      ]
     },
     "execution_count": 18,
     "metadata": {},
     "output_type": "execute_result"
    }
   ],
   "source": [
    "p0 = 0.75 # H0 \n",
    "# p1 < 0.75 # H1\n",
    "\n",
    "total_employees = 125\n",
    "ready_employees = 87\n",
    "\n",
    "p = ready_employees / total_employees\n",
    "n = total_employees\n",
    "\n",
    "z_st = (p - p0) / math.sqrt(p0 * (1 - p0) / total_employees)\n",
    "round(z_st, 3)\n",
    "\n",
    "p_value = norm.cdf(z_st)\n",
    "round(p_value, 3)"
   ]
  },
  {
   "cell_type": "code",
   "execution_count": 23,
   "metadata": {},
   "outputs": [
    {
     "data": {
      "text/plain": [
       "(-1.120432065446935, 0.27840903994521154, 16.673890238780608)"
      ]
     },
     "execution_count": 23,
     "metadata": {},
     "output_type": "execute_result"
    }
   ],
   "source": [
    "from statsmodels.stats import weightstats\n",
    "import pandas as pd\n",
    "df = pd.DataFrame({\n",
    "    'x': [6.1, 9.2, 11.5, 8.6, 12.1, 3.9, 8.4, 10.1, 9.4, 8.9],\n",
    "    'y': [7.3, 8.7, 12.6, 6.8, 12, 6.9, 10.2, 17.1, 9.2, 11.6]\n",
    "})\n",
    "\n",
    "df\n",
    "\n",
    "weightstats.ttest_ind(df.x, df.y, usevar ='unequal')"
   ]
  },
  {
   "cell_type": "code",
   "execution_count": 31,
   "metadata": {},
   "outputs": [
    {
     "data": {
      "text/plain": [
       "1.3935165942280392e-06"
      ]
     },
     "execution_count": 31,
     "metadata": {},
     "output_type": "execute_result"
    }
   ],
   "source": [
    "p1 = 62 / 100\n",
    "p2 = 29 / 100\n",
    "\n",
    "n1 = 100\n",
    "n2 = 100\n",
    "\n",
    "p = ((p1 * n1) + (p2 * n2)) / (n1 + n2)\n",
    "p\n",
    "\n",
    "z_st = (p1 - p2) / (math.sqrt(p * (1 - p)) * math.sqrt((1 / n1) + (1 / n2)))\n",
    "round(z_st, 2)\n",
    "\n",
    "p_value = 1 - norm.cdf(z_st)\n",
    "p_value"
   ]
  }
 ],
 "metadata": {
  "kernelspec": {
   "display_name": "Python 3",
   "language": "python",
   "name": "python3"
  },
  "language_info": {
   "codemirror_mode": {
    "name": "ipython",
    "version": 3
   },
   "file_extension": ".py",
   "mimetype": "text/x-python",
   "name": "python",
   "nbconvert_exporter": "python",
   "pygments_lexer": "ipython3",
   "version": "3.7.6"
  }
 },
 "nbformat": 4,
 "nbformat_minor": 4
}
