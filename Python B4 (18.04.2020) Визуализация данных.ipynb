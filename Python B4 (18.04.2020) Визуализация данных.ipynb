{
 "cells": [
  {
   "cell_type": "markdown",
   "metadata": {},
   "source": [
    "# Визуализация данных"
   ]
  },
  {
   "cell_type": "markdown",
   "metadata": {},
   "source": [
    "1. Исследование данных через их визуальное представление. \n",
    "2. Тесно связана с анализом данных (data mining)\n",
    "3. Программный код для изучения закономерностей и связей в наборе данных: маленький список чисел, помещающийся в одной строке кода, массив из многих гигабайт.\n",
    "4. Качество не сводится к красивой картинке. \n",
    "5. Для нахождения закономерностей"
   ]
  },
  {
   "cell_type": "code",
   "execution_count": 1,
   "metadata": {},
   "outputs": [],
   "source": [
    "#Подключаем модули\n",
    "import pandas as pd\n",
    "import matplotlib.pyplot as plt\n",
    "import seaborn as sns\n",
    "%matplotlib inline "
   ]
  },
  {
   "cell_type": "code",
   "execution_count": 2,
   "metadata": {},
   "outputs": [],
   "source": [
    "#Необязательная часть кода\n",
    "#Убирает комментарий на розовом фоне\n",
    "import warnings; warnings.simplefilter('ignore')\n"
   ]
  },
  {
   "cell_type": "markdown",
   "metadata": {},
   "source": [
    "# Часть 1. Подготовим данные для визуализации #"
   ]
  },
  {
   "cell_type": "markdown",
   "metadata": {},
   "source": [
    "Скачать датасет можно по адресу https://drive.google.com/file/d/1zy9JKp-bTfF0gRYkGl-g0X4o72NAhl1u/view"
   ]
  },
  {
   "cell_type": "code",
   "execution_count": 3,
   "metadata": {},
   "outputs": [],
   "source": [
    "#загрузка файла в pandas\n",
    "df = pd.read_csv('train.csv')"
   ]
  },
  {
   "cell_type": "code",
   "execution_count": 4,
   "metadata": {},
   "outputs": [
    {
     "data": {
      "text/html": [
       "<div>\n",
       "<style scoped>\n",
       "    .dataframe tbody tr th:only-of-type {\n",
       "        vertical-align: middle;\n",
       "    }\n",
       "\n",
       "    .dataframe tbody tr th {\n",
       "        vertical-align: top;\n",
       "    }\n",
       "\n",
       "    .dataframe thead th {\n",
       "        text-align: right;\n",
       "    }\n",
       "</style>\n",
       "<table border=\"1\" class=\"dataframe\">\n",
       "  <thead>\n",
       "    <tr style=\"text-align: right;\">\n",
       "      <th></th>\n",
       "      <th>PassengerId</th>\n",
       "      <th>Survived</th>\n",
       "      <th>Pclass</th>\n",
       "      <th>Name</th>\n",
       "      <th>Sex</th>\n",
       "      <th>Age</th>\n",
       "      <th>SibSp</th>\n",
       "      <th>Parch</th>\n",
       "      <th>Ticket</th>\n",
       "      <th>Fare</th>\n",
       "      <th>Cabin</th>\n",
       "      <th>Embarked</th>\n",
       "    </tr>\n",
       "  </thead>\n",
       "  <tbody>\n",
       "    <tr>\n",
       "      <th>0</th>\n",
       "      <td>1</td>\n",
       "      <td>0</td>\n",
       "      <td>3</td>\n",
       "      <td>Braund, Mr. Owen Harris</td>\n",
       "      <td>male</td>\n",
       "      <td>22.0</td>\n",
       "      <td>1</td>\n",
       "      <td>0</td>\n",
       "      <td>A/5 21171</td>\n",
       "      <td>7.2500</td>\n",
       "      <td>NaN</td>\n",
       "      <td>S</td>\n",
       "    </tr>\n",
       "    <tr>\n",
       "      <th>1</th>\n",
       "      <td>2</td>\n",
       "      <td>1</td>\n",
       "      <td>1</td>\n",
       "      <td>Cumings, Mrs. John Bradley (Florence Briggs Th...</td>\n",
       "      <td>female</td>\n",
       "      <td>38.0</td>\n",
       "      <td>1</td>\n",
       "      <td>0</td>\n",
       "      <td>PC 17599</td>\n",
       "      <td>71.2833</td>\n",
       "      <td>C85</td>\n",
       "      <td>C</td>\n",
       "    </tr>\n",
       "    <tr>\n",
       "      <th>2</th>\n",
       "      <td>3</td>\n",
       "      <td>1</td>\n",
       "      <td>3</td>\n",
       "      <td>Heikkinen, Miss. Laina</td>\n",
       "      <td>female</td>\n",
       "      <td>26.0</td>\n",
       "      <td>0</td>\n",
       "      <td>0</td>\n",
       "      <td>STON/O2. 3101282</td>\n",
       "      <td>7.9250</td>\n",
       "      <td>NaN</td>\n",
       "      <td>S</td>\n",
       "    </tr>\n",
       "    <tr>\n",
       "      <th>3</th>\n",
       "      <td>4</td>\n",
       "      <td>1</td>\n",
       "      <td>1</td>\n",
       "      <td>Futrelle, Mrs. Jacques Heath (Lily May Peel)</td>\n",
       "      <td>female</td>\n",
       "      <td>35.0</td>\n",
       "      <td>1</td>\n",
       "      <td>0</td>\n",
       "      <td>113803</td>\n",
       "      <td>53.1000</td>\n",
       "      <td>C123</td>\n",
       "      <td>S</td>\n",
       "    </tr>\n",
       "    <tr>\n",
       "      <th>4</th>\n",
       "      <td>5</td>\n",
       "      <td>0</td>\n",
       "      <td>3</td>\n",
       "      <td>Allen, Mr. William Henry</td>\n",
       "      <td>male</td>\n",
       "      <td>35.0</td>\n",
       "      <td>0</td>\n",
       "      <td>0</td>\n",
       "      <td>373450</td>\n",
       "      <td>8.0500</td>\n",
       "      <td>NaN</td>\n",
       "      <td>S</td>\n",
       "    </tr>\n",
       "    <tr>\n",
       "      <th>...</th>\n",
       "      <td>...</td>\n",
       "      <td>...</td>\n",
       "      <td>...</td>\n",
       "      <td>...</td>\n",
       "      <td>...</td>\n",
       "      <td>...</td>\n",
       "      <td>...</td>\n",
       "      <td>...</td>\n",
       "      <td>...</td>\n",
       "      <td>...</td>\n",
       "      <td>...</td>\n",
       "      <td>...</td>\n",
       "    </tr>\n",
       "    <tr>\n",
       "      <th>886</th>\n",
       "      <td>887</td>\n",
       "      <td>0</td>\n",
       "      <td>2</td>\n",
       "      <td>Montvila, Rev. Juozas</td>\n",
       "      <td>male</td>\n",
       "      <td>27.0</td>\n",
       "      <td>0</td>\n",
       "      <td>0</td>\n",
       "      <td>211536</td>\n",
       "      <td>13.0000</td>\n",
       "      <td>NaN</td>\n",
       "      <td>S</td>\n",
       "    </tr>\n",
       "    <tr>\n",
       "      <th>887</th>\n",
       "      <td>888</td>\n",
       "      <td>1</td>\n",
       "      <td>1</td>\n",
       "      <td>Graham, Miss. Margaret Edith</td>\n",
       "      <td>female</td>\n",
       "      <td>19.0</td>\n",
       "      <td>0</td>\n",
       "      <td>0</td>\n",
       "      <td>112053</td>\n",
       "      <td>30.0000</td>\n",
       "      <td>B42</td>\n",
       "      <td>S</td>\n",
       "    </tr>\n",
       "    <tr>\n",
       "      <th>888</th>\n",
       "      <td>889</td>\n",
       "      <td>0</td>\n",
       "      <td>3</td>\n",
       "      <td>Johnston, Miss. Catherine Helen \"Carrie\"</td>\n",
       "      <td>female</td>\n",
       "      <td>NaN</td>\n",
       "      <td>1</td>\n",
       "      <td>2</td>\n",
       "      <td>W./C. 6607</td>\n",
       "      <td>23.4500</td>\n",
       "      <td>NaN</td>\n",
       "      <td>S</td>\n",
       "    </tr>\n",
       "    <tr>\n",
       "      <th>889</th>\n",
       "      <td>890</td>\n",
       "      <td>1</td>\n",
       "      <td>1</td>\n",
       "      <td>Behr, Mr. Karl Howell</td>\n",
       "      <td>male</td>\n",
       "      <td>26.0</td>\n",
       "      <td>0</td>\n",
       "      <td>0</td>\n",
       "      <td>111369</td>\n",
       "      <td>30.0000</td>\n",
       "      <td>C148</td>\n",
       "      <td>C</td>\n",
       "    </tr>\n",
       "    <tr>\n",
       "      <th>890</th>\n",
       "      <td>891</td>\n",
       "      <td>0</td>\n",
       "      <td>3</td>\n",
       "      <td>Dooley, Mr. Patrick</td>\n",
       "      <td>male</td>\n",
       "      <td>32.0</td>\n",
       "      <td>0</td>\n",
       "      <td>0</td>\n",
       "      <td>370376</td>\n",
       "      <td>7.7500</td>\n",
       "      <td>NaN</td>\n",
       "      <td>Q</td>\n",
       "    </tr>\n",
       "  </tbody>\n",
       "</table>\n",
       "<p>891 rows × 12 columns</p>\n",
       "</div>"
      ],
      "text/plain": [
       "     PassengerId  Survived  Pclass  \\\n",
       "0              1         0       3   \n",
       "1              2         1       1   \n",
       "2              3         1       3   \n",
       "3              4         1       1   \n",
       "4              5         0       3   \n",
       "..           ...       ...     ...   \n",
       "886          887         0       2   \n",
       "887          888         1       1   \n",
       "888          889         0       3   \n",
       "889          890         1       1   \n",
       "890          891         0       3   \n",
       "\n",
       "                                                  Name     Sex   Age  SibSp  \\\n",
       "0                              Braund, Mr. Owen Harris    male  22.0      1   \n",
       "1    Cumings, Mrs. John Bradley (Florence Briggs Th...  female  38.0      1   \n",
       "2                               Heikkinen, Miss. Laina  female  26.0      0   \n",
       "3         Futrelle, Mrs. Jacques Heath (Lily May Peel)  female  35.0      1   \n",
       "4                             Allen, Mr. William Henry    male  35.0      0   \n",
       "..                                                 ...     ...   ...    ...   \n",
       "886                              Montvila, Rev. Juozas    male  27.0      0   \n",
       "887                       Graham, Miss. Margaret Edith  female  19.0      0   \n",
       "888           Johnston, Miss. Catherine Helen \"Carrie\"  female   NaN      1   \n",
       "889                              Behr, Mr. Karl Howell    male  26.0      0   \n",
       "890                                Dooley, Mr. Patrick    male  32.0      0   \n",
       "\n",
       "     Parch            Ticket     Fare Cabin Embarked  \n",
       "0        0         A/5 21171   7.2500   NaN        S  \n",
       "1        0          PC 17599  71.2833   C85        C  \n",
       "2        0  STON/O2. 3101282   7.9250   NaN        S  \n",
       "3        0            113803  53.1000  C123        S  \n",
       "4        0            373450   8.0500   NaN        S  \n",
       "..     ...               ...      ...   ...      ...  \n",
       "886      0            211536  13.0000   NaN        S  \n",
       "887      0            112053  30.0000   B42        S  \n",
       "888      2        W./C. 6607  23.4500   NaN        S  \n",
       "889      0            111369  30.0000  C148        C  \n",
       "890      0            370376   7.7500   NaN        Q  \n",
       "\n",
       "[891 rows x 12 columns]"
      ]
     },
     "execution_count": 4,
     "metadata": {},
     "output_type": "execute_result"
    }
   ],
   "source": [
    "#вывод первых 10 строк\n",
    "\n",
    "df\n"
   ]
  },
  {
   "cell_type": "code",
   "execution_count": 5,
   "metadata": {},
   "outputs": [
    {
     "name": "stdout",
     "output_type": "stream",
     "text": [
      "<class 'pandas.core.frame.DataFrame'>\n",
      "RangeIndex: 891 entries, 0 to 890\n",
      "Data columns (total 12 columns):\n",
      " #   Column       Non-Null Count  Dtype  \n",
      "---  ------       --------------  -----  \n",
      " 0   PassengerId  891 non-null    int64  \n",
      " 1   Survived     891 non-null    int64  \n",
      " 2   Pclass       891 non-null    int64  \n",
      " 3   Name         891 non-null    object \n",
      " 4   Sex          891 non-null    object \n",
      " 5   Age          714 non-null    float64\n",
      " 6   SibSp        891 non-null    int64  \n",
      " 7   Parch        891 non-null    int64  \n",
      " 8   Ticket       891 non-null    object \n",
      " 9   Fare         891 non-null    float64\n",
      " 10  Cabin        204 non-null    object \n",
      " 11  Embarked     889 non-null    object \n",
      "dtypes: float64(2), int64(5), object(5)\n",
      "memory usage: 83.7+ KB\n"
     ]
    }
   ],
   "source": [
    "#вывод информации о файле\n",
    "df.info()"
   ]
  },
  {
   "cell_type": "code",
   "execution_count": 6,
   "metadata": {},
   "outputs": [
    {
     "data": {
      "text/plain": [
       "'C'"
      ]
     },
     "execution_count": 6,
     "metadata": {},
     "output_type": "execute_result"
    }
   ],
   "source": [
    "df['Embarked'].value_counts().index[1]"
   ]
  },
  {
   "cell_type": "code",
   "execution_count": 7,
   "metadata": {},
   "outputs": [
    {
     "data": {
      "text/plain": [
       "<matplotlib.axes._subplots.AxesSubplot at 0x1651f7c6a48>"
      ]
     },
     "execution_count": 7,
     "metadata": {},
     "output_type": "execute_result"
    },
    {
     "data": {
      "image/png": "[encoded data removed]",
      "text/plain": [
       "<Figure size 432x288 with 1 Axes>"
      ]
     },
     "metadata": {
      "needs_background": "light"
     },
     "output_type": "display_data"
    }
   ],
   "source": [
    "#Применим plot()\n",
    "df.plot()"
   ]
  },
  {
   "cell_type": "markdown",
   "metadata": {},
   "source": [
    "## Документация pandas.plotting\n",
    "https://pandas.pydata.org/docs/reference/plotting.html"
   ]
  },
  {
   "cell_type": "code",
   "execution_count": 8,
   "metadata": {},
   "outputs": [],
   "source": [
    "#подключает вид вывода графиков из модуля seaborn\n",
    "sns.set()"
   ]
  },
  {
   "cell_type": "code",
   "execution_count": 9,
   "metadata": {},
   "outputs": [
    {
     "data": {
      "text/plain": [
       "<matplotlib.axes._subplots.AxesSubplot at 0x1651ff49188>"
      ]
     },
     "execution_count": 9,
     "metadata": {},
     "output_type": "execute_result"
    },
    {
     "data": {
      "image/png": "[encoded data removed]",
      "text/plain": [
       "<Figure size 432x288 with 1 Axes>"
      ]
     },
     "metadata": {},
     "output_type": "display_data"
    }
   ],
   "source": [
    "df.plot()"
   ]
  },
  {
   "cell_type": "markdown",
   "metadata": {},
   "source": [
    "## Изменение датафрейма"
   ]
  },
  {
   "cell_type": "code",
   "execution_count": 10,
   "metadata": {},
   "outputs": [
    {
     "data": {
      "text/plain": [
       "Index(['PassengerId', 'Survived', 'Pclass', 'Name', 'Sex', 'Age', 'SibSp',\n",
       "       'Parch', 'Ticket', 'Fare', 'Cabin', 'Embarked'],\n",
       "      dtype='object')"
      ]
     },
     "execution_count": 10,
     "metadata": {},
     "output_type": "execute_result"
    }
   ],
   "source": [
    "df.columns"
   ]
  },
  {
   "cell_type": "markdown",
   "metadata": {},
   "source": [
    "## Метод drop()\n",
    "\n",
    "df.drop([название элементов], axis = 1 или 0, inplace = True)\n",
    "axis = 1, если нужно удалить столбцы\n",
    "axis = 0, если нужно удалить строки\n",
    "inplace = True - удаляем элементы из самой переменной\n",
    "inplace = False - просто показывается результат изменения, не изменяя переменной, к которой применяется метод"
   ]
  },
  {
   "cell_type": "code",
   "execution_count": 11,
   "metadata": {},
   "outputs": [],
   "source": [
    "#Удаляем столбцы, в которых нет ценной для нас информации\n",
    "df.drop(['PassengerId', 'Name', 'Sex', 'SibSp','Parch', 'Ticket', 'Cabin'], axis = 1, inplace = True)"
   ]
  },
  {
   "cell_type": "code",
   "execution_count": 12,
   "metadata": {},
   "outputs": [
    {
     "data": {
      "text/html": [
       "<div>\n",
       "<style scoped>\n",
       "    .dataframe tbody tr th:only-of-type {\n",
       "        vertical-align: middle;\n",
       "    }\n",
       "\n",
       "    .dataframe tbody tr th {\n",
       "        vertical-align: top;\n",
       "    }\n",
       "\n",
       "    .dataframe thead th {\n",
       "        text-align: right;\n",
       "    }\n",
       "</style>\n",
       "<table border=\"1\" class=\"dataframe\">\n",
       "  <thead>\n",
       "    <tr style=\"text-align: right;\">\n",
       "      <th></th>\n",
       "      <th>Survived</th>\n",
       "      <th>Pclass</th>\n",
       "      <th>Age</th>\n",
       "      <th>Fare</th>\n",
       "      <th>Embarked</th>\n",
       "    </tr>\n",
       "  </thead>\n",
       "  <tbody>\n",
       "    <tr>\n",
       "      <th>0</th>\n",
       "      <td>0</td>\n",
       "      <td>3</td>\n",
       "      <td>22.0</td>\n",
       "      <td>7.2500</td>\n",
       "      <td>S</td>\n",
       "    </tr>\n",
       "    <tr>\n",
       "      <th>1</th>\n",
       "      <td>1</td>\n",
       "      <td>1</td>\n",
       "      <td>38.0</td>\n",
       "      <td>71.2833</td>\n",
       "      <td>C</td>\n",
       "    </tr>\n",
       "    <tr>\n",
       "      <th>2</th>\n",
       "      <td>1</td>\n",
       "      <td>3</td>\n",
       "      <td>26.0</td>\n",
       "      <td>7.9250</td>\n",
       "      <td>S</td>\n",
       "    </tr>\n",
       "    <tr>\n",
       "      <th>3</th>\n",
       "      <td>1</td>\n",
       "      <td>1</td>\n",
       "      <td>35.0</td>\n",
       "      <td>53.1000</td>\n",
       "      <td>S</td>\n",
       "    </tr>\n",
       "    <tr>\n",
       "      <th>4</th>\n",
       "      <td>0</td>\n",
       "      <td>3</td>\n",
       "      <td>35.0</td>\n",
       "      <td>8.0500</td>\n",
       "      <td>S</td>\n",
       "    </tr>\n",
       "    <tr>\n",
       "      <th>5</th>\n",
       "      <td>0</td>\n",
       "      <td>3</td>\n",
       "      <td>NaN</td>\n",
       "      <td>8.4583</td>\n",
       "      <td>Q</td>\n",
       "    </tr>\n",
       "    <tr>\n",
       "      <th>6</th>\n",
       "      <td>0</td>\n",
       "      <td>1</td>\n",
       "      <td>54.0</td>\n",
       "      <td>51.8625</td>\n",
       "      <td>S</td>\n",
       "    </tr>\n",
       "    <tr>\n",
       "      <th>7</th>\n",
       "      <td>0</td>\n",
       "      <td>3</td>\n",
       "      <td>2.0</td>\n",
       "      <td>21.0750</td>\n",
       "      <td>S</td>\n",
       "    </tr>\n",
       "    <tr>\n",
       "      <th>8</th>\n",
       "      <td>1</td>\n",
       "      <td>3</td>\n",
       "      <td>27.0</td>\n",
       "      <td>11.1333</td>\n",
       "      <td>S</td>\n",
       "    </tr>\n",
       "    <tr>\n",
       "      <th>9</th>\n",
       "      <td>1</td>\n",
       "      <td>2</td>\n",
       "      <td>14.0</td>\n",
       "      <td>30.0708</td>\n",
       "      <td>C</td>\n",
       "    </tr>\n",
       "  </tbody>\n",
       "</table>\n",
       "</div>"
      ],
      "text/plain": [
       "   Survived  Pclass   Age     Fare Embarked\n",
       "0         0       3  22.0   7.2500        S\n",
       "1         1       1  38.0  71.2833        C\n",
       "2         1       3  26.0   7.9250        S\n",
       "3         1       1  35.0  53.1000        S\n",
       "4         0       3  35.0   8.0500        S\n",
       "5         0       3   NaN   8.4583        Q\n",
       "6         0       1  54.0  51.8625        S\n",
       "7         0       3   2.0  21.0750        S\n",
       "8         1       3  27.0  11.1333        S\n",
       "9         1       2  14.0  30.0708        C"
      ]
     },
     "execution_count": 12,
     "metadata": {},
     "output_type": "execute_result"
    }
   ],
   "source": [
    "df.head(10)"
   ]
  },
  {
   "cell_type": "markdown",
   "metadata": {},
   "source": [
    "## Функция round()\n",
    "Позволяет выполнить округление\n",
    "\n",
    "round(имя_df[название_колонки], количество знаков]"
   ]
  },
  {
   "cell_type": "code",
   "execution_count": 13,
   "metadata": {},
   "outputs": [],
   "source": [
    "#Округляем значения в столбце 'Fare' до 2 знаков после запятой\n",
    "df['Fare'] = round(df['Fare'],2)"
   ]
  },
  {
   "cell_type": "code",
   "execution_count": 14,
   "metadata": {},
   "outputs": [
    {
     "data": {
      "text/plain": [
       "Survived      0\n",
       "Pclass        0\n",
       "Age         177\n",
       "Fare          0\n",
       "Embarked      2\n",
       "dtype: int64"
      ]
     },
     "execution_count": 14,
     "metadata": {},
     "output_type": "execute_result"
    }
   ],
   "source": [
    "#Определяем, где есть пустые значения\n",
    "df.isna().sum()"
   ]
  },
  {
   "cell_type": "code",
   "execution_count": 15,
   "metadata": {},
   "outputs": [],
   "source": [
    "#Заполняем столбец 'Embarked' метод fillna()\n",
    "df['Embarked'].fillna('No data', inplace = True)"
   ]
  },
  {
   "cell_type": "code",
   "execution_count": null,
   "metadata": {
    "scrolled": true
   },
   "outputs": [],
   "source": []
  },
  {
   "cell_type": "markdown",
   "metadata": {},
   "source": [
    "## Заполняем пустые значения о возрасте"
   ]
  },
  {
   "cell_type": "code",
   "execution_count": 16,
   "metadata": {},
   "outputs": [],
   "source": [
    "# Cредние арифметические в зависимости от класса каюты\n",
    "age_1 = df[df['Pclass'] == 1]['Age'].median()\n",
    "age_2 = df[df['Pclass'] == 2]['Age'].median()\n",
    "age_3 = df[df['Pclass'] == 3]['Age'].median()"
   ]
  },
  {
   "cell_type": "code",
   "execution_count": 17,
   "metadata": {},
   "outputs": [],
   "source": [
    "#Функция fill_age()\n",
    "def fill_age(row):\n",
    "    if pd.isnull(row['Age']):\n",
    "        if row['Pclass'] == 1:\n",
    "            return age_1\n",
    "        if row['Pclass'] == 2:\n",
    "            return age_2\n",
    "        return age_3\n",
    "    return row['Age']"
   ]
  },
  {
   "cell_type": "code",
   "execution_count": 18,
   "metadata": {},
   "outputs": [],
   "source": [
    "#Применяем функцию к столбцу Age метод apply()\n",
    "df['Age'] = df.apply(fill_age, axis = 1)"
   ]
  },
  {
   "cell_type": "code",
   "execution_count": 19,
   "metadata": {},
   "outputs": [
    {
     "data": {
      "text/html": [
       "<div>\n",
       "<style scoped>\n",
       "    .dataframe tbody tr th:only-of-type {\n",
       "        vertical-align: middle;\n",
       "    }\n",
       "\n",
       "    .dataframe tbody tr th {\n",
       "        vertical-align: top;\n",
       "    }\n",
       "\n",
       "    .dataframe thead th {\n",
       "        text-align: right;\n",
       "    }\n",
       "</style>\n",
       "<table border=\"1\" class=\"dataframe\">\n",
       "  <thead>\n",
       "    <tr style=\"text-align: right;\">\n",
       "      <th></th>\n",
       "      <th>Survived</th>\n",
       "      <th>Pclass</th>\n",
       "      <th>Age</th>\n",
       "      <th>Fare</th>\n",
       "      <th>Embarked</th>\n",
       "    </tr>\n",
       "  </thead>\n",
       "  <tbody>\n",
       "    <tr>\n",
       "      <th>0</th>\n",
       "      <td>0</td>\n",
       "      <td>3</td>\n",
       "      <td>22.0</td>\n",
       "      <td>7.25</td>\n",
       "      <td>S</td>\n",
       "    </tr>\n",
       "    <tr>\n",
       "      <th>1</th>\n",
       "      <td>1</td>\n",
       "      <td>1</td>\n",
       "      <td>38.0</td>\n",
       "      <td>71.28</td>\n",
       "      <td>C</td>\n",
       "    </tr>\n",
       "    <tr>\n",
       "      <th>2</th>\n",
       "      <td>1</td>\n",
       "      <td>3</td>\n",
       "      <td>26.0</td>\n",
       "      <td>7.92</td>\n",
       "      <td>S</td>\n",
       "    </tr>\n",
       "    <tr>\n",
       "      <th>3</th>\n",
       "      <td>1</td>\n",
       "      <td>1</td>\n",
       "      <td>35.0</td>\n",
       "      <td>53.10</td>\n",
       "      <td>S</td>\n",
       "    </tr>\n",
       "    <tr>\n",
       "      <th>4</th>\n",
       "      <td>0</td>\n",
       "      <td>3</td>\n",
       "      <td>35.0</td>\n",
       "      <td>8.05</td>\n",
       "      <td>S</td>\n",
       "    </tr>\n",
       "  </tbody>\n",
       "</table>\n",
       "</div>"
      ],
      "text/plain": [
       "   Survived  Pclass   Age   Fare Embarked\n",
       "0         0       3  22.0   7.25        S\n",
       "1         1       1  38.0  71.28        C\n",
       "2         1       3  26.0   7.92        S\n",
       "3         1       1  35.0  53.10        S\n",
       "4         0       3  35.0   8.05        S"
      ]
     },
     "execution_count": 19,
     "metadata": {},
     "output_type": "execute_result"
    }
   ],
   "source": [
    "df.head()"
   ]
  },
  {
   "cell_type": "markdown",
   "metadata": {},
   "source": [
    "# Начинаем рисовать! "
   ]
  },
  {
   "cell_type": "markdown",
   "metadata": {},
   "source": [
    "Чтобы получить представления о  визуализациях, которые можно строить в matplotlib, посетите галерею на сайте http://matplotlib.org/. Щелкая на визуализации в галерее, вы сможете просмотреть код, использованный для ее построения."
   ]
  },
  {
   "cell_type": "markdown",
   "metadata": {},
   "source": [
    "## Документация matplotlib\n",
    "https://matplotlib.org/3.1.1/py-modindex.html"
   ]
  },
  {
   "cell_type": "code",
   "execution_count": 20,
   "metadata": {},
   "outputs": [
    {
     "data": {
      "image/png": "[encoded data removed]",
      "text/plain": [
       "<Figure size 432x288 with 1 Axes>"
      ]
     },
     "metadata": {},
     "output_type": "display_data"
    }
   ],
   "source": [
    "#Создаем систему координат\n",
    "fig = plt.figure()\n",
    "axes = fig.add_axes([0,0,1.5,1])\n"
   ]
  },
  {
   "cell_type": "markdown",
   "metadata": {},
   "source": [
    "## Диаграмма распределения признаков ##"
   ]
  },
  {
   "cell_type": "code",
   "execution_count": 21,
   "metadata": {},
   "outputs": [
    {
     "data": {
      "text/plain": [
       "Text(0, 0.5, 'Количество пассажиров')"
      ]
     },
     "execution_count": 21,
     "metadata": {},
     "output_type": "execute_result"
    },
    {
     "data": {
      "image/png": "[encoded data removed]",
      "text/plain": [
       "<Figure size 432x288 with 1 Axes>"
      ]
     },
     "metadata": {},
     "output_type": "display_data"
    }
   ],
   "source": [
    "# Рисуем столбчатую диаграмму, отображающую распределение пассажиров по возрасту\n",
    "fig = plt.figure()\n",
    "axes = fig.add_axes([0, 0, 1, 1])\n",
    "#Метод hist(название_столбца, ширина стобца bins = )\n",
    "axes.hist(df['Age'], bins = 20)\n",
    "#Добавляем подписи\n",
    "axes.set_title('Распределение пассажиров по возрасту')\n",
    "axes.set_xlabel('Возраст пассажиров')\n",
    "axes.set_ylabel('Количество пассажиров')\n",
    "#title = 'Распределение пассажиров по возрасту'\n",
    "#xlabel = 'Возраст пассажиров'\n",
    "#ylabel = 'Количество пассажиров'\n"
   ]
  },
  {
   "cell_type": "code",
   "execution_count": 22,
   "metadata": {},
   "outputs": [
    {
     "data": {
      "image/png": "[encoded data removed]",
      "text/plain": [
       "<Figure size 432x288 with 1 Axes>"
      ]
     },
     "metadata": {},
     "output_type": "display_data"
    }
   ],
   "source": [
    "# Рисуем диаграмму, отображающую соотношение выживших и погибших\n",
    "fig = plt.figure()\n",
    "axes = fig.add_axes([0, 0, 0.5, 1])\n"
   ]
  },
  {
   "cell_type": "code",
   "execution_count": 23,
   "metadata": {},
   "outputs": [
    {
     "data": {
      "text/plain": [
       "Text(0.5, 1.0, 'Соотношение выживших и погибших')"
      ]
     },
     "execution_count": 23,
     "metadata": {},
     "output_type": "execute_result"
    },
    {
     "data": {
      "image/png": "[encoded data removed]",
      "text/plain": [
       "<Figure size 432x288 with 1 Axes>"
      ]
     },
     "metadata": {},
     "output_type": "display_data"
    }
   ],
   "source": [
    "# Соотношение выживших и погибших, метод bar()\n",
    "fig = plt.figure()\n",
    "axes = fig.add_axes([0, 0, 0.6, 1])\n",
    "axes.hist(df['Survived'], bins=2)\n",
    "axes.set_title('Соотношение выживших и погибших')\n"
   ]
  },
  {
   "cell_type": "code",
   "execution_count": 24,
   "metadata": {},
   "outputs": [
    {
     "data": {
      "text/plain": [
       "0    549\n",
       "1    342\n",
       "Name: Survived, dtype: int64"
      ]
     },
     "execution_count": 24,
     "metadata": {},
     "output_type": "execute_result"
    }
   ],
   "source": [
    "df['Survived'].value_counts()"
   ]
  },
  {
   "cell_type": "code",
   "execution_count": 25,
   "metadata": {},
   "outputs": [
    {
     "data": {
      "text/plain": [
       "<BarContainer object of 2 artists>"
      ]
     },
     "execution_count": 25,
     "metadata": {},
     "output_type": "execute_result"
    },
    {
     "data": {
      "image/png": "[encoded data removed]",
      "text/plain": [
       "<Figure size 432x288 with 1 Axes>"
      ]
     },
     "metadata": {},
     "output_type": "display_data"
    }
   ],
   "source": [
    "fig = plt.figure()\n",
    "axes = fig.add_axes([0, 0, 0.6, 1])\n",
    "axes.bar(x = ['Погибли', 'Выжилы'], height = df['Survived'].value_counts())"
   ]
  },
  {
   "cell_type": "code",
   "execution_count": 26,
   "metadata": {},
   "outputs": [
    {
     "data": {
      "text/plain": [
       "(array([20., 14.,  4.,  4., 13., 27., 21., 61., 40., 24., 28., 31.,  9.,\n",
       "         8., 16.,  6.,  6.,  5.,  4.,  0.,  0.,  0.,  0.,  1.]),\n",
       " array([ 0.42      ,  3.73583333,  7.05166667, 10.3675    , 13.68333333,\n",
       "        16.99916667, 20.315     , 23.63083333, 26.94666667, 30.2625    ,\n",
       "        33.57833333, 36.89416667, 40.21      , 43.52583333, 46.84166667,\n",
       "        50.1575    , 53.47333333, 56.78916667, 60.105     , 63.42083333,\n",
       "        66.73666667, 70.0525    , 73.36833333, 76.68416667, 80.        ]),\n",
       " <a list of 24 Patch objects>)"
      ]
     },
     "execution_count": 26,
     "metadata": {},
     "output_type": "execute_result"
    },
    {
     "data": {
      "image/png": "[encoded data removed]",
      "text/plain": [
       "<Figure size 432x288 with 1 Axes>"
      ]
     },
     "metadata": {},
     "output_type": "display_data"
    }
   ],
   "source": [
    "fig = plt.figure()\n",
    "axes = fig.add_axes([0, 0, 0.6, 1])\n",
    "axes.hist(df[df['Survived'] == 1]['Age'], bins = 24)"
   ]
  },
  {
   "cell_type": "code",
   "execution_count": 27,
   "metadata": {},
   "outputs": [
    {
     "data": {
      "text/plain": [
       "<matplotlib.collections.PathCollection at 0x1652024e1c8>"
      ]
     },
     "execution_count": 27,
     "metadata": {},
     "output_type": "execute_result"
    },
    {
     "data": {
      "image/png": "[encoded data removed]",
      "text/plain": [
       "<Figure size 432x288 with 1 Axes>"
      ]
     },
     "metadata": {},
     "output_type": "display_data"
    }
   ],
   "source": [
    "# Рисуем график зависимости стоимости билета от возраста пассажира, метод scatter()\n",
    "fig = plt.figure()\n",
    "axes = fig.add_axes([0, 0, 1, 1])\n",
    "axes.scatter(x = df[\"Age\"], y = df[\"Fare\"])"
   ]
  },
  {
   "cell_type": "code",
   "execution_count": 28,
   "metadata": {},
   "outputs": [
    {
     "data": {
      "text/plain": [
       "<matplotlib.axes._axes.Axes at 0x16520287288>"
      ]
     },
     "execution_count": 28,
     "metadata": {},
     "output_type": "execute_result"
    },
    {
     "data": {
      "image/png": "[encoded data removed]",
      "text/plain": [
       "<Figure size 432x288 with 1 Axes>"
      ]
     },
     "metadata": {},
     "output_type": "display_data"
    }
   ],
   "source": [
    "# Рисуем диаграмму, отображающую распределение стоимости билетов в зависимости от класса, метод boxplot()\n",
    "fig = plt.figure()\n",
    "axes = fig.add_axes([0, 0, 1, 1])\n",
    "\n",
    "axes.set_ylim(0,200)\n",
    "sns.boxplot(x = df['Pclass'], y = df['Fare'])\n",
    "# Добавим поясняющие подписи\n"
   ]
  },
  {
   "cell_type": "markdown",
   "metadata": {},
   "source": [
    "## Рисуем несколько графиков в одном ##"
   ]
  },
  {
   "cell_type": "code",
   "execution_count": 29,
   "metadata": {},
   "outputs": [
    {
     "data": {
      "text/html": [
       "<div>\n",
       "<style scoped>\n",
       "    .dataframe tbody tr th:only-of-type {\n",
       "        vertical-align: middle;\n",
       "    }\n",
       "\n",
       "    .dataframe tbody tr th {\n",
       "        vertical-align: top;\n",
       "    }\n",
       "\n",
       "    .dataframe thead th {\n",
       "        text-align: right;\n",
       "    }\n",
       "</style>\n",
       "<table border=\"1\" class=\"dataframe\">\n",
       "  <thead>\n",
       "    <tr style=\"text-align: right;\">\n",
       "      <th></th>\n",
       "      <th>Pclass</th>\n",
       "      <th>min</th>\n",
       "      <th>max</th>\n",
       "    </tr>\n",
       "  </thead>\n",
       "  <tbody>\n",
       "    <tr>\n",
       "      <th>0</th>\n",
       "      <td>Первый класс</td>\n",
       "      <td>5.00</td>\n",
       "      <td>512.33</td>\n",
       "    </tr>\n",
       "    <tr>\n",
       "      <th>1</th>\n",
       "      <td>Второй класс</td>\n",
       "      <td>10.50</td>\n",
       "      <td>73.50</td>\n",
       "    </tr>\n",
       "    <tr>\n",
       "      <th>2</th>\n",
       "      <td>Третий класс</td>\n",
       "      <td>4.01</td>\n",
       "      <td>69.55</td>\n",
       "    </tr>\n",
       "  </tbody>\n",
       "</table>\n",
       "</div>"
      ],
      "text/plain": [
       "         Pclass    min     max\n",
       "0  Первый класс   5.00  512.33\n",
       "1  Второй класс  10.50   73.50\n",
       "2  Третий класс   4.01   69.55"
      ]
     },
     "execution_count": 29,
     "metadata": {},
     "output_type": "execute_result"
    }
   ],
   "source": [
    "#Создадим новую таблицу с максимальной и минимальной стоимостью билета в зависимости от класса каюты\n",
    "\n",
    "classes = df[df['Fare'] > 0].groupby(by = 'Pclass')['Fare'].agg(['min','max']).reset_index()\n",
    "classes['Pclass'] = classes['Pclass'].apply(lambda x: {1:'Первый класс', 2:'Второй класс', 3:'Третий класс'}[x])\n",
    "classes"
   ]
  },
  {
   "cell_type": "code",
   "execution_count": 30,
   "metadata": {},
   "outputs": [
    {
     "data": {
      "text/html": [
       "<div>\n",
       "<style scoped>\n",
       "    .dataframe tbody tr th:only-of-type {\n",
       "        vertical-align: middle;\n",
       "    }\n",
       "\n",
       "    .dataframe tbody tr th {\n",
       "        vertical-align: top;\n",
       "    }\n",
       "\n",
       "    .dataframe thead th {\n",
       "        text-align: right;\n",
       "    }\n",
       "</style>\n",
       "<table border=\"1\" class=\"dataframe\">\n",
       "  <thead>\n",
       "    <tr style=\"text-align: right;\">\n",
       "      <th></th>\n",
       "      <th>Pclass</th>\n",
       "      <th>Survived</th>\n",
       "    </tr>\n",
       "  </thead>\n",
       "  <tbody>\n",
       "    <tr>\n",
       "      <th>0</th>\n",
       "      <td>Первый класс</td>\n",
       "      <td>0.629630</td>\n",
       "    </tr>\n",
       "    <tr>\n",
       "      <th>1</th>\n",
       "      <td>Второй класс</td>\n",
       "      <td>0.472826</td>\n",
       "    </tr>\n",
       "    <tr>\n",
       "      <th>2</th>\n",
       "      <td>Третий класс</td>\n",
       "      <td>0.242363</td>\n",
       "    </tr>\n",
       "  </tbody>\n",
       "</table>\n",
       "</div>"
      ],
      "text/plain": [
       "         Pclass  Survived\n",
       "0  Первый класс  0.629630\n",
       "1  Второй класс  0.472826\n",
       "2  Третий класс  0.242363"
      ]
     },
     "execution_count": 30,
     "metadata": {},
     "output_type": "execute_result"
    }
   ],
   "source": [
    "#Построим таблицу процента выживших в зависимости от класса\n",
    "\n",
    "survived = df.groupby(by = 'Pclass')['Survived'].agg('mean').reset_index()\n",
    "survived['Pclass'] = survived['Pclass'].apply(lambda x: {1:'Первый класс', 2:'Второй класс', 3:'Третий класс'}[x])\n",
    "survived"
   ]
  },
  {
   "cell_type": "code",
   "execution_count": 31,
   "metadata": {},
   "outputs": [
    {
     "data": {
      "text/plain": [
       "[<matplotlib.lines.Line2D at 0x165203afac8>]"
      ]
     },
     "execution_count": 31,
     "metadata": {},
     "output_type": "execute_result"
    },
    {
     "data": {
      "image/png": "[encoded data removed]",
      "text/plain": [
       "<Figure size 432x288 with 2 Axes>"
      ]
     },
     "metadata": {},
     "output_type": "display_data"
    }
   ],
   "source": [
    "# Рисуем график, отображающий минимальную и максимальную стоимость билета по классам (в виде столбиковой диаграммы)\n",
    "# и долю выживших по классам в виде линейного графика (все в одной системе координат)\n",
    "\n",
    "fig = plt.figure()\n",
    "axes = fig.add_axes([0, 0, 1.5, 1])\n",
    "axes.set_ylim(0,200)\n",
    "axes.bar(x = classes['Pclass'], height = classes['max'],align='edge', width = -0.4)\n",
    "axes.bar(x = classes['Pclass'], height = classes['min'], align='edge', width = 0.4)\n",
    "\n",
    "axes2 = axes.twinx()\n",
    "axes2.plot(survived['Pclass'], survived['Survived'], color = 'red')"
   ]
  },
  {
   "cell_type": "code",
   "execution_count": 32,
   "metadata": {},
   "outputs": [
    {
     "data": {
      "image/png": "[encoded data removed]",
      "text/plain": [
       "<Figure size 432x288 with 2 Axes>"
      ]
     },
     "metadata": {},
     "output_type": "display_data"
    }
   ],
   "source": [
    "fig = plt.figure()\n",
    "axes = fig.add_axes([0, 0, 1.5, 1])\n",
    "axes.set_ylim(0,200)\n",
    "axes.bar(x= classes['Pclass'], height = classes['min'], align='edge',width = -0.4)\n",
    "axes.bar(x= classes['Pclass'], height = classes['max'], align='edge',width = 0.4)\n",
    "axes2 = axes.twinx()\n"
   ]
  },
  {
   "cell_type": "markdown",
   "metadata": {},
   "source": [
    "## Добавляем график в график ##"
   ]
  },
  {
   "cell_type": "code",
   "execution_count": 44,
   "metadata": {},
   "outputs": [
    {
     "data": {
      "text/plain": [
       "(array([732., 106.,  31.,   2.,  11.,   6.,   0.,   0.,   0.,   3.]),\n",
       " array([  0.   ,  51.233, 102.466, 153.699, 204.932, 256.165, 307.398,\n",
       "        358.631, 409.864, 461.097, 512.33 ]),\n",
       " <a list of 10 Patch objects>)"
      ]
     },
     "execution_count": 44,
     "metadata": {},
     "output_type": "execute_result"
    },
    {
     "data": {
      "image/png": "[encoded data removed]",
      "text/plain": [
       "<Figure size 432x288 with 2 Axes>"
      ]
     },
     "metadata": {},
     "output_type": "display_data"
    }
   ],
   "source": [
    "# Сравниваем распределение по возрасту и по стоимости билета\n",
    "fig = plt.figure()\n",
    "axes1 = fig.add_axes([0, 0, 1, 1])\n",
    "#Рисуем диаграму по 'Age'\n",
    "\n",
    "axes1.hist(df['Age'])\n",
    "axes2 = fig.add_axes([0.6, 0.6, 0.38, 0.38])\n",
    "#Рисуем диаграму по 'Fare'\n",
    "\n",
    "axes2.hist(df['Fare'])\n"
   ]
  },
  {
   "cell_type": "code",
   "execution_count": 45,
   "metadata": {},
   "outputs": [
    {
     "data": {
      "text/plain": [
       "Text(0.5, 1.0, 'Стоимость билетов в третьем классе')"
      ]
     },
     "execution_count": 45,
     "metadata": {},
     "output_type": "execute_result"
    },
    {
     "data": {
      "image/png": "[encoded data removed]",
      "text/plain": [
       "<Figure size 432x288 with 4 Axes>"
      ]
     },
     "metadata": {},
     "output_type": "display_data"
    }
   ],
   "source": [
    "# Строим график, показывающий гистограмму стоимости билета в целом и по классам\n",
    "fig = plt.figure()\n",
    "axes = fig.add_axes([0, 0, 1.4, 1.2])\n",
    "axes.set_ylim(0,1600)\n",
    "axes1 = fig.add_axes([0.1, 0.8, 0.35, 0.32])\n",
    "axes2 = fig.add_axes([0.55, 0.8, 0.35, 0.32])\n",
    "axes3 = fig.add_axes([1, 0.8, 0.35, 0.32])\n",
    "axes.hist(df['Fare'])\n",
    "axes1.hist(df[df['Pclass'] == 1]['Fare'])\n",
    "axes1.set_title('Стоимость билетов в первом классе')\n",
    "axes2.hist(df[df['Pclass'] == 2]['Fare'])\n",
    "axes2.set_title('Стоимость билетов во втором классе')\n",
    "axes3.hist(df[df['Pclass'] == 3]['Fare'])\n",
    "axes3.set_title('Стоимость билетов в третьем классе')"
   ]
  },
  {
   "cell_type": "code",
   "execution_count": 47,
   "metadata": {},
   "outputs": [
    {
     "data": {
      "text/plain": [
       "Text(0.5, 1.0, 'Стоимость билетов в третьем классе')"
      ]
     },
     "execution_count": 47,
     "metadata": {},
     "output_type": "execute_result"
    },
    {
     "data": {
      "image/png": "[encoded data removed]",
      "text/plain": [
       "<Figure size 432x288 with 4 Axes>"
      ]
     },
     "metadata": {},
     "output_type": "display_data"
    }
   ],
   "source": [
    "# Строим график, показывающий гистограмму стоимости билета в целом и по классам\n",
    "fig = plt.figure()\n",
    "axes = fig.add_axes([0, 0, 1.4, 1.5])\n",
    "axes.set_xlim(0,900)\n",
    "axes1 = fig.add_axes([0.9, 0.1, 0.35, 0.3])\n",
    "axes2 = fig.add_axes([0.9, 0.55, 0.35, 0.3])\n",
    "axes3 = fig.add_axes([0.9, 1, 0.35, 0.3])\n",
    "axes.hist(df['Fare'])\n",
    "axes3.hist(df[df['Pclass'] == 1]['Fare'])\n",
    "axes3.set_title('Стоимость билетов в первом классе')\n",
    "axes2.hist(df[df['Pclass'] == 2]['Fare'])\n",
    "axes2.set_title('Стоимость билетов во втором классе')\n",
    "axes1.hist(df[df['Pclass'] == 3]['Fare'])\n",
    "axes1.set_title('Стоимость билетов в третьем классе')"
   ]
  },
  {
   "cell_type": "markdown",
   "metadata": {},
   "source": [
    "## Строим несколько графиков ##\n",
    "Задание: построить 3 графика, показывающих распределение стоимости билетов в трех классах в сравнении"
   ]
  },
  {
   "cell_type": "code",
   "execution_count": 48,
   "metadata": {},
   "outputs": [
    {
     "data": {
      "text/plain": [
       "Text(0.5, 1.0, 'Стоимость билетов в 3 классе')"
      ]
     },
     "execution_count": 48,
     "metadata": {},
     "output_type": "execute_result"
    },
    {
     "data": {
      "image/png": "[encoded data removed]",
      "text/plain": [
       "<Figure size 576x864 with 3 Axes>"
      ]
     },
     "metadata": {},
     "output_type": "display_data"
    }
   ],
   "source": [
    "#add_subplot()\n",
    "fig = plt.figure(figsize = [8,12])\n",
    "axis1 = fig.add_subplot(3,1,1)\n",
    "axis2 = fig.add_subplot(312)\n",
    "axis3 = fig.add_subplot(313)\n",
    "#hist()\n",
    "#set_title('Стоимость билетов в 1 классе')\n",
    "axis1.set_xlim(0,300)\n",
    "axis1.hist(df[df['Pclass'] == 1]['Fare'], bins = 50)\n",
    "axis1.set_title('Стоимость билетов в 1 классе')\n",
    "\n",
    "#Стоимость билетов во 2 классе\n",
    "axis2.set_xlim(0,300)\n",
    "axis2.hist(df[df['Pclass'] == 2]['Fare'])\n",
    "axis2.set_title('Стоимость билетов в 2 классе')\n",
    "\n",
    "#Стоимость билетов в 3 классе\n",
    "\n",
    "axis3.set_xlim(0,300)\n",
    "axis3.hist(df[df['Pclass'] == 3]['Fare'])\n",
    "axis3.set_title('Стоимость билетов в 3 классе')"
   ]
  },
  {
   "cell_type": "code",
   "execution_count": 49,
   "metadata": {},
   "outputs": [
    {
     "data": {
      "text/plain": [
       "<seaborn.axisgrid.PairGrid at 0x16524f33888>"
      ]
     },
     "execution_count": 49,
     "metadata": {},
     "output_type": "execute_result"
    },
    {
     "data": {
      "image/png": "[encoded data removed]",
      "text/plain": [
       "<Figure size 720x720 with 20 Axes>"
      ]
     },
     "metadata": {},
     "output_type": "display_data"
    }
   ],
   "source": [
    "#Строим графики пересечений параметров, метод pairplot()\n",
    "sns.pairplot(df)"
   ]
  },
  {
   "cell_type": "code",
   "execution_count": 50,
   "metadata": {},
   "outputs": [
    {
     "data": {
      "text/plain": [
       "<matplotlib.axes._subplots.AxesSubplot at 0x16522fe9908>"
      ]
     },
     "execution_count": 50,
     "metadata": {},
     "output_type": "execute_result"
    },
    {
     "data": {
      "image/png": "[encoded data removed]",
      "text/plain": [
       "<Figure size 432x288 with 1 Axes>"
      ]
     },
     "metadata": {},
     "output_type": "display_data"
    }
   ],
   "source": [
    "#Метод countplot() \n",
    "#Использование параметра hue \n",
    "#Зависимость выживших от класса\n",
    "sns.countplot(x = 'Pclass', hue = 'Survived', data = df)\n",
    "#sns.countplot(x = 'Pclass', data = df)"
   ]
  },
  {
   "cell_type": "markdown",
   "metadata": {},
   "source": [
    "# Plotly"
   ]
  },
  {
   "cell_type": "markdown",
   "metadata": {},
   "source": [
    "## Документация plotly\n",
    "https://plotly.com/python/getting-started/#jupyterlab-support-python-35"
   ]
  },
  {
   "cell_type": "code",
   "execution_count": 39,
   "metadata": {},
   "outputs": [
    {
     "name": "stdout",
     "output_type": "stream",
     "text": [
      "Requirement already satisfied: plotly in c:\\users\\anna\\anaconda3\\lib\\site-packages (4.6.0)\n",
      "Requirement already satisfied: six in c:\\users\\anna\\appdata\\roaming\\python\\python37\\site-packages (from plotly) (1.12.0)\n",
      "Requirement already satisfied: retrying>=1.3.3 in c:\\users\\anna\\anaconda3\\lib\\site-packages (from plotly) (1.3.3)\n"
     ]
    }
   ],
   "source": [
    "# Установка пакета выполняется только один раз!\n",
    "!pip install plotly"
   ]
  },
  {
   "cell_type": "code",
   "execution_count": 40,
   "metadata": {},
   "outputs": [
    {
     "name": "stdout",
     "output_type": "stream",
     "text": [
      "Requirement already satisfied: cufflinks in c:\\users\\anna\\anaconda3\\lib\\site-packages (0.17.3)\n",
      "Requirement already satisfied: numpy>=1.9.2 in c:\\users\\anna\\anaconda3\\lib\\site-packages (from cufflinks) (1.18.1)\n",
      "Requirement already satisfied: setuptools>=34.4.1 in c:\\users\\anna\\anaconda3\\lib\\site-packages (from cufflinks) (45.2.0.post20200210)\n",
      "Requirement already satisfied: pandas>=0.19.2 in c:\\users\\anna\\anaconda3\\lib\\site-packages (from cufflinks) (1.0.1)\n",
      "Requirement already satisfied: six>=1.9.0 in c:\\users\\anna\\appdata\\roaming\\python\\python37\\site-packages (from cufflinks) (1.12.0)\n",
      "Requirement already satisfied: ipywidgets>=7.0.0 in c:\\users\\anna\\anaconda3\\lib\\site-packages (from cufflinks) (7.5.1)\n",
      "Requirement already satisfied: colorlover>=0.2.1 in c:\\users\\anna\\anaconda3\\lib\\site-packages (from cufflinks) (0.3.0)\n",
      "Requirement already satisfied: plotly>=4.1.1 in c:\\users\\anna\\anaconda3\\lib\\site-packages (from cufflinks) (4.6.0)\n",
      "Requirement already satisfied: ipython>=5.3.0 in c:\\users\\anna\\anaconda3\\lib\\site-packages (from cufflinks) (7.12.0)\n",
      "Requirement already satisfied: python-dateutil>=2.6.1 in c:\\users\\anna\\anaconda3\\lib\\site-packages (from pandas>=0.19.2->cufflinks) (2.8.1)\n",
      "Requirement already satisfied: pytz>=2017.2 in c:\\users\\anna\\anaconda3\\lib\\site-packages (from pandas>=0.19.2->cufflinks) (2019.3)\n",
      "Requirement already satisfied: ipykernel>=4.5.1 in c:\\users\\anna\\anaconda3\\lib\\site-packages (from ipywidgets>=7.0.0->cufflinks) (5.1.4)\n",
      "Requirement already satisfied: widgetsnbextension~=3.5.0 in c:\\users\\anna\\anaconda3\\lib\\site-packages (from ipywidgets>=7.0.0->cufflinks) (3.5.1)\n",
      "Requirement already satisfied: nbformat>=4.2.0 in c:\\users\\anna\\anaconda3\\lib\\site-packages (from ipywidgets>=7.0.0->cufflinks) (5.0.4)\n",
      "Requirement already satisfied: traitlets>=4.3.1 in c:\\users\\anna\\anaconda3\\lib\\site-packages (from ipywidgets>=7.0.0->cufflinks) (4.3.3)\n",
      "Requirement already satisfied: retrying>=1.3.3 in c:\\users\\anna\\anaconda3\\lib\\site-packages (from plotly>=4.1.1->cufflinks) (1.3.3)\n",
      "Requirement already satisfied: prompt-toolkit!=3.0.0,!=3.0.1,<3.1.0,>=2.0.0 in c:\\users\\anna\\anaconda3\\lib\\site-packages (from ipython>=5.3.0->cufflinks) (3.0.3)\n",
      "Requirement already satisfied: decorator in c:\\users\\anna\\anaconda3\\lib\\site-packages (from ipython>=5.3.0->cufflinks) (4.4.1)\n",
      "Requirement already satisfied: backcall in c:\\users\\anna\\anaconda3\\lib\\site-packages (from ipython>=5.3.0->cufflinks) (0.1.0)\n",
      "Requirement already satisfied: colorama; sys_platform == \"win32\" in c:\\users\\anna\\appdata\\roaming\\python\\python37\\site-packages (from ipython>=5.3.0->cufflinks) (0.4.1)\n",
      "Requirement already satisfied: pygments in c:\\users\\anna\\anaconda3\\lib\\site-packages (from ipython>=5.3.0->cufflinks) (2.5.2)\n",
      "Requirement already satisfied: pickleshare in c:\\users\\anna\\anaconda3\\lib\\site-packages (from ipython>=5.3.0->cufflinks) (0.7.5)\n",
      "Requirement already satisfied: jedi>=0.10 in c:\\users\\anna\\anaconda3\\lib\\site-packages (from ipython>=5.3.0->cufflinks) (0.14.1)\n",
      "Requirement already satisfied: tornado>=4.2 in c:\\users\\anna\\anaconda3\\lib\\site-packages (from ipykernel>=4.5.1->ipywidgets>=7.0.0->cufflinks) (6.0.3)\n",
      "Requirement already satisfied: jupyter-client in c:\\users\\anna\\anaconda3\\lib\\site-packages (from ipykernel>=4.5.1->ipywidgets>=7.0.0->cufflinks) (5.3.4)\n",
      "Requirement already satisfied: notebook>=4.4.1 in c:\\users\\anna\\anaconda3\\lib\\site-packages (from widgetsnbextension~=3.5.0->ipywidgets>=7.0.0->cufflinks) (6.0.3)\n",
      "Requirement already satisfied: ipython-genutils in c:\\users\\anna\\anaconda3\\lib\\site-packages (from nbformat>=4.2.0->ipywidgets>=7.0.0->cufflinks) (0.2.0)\n",
      "Requirement already satisfied: jupyter-core in c:\\users\\anna\\anaconda3\\lib\\site-packages (from nbformat>=4.2.0->ipywidgets>=7.0.0->cufflinks) (4.6.1)\n",
      "Requirement already satisfied: jsonschema!=2.5.0,>=2.4 in c:\\users\\anna\\anaconda3\\lib\\site-packages (from nbformat>=4.2.0->ipywidgets>=7.0.0->cufflinks) (3.2.0)\n",
      "Requirement already satisfied: wcwidth in c:\\users\\anna\\anaconda3\\lib\\site-packages (from prompt-toolkit!=3.0.0,!=3.0.1,<3.1.0,>=2.0.0->ipython>=5.3.0->cufflinks) (0.1.8)\n",
      "Requirement already satisfied: parso>=0.5.0 in c:\\users\\anna\\anaconda3\\lib\\site-packages (from jedi>=0.10->ipython>=5.3.0->cufflinks) (0.5.2)\n",
      "Requirement already satisfied: pywin32>=1.0; sys_platform == \"win32\" in c:\\users\\anna\\anaconda3\\lib\\site-packages (from jupyter-client->ipykernel>=4.5.1->ipywidgets>=7.0.0->cufflinks) (227)\n",
      "Requirement already satisfied: pyzmq>=13 in c:\\users\\anna\\anaconda3\\lib\\site-packages (from jupyter-client->ipykernel>=4.5.1->ipywidgets>=7.0.0->cufflinks) (18.1.1)\n",
      "Requirement already satisfied: Send2Trash in c:\\users\\anna\\anaconda3\\lib\\site-packages (from notebook>=4.4.1->widgetsnbextension~=3.5.0->ipywidgets>=7.0.0->cufflinks) (1.5.0)\n",
      "Requirement already satisfied: prometheus-client in c:\\users\\anna\\anaconda3\\lib\\site-packages (from notebook>=4.4.1->widgetsnbextension~=3.5.0->ipywidgets>=7.0.0->cufflinks) (0.7.1)\n",
      "Requirement already satisfied: nbconvert in c:\\users\\anna\\anaconda3\\lib\\site-packages (from notebook>=4.4.1->widgetsnbextension~=3.5.0->ipywidgets>=7.0.0->cufflinks) (5.6.1)\n",
      "Requirement already satisfied: terminado>=0.8.1 in c:\\users\\anna\\anaconda3\\lib\\site-packages (from notebook>=4.4.1->widgetsnbextension~=3.5.0->ipywidgets>=7.0.0->cufflinks) (0.8.3)\n",
      "Requirement already satisfied: jinja2 in c:\\users\\anna\\anaconda3\\lib\\site-packages (from notebook>=4.4.1->widgetsnbextension~=3.5.0->ipywidgets>=7.0.0->cufflinks) (2.11.1)\n",
      "Requirement already satisfied: attrs>=17.4.0 in c:\\users\\anna\\anaconda3\\lib\\site-packages (from jsonschema!=2.5.0,>=2.4->nbformat>=4.2.0->ipywidgets>=7.0.0->cufflinks) (19.3.0)\n",
      "Requirement already satisfied: pyrsistent>=0.14.0 in c:\\users\\anna\\anaconda3\\lib\\site-packages (from jsonschema!=2.5.0,>=2.4->nbformat>=4.2.0->ipywidgets>=7.0.0->cufflinks) (0.15.7)\n",
      "Requirement already satisfied: importlib-metadata; python_version < \"3.8\" in c:\\users\\anna\\anaconda3\\lib\\site-packages (from jsonschema!=2.5.0,>=2.4->nbformat>=4.2.0->ipywidgets>=7.0.0->cufflinks) (1.5.0)\n",
      "Requirement already satisfied: defusedxml in c:\\users\\anna\\anaconda3\\lib\\site-packages (from nbconvert->notebook>=4.4.1->widgetsnbextension~=3.5.0->ipywidgets>=7.0.0->cufflinks) (0.6.0)\n",
      "Requirement already satisfied: testpath in c:\\users\\anna\\anaconda3\\lib\\site-packages (from nbconvert->notebook>=4.4.1->widgetsnbextension~=3.5.0->ipywidgets>=7.0.0->cufflinks) (0.4.4)\n",
      "Requirement already satisfied: entrypoints>=0.2.2 in c:\\users\\anna\\anaconda3\\lib\\site-packages (from nbconvert->notebook>=4.4.1->widgetsnbextension~=3.5.0->ipywidgets>=7.0.0->cufflinks) (0.3)\n",
      "Requirement already satisfied: pandocfilters>=1.4.1 in c:\\users\\anna\\anaconda3\\lib\\site-packages (from nbconvert->notebook>=4.4.1->widgetsnbextension~=3.5.0->ipywidgets>=7.0.0->cufflinks) (1.4.2)\n",
      "Requirement already satisfied: mistune<2,>=0.8.1 in c:\\users\\anna\\anaconda3\\lib\\site-packages (from nbconvert->notebook>=4.4.1->widgetsnbextension~=3.5.0->ipywidgets>=7.0.0->cufflinks) (0.8.4)\n",
      "Requirement already satisfied: bleach in c:\\users\\anna\\anaconda3\\lib\\site-packages (from nbconvert->notebook>=4.4.1->widgetsnbextension~=3.5.0->ipywidgets>=7.0.0->cufflinks) (3.1.0)\n",
      "Requirement already satisfied: MarkupSafe>=0.23 in c:\\users\\anna\\anaconda3\\lib\\site-packages (from jinja2->notebook>=4.4.1->widgetsnbextension~=3.5.0->ipywidgets>=7.0.0->cufflinks) (1.1.1)\n",
      "Requirement already satisfied: zipp>=0.5 in c:\\users\\anna\\anaconda3\\lib\\site-packages (from importlib-metadata; python_version < \"3.8\"->jsonschema!=2.5.0,>=2.4->nbformat>=4.2.0->ipywidgets>=7.0.0->cufflinks) (2.2.0)\n",
      "Requirement already satisfied: webencodings in c:\\users\\anna\\anaconda3\\lib\\site-packages (from bleach->nbconvert->notebook>=4.4.1->widgetsnbextension~=3.5.0->ipywidgets>=7.0.0->cufflinks) (0.5.1)\n"
     ]
    }
   ],
   "source": [
    "# Установка пакета выполняется только один раз!\n",
    "!pip install cufflinks"
   ]
  },
  {
   "cell_type": "code",
   "execution_count": 41,
   "metadata": {},
   "outputs": [],
   "source": [
    "import cufflinks as cf\n",
    "from plotly.offline import download_plotlyjs, init_notebook_mode, plot, iplot"
   ]
  },
  {
   "cell_type": "code",
   "execution_count": 42,
   "metadata": {},
   "outputs": [
    {
     "data": {
      "text/html": [
       "        <script type=\"text/javascript\">\n",
       "        window.PlotlyConfig = {MathJaxConfig: 'local'};\n",
       "        if (window.MathJax) {MathJax.Hub.Config({SVG: {font: \"STIX-Web\"}});}\n",
       "        if (typeof require !== 'undefined') {\n",
       "        require.undef(\"plotly\");\n",
       "        requirejs.config({\n",
       "            paths: {\n",
       "                'plotly': ['https://cdn.plot.ly/plotly-latest.min']\n",
       "            }\n",
       "        });\n",
       "        require(['plotly'], function(Plotly) {\n",
       "            window._Plotly = Plotly;\n",
       "        });\n",
       "        }\n",
       "        </script>\n",
       "        "
      ]
     },
     "metadata": {},
     "output_type": "display_data"
    },
    {
     "data": {
      "text/html": [
       "        <script type=\"text/javascript\">\n",
       "        window.PlotlyConfig = {MathJaxConfig: 'local'};\n",
       "        if (window.MathJax) {MathJax.Hub.Config({SVG: {font: \"STIX-Web\"}});}\n",
       "        if (typeof require !== 'undefined') {\n",
       "        require.undef(\"plotly\");\n",
       "        requirejs.config({\n",
       "            paths: {\n",
       "                'plotly': ['https://cdn.plot.ly/plotly-latest.min']\n",
       "            }\n",
       "        });\n",
       "        require(['plotly'], function(Plotly) {\n",
       "            window._Plotly = Plotly;\n",
       "        });\n",
       "        }\n",
       "        </script>\n",
       "        "
      ]
     },
     "metadata": {},
     "output_type": "display_data"
    }
   ],
   "source": [
    "init_notebook_mode(connected = True)\n",
    "cf.go_offline()"
   ]
  },
  {
   "cell_type": "code",
   "execution_count": 43,
   "metadata": {},
   "outputs": [
    {
     "data": {
      "application/vnd.plotly.v1+json": {
       "config": {
        "linkText": "Export to plot.ly",
        "plotlyServerURL": "https://plot.ly",
        "showLink": true
       },
       "data": [
        {
         "line": {
          "color": "rgba(255, 153, 51, 1.0)",
          "dash": "solid",
          "shape": "linear",
          "width": 1.3
         },
         "marker": {
          "size": 12,
          "symbol": "circle"
         },
         "mode": "markers",
         "name": "Fare",
         "text": "",
         "type": "scatter",
         "x": [
          22,
          38,
          26,
          35,
          35,
          24,
          54,
          2,
          27,
          14,
          4,
          58,
          20,
          39,
          14,
          55,
          2,
          29,
          31,
          24,
          35,
          34,
          15,
          28,
          8,
          38,
          24,
          19,
          24,
          24,
          40,
          37,
          24,
          66,
          28,
          42,
          24,
          21,
          18,
          14,
          40,
          27,
          24,
          3,
          19,
          24,
          24,
          24,
          24,
          18,
          7,
          21,
          49,
          29,
          65,
          37,
          21,
          28.5,
          5,
          11,
          22,
          38,
          45,
          4,
          37,
          24,
          29,
          19,
          17,
          26,
          32,
          16,
          21,
          26,
          32,
          25,
          24,
          24,
          0.83,
          30,
          22,
          29,
          24,
          28,
          17,
          33,
          16,
          24,
          23,
          24,
          29,
          20,
          46,
          26,
          59,
          24,
          71,
          23,
          34,
          34,
          28,
          24,
          21,
          33,
          37,
          28,
          21,
          24,
          38,
          24,
          47,
          14.5,
          22,
          20,
          17,
          21,
          70.5,
          29,
          24,
          2,
          21,
          24,
          32.5,
          32.5,
          54,
          12,
          24,
          24,
          24,
          45,
          33,
          20,
          47,
          29,
          25,
          23,
          19,
          37,
          16,
          24,
          24,
          22,
          24,
          19,
          18,
          19,
          27,
          9,
          36.5,
          42,
          51,
          22,
          55.5,
          40.5,
          24,
          51,
          16,
          30,
          24,
          24,
          44,
          40,
          26,
          17,
          1,
          9,
          37,
          45,
          37,
          28,
          61,
          4,
          1,
          21,
          56,
          18,
          24,
          50,
          30,
          36,
          24,
          29,
          9,
          1,
          4,
          37,
          24,
          45,
          40,
          36,
          32,
          19,
          19,
          3,
          44,
          58,
          24,
          42,
          24,
          24,
          28,
          24,
          34,
          45.5,
          18,
          2,
          32,
          26,
          16,
          40,
          24,
          35,
          22,
          30,
          24,
          31,
          27,
          42,
          32,
          30,
          16,
          27,
          51,
          24,
          38,
          22,
          19,
          20.5,
          18,
          24,
          35,
          29,
          59,
          5,
          24,
          24,
          44,
          8,
          19,
          33,
          24,
          24,
          29,
          22,
          30,
          44,
          25,
          24,
          37,
          54,
          24,
          29,
          62,
          30,
          41,
          29,
          37,
          30,
          35,
          50,
          24,
          3,
          52,
          40,
          24,
          36,
          16,
          25,
          58,
          35,
          37,
          25,
          41,
          37,
          24,
          63,
          45,
          29,
          7,
          35,
          65,
          28,
          16,
          19,
          37,
          33,
          30,
          22,
          42,
          22,
          26,
          19,
          36,
          24,
          24,
          37,
          23.5,
          2,
          37,
          50,
          24,
          24,
          19,
          29,
          24,
          0.92,
          37,
          17,
          30,
          30,
          24,
          18,
          26,
          28,
          43,
          26,
          24,
          54,
          31,
          40,
          22,
          27,
          30,
          22,
          24,
          36,
          61,
          36,
          31,
          16,
          24,
          45.5,
          38,
          16,
          37,
          24,
          29,
          41,
          45,
          45,
          2,
          24,
          28,
          25,
          36,
          24,
          40,
          24,
          3,
          42,
          23,
          37,
          15,
          25,
          24,
          28,
          22,
          38,
          24,
          24,
          40,
          29,
          45,
          35,
          24,
          30,
          60,
          24,
          24,
          24,
          25,
          18,
          19,
          22,
          3,
          37,
          22,
          27,
          20,
          19,
          42,
          1,
          32,
          35,
          24,
          18,
          1,
          36,
          24,
          17,
          36,
          21,
          28,
          23,
          24,
          22,
          31,
          46,
          23,
          28,
          39,
          26,
          21,
          28,
          20,
          34,
          51,
          3,
          21,
          24,
          24,
          24,
          33,
          29,
          44,
          24,
          34,
          18,
          30,
          10,
          24,
          21,
          29,
          28,
          18,
          24,
          28,
          19,
          24,
          32,
          28,
          24,
          42,
          17,
          50,
          14,
          21,
          24,
          64,
          31,
          45,
          20,
          25,
          28,
          24,
          4,
          13,
          34,
          5,
          52,
          36,
          24,
          30,
          49,
          24,
          29,
          65,
          37,
          50,
          24,
          48,
          34,
          47,
          48,
          24,
          38,
          29,
          56,
          24,
          0.75,
          24,
          38,
          33,
          23,
          22,
          37,
          34,
          29,
          22,
          2,
          9,
          29,
          50,
          63,
          25,
          24,
          35,
          58,
          30,
          9,
          24,
          21,
          55,
          71,
          21,
          24,
          54,
          24,
          25,
          24,
          17,
          21,
          24,
          37,
          16,
          18,
          33,
          37,
          28,
          26,
          29,
          24,
          36,
          54,
          24,
          47,
          34,
          24,
          36,
          32,
          30,
          22,
          24,
          44,
          24,
          40.5,
          50,
          37,
          39,
          23,
          2,
          24,
          17,
          24,
          30,
          7,
          45,
          30,
          24,
          22,
          36,
          9,
          11,
          32,
          50,
          64,
          19,
          29,
          33,
          8,
          17,
          27,
          24,
          22,
          22,
          62,
          48,
          37,
          39,
          36,
          24,
          40,
          28,
          24,
          24,
          24,
          19,
          29,
          24,
          32,
          62,
          53,
          36,
          24,
          16,
          19,
          34,
          39,
          24,
          32,
          25,
          39,
          54,
          36,
          24,
          18,
          47,
          60,
          22,
          24,
          35,
          52,
          47,
          24,
          37,
          36,
          29,
          49,
          24,
          49,
          24,
          24,
          37,
          44,
          35,
          36,
          30,
          27,
          22,
          40,
          39,
          24,
          24,
          24,
          35,
          24,
          34,
          26,
          4,
          26,
          27,
          42,
          20,
          21,
          21,
          61,
          57,
          21,
          26,
          24,
          80,
          51,
          32,
          37,
          9,
          28,
          32,
          31,
          41,
          24,
          20,
          24,
          2,
          24,
          0.75,
          48,
          19,
          56,
          24,
          23,
          24,
          18,
          21,
          24,
          18,
          24,
          24,
          32,
          23,
          58,
          50,
          40,
          47,
          36,
          20,
          32,
          25,
          24,
          43,
          37,
          40,
          31,
          70,
          31,
          29,
          18,
          24.5,
          18,
          43,
          36,
          24,
          27,
          20,
          14,
          60,
          25,
          14,
          19,
          18,
          15,
          31,
          4,
          24,
          25,
          60,
          52,
          44,
          24,
          49,
          42,
          18,
          35,
          18,
          25,
          26,
          39,
          45,
          42,
          22,
          24,
          24,
          37,
          48,
          29,
          52,
          19,
          38,
          27,
          24,
          33,
          6,
          17,
          34,
          50,
          27,
          20,
          30,
          24,
          25,
          25,
          29,
          11,
          29,
          23,
          23,
          28.5,
          48,
          35,
          24,
          24,
          37,
          36,
          21,
          24,
          31,
          70,
          16,
          30,
          19,
          31,
          4,
          6,
          33,
          23,
          48,
          0.67,
          28,
          18,
          34,
          33,
          24,
          41,
          20,
          36,
          16,
          51,
          37,
          30.5,
          24,
          32,
          24,
          48,
          57,
          24,
          54,
          18,
          24,
          5,
          24,
          43,
          13,
          17,
          29,
          24,
          25,
          25,
          18,
          8,
          1,
          46,
          24,
          16,
          24,
          37,
          25,
          39,
          49,
          31,
          30,
          30,
          34,
          31,
          11,
          0.42,
          27,
          31,
          39,
          18,
          39,
          33,
          26,
          39,
          35,
          6,
          30.5,
          37,
          23,
          31,
          43,
          10,
          52,
          27,
          38,
          27,
          2,
          24,
          24,
          1,
          24,
          62,
          15,
          0.83,
          24,
          23,
          18,
          39,
          21,
          24,
          32,
          37,
          20,
          16,
          30,
          34.5,
          17,
          42,
          24,
          35,
          28,
          37,
          4,
          74,
          9,
          16,
          44,
          18,
          45,
          51,
          24,
          24,
          41,
          21,
          48,
          24,
          24,
          42,
          27,
          31,
          24,
          4,
          26,
          47,
          33,
          47,
          28,
          15,
          20,
          19,
          24,
          56,
          25,
          33,
          22,
          28,
          25,
          39,
          27,
          19,
          24,
          26,
          32
         ],
         "y": [
          7.25,
          71.28,
          7.92,
          53.1,
          8.05,
          8.46,
          51.86,
          21.08,
          11.13,
          30.07,
          16.7,
          26.55,
          8.05,
          31.28,
          7.85,
          16,
          29.12,
          13,
          18,
          7.22,
          26,
          13,
          8.03,
          35.5,
          21.08,
          31.39,
          7.22,
          263,
          7.88,
          7.9,
          27.72,
          146.52,
          7.75,
          10.5,
          82.17,
          52,
          7.23,
          8.05,
          18,
          11.24,
          9.48,
          21,
          7.9,
          41.58,
          7.88,
          8.05,
          15.5,
          7.75,
          21.68,
          17.8,
          39.69,
          7.8,
          76.73,
          26,
          61.98,
          35.5,
          10.5,
          7.23,
          27.75,
          46.9,
          7.23,
          80,
          83.48,
          27.9,
          27.72,
          15.25,
          10.5,
          8.16,
          7.92,
          8.66,
          10.5,
          46.9,
          73.5,
          14.45,
          56.5,
          7.65,
          7.9,
          8.05,
          29,
          12.48,
          9,
          9.5,
          7.79,
          47.1,
          10.5,
          15.85,
          34.38,
          8.05,
          263,
          8.05,
          8.05,
          7.85,
          61.18,
          20.58,
          7.25,
          8.05,
          34.65,
          63.36,
          23,
          26,
          7.9,
          7.9,
          77.29,
          8.65,
          7.92,
          7.9,
          7.65,
          7.78,
          7.9,
          24.15,
          52,
          14.45,
          8.05,
          9.82,
          14.46,
          7.92,
          7.75,
          21,
          247.52,
          31.28,
          73.5,
          8.05,
          30.07,
          13,
          77.29,
          11.24,
          7.75,
          7.14,
          22.36,
          6.98,
          7.9,
          7.05,
          14.5,
          26,
          13,
          15.05,
          26.28,
          53.1,
          9.22,
          79.2,
          15.25,
          7.75,
          15.85,
          6.75,
          11.5,
          36.75,
          7.8,
          34.38,
          26,
          13,
          12.52,
          66.6,
          8.05,
          14.5,
          7.31,
          61.38,
          7.73,
          8.05,
          8.66,
          69.55,
          16.1,
          15.75,
          7.78,
          8.66,
          39.69,
          20.52,
          55,
          27.9,
          25.92,
          56.5,
          33.5,
          29.12,
          11.13,
          7.92,
          30.7,
          7.85,
          25.47,
          28.71,
          13,
          0,
          69.55,
          15.05,
          31.39,
          39,
          22.02,
          50,
          15.5,
          26.55,
          15.5,
          7.9,
          13,
          13,
          7.85,
          26,
          27.72,
          146.52,
          7.75,
          8.4,
          7.75,
          13,
          9.5,
          69.55,
          6.5,
          7.22,
          8.05,
          10.46,
          15.85,
          18.79,
          7.75,
          31,
          7.05,
          21,
          7.25,
          13,
          7.75,
          113.28,
          7.92,
          27,
          76.29,
          10.5,
          8.05,
          13,
          8.05,
          7.9,
          90,
          9.35,
          10.5,
          7.25,
          13,
          25.47,
          83.48,
          7.78,
          13.5,
          31.39,
          10.5,
          7.55,
          26,
          26.25,
          10.5,
          12.28,
          14.45,
          15.5,
          10.5,
          7.12,
          7.22,
          90,
          7.78,
          14.5,
          52.55,
          26,
          7.25,
          10.46,
          26.55,
          16.1,
          20.21,
          15.25,
          79.2,
          86.5,
          512.33,
          26,
          7.75,
          31.39,
          79.65,
          0,
          7.75,
          10.5,
          39.69,
          7.78,
          153.46,
          135.63,
          31,
          0,
          19.5,
          29.7,
          7.75,
          77.96,
          7.75,
          0,
          29.12,
          20.25,
          7.75,
          7.85,
          9.5,
          8.05,
          26,
          8.66,
          9.5,
          7.9,
          13,
          7.75,
          78.85,
          91.08,
          12.88,
          8.85,
          7.9,
          27.72,
          7.23,
          151.55,
          30.5,
          247.52,
          7.75,
          23.25,
          0,
          12.35,
          8.05,
          151.55,
          110.88,
          108.9,
          24,
          56.93,
          83.16,
          262.38,
          26,
          7.9,
          26.25,
          7.85,
          26,
          14,
          164.87,
          134.5,
          7.25,
          7.9,
          12.35,
          29,
          69.55,
          135.63,
          6.24,
          13,
          20.52,
          57.98,
          23.25,
          28.5,
          153.46,
          18,
          133.65,
          7.9,
          66.6,
          134.5,
          8.05,
          35.5,
          26,
          263,
          13,
          13,
          13,
          13,
          13,
          16.1,
          15.9,
          8.66,
          9.22,
          35,
          7.23,
          17.8,
          7.22,
          9.5,
          55,
          13,
          7.88,
          7.88,
          27.9,
          27.72,
          14.45,
          7.05,
          15.5,
          7.25,
          75.25,
          7.23,
          7.75,
          69.3,
          55.44,
          6.5,
          8.05,
          135.63,
          21.08,
          82.17,
          7.25,
          211.5,
          4.01,
          7.78,
          227.52,
          15.74,
          7.92,
          52,
          7.9,
          73.5,
          46.9,
          13,
          7.73,
          12,
          120,
          7.8,
          7.92,
          113.28,
          16.7,
          7.8,
          7.85,
          26,
          10.5,
          12.65,
          7.92,
          8.05,
          9.82,
          15.85,
          8.66,
          21,
          7.75,
          18.75,
          7.78,
          25.47,
          7.9,
          6.86,
          90,
          0,
          7.92,
          8.05,
          32.5,
          13,
          13,
          24.15,
          7.9,
          7.73,
          7.88,
          14.4,
          20.21,
          7.25,
          26,
          26,
          7.75,
          8.05,
          26.55,
          16.1,
          26,
          7.12,
          55.9,
          120,
          34.38,
          18.75,
          263,
          10.5,
          26.25,
          9.5,
          7.78,
          13,
          8.11,
          81.86,
          19.5,
          26.55,
          19.26,
          30.5,
          27.75,
          19.97,
          27.75,
          89.1,
          8.05,
          7.9,
          26.55,
          51.86,
          10.5,
          7.75,
          26.55,
          8.05,
          38.5,
          13,
          8.05,
          7.05,
          0,
          26.55,
          7.72,
          19.26,
          7.25,
          8.66,
          27.75,
          13.79,
          9.84,
          52,
          21,
          7.05,
          7.52,
          12.29,
          46.9,
          0,
          8.05,
          9.59,
          91.08,
          25.47,
          90,
          29.7,
          8.05,
          15.9,
          19.97,
          7.25,
          30.5,
          49.5,
          8.05,
          14.46,
          78.27,
          15.1,
          151.55,
          7.8,
          8.66,
          7.75,
          7.63,
          9.59,
          86.5,
          108.9,
          26,
          26.55,
          22.52,
          56.5,
          7.75,
          8.05,
          26.29,
          59.4,
          7.5,
          34.02,
          10.5,
          24.15,
          26,
          7.9,
          93.5,
          7.9,
          7.22,
          57.98,
          7.23,
          7.75,
          10.5,
          221.78,
          7.92,
          11.5,
          26,
          7.23,
          7.23,
          22.36,
          8.66,
          26.25,
          26.55,
          106.42,
          14.5,
          49.5,
          71,
          31.28,
          31.28,
          26,
          106.42,
          26,
          26,
          13.86,
          20.52,
          36.75,
          110.88,
          26,
          7.83,
          7.22,
          7.78,
          26.55,
          39.6,
          227.52,
          79.65,
          17.4,
          7.75,
          7.9,
          13.5,
          8.05,
          8.05,
          24.15,
          7.9,
          21.08,
          7.23,
          7.85,
          10.5,
          51.48,
          26.39,
          7.75,
          8.05,
          14.5,
          13,
          55.9,
          14.46,
          7.92,
          30,
          110.88,
          26,
          40.12,
          8.71,
          79.65,
          15,
          79.2,
          8.05,
          8.05,
          7.12,
          78.27,
          7.25,
          7.75,
          26,
          24.15,
          33,
          0,
          7.22,
          56.93,
          27,
          7.9,
          42.4,
          8.05,
          26.55,
          15.55,
          7.9,
          30.5,
          41.58,
          153.46,
          31.28,
          7.05,
          15.5,
          7.75,
          8.05,
          65,
          14.4,
          16.1,
          39,
          10.5,
          14.45,
          52.55,
          15.74,
          7.85,
          16.1,
          32.32,
          12.35,
          77.96,
          7.9,
          7.73,
          30,
          7.05,
          30.5,
          0,
          27.9,
          13,
          7.92,
          26.25,
          39.69,
          16.1,
          7.85,
          69.3,
          27.9,
          56.5,
          19.26,
          76.73,
          7.9,
          35.5,
          7.55,
          7.55,
          7.9,
          23,
          8.43,
          7.83,
          6.75,
          73.5,
          7.9,
          15.5,
          13,
          113.28,
          133.65,
          7.22,
          25.59,
          7.5,
          7.92,
          73.5,
          13,
          7.78,
          8.05,
          52,
          39,
          52,
          10.5,
          13,
          0,
          7.78,
          8.05,
          9.84,
          46.9,
          512.33,
          8.14,
          76.73,
          9.22,
          46.9,
          39,
          41.58,
          39.69,
          10.17,
          7.8,
          211.34,
          57,
          13.42,
          56.5,
          7.22,
          26.55,
          13.5,
          8.05,
          7.73,
          110.88,
          7.65,
          227.52,
          26.29,
          14.45,
          7.74,
          7.85,
          26,
          13.5,
          26.29,
          151.55,
          15.25,
          49.5,
          26.55,
          52,
          9.48,
          13,
          7.65,
          227.52,
          10.5,
          15.5,
          7.78,
          33,
          7.05,
          13,
          13,
          53.1,
          8.66,
          21,
          7.74,
          26,
          7.92,
          211.34,
          18.79,
          0,
          13,
          13,
          16.1,
          34.38,
          512.33,
          7.9,
          7.9,
          30,
          78.85,
          262.38,
          16.1,
          7.92,
          71,
          20.25,
          13,
          53.1,
          7.75,
          23,
          12.48,
          9.5,
          7.9,
          65,
          14.5,
          7.8,
          11.5,
          8.05,
          86.5,
          14.5,
          7.12,
          7.23,
          120,
          7.78,
          77.96,
          39.6,
          7.75,
          24.15,
          8.36,
          9.5,
          7.85,
          10.5,
          7.22,
          23,
          7.75,
          7.75,
          12.48,
          7.74,
          211.34,
          7.23,
          57,
          30,
          23.45,
          7.05,
          7.25,
          7.5,
          29.12,
          20.58,
          79.2,
          7.75,
          26,
          69.55,
          30.7,
          7.9,
          13,
          25.93,
          8.68,
          7.23,
          24.15,
          13,
          26.25,
          120,
          8.52,
          6.98,
          7.78,
          0,
          7.78,
          13,
          53.1,
          7.89,
          24.15,
          10.5,
          31.28,
          8.05,
          0,
          7.92,
          37,
          6.45,
          27.9,
          93.5,
          8.66,
          0,
          12.48,
          39.69,
          6.95,
          56.5,
          37,
          7.75,
          80,
          14.45,
          18.75,
          7.23,
          7.85,
          8.3,
          83.16,
          8.66,
          8.05,
          56.5,
          29.7,
          7.92,
          10.5,
          31,
          6.44,
          8.66,
          7.55,
          69.55,
          7.9,
          33,
          89.1,
          31.28,
          7.78,
          15.25,
          39.4,
          26,
          9.35,
          164.87,
          26.55,
          19.26,
          7.23,
          14.11,
          11.5,
          25.93,
          69.55,
          13,
          13,
          13.86,
          50.5,
          9.5,
          11.13,
          7.9,
          52.55,
          5,
          9,
          24,
          7.22,
          9.85,
          7.9,
          7.9,
          83.16,
          26,
          7.9,
          10.52,
          10.5,
          7.05,
          29.12,
          13,
          30,
          23.45,
          30,
          7.75
         ]
        }
       ],
       "layout": {
        "legend": {
         "bgcolor": "#F5F6F9",
         "font": {
          "color": "#4D5663"
         }
        },
        "paper_bgcolor": "#F5F6F9",
        "plot_bgcolor": "#F5F6F9",
        "template": {
         "data": {
          "bar": [
           {
            "error_x": {
             "color": "#2a3f5f"
            },
            "error_y": {
             "color": "#2a3f5f"
            },
            "marker": {
             "line": {
              "color": "#E5ECF6",
              "width": 0.5
             }
            },
            "type": "bar"
           }
          ],
          "barpolar": [
           {
            "marker": {
             "line": {
              "color": "#E5ECF6",
              "width": 0.5
             }
            },
            "type": "barpolar"
           }
          ],
          "carpet": [
           {
            "aaxis": {
             "endlinecolor": "#2a3f5f",
             "gridcolor": "white",
             "linecolor": "white",
             "minorgridcolor": "white",
             "startlinecolor": "#2a3f5f"
            },
            "baxis": {
             "endlinecolor": "#2a3f5f",
             "gridcolor": "white",
             "linecolor": "white",
             "minorgridcolor": "white",
             "startlinecolor": "#2a3f5f"
            },
            "type": "carpet"
           }
          ],
          "choropleth": [
           {
            "colorbar": {
             "outlinewidth": 0,
             "ticks": ""
            },
            "type": "choropleth"
           }
          ],
          "contour": [
           {
            "colorbar": {
             "outlinewidth": 0,
             "ticks": ""
            },
            "colorscale": [
             [
              0,
              "#0d0887"
             ],
             [
              0.1111111111111111,
              "#46039f"
             ],
             [
              0.2222222222222222,
              "#7201a8"
             ],
             [
              0.3333333333333333,
              "#9c179e"
             ],
             [
              0.4444444444444444,
              "#bd3786"
             ],
             [
              0.5555555555555556,
              "#d8576b"
             ],
             [
              0.6666666666666666,
              "#ed7953"
             ],
             [
              0.7777777777777778,
              "#fb9f3a"
             ],
             [
              0.8888888888888888,
              "#fdca26"
             ],
             [
              1,
              "#f0f921"
             ]
            ],
            "type": "contour"
           }
          ],
          "contourcarpet": [
           {
            "colorbar": {
             "outlinewidth": 0,
             "ticks": ""
            },
            "type": "contourcarpet"
           }
          ],
          "heatmap": [
           {
            "colorbar": {
             "outlinewidth": 0,
             "ticks": ""
            },
            "colorscale": [
             [
              0,
              "#0d0887"
             ],
             [
              0.1111111111111111,
              "#46039f"
             ],
             [
              0.2222222222222222,
              "#7201a8"
             ],
             [
              0.3333333333333333,
              "#9c179e"
             ],
             [
              0.4444444444444444,
              "#bd3786"
             ],
             [
              0.5555555555555556,
              "#d8576b"
             ],
             [
              0.6666666666666666,
              "#ed7953"
             ],
             [
              0.7777777777777778,
              "#fb9f3a"
             ],
             [
              0.8888888888888888,
              "#fdca26"
             ],
             [
              1,
              "#f0f921"
             ]
            ],
            "type": "heatmap"
           }
          ],
          "heatmapgl": [
           {
            "colorbar": {
             "outlinewidth": 0,
             "ticks": ""
            },
            "colorscale": [
             [
              0,
              "#0d0887"
             ],
             [
              0.1111111111111111,
              "#46039f"
             ],
             [
              0.2222222222222222,
              "#7201a8"
             ],
             [
              0.3333333333333333,
              "#9c179e"
             ],
             [
              0.4444444444444444,
              "#bd3786"
             ],
             [
              0.5555555555555556,
              "#d8576b"
             ],
             [
              0.6666666666666666,
              "#ed7953"
             ],
             [
              0.7777777777777778,
              "#fb9f3a"
             ],
             [
              0.8888888888888888,
              "#fdca26"
             ],
             [
              1,
              "#f0f921"
             ]
            ],
            "type": "heatmapgl"
           }
          ],
          "histogram": [
           {
            "marker": {
             "colorbar": {
              "outlinewidth": 0,
              "ticks": ""
             }
            },
            "type": "histogram"
           }
          ],
          "histogram2d": [
           {
            "colorbar": {
             "outlinewidth": 0,
             "ticks": ""
            },
            "colorscale": [
             [
              0,
              "#0d0887"
             ],
             [
              0.1111111111111111,
              "#46039f"
             ],
             [
              0.2222222222222222,
              "#7201a8"
             ],
             [
              0.3333333333333333,
              "#9c179e"
             ],
             [
              0.4444444444444444,
              "#bd3786"
             ],
             [
              0.5555555555555556,
              "#d8576b"
             ],
             [
              0.6666666666666666,
              "#ed7953"
             ],
             [
              0.7777777777777778,
              "#fb9f3a"
             ],
             [
              0.8888888888888888,
              "#fdca26"
             ],
             [
              1,
              "#f0f921"
             ]
            ],
            "type": "histogram2d"
           }
          ],
          "histogram2dcontour": [
           {
            "colorbar": {
             "outlinewidth": 0,
             "ticks": ""
            },
            "colorscale": [
             [
              0,
              "#0d0887"
             ],
             [
              0.1111111111111111,
              "#46039f"
             ],
             [
              0.2222222222222222,
              "#7201a8"
             ],
             [
              0.3333333333333333,
              "#9c179e"
             ],
             [
              0.4444444444444444,
              "#bd3786"
             ],
             [
              0.5555555555555556,
              "#d8576b"
             ],
             [
              0.6666666666666666,
              "#ed7953"
             ],
             [
              0.7777777777777778,
              "#fb9f3a"
             ],
             [
              0.8888888888888888,
              "#fdca26"
             ],
             [
              1,
              "#f0f921"
             ]
            ],
            "type": "histogram2dcontour"
           }
          ],
          "mesh3d": [
           {
            "colorbar": {
             "outlinewidth": 0,
             "ticks": ""
            },
            "type": "mesh3d"
           }
          ],
          "parcoords": [
           {
            "line": {
             "colorbar": {
              "outlinewidth": 0,
              "ticks": ""
             }
            },
            "type": "parcoords"
           }
          ],
          "pie": [
           {
            "automargin": true,
            "type": "pie"
           }
          ],
          "scatter": [
           {
            "marker": {
             "colorbar": {
              "outlinewidth": 0,
              "ticks": ""
             }
            },
            "type": "scatter"
           }
          ],
          "scatter3d": [
           {
            "line": {
             "colorbar": {
              "outlinewidth": 0,
              "ticks": ""
             }
            },
            "marker": {
             "colorbar": {
              "outlinewidth": 0,
              "ticks": ""
             }
            },
            "type": "scatter3d"
           }
          ],
          "scattercarpet": [
           {
            "marker": {
             "colorbar": {
              "outlinewidth": 0,
              "ticks": ""
             }
            },
            "type": "scattercarpet"
           }
          ],
          "scattergeo": [
           {
            "marker": {
             "colorbar": {
              "outlinewidth": 0,
              "ticks": ""
             }
            },
            "type": "scattergeo"
           }
          ],
          "scattergl": [
           {
            "marker": {
             "colorbar": {
              "outlinewidth": 0,
              "ticks": ""
             }
            },
            "type": "scattergl"
           }
          ],
          "scattermapbox": [
           {
            "marker": {
             "colorbar": {
              "outlinewidth": 0,
              "ticks": ""
             }
            },
            "type": "scattermapbox"
           }
          ],
          "scatterpolar": [
           {
            "marker": {
             "colorbar": {
              "outlinewidth": 0,
              "ticks": ""
             }
            },
            "type": "scatterpolar"
           }
          ],
          "scatterpolargl": [
           {
            "marker": {
             "colorbar": {
              "outlinewidth": 0,
              "ticks": ""
             }
            },
            "type": "scatterpolargl"
           }
          ],
          "scatterternary": [
           {
            "marker": {
             "colorbar": {
              "outlinewidth": 0,
              "ticks": ""
             }
            },
            "type": "scatterternary"
           }
          ],
          "surface": [
           {
            "colorbar": {
             "outlinewidth": 0,
             "ticks": ""
            },
            "colorscale": [
             [
              0,
              "#0d0887"
             ],
             [
              0.1111111111111111,
              "#46039f"
             ],
             [
              0.2222222222222222,
              "#7201a8"
             ],
             [
              0.3333333333333333,
              "#9c179e"
             ],
             [
              0.4444444444444444,
              "#bd3786"
             ],
             [
              0.5555555555555556,
              "#d8576b"
             ],
             [
              0.6666666666666666,
              "#ed7953"
             ],
             [
              0.7777777777777778,
              "#fb9f3a"
             ],
             [
              0.8888888888888888,
              "#fdca26"
             ],
             [
              1,
              "#f0f921"
             ]
            ],
            "type": "surface"
           }
          ],
          "table": [
           {
            "cells": {
             "fill": {
              "color": "#EBF0F8"
             },
             "line": {
              "color": "white"
             }
            },
            "header": {
             "fill": {
              "color": "#C8D4E3"
             },
             "line": {
              "color": "white"
             }
            },
            "type": "table"
           }
          ]
         },
         "layout": {
          "annotationdefaults": {
           "arrowcolor": "#2a3f5f",
           "arrowhead": 0,
           "arrowwidth": 1
          },
          "coloraxis": {
           "colorbar": {
            "outlinewidth": 0,
            "ticks": ""
           }
          },
          "colorscale": {
           "diverging": [
            [
             0,
             "#8e0152"
            ],
            [
             0.1,
             "#c51b7d"
            ],
            [
             0.2,
             "#de77ae"
            ],
            [
             0.3,
             "#f1b6da"
            ],
            [
             0.4,
             "#fde0ef"
            ],
            [
             0.5,
             "#f7f7f7"
            ],
            [
             0.6,
             "#e6f5d0"
            ],
            [
             0.7,
             "#b8e186"
            ],
            [
             0.8,
             "#7fbc41"
            ],
            [
             0.9,
             "#4d9221"
            ],
            [
             1,
             "#276419"
            ]
           ],
           "sequential": [
            [
             0,
             "#0d0887"
            ],
            [
             0.1111111111111111,
             "#46039f"
            ],
            [
             0.2222222222222222,
             "#7201a8"
            ],
            [
             0.3333333333333333,
             "#9c179e"
            ],
            [
             0.4444444444444444,
             "#bd3786"
            ],
            [
             0.5555555555555556,
             "#d8576b"
            ],
            [
             0.6666666666666666,
             "#ed7953"
            ],
            [
             0.7777777777777778,
             "#fb9f3a"
            ],
            [
             0.8888888888888888,
             "#fdca26"
            ],
            [
             1,
             "#f0f921"
            ]
           ],
           "sequentialminus": [
            [
             0,
             "#0d0887"
            ],
            [
             0.1111111111111111,
             "#46039f"
            ],
            [
             0.2222222222222222,
             "#7201a8"
            ],
            [
             0.3333333333333333,
             "#9c179e"
            ],
            [
             0.4444444444444444,
             "#bd3786"
            ],
            [
             0.5555555555555556,
             "#d8576b"
            ],
            [
             0.6666666666666666,
             "#ed7953"
            ],
            [
             0.7777777777777778,
             "#fb9f3a"
            ],
            [
             0.8888888888888888,
             "#fdca26"
            ],
            [
             1,
             "#f0f921"
            ]
           ]
          },
          "colorway": [
           "#636efa",
           "#EF553B",
           "#00cc96",
           "#ab63fa",
           "#FFA15A",
           "#19d3f3",
           "#FF6692",
           "#B6E880",
           "#FF97FF",
           "#FECB52"
          ],
          "font": {
           "color": "#2a3f5f"
          },
          "geo": {
           "bgcolor": "white",
           "lakecolor": "white",
           "landcolor": "#E5ECF6",
           "showlakes": true,
           "showland": true,
           "subunitcolor": "white"
          },
          "hoverlabel": {
           "align": "left"
          },
          "hovermode": "closest",
          "mapbox": {
           "style": "light"
          },
          "paper_bgcolor": "white",
          "plot_bgcolor": "#E5ECF6",
          "polar": {
           "angularaxis": {
            "gridcolor": "white",
            "linecolor": "white",
            "ticks": ""
           },
           "bgcolor": "#E5ECF6",
           "radialaxis": {
            "gridcolor": "white",
            "linecolor": "white",
            "ticks": ""
           }
          },
          "scene": {
           "xaxis": {
            "backgroundcolor": "#E5ECF6",
            "gridcolor": "white",
            "gridwidth": 2,
            "linecolor": "white",
            "showbackground": true,
            "ticks": "",
            "zerolinecolor": "white"
           },
           "yaxis": {
            "backgroundcolor": "#E5ECF6",
            "gridcolor": "white",
            "gridwidth": 2,
            "linecolor": "white",
            "showbackground": true,
            "ticks": "",
            "zerolinecolor": "white"
           },
           "zaxis": {
            "backgroundcolor": "#E5ECF6",
            "gridcolor": "white",
            "gridwidth": 2,
            "linecolor": "white",
            "showbackground": true,
            "ticks": "",
            "zerolinecolor": "white"
           }
          },
          "shapedefaults": {
           "line": {
            "color": "#2a3f5f"
           }
          },
          "ternary": {
           "aaxis": {
            "gridcolor": "white",
            "linecolor": "white",
            "ticks": ""
           },
           "baxis": {
            "gridcolor": "white",
            "linecolor": "white",
            "ticks": ""
           },
           "bgcolor": "#E5ECF6",
           "caxis": {
            "gridcolor": "white",
            "linecolor": "white",
            "ticks": ""
           }
          },
          "title": {
           "x": 0.05
          },
          "xaxis": {
           "automargin": true,
           "gridcolor": "white",
           "linecolor": "white",
           "ticks": "",
           "title": {
            "standoff": 15
           },
           "zerolinecolor": "white",
           "zerolinewidth": 2
          },
          "yaxis": {
           "automargin": true,
           "gridcolor": "white",
           "linecolor": "white",
           "ticks": "",
           "title": {
            "standoff": 15
           },
           "zerolinecolor": "white",
           "zerolinewidth": 2
          }
         }
        },
        "title": {
         "font": {
          "color": "#4D5663"
         }
        },
        "xaxis": {
         "gridcolor": "#E1E5ED",
         "showgrid": true,
         "tickfont": {
          "color": "#4D5663"
         },
         "title": {
          "font": {
           "color": "#4D5663"
          },
          "text": ""
         },
         "zerolinecolor": "#E1E5ED"
        },
        "yaxis": {
         "gridcolor": "#E1E5ED",
         "showgrid": true,
         "tickfont": {
          "color": "#4D5663"
         },
         "title": {
          "font": {
           "color": "#4D5663"
          },
          "text": ""
         },
         "zerolinecolor": "#E1E5ED"
        }
       }
      },
      "text/html": [
       "<div>\n",
       "        \n",
       "        \n",
       "            <div id=\"a4caa792-6403-4691-a755-002b962cc194\" class=\"plotly-graph-div\" style=\"height:525px; width:100%;\"></div>\n",
       "            <script type=\"text/javascript\">\n",
       "                require([\"plotly\"], function(Plotly) {\n",
       "                    window.PLOTLYENV=window.PLOTLYENV || {};\n",
       "                    window.PLOTLYENV.BASE_URL='https://plot.ly';\n",
       "                    \n",
       "                if (document.getElementById(\"a4caa792-6403-4691-a755-002b962cc194\")) {\n",
       "                    Plotly.newPlot(\n",
       "                        'a4caa792-6403-4691-a755-002b962cc194',\n",
       "                        [{\"line\": {\"color\": \"rgba(255, 153, 51, 1.0)\", \"dash\": \"solid\", \"shape\": \"linear\", \"width\": 1.3}, \"marker\": {\"size\": 12, \"symbol\": \"circle\"}, \"mode\": \"markers\", \"name\": \"Fare\", \"text\": \"\", \"type\": \"scatter\", \"x\": [22.0, 38.0, 26.0, 35.0, 35.0, 24.0, 54.0, 2.0, 27.0, 14.0, 4.0, 58.0, 20.0, 39.0, 14.0, 55.0, 2.0, 29.0, 31.0, 24.0, 35.0, 34.0, 15.0, 28.0, 8.0, 38.0, 24.0, 19.0, 24.0, 24.0, 40.0, 37.0, 24.0, 66.0, 28.0, 42.0, 24.0, 21.0, 18.0, 14.0, 40.0, 27.0, 24.0, 3.0, 19.0, 24.0, 24.0, 24.0, 24.0, 18.0, 7.0, 21.0, 49.0, 29.0, 65.0, 37.0, 21.0, 28.5, 5.0, 11.0, 22.0, 38.0, 45.0, 4.0, 37.0, 24.0, 29.0, 19.0, 17.0, 26.0, 32.0, 16.0, 21.0, 26.0, 32.0, 25.0, 24.0, 24.0, 0.83, 30.0, 22.0, 29.0, 24.0, 28.0, 17.0, 33.0, 16.0, 24.0, 23.0, 24.0, 29.0, 20.0, 46.0, 26.0, 59.0, 24.0, 71.0, 23.0, 34.0, 34.0, 28.0, 24.0, 21.0, 33.0, 37.0, 28.0, 21.0, 24.0, 38.0, 24.0, 47.0, 14.5, 22.0, 20.0, 17.0, 21.0, 70.5, 29.0, 24.0, 2.0, 21.0, 24.0, 32.5, 32.5, 54.0, 12.0, 24.0, 24.0, 24.0, 45.0, 33.0, 20.0, 47.0, 29.0, 25.0, 23.0, 19.0, 37.0, 16.0, 24.0, 24.0, 22.0, 24.0, 19.0, 18.0, 19.0, 27.0, 9.0, 36.5, 42.0, 51.0, 22.0, 55.5, 40.5, 24.0, 51.0, 16.0, 30.0, 24.0, 24.0, 44.0, 40.0, 26.0, 17.0, 1.0, 9.0, 37.0, 45.0, 37.0, 28.0, 61.0, 4.0, 1.0, 21.0, 56.0, 18.0, 24.0, 50.0, 30.0, 36.0, 24.0, 29.0, 9.0, 1.0, 4.0, 37.0, 24.0, 45.0, 40.0, 36.0, 32.0, 19.0, 19.0, 3.0, 44.0, 58.0, 24.0, 42.0, 24.0, 24.0, 28.0, 24.0, 34.0, 45.5, 18.0, 2.0, 32.0, 26.0, 16.0, 40.0, 24.0, 35.0, 22.0, 30.0, 24.0, 31.0, 27.0, 42.0, 32.0, 30.0, 16.0, 27.0, 51.0, 24.0, 38.0, 22.0, 19.0, 20.5, 18.0, 24.0, 35.0, 29.0, 59.0, 5.0, 24.0, 24.0, 44.0, 8.0, 19.0, 33.0, 24.0, 24.0, 29.0, 22.0, 30.0, 44.0, 25.0, 24.0, 37.0, 54.0, 24.0, 29.0, 62.0, 30.0, 41.0, 29.0, 37.0, 30.0, 35.0, 50.0, 24.0, 3.0, 52.0, 40.0, 24.0, 36.0, 16.0, 25.0, 58.0, 35.0, 37.0, 25.0, 41.0, 37.0, 24.0, 63.0, 45.0, 29.0, 7.0, 35.0, 65.0, 28.0, 16.0, 19.0, 37.0, 33.0, 30.0, 22.0, 42.0, 22.0, 26.0, 19.0, 36.0, 24.0, 24.0, 37.0, 23.5, 2.0, 37.0, 50.0, 24.0, 24.0, 19.0, 29.0, 24.0, 0.92, 37.0, 17.0, 30.0, 30.0, 24.0, 18.0, 26.0, 28.0, 43.0, 26.0, 24.0, 54.0, 31.0, 40.0, 22.0, 27.0, 30.0, 22.0, 24.0, 36.0, 61.0, 36.0, 31.0, 16.0, 24.0, 45.5, 38.0, 16.0, 37.0, 24.0, 29.0, 41.0, 45.0, 45.0, 2.0, 24.0, 28.0, 25.0, 36.0, 24.0, 40.0, 24.0, 3.0, 42.0, 23.0, 37.0, 15.0, 25.0, 24.0, 28.0, 22.0, 38.0, 24.0, 24.0, 40.0, 29.0, 45.0, 35.0, 24.0, 30.0, 60.0, 24.0, 24.0, 24.0, 25.0, 18.0, 19.0, 22.0, 3.0, 37.0, 22.0, 27.0, 20.0, 19.0, 42.0, 1.0, 32.0, 35.0, 24.0, 18.0, 1.0, 36.0, 24.0, 17.0, 36.0, 21.0, 28.0, 23.0, 24.0, 22.0, 31.0, 46.0, 23.0, 28.0, 39.0, 26.0, 21.0, 28.0, 20.0, 34.0, 51.0, 3.0, 21.0, 24.0, 24.0, 24.0, 33.0, 29.0, 44.0, 24.0, 34.0, 18.0, 30.0, 10.0, 24.0, 21.0, 29.0, 28.0, 18.0, 24.0, 28.0, 19.0, 24.0, 32.0, 28.0, 24.0, 42.0, 17.0, 50.0, 14.0, 21.0, 24.0, 64.0, 31.0, 45.0, 20.0, 25.0, 28.0, 24.0, 4.0, 13.0, 34.0, 5.0, 52.0, 36.0, 24.0, 30.0, 49.0, 24.0, 29.0, 65.0, 37.0, 50.0, 24.0, 48.0, 34.0, 47.0, 48.0, 24.0, 38.0, 29.0, 56.0, 24.0, 0.75, 24.0, 38.0, 33.0, 23.0, 22.0, 37.0, 34.0, 29.0, 22.0, 2.0, 9.0, 29.0, 50.0, 63.0, 25.0, 24.0, 35.0, 58.0, 30.0, 9.0, 24.0, 21.0, 55.0, 71.0, 21.0, 24.0, 54.0, 24.0, 25.0, 24.0, 17.0, 21.0, 24.0, 37.0, 16.0, 18.0, 33.0, 37.0, 28.0, 26.0, 29.0, 24.0, 36.0, 54.0, 24.0, 47.0, 34.0, 24.0, 36.0, 32.0, 30.0, 22.0, 24.0, 44.0, 24.0, 40.5, 50.0, 37.0, 39.0, 23.0, 2.0, 24.0, 17.0, 24.0, 30.0, 7.0, 45.0, 30.0, 24.0, 22.0, 36.0, 9.0, 11.0, 32.0, 50.0, 64.0, 19.0, 29.0, 33.0, 8.0, 17.0, 27.0, 24.0, 22.0, 22.0, 62.0, 48.0, 37.0, 39.0, 36.0, 24.0, 40.0, 28.0, 24.0, 24.0, 24.0, 19.0, 29.0, 24.0, 32.0, 62.0, 53.0, 36.0, 24.0, 16.0, 19.0, 34.0, 39.0, 24.0, 32.0, 25.0, 39.0, 54.0, 36.0, 24.0, 18.0, 47.0, 60.0, 22.0, 24.0, 35.0, 52.0, 47.0, 24.0, 37.0, 36.0, 29.0, 49.0, 24.0, 49.0, 24.0, 24.0, 37.0, 44.0, 35.0, 36.0, 30.0, 27.0, 22.0, 40.0, 39.0, 24.0, 24.0, 24.0, 35.0, 24.0, 34.0, 26.0, 4.0, 26.0, 27.0, 42.0, 20.0, 21.0, 21.0, 61.0, 57.0, 21.0, 26.0, 24.0, 80.0, 51.0, 32.0, 37.0, 9.0, 28.0, 32.0, 31.0, 41.0, 24.0, 20.0, 24.0, 2.0, 24.0, 0.75, 48.0, 19.0, 56.0, 24.0, 23.0, 24.0, 18.0, 21.0, 24.0, 18.0, 24.0, 24.0, 32.0, 23.0, 58.0, 50.0, 40.0, 47.0, 36.0, 20.0, 32.0, 25.0, 24.0, 43.0, 37.0, 40.0, 31.0, 70.0, 31.0, 29.0, 18.0, 24.5, 18.0, 43.0, 36.0, 24.0, 27.0, 20.0, 14.0, 60.0, 25.0, 14.0, 19.0, 18.0, 15.0, 31.0, 4.0, 24.0, 25.0, 60.0, 52.0, 44.0, 24.0, 49.0, 42.0, 18.0, 35.0, 18.0, 25.0, 26.0, 39.0, 45.0, 42.0, 22.0, 24.0, 24.0, 37.0, 48.0, 29.0, 52.0, 19.0, 38.0, 27.0, 24.0, 33.0, 6.0, 17.0, 34.0, 50.0, 27.0, 20.0, 30.0, 24.0, 25.0, 25.0, 29.0, 11.0, 29.0, 23.0, 23.0, 28.5, 48.0, 35.0, 24.0, 24.0, 37.0, 36.0, 21.0, 24.0, 31.0, 70.0, 16.0, 30.0, 19.0, 31.0, 4.0, 6.0, 33.0, 23.0, 48.0, 0.67, 28.0, 18.0, 34.0, 33.0, 24.0, 41.0, 20.0, 36.0, 16.0, 51.0, 37.0, 30.5, 24.0, 32.0, 24.0, 48.0, 57.0, 24.0, 54.0, 18.0, 24.0, 5.0, 24.0, 43.0, 13.0, 17.0, 29.0, 24.0, 25.0, 25.0, 18.0, 8.0, 1.0, 46.0, 24.0, 16.0, 24.0, 37.0, 25.0, 39.0, 49.0, 31.0, 30.0, 30.0, 34.0, 31.0, 11.0, 0.42, 27.0, 31.0, 39.0, 18.0, 39.0, 33.0, 26.0, 39.0, 35.0, 6.0, 30.5, 37.0, 23.0, 31.0, 43.0, 10.0, 52.0, 27.0, 38.0, 27.0, 2.0, 24.0, 24.0, 1.0, 24.0, 62.0, 15.0, 0.83, 24.0, 23.0, 18.0, 39.0, 21.0, 24.0, 32.0, 37.0, 20.0, 16.0, 30.0, 34.5, 17.0, 42.0, 24.0, 35.0, 28.0, 37.0, 4.0, 74.0, 9.0, 16.0, 44.0, 18.0, 45.0, 51.0, 24.0, 24.0, 41.0, 21.0, 48.0, 24.0, 24.0, 42.0, 27.0, 31.0, 24.0, 4.0, 26.0, 47.0, 33.0, 47.0, 28.0, 15.0, 20.0, 19.0, 24.0, 56.0, 25.0, 33.0, 22.0, 28.0, 25.0, 39.0, 27.0, 19.0, 24.0, 26.0, 32.0], \"y\": [7.25, 71.28, 7.92, 53.1, 8.05, 8.46, 51.86, 21.08, 11.13, 30.07, 16.7, 26.55, 8.05, 31.28, 7.85, 16.0, 29.12, 13.0, 18.0, 7.22, 26.0, 13.0, 8.03, 35.5, 21.08, 31.39, 7.22, 263.0, 7.88, 7.9, 27.72, 146.52, 7.75, 10.5, 82.17, 52.0, 7.23, 8.05, 18.0, 11.24, 9.48, 21.0, 7.9, 41.58, 7.88, 8.05, 15.5, 7.75, 21.68, 17.8, 39.69, 7.8, 76.73, 26.0, 61.98, 35.5, 10.5, 7.23, 27.75, 46.9, 7.23, 80.0, 83.48, 27.9, 27.72, 15.25, 10.5, 8.16, 7.92, 8.66, 10.5, 46.9, 73.5, 14.45, 56.5, 7.65, 7.9, 8.05, 29.0, 12.48, 9.0, 9.5, 7.79, 47.1, 10.5, 15.85, 34.38, 8.05, 263.0, 8.05, 8.05, 7.85, 61.18, 20.58, 7.25, 8.05, 34.65, 63.36, 23.0, 26.0, 7.9, 7.9, 77.29, 8.65, 7.92, 7.9, 7.65, 7.78, 7.9, 24.15, 52.0, 14.45, 8.05, 9.82, 14.46, 7.92, 7.75, 21.0, 247.52, 31.28, 73.5, 8.05, 30.07, 13.0, 77.29, 11.24, 7.75, 7.14, 22.36, 6.98, 7.9, 7.05, 14.5, 26.0, 13.0, 15.05, 26.28, 53.1, 9.22, 79.2, 15.25, 7.75, 15.85, 6.75, 11.5, 36.75, 7.8, 34.38, 26.0, 13.0, 12.52, 66.6, 8.05, 14.5, 7.31, 61.38, 7.73, 8.05, 8.66, 69.55, 16.1, 15.75, 7.78, 8.66, 39.69, 20.52, 55.0, 27.9, 25.92, 56.5, 33.5, 29.12, 11.13, 7.92, 30.7, 7.85, 25.47, 28.71, 13.0, 0.0, 69.55, 15.05, 31.39, 39.0, 22.02, 50.0, 15.5, 26.55, 15.5, 7.9, 13.0, 13.0, 7.85, 26.0, 27.72, 146.52, 7.75, 8.4, 7.75, 13.0, 9.5, 69.55, 6.5, 7.22, 8.05, 10.46, 15.85, 18.79, 7.75, 31.0, 7.05, 21.0, 7.25, 13.0, 7.75, 113.28, 7.92, 27.0, 76.29, 10.5, 8.05, 13.0, 8.05, 7.9, 90.0, 9.35, 10.5, 7.25, 13.0, 25.47, 83.48, 7.78, 13.5, 31.39, 10.5, 7.55, 26.0, 26.25, 10.5, 12.28, 14.45, 15.5, 10.5, 7.12, 7.22, 90.0, 7.78, 14.5, 52.55, 26.0, 7.25, 10.46, 26.55, 16.1, 20.21, 15.25, 79.2, 86.5, 512.33, 26.0, 7.75, 31.39, 79.65, 0.0, 7.75, 10.5, 39.69, 7.78, 153.46, 135.63, 31.0, 0.0, 19.5, 29.7, 7.75, 77.96, 7.75, 0.0, 29.12, 20.25, 7.75, 7.85, 9.5, 8.05, 26.0, 8.66, 9.5, 7.9, 13.0, 7.75, 78.85, 91.08, 12.88, 8.85, 7.9, 27.72, 7.23, 151.55, 30.5, 247.52, 7.75, 23.25, 0.0, 12.35, 8.05, 151.55, 110.88, 108.9, 24.0, 56.93, 83.16, 262.38, 26.0, 7.9, 26.25, 7.85, 26.0, 14.0, 164.87, 134.5, 7.25, 7.9, 12.35, 29.0, 69.55, 135.63, 6.24, 13.0, 20.52, 57.98, 23.25, 28.5, 153.46, 18.0, 133.65, 7.9, 66.6, 134.5, 8.05, 35.5, 26.0, 263.0, 13.0, 13.0, 13.0, 13.0, 13.0, 16.1, 15.9, 8.66, 9.22, 35.0, 7.23, 17.8, 7.22, 9.5, 55.0, 13.0, 7.88, 7.88, 27.9, 27.72, 14.45, 7.05, 15.5, 7.25, 75.25, 7.23, 7.75, 69.3, 55.44, 6.5, 8.05, 135.63, 21.08, 82.17, 7.25, 211.5, 4.01, 7.78, 227.52, 15.74, 7.92, 52.0, 7.9, 73.5, 46.9, 13.0, 7.73, 12.0, 120.0, 7.8, 7.92, 113.28, 16.7, 7.8, 7.85, 26.0, 10.5, 12.65, 7.92, 8.05, 9.82, 15.85, 8.66, 21.0, 7.75, 18.75, 7.78, 25.47, 7.9, 6.86, 90.0, 0.0, 7.92, 8.05, 32.5, 13.0, 13.0, 24.15, 7.9, 7.73, 7.88, 14.4, 20.21, 7.25, 26.0, 26.0, 7.75, 8.05, 26.55, 16.1, 26.0, 7.12, 55.9, 120.0, 34.38, 18.75, 263.0, 10.5, 26.25, 9.5, 7.78, 13.0, 8.11, 81.86, 19.5, 26.55, 19.26, 30.5, 27.75, 19.97, 27.75, 89.1, 8.05, 7.9, 26.55, 51.86, 10.5, 7.75, 26.55, 8.05, 38.5, 13.0, 8.05, 7.05, 0.0, 26.55, 7.72, 19.26, 7.25, 8.66, 27.75, 13.79, 9.84, 52.0, 21.0, 7.05, 7.52, 12.29, 46.9, 0.0, 8.05, 9.59, 91.08, 25.47, 90.0, 29.7, 8.05, 15.9, 19.97, 7.25, 30.5, 49.5, 8.05, 14.46, 78.27, 15.1, 151.55, 7.8, 8.66, 7.75, 7.63, 9.59, 86.5, 108.9, 26.0, 26.55, 22.52, 56.5, 7.75, 8.05, 26.29, 59.4, 7.5, 34.02, 10.5, 24.15, 26.0, 7.9, 93.5, 7.9, 7.22, 57.98, 7.23, 7.75, 10.5, 221.78, 7.92, 11.5, 26.0, 7.23, 7.23, 22.36, 8.66, 26.25, 26.55, 106.42, 14.5, 49.5, 71.0, 31.28, 31.28, 26.0, 106.42, 26.0, 26.0, 13.86, 20.52, 36.75, 110.88, 26.0, 7.83, 7.22, 7.78, 26.55, 39.6, 227.52, 79.65, 17.4, 7.75, 7.9, 13.5, 8.05, 8.05, 24.15, 7.9, 21.08, 7.23, 7.85, 10.5, 51.48, 26.39, 7.75, 8.05, 14.5, 13.0, 55.9, 14.46, 7.92, 30.0, 110.88, 26.0, 40.12, 8.71, 79.65, 15.0, 79.2, 8.05, 8.05, 7.12, 78.27, 7.25, 7.75, 26.0, 24.15, 33.0, 0.0, 7.22, 56.93, 27.0, 7.9, 42.4, 8.05, 26.55, 15.55, 7.9, 30.5, 41.58, 153.46, 31.28, 7.05, 15.5, 7.75, 8.05, 65.0, 14.4, 16.1, 39.0, 10.5, 14.45, 52.55, 15.74, 7.85, 16.1, 32.32, 12.35, 77.96, 7.9, 7.73, 30.0, 7.05, 30.5, 0.0, 27.9, 13.0, 7.92, 26.25, 39.69, 16.1, 7.85, 69.3, 27.9, 56.5, 19.26, 76.73, 7.9, 35.5, 7.55, 7.55, 7.9, 23.0, 8.43, 7.83, 6.75, 73.5, 7.9, 15.5, 13.0, 113.28, 133.65, 7.22, 25.59, 7.5, 7.92, 73.5, 13.0, 7.78, 8.05, 52.0, 39.0, 52.0, 10.5, 13.0, 0.0, 7.78, 8.05, 9.84, 46.9, 512.33, 8.14, 76.73, 9.22, 46.9, 39.0, 41.58, 39.69, 10.17, 7.8, 211.34, 57.0, 13.42, 56.5, 7.22, 26.55, 13.5, 8.05, 7.73, 110.88, 7.65, 227.52, 26.29, 14.45, 7.74, 7.85, 26.0, 13.5, 26.29, 151.55, 15.25, 49.5, 26.55, 52.0, 9.48, 13.0, 7.65, 227.52, 10.5, 15.5, 7.78, 33.0, 7.05, 13.0, 13.0, 53.1, 8.66, 21.0, 7.74, 26.0, 7.92, 211.34, 18.79, 0.0, 13.0, 13.0, 16.1, 34.38, 512.33, 7.9, 7.9, 30.0, 78.85, 262.38, 16.1, 7.92, 71.0, 20.25, 13.0, 53.1, 7.75, 23.0, 12.48, 9.5, 7.9, 65.0, 14.5, 7.8, 11.5, 8.05, 86.5, 14.5, 7.12, 7.23, 120.0, 7.78, 77.96, 39.6, 7.75, 24.15, 8.36, 9.5, 7.85, 10.5, 7.22, 23.0, 7.75, 7.75, 12.48, 7.74, 211.34, 7.23, 57.0, 30.0, 23.45, 7.05, 7.25, 7.5, 29.12, 20.58, 79.2, 7.75, 26.0, 69.55, 30.7, 7.9, 13.0, 25.93, 8.68, 7.23, 24.15, 13.0, 26.25, 120.0, 8.52, 6.98, 7.78, 0.0, 7.78, 13.0, 53.1, 7.89, 24.15, 10.5, 31.28, 8.05, 0.0, 7.92, 37.0, 6.45, 27.9, 93.5, 8.66, 0.0, 12.48, 39.69, 6.95, 56.5, 37.0, 7.75, 80.0, 14.45, 18.75, 7.23, 7.85, 8.3, 83.16, 8.66, 8.05, 56.5, 29.7, 7.92, 10.5, 31.0, 6.44, 8.66, 7.55, 69.55, 7.9, 33.0, 89.1, 31.28, 7.78, 15.25, 39.4, 26.0, 9.35, 164.87, 26.55, 19.26, 7.23, 14.11, 11.5, 25.93, 69.55, 13.0, 13.0, 13.86, 50.5, 9.5, 11.13, 7.9, 52.55, 5.0, 9.0, 24.0, 7.22, 9.85, 7.9, 7.9, 83.16, 26.0, 7.9, 10.52, 10.5, 7.05, 29.12, 13.0, 30.0, 23.45, 30.0, 7.75]}],\n",
       "                        {\"legend\": {\"bgcolor\": \"#F5F6F9\", \"font\": {\"color\": \"#4D5663\"}}, \"paper_bgcolor\": \"#F5F6F9\", \"plot_bgcolor\": \"#F5F6F9\", \"template\": {\"data\": {\"bar\": [{\"error_x\": {\"color\": \"#2a3f5f\"}, \"error_y\": {\"color\": \"#2a3f5f\"}, \"marker\": {\"line\": {\"color\": \"#E5ECF6\", \"width\": 0.5}}, \"type\": \"bar\"}], \"barpolar\": [{\"marker\": {\"line\": {\"color\": \"#E5ECF6\", \"width\": 0.5}}, \"type\": \"barpolar\"}], \"carpet\": [{\"aaxis\": {\"endlinecolor\": \"#2a3f5f\", \"gridcolor\": \"white\", \"linecolor\": \"white\", \"minorgridcolor\": \"white\", \"startlinecolor\": \"#2a3f5f\"}, \"baxis\": {\"endlinecolor\": \"#2a3f5f\", \"gridcolor\": \"white\", \"linecolor\": \"white\", \"minorgridcolor\": \"white\", \"startlinecolor\": \"#2a3f5f\"}, \"type\": \"carpet\"}], \"choropleth\": [{\"colorbar\": {\"outlinewidth\": 0, \"ticks\": \"\"}, \"type\": \"choropleth\"}], \"contour\": [{\"colorbar\": {\"outlinewidth\": 0, \"ticks\": \"\"}, \"colorscale\": [[0.0, \"#0d0887\"], [0.1111111111111111, \"#46039f\"], [0.2222222222222222, \"#7201a8\"], [0.3333333333333333, \"#9c179e\"], [0.4444444444444444, \"#bd3786\"], [0.5555555555555556, \"#d8576b\"], [0.6666666666666666, \"#ed7953\"], [0.7777777777777778, \"#fb9f3a\"], [0.8888888888888888, \"#fdca26\"], [1.0, \"#f0f921\"]], \"type\": \"contour\"}], \"contourcarpet\": [{\"colorbar\": {\"outlinewidth\": 0, \"ticks\": \"\"}, \"type\": \"contourcarpet\"}], \"heatmap\": [{\"colorbar\": {\"outlinewidth\": 0, \"ticks\": \"\"}, \"colorscale\": [[0.0, \"#0d0887\"], [0.1111111111111111, \"#46039f\"], [0.2222222222222222, \"#7201a8\"], [0.3333333333333333, \"#9c179e\"], [0.4444444444444444, \"#bd3786\"], [0.5555555555555556, \"#d8576b\"], [0.6666666666666666, \"#ed7953\"], [0.7777777777777778, \"#fb9f3a\"], [0.8888888888888888, \"#fdca26\"], [1.0, \"#f0f921\"]], \"type\": \"heatmap\"}], \"heatmapgl\": [{\"colorbar\": {\"outlinewidth\": 0, \"ticks\": \"\"}, \"colorscale\": [[0.0, \"#0d0887\"], [0.1111111111111111, \"#46039f\"], [0.2222222222222222, \"#7201a8\"], [0.3333333333333333, \"#9c179e\"], [0.4444444444444444, \"#bd3786\"], [0.5555555555555556, \"#d8576b\"], [0.6666666666666666, \"#ed7953\"], [0.7777777777777778, \"#fb9f3a\"], [0.8888888888888888, \"#fdca26\"], [1.0, \"#f0f921\"]], \"type\": \"heatmapgl\"}], \"histogram\": [{\"marker\": {\"colorbar\": {\"outlinewidth\": 0, \"ticks\": \"\"}}, \"type\": \"histogram\"}], \"histogram2d\": [{\"colorbar\": {\"outlinewidth\": 0, \"ticks\": \"\"}, \"colorscale\": [[0.0, \"#0d0887\"], [0.1111111111111111, \"#46039f\"], [0.2222222222222222, \"#7201a8\"], [0.3333333333333333, \"#9c179e\"], [0.4444444444444444, \"#bd3786\"], [0.5555555555555556, \"#d8576b\"], [0.6666666666666666, \"#ed7953\"], [0.7777777777777778, \"#fb9f3a\"], [0.8888888888888888, \"#fdca26\"], [1.0, \"#f0f921\"]], \"type\": \"histogram2d\"}], \"histogram2dcontour\": [{\"colorbar\": {\"outlinewidth\": 0, \"ticks\": \"\"}, \"colorscale\": [[0.0, \"#0d0887\"], [0.1111111111111111, \"#46039f\"], [0.2222222222222222, \"#7201a8\"], [0.3333333333333333, \"#9c179e\"], [0.4444444444444444, \"#bd3786\"], [0.5555555555555556, \"#d8576b\"], [0.6666666666666666, \"#ed7953\"], [0.7777777777777778, \"#fb9f3a\"], [0.8888888888888888, \"#fdca26\"], [1.0, \"#f0f921\"]], \"type\": \"histogram2dcontour\"}], \"mesh3d\": [{\"colorbar\": {\"outlinewidth\": 0, \"ticks\": \"\"}, \"type\": \"mesh3d\"}], \"parcoords\": [{\"line\": {\"colorbar\": {\"outlinewidth\": 0, \"ticks\": \"\"}}, \"type\": \"parcoords\"}], \"pie\": [{\"automargin\": true, \"type\": \"pie\"}], \"scatter\": [{\"marker\": {\"colorbar\": {\"outlinewidth\": 0, \"ticks\": \"\"}}, \"type\": \"scatter\"}], \"scatter3d\": [{\"line\": {\"colorbar\": {\"outlinewidth\": 0, \"ticks\": \"\"}}, \"marker\": {\"colorbar\": {\"outlinewidth\": 0, \"ticks\": \"\"}}, \"type\": \"scatter3d\"}], \"scattercarpet\": [{\"marker\": {\"colorbar\": {\"outlinewidth\": 0, \"ticks\": \"\"}}, \"type\": \"scattercarpet\"}], \"scattergeo\": [{\"marker\": {\"colorbar\": {\"outlinewidth\": 0, \"ticks\": \"\"}}, \"type\": \"scattergeo\"}], \"scattergl\": [{\"marker\": {\"colorbar\": {\"outlinewidth\": 0, \"ticks\": \"\"}}, \"type\": \"scattergl\"}], \"scattermapbox\": [{\"marker\": {\"colorbar\": {\"outlinewidth\": 0, \"ticks\": \"\"}}, \"type\": \"scattermapbox\"}], \"scatterpolar\": [{\"marker\": {\"colorbar\": {\"outlinewidth\": 0, \"ticks\": \"\"}}, \"type\": \"scatterpolar\"}], \"scatterpolargl\": [{\"marker\": {\"colorbar\": {\"outlinewidth\": 0, \"ticks\": \"\"}}, \"type\": \"scatterpolargl\"}], \"scatterternary\": [{\"marker\": {\"colorbar\": {\"outlinewidth\": 0, \"ticks\": \"\"}}, \"type\": \"scatterternary\"}], \"surface\": [{\"colorbar\": {\"outlinewidth\": 0, \"ticks\": \"\"}, \"colorscale\": [[0.0, \"#0d0887\"], [0.1111111111111111, \"#46039f\"], [0.2222222222222222, \"#7201a8\"], [0.3333333333333333, \"#9c179e\"], [0.4444444444444444, \"#bd3786\"], [0.5555555555555556, \"#d8576b\"], [0.6666666666666666, \"#ed7953\"], [0.7777777777777778, \"#fb9f3a\"], [0.8888888888888888, \"#fdca26\"], [1.0, \"#f0f921\"]], \"type\": \"surface\"}], \"table\": [{\"cells\": {\"fill\": {\"color\": \"#EBF0F8\"}, \"line\": {\"color\": \"white\"}}, \"header\": {\"fill\": {\"color\": \"#C8D4E3\"}, \"line\": {\"color\": \"white\"}}, \"type\": \"table\"}]}, \"layout\": {\"annotationdefaults\": {\"arrowcolor\": \"#2a3f5f\", \"arrowhead\": 0, \"arrowwidth\": 1}, \"coloraxis\": {\"colorbar\": {\"outlinewidth\": 0, \"ticks\": \"\"}}, \"colorscale\": {\"diverging\": [[0, \"#8e0152\"], [0.1, \"#c51b7d\"], [0.2, \"#de77ae\"], [0.3, \"#f1b6da\"], [0.4, \"#fde0ef\"], [0.5, \"#f7f7f7\"], [0.6, \"#e6f5d0\"], [0.7, \"#b8e186\"], [0.8, \"#7fbc41\"], [0.9, \"#4d9221\"], [1, \"#276419\"]], \"sequential\": [[0.0, \"#0d0887\"], [0.1111111111111111, \"#46039f\"], [0.2222222222222222, \"#7201a8\"], [0.3333333333333333, \"#9c179e\"], [0.4444444444444444, \"#bd3786\"], [0.5555555555555556, \"#d8576b\"], [0.6666666666666666, \"#ed7953\"], [0.7777777777777778, \"#fb9f3a\"], [0.8888888888888888, \"#fdca26\"], [1.0, \"#f0f921\"]], \"sequentialminus\": [[0.0, \"#0d0887\"], [0.1111111111111111, \"#46039f\"], [0.2222222222222222, \"#7201a8\"], [0.3333333333333333, \"#9c179e\"], [0.4444444444444444, \"#bd3786\"], [0.5555555555555556, \"#d8576b\"], [0.6666666666666666, \"#ed7953\"], [0.7777777777777778, \"#fb9f3a\"], [0.8888888888888888, \"#fdca26\"], [1.0, \"#f0f921\"]]}, \"colorway\": [\"#636efa\", \"#EF553B\", \"#00cc96\", \"#ab63fa\", \"#FFA15A\", \"#19d3f3\", \"#FF6692\", \"#B6E880\", \"#FF97FF\", \"#FECB52\"], \"font\": {\"color\": \"#2a3f5f\"}, \"geo\": {\"bgcolor\": \"white\", \"lakecolor\": \"white\", \"landcolor\": \"#E5ECF6\", \"showlakes\": true, \"showland\": true, \"subunitcolor\": \"white\"}, \"hoverlabel\": {\"align\": \"left\"}, \"hovermode\": \"closest\", \"mapbox\": {\"style\": \"light\"}, \"paper_bgcolor\": \"white\", \"plot_bgcolor\": \"#E5ECF6\", \"polar\": {\"angularaxis\": {\"gridcolor\": \"white\", \"linecolor\": \"white\", \"ticks\": \"\"}, \"bgcolor\": \"#E5ECF6\", \"radialaxis\": {\"gridcolor\": \"white\", \"linecolor\": \"white\", \"ticks\": \"\"}}, \"scene\": {\"xaxis\": {\"backgroundcolor\": \"#E5ECF6\", \"gridcolor\": \"white\", \"gridwidth\": 2, \"linecolor\": \"white\", \"showbackground\": true, \"ticks\": \"\", \"zerolinecolor\": \"white\"}, \"yaxis\": {\"backgroundcolor\": \"#E5ECF6\", \"gridcolor\": \"white\", \"gridwidth\": 2, \"linecolor\": \"white\", \"showbackground\": true, \"ticks\": \"\", \"zerolinecolor\": \"white\"}, \"zaxis\": {\"backgroundcolor\": \"#E5ECF6\", \"gridcolor\": \"white\", \"gridwidth\": 2, \"linecolor\": \"white\", \"showbackground\": true, \"ticks\": \"\", \"zerolinecolor\": \"white\"}}, \"shapedefaults\": {\"line\": {\"color\": \"#2a3f5f\"}}, \"ternary\": {\"aaxis\": {\"gridcolor\": \"white\", \"linecolor\": \"white\", \"ticks\": \"\"}, \"baxis\": {\"gridcolor\": \"white\", \"linecolor\": \"white\", \"ticks\": \"\"}, \"bgcolor\": \"#E5ECF6\", \"caxis\": {\"gridcolor\": \"white\", \"linecolor\": \"white\", \"ticks\": \"\"}}, \"title\": {\"x\": 0.05}, \"xaxis\": {\"automargin\": true, \"gridcolor\": \"white\", \"linecolor\": \"white\", \"ticks\": \"\", \"title\": {\"standoff\": 15}, \"zerolinecolor\": \"white\", \"zerolinewidth\": 2}, \"yaxis\": {\"automargin\": true, \"gridcolor\": \"white\", \"linecolor\": \"white\", \"ticks\": \"\", \"title\": {\"standoff\": 15}, \"zerolinecolor\": \"white\", \"zerolinewidth\": 2}}}, \"title\": {\"font\": {\"color\": \"#4D5663\"}}, \"xaxis\": {\"gridcolor\": \"#E1E5ED\", \"showgrid\": true, \"tickfont\": {\"color\": \"#4D5663\"}, \"title\": {\"font\": {\"color\": \"#4D5663\"}, \"text\": \"\"}, \"zerolinecolor\": \"#E1E5ED\"}, \"yaxis\": {\"gridcolor\": \"#E1E5ED\", \"showgrid\": true, \"tickfont\": {\"color\": \"#4D5663\"}, \"title\": {\"font\": {\"color\": \"#4D5663\"}, \"text\": \"\"}, \"zerolinecolor\": \"#E1E5ED\"}},\n",
       "                        {\"showLink\": true, \"linkText\": \"Export to plot.ly\", \"plotlyServerURL\": \"https://plot.ly\", \"responsive\": true}\n",
       "                    ).then(function(){\n",
       "                            \n",
       "var gd = document.getElementById('a4caa792-6403-4691-a755-002b962cc194');\n",
       "var x = new MutationObserver(function (mutations, observer) {{\n",
       "        var display = window.getComputedStyle(gd).display;\n",
       "        if (!display || display === 'none') {{\n",
       "            console.log([gd, 'removed!']);\n",
       "            Plotly.purge(gd);\n",
       "            observer.disconnect();\n",
       "        }}\n",
       "}});\n",
       "\n",
       "// Listen for the removal of the full notebook cells\n",
       "var notebookContainer = gd.closest('#notebook-container');\n",
       "if (notebookContainer) {{\n",
       "    x.observe(notebookContainer, {childList: true});\n",
       "}}\n",
       "\n",
       "// Listen for the clearing of the current output cell\n",
       "var outputEl = gd.closest('.output');\n",
       "if (outputEl) {{\n",
       "    x.observe(outputEl, {childList: true});\n",
       "}}\n",
       "\n",
       "                        })\n",
       "                };\n",
       "                });\n",
       "            </script>\n",
       "        </div>"
      ]
     },
     "metadata": {},
     "output_type": "display_data"
    }
   ],
   "source": [
    "df.iplot(kind = 'scatter', x = 'Age', y = 'Fare', mode = 'markers')"
   ]
  },
  {
   "cell_type": "code",
   "execution_count": null,
   "metadata": {},
   "outputs": [],
   "source": []
  }
 ],
 "metadata": {
  "kernelspec": {
   "display_name": "Python 3",
   "language": "python",
   "name": "python3"
  },
  "language_info": {
   "codemirror_mode": {
    "name": "ipython",
    "version": 3
   },
   "file_extension": ".py",
   "mimetype": "text/x-python",
   "name": "python",
   "nbconvert_exporter": "python",
   "pygments_lexer": "ipython3",
   "version": "3.7.7"
  }
 },
 "nbformat": 4,
 "nbformat_minor": 4
}
