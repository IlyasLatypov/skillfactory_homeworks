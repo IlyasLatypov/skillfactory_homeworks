{
 "cells": [
  {
   "cell_type": "code",
   "execution_count": 1,
   "metadata": {},
   "outputs": [
    {
     "name": "stdout",
     "output_type": "stream",
     "text": [
      "400\n"
     ]
    }
   ],
   "source": [
    "\"\"\"\n",
    "Теперь попробуйте вы.\n",
    "Посчитайте квадрат 20. Для этого вызовите функцию square для 20 и запишите результат в переменную square_result\n",
    "\n",
    "\"\"\"\n",
    "\n",
    "def square(x):\n",
    "    return x**2\n",
    "\n",
    "square_result = square(20)\n",
    "\n",
    "print(square_result)"
   ]
  },
  {
   "cell_type": "code",
   "execution_count": 2,
   "metadata": {},
   "outputs": [
    {
     "name": "stdout",
     "output_type": "stream",
     "text": [
      "115\n"
     ]
    }
   ],
   "source": [
    "\"\"\"\n",
    "Исправьте этот код: дополните функцию sum_2, чтобы она принимала аргументы x и y, а потом возвращала их сумму.\n",
    "Затем вызовите sum_2 для 42 и 73 и выведите на экран полученный результат.\n",
    "\n",
    "\"\"\"\n",
    "\n",
    "# Дополните аргументы и код функции\n",
    "def sum_2(x, y):\n",
    "    result = x + y\n",
    "    return result\n",
    "\n",
    "# Передайте аргументы 42 и 73 в функцию\n",
    "print(sum_2(42, 73))"
   ]
  },
  {
   "cell_type": "code",
   "execution_count": 4,
   "metadata": {},
   "outputs": [
    {
     "name": "stdout",
     "output_type": "stream",
     "text": [
      "16\n"
     ]
    }
   ],
   "source": [
    "\"\"\"\n",
    "Напишите функцию power, которая возводит первый аргумент в степень второго аргумента.\n",
    "Например, power(2, 3) должен вернуть 8, а power(4, 2) - 16\n",
    "\n",
    "\"\"\"\n",
    "\n",
    "def power(x, y):\n",
    "    result = x ** y\n",
    "    return result\n",
    "\n",
    "print(power(4, 2))"
   ]
  },
  {
   "cell_type": "code",
   "execution_count": null,
   "metadata": {},
   "outputs": [],
   "source": [
    "\"\"\"\n",
    "В статистике для описания набора чисел часто используется значение медианы —  это такое число, которое делит\n",
    "ранжированные данные (отсортированные по возрастанию или убыванию) на две равные части, то есть половина исходных данных\n",
    "по своему значению меньше этой отметки, а половина – больше. Обратите внимание, что это не то же самое, что среднее\n",
    "арифметическое.\n",
    "\n",
    "Например, если у нас есть данные о возрасте людей и им 10, 16, 22, 23 и 24 года, то медианным значением будет 22 года.\n",
    "\n",
    "\"\"\""
   ]
  },
  {
   "cell_type": "code",
   "execution_count": null,
   "metadata": {},
   "outputs": [],
   "source": [
    "def get_median(*args):\n",
    "    for x in args:\n",
    "        get_median_list.append(x)\n",
    "        \n",
    "get_median_list = []\n",
    "        \n",
    "get_median(5, 2, 1, 3, 4)\n",
    "\n",
    "print(get_median_list)"
   ]
  },
  {
   "cell_type": "code",
   "execution_count": 60,
   "metadata": {},
   "outputs": [
    {
     "data": {
      "text/plain": [
       "5.0"
      ]
     },
     "execution_count": 60,
     "metadata": {},
     "output_type": "execute_result"
    }
   ],
   "source": [
    "\"\"\"\n",
    "Постройте функцию get_median, которая принимает на вход список чисел и возвращает медиану, например, для этого списка.\n",
    "\n",
    "get_median([5, 2, 1, 3, 4]) должен вернуть 3\n",
    "get_median([3, 3, 7, 9]) должен вернуть 5\n",
    "\n",
    "\"\"\"\n",
    "\n",
    "def get_median(lst):\n",
    "    sortedLst = sorted(lst)\n",
    "    lstLen = len(lst)\n",
    "    index = (lstLen - 1) // 2\n",
    "    if (lstLen % 2):\n",
    "        return sortedLst[index]\n",
    "    else:\n",
    "        return (sortedLst[index] + sortedLst[index + 1])/2\n",
    "            \n",
    "get_median([3, 3, 7, 9])    "
   ]
  },
  {
   "cell_type": "code",
   "execution_count": 57,
   "metadata": {},
   "outputs": [
    {
     "data": {
      "text/plain": [
       "5"
      ]
     },
     "execution_count": 57,
     "metadata": {},
     "output_type": "execute_result"
    }
   ],
   "source": [
    "def get_median(values):\n",
    "    values = sorted(values)\n",
    "    length = len(values)\n",
    "    \n",
    "    if length % 2 == 0:\n",
    "        index = int(length / 2) \n",
    "        \n",
    "        return int((values[index] + values[index - 1]) / 2)\n",
    "    else:\n",
    "        return values[int(length / 2)]\n",
    "    \n",
    "(get_median([3, 3, 7, 9])) "
   ]
  },
  {
   "cell_type": "code",
   "execution_count": 61,
   "metadata": {},
   "outputs": [
    {
     "name": "stdout",
     "output_type": "stream",
     "text": [
      "29.0\n"
     ]
    }
   ],
   "source": [
    "\"\"\"\n",
    "Перепишите код ниже, определив функцию avg_orders(user_db), которая возвращает среднее число заказов по данным в базе.\n",
    "Затем выведите на экран результат вызова этой функции для user_db\n",
    "\n",
    "\"\"\"\n",
    "\n",
    "def avg_orders(user_db):\n",
    "    order_sum = sum([user['orders'] for user in user_db])\n",
    "    orders_per_user = order_sum/len(user_db)\n",
    "    print(orders_per_user)\n",
    "\n",
    "\n",
    "user_db = [{'orders': 12}, {'orders': 30}, {'orders': 45}]\n",
    "\n",
    "avg_orders(user_db)"
   ]
  },
  {
   "cell_type": "code",
   "execution_count": 64,
   "metadata": {},
   "outputs": [
    {
     "name": "stdout",
     "output_type": "stream",
     "text": [
      "['€5.48', '€2.79', '€1.9']\n"
     ]
    }
   ],
   "source": [
    "\"\"\"\n",
    "Определите функцию get_euro_rate, которая возвращает случайное число от 65 до 85.\n",
    "Перепишите to_euro из примера выше, чтобы вместо постоянного exchange_rate 70 она использовала get_euro_rate\n",
    "\n",
    "Для выполнения задания вам потребуется функция random() из модуля random, которая возвращает случайное число от 0 до 1\n",
    "\n",
    "\"\"\"\n",
    "\n",
    "def db_to_euro(db):  \n",
    "    return [to_euro(item['price']) for item in db] \n",
    "\n",
    "def get_euro_rate():\n",
    "    from random import random\n",
    "    return (65+random()*20)\n",
    "\n",
    "def to_euro(price):  \n",
    "    exchange_rate = get_euro_rate() \n",
    "    rounded = round(price/exchange_rate, 2)  \n",
    "    return '€' + str(rounded)\n",
    "\n",
    "ticket_db = [{'price': 400}, {'price': 200}, {'price': 150}]  \n",
    "\n",
    "tickets_euro = db_to_euro(ticket_db)\n",
    "\n",
    "print(tickets_euro)"
   ]
  },
  {
   "cell_type": "code",
   "execution_count": 65,
   "metadata": {},
   "outputs": [
    {
     "name": "stdout",
     "output_type": "stream",
     "text": [
      "10\n"
     ]
    }
   ],
   "source": [
    "all_the = sum\n",
    "magic = range\n",
    "print(all_the(magic(5)))"
   ]
  },
  {
   "cell_type": "code",
   "execution_count": 68,
   "metadata": {},
   "outputs": [
    {
     "data": {
      "text/plain": [
       "['Mr. Boris', 'Mr. Ivan', 'Mr. Bob']"
      ]
     },
     "execution_count": 68,
     "metadata": {},
     "output_type": "execute_result"
    }
   ],
   "source": [
    "# => Определим функцию polite_name, которая делает вежливым одно имя \n",
    "def polite_name(name):  \n",
    "    return 'Mr. ' + name   \n",
    "  \n",
    "guests = [\"Boris\", \"Ivan\", \"Bob\"]\n",
    "\n",
    "guest_iterator = map(polite_name, guests)  # здесь мы применили polite_name к каждому имени  \n",
    "\n",
    "list(guest_iterator)  # вывoд  \n"
   ]
  },
  {
   "cell_type": "code",
   "execution_count": 69,
   "metadata": {},
   "outputs": [
    {
     "data": {
      "text/plain": [
       "73"
      ]
     },
     "execution_count": 69,
     "metadata": {},
     "output_type": "execute_result"
    }
   ],
   "source": [
    "list(map(abs, [10,  -1, 42, -73]))[3]"
   ]
  },
  {
   "cell_type": "code",
   "execution_count": 71,
   "metadata": {},
   "outputs": [
    {
     "data": {
      "text/plain": [
       "[3, 3, 4, 2, 3]"
      ]
     },
     "execution_count": 71,
     "metadata": {},
     "output_type": "execute_result"
    }
   ],
   "source": [
    "\"\"\"\n",
    "Пусть у нас есть список слов, и мы хотим получить длину каждого слова.\n",
    "Например, из списка [\"All\", \"my\", \"troubles\", \"seemed\", \"so\", \"far\", \"away\"] мы ожидаем получить список [3, 2, 8, 6, 2, 3, 4]\n",
    "\n",
    "Что нам поставить на месте пропуска, чтобы выполнялась эта операция?\n",
    "\n",
    "\"\"\"\n",
    "\n",
    "word_sizes = list(map(len, [\"all\", \"you\", \"need\", \"is\", \"map\"]))\n",
    "word_sizes"
   ]
  },
  {
   "cell_type": "code",
   "execution_count": 72,
   "metadata": {},
   "outputs": [
    {
     "data": {
      "text/plain": [
       "['Mr. Boris', 'Mr. Ivan', 'Mr. Bob']"
      ]
     },
     "execution_count": 72,
     "metadata": {},
     "output_type": "execute_result"
    }
   ],
   "source": [
    "# Теперь перепишем с лямбда функцией  \n",
    "guests = [\"Boris\", \"Ivan\", \"Bob\"]  \n",
    "list(map(lambda name: \"Mr. \" + name, guests))  "
   ]
  },
  {
   "cell_type": "code",
   "execution_count": 76,
   "metadata": {},
   "outputs": [
    {
     "name": "stdout",
     "output_type": "stream",
     "text": [
      "['Mr. Boris', 'Mr. Ivan', 'Mr. Bob']\n"
     ]
    }
   ],
   "source": [
    "def polite_name(name):  \n",
    "    return 'Mr. ' + name   \n",
    "  \n",
    "guests = [\"Boris\", \"Ivan\", \"Bob\"]  \n",
    "guest_iterator = map(polite_name, guests)   \n",
    "\n",
    "print(list(guest_iterator))"
   ]
  },
  {
   "cell_type": "code",
   "execution_count": 81,
   "metadata": {},
   "outputs": [
    {
     "ename": "TypeError",
     "evalue": "'function' object is not iterable",
     "output_type": "error",
     "traceback": [
      "\u001b[1;31m---------------------------------------------------------------------------\u001b[0m",
      "\u001b[1;31mTypeError\u001b[0m                                 Traceback (most recent call last)",
      "\u001b[1;32m<ipython-input-81-71a509711eb8>\u001b[0m in \u001b[0;36m<module>\u001b[1;34m\u001b[0m\n\u001b[0;32m      2\u001b[0m \u001b[0mvectors\u001b[0m \u001b[1;33m=\u001b[0m \u001b[1;33m[\u001b[0m\u001b[1;33m(\u001b[0m\u001b[1;36m10\u001b[0m\u001b[1;33m,\u001b[0m \u001b[1;36m3\u001b[0m\u001b[1;33m)\u001b[0m\u001b[1;33m,\u001b[0m \u001b[1;33m(\u001b[0m\u001b[1;36m4\u001b[0m\u001b[1;33m,\u001b[0m \u001b[1;36m5\u001b[0m\u001b[1;33m)\u001b[0m\u001b[1;33m,\u001b[0m \u001b[1;33m(\u001b[0m\u001b[1;36m6\u001b[0m\u001b[1;33m,\u001b[0m \u001b[1;36m7\u001b[0m\u001b[1;33m)\u001b[0m\u001b[1;33m]\u001b[0m\u001b[1;33m\u001b[0m\u001b[1;33m\u001b[0m\u001b[0m\n\u001b[0;32m      3\u001b[0m \u001b[1;33m\u001b[0m\u001b[0m\n\u001b[1;32m----> 4\u001b[1;33m \u001b[0mmap\u001b[0m\u001b[1;33m(\u001b[0m\u001b[0mvalues\u001b[0m\u001b[1;33m,\u001b[0m \u001b[1;32mlambda\u001b[0m \u001b[0mx\u001b[0m\u001b[1;33m:\u001b[0m \u001b[0mx\u001b[0m\u001b[1;33m**\u001b[0m\u001b[1;36m0.5\u001b[0m\u001b[1;33m)\u001b[0m\u001b[1;33m\u001b[0m\u001b[1;33m\u001b[0m\u001b[0m\n\u001b[0m",
      "\u001b[1;31mTypeError\u001b[0m: 'function' object is not iterable"
     ]
    }
   ],
   "source": [
    "values = [1, 2, 3]\n",
    "vectors = [(10, 3), (4, 5), (6, 7)]\n",
    "\n",
    "map(values, lambda x: x**0.5)"
   ]
  },
  {
   "cell_type": "code",
   "execution_count": 84,
   "metadata": {},
   "outputs": [
    {
     "name": "stdout",
     "output_type": "stream",
     "text": [
      "[-14, -10, -3, -2, 5, 24]\n"
     ]
    }
   ],
   "source": [
    "\"\"\"\n",
    "При анализе данных бывает полезно \"подвинуть\" числа так, чтобы среднее значение было нулевым:\n",
    "так удобнее анализировать их распределение.\n",
    "\n",
    "Напишите выражение c map, которое из каждого элемента values вычитает среднее значение mean.\n",
    "\n",
    "Результат положите в переменную result\n",
    "\n",
    "\"\"\"\n",
    "\n",
    "values = [4, 8, 15, 16, 23, 42]\n",
    "mean = 18\n",
    "\n",
    "def func(x):  \n",
    "    return x - mean   \n",
    "  \n",
    "result = list(map(func, values))  \n",
    "\n",
    "print(result)\n"
   ]
  },
  {
   "cell_type": "code",
   "execution_count": 86,
   "metadata": {},
   "outputs": [
    {
     "name": "stdout",
     "output_type": "stream",
     "text": [
      "[23, 42]\n"
     ]
    }
   ],
   "source": [
    "\"\"\"\n",
    "Для заданных чисел values и среднего значения mean напишите такой filter,\n",
    "который оставляет только элементы больше среднего значения.\n",
    "\n",
    "\"\"\"\n",
    "\n",
    "values = [4, 8, 15, 16, 23, 42]\n",
    "mean = 18\n",
    "\n",
    "result = list(filter(lambda x: x > mean, values))\n",
    "\n",
    "print(result)"
   ]
  },
  {
   "cell_type": "code",
   "execution_count": 87,
   "metadata": {},
   "outputs": [
    {
     "name": "stdout",
     "output_type": "stream",
     "text": [
      "0.5\n"
     ]
    }
   ],
   "source": [
    "std = 42 \n",
    "\n",
    "def normalize(value):\n",
    "    result = value/std\n",
    "    return result \n",
    "    \n",
    "print(normalize(21)) "
   ]
  },
  {
   "cell_type": "code",
   "execution_count": 88,
   "metadata": {},
   "outputs": [
    {
     "name": "stdout",
     "output_type": "stream",
     "text": [
      "3.0\n"
     ]
    }
   ],
   "source": [
    "std = 42\n",
    "\n",
    "def normalize(value, std):\n",
    "    result = value/std\n",
    "    return result \n",
    "    \n",
    "print(normalize(21, 7)) "
   ]
  },
  {
   "cell_type": "code",
   "execution_count": 89,
   "metadata": {},
   "outputs": [
    {
     "name": "stdout",
     "output_type": "stream",
     "text": [
      "0.5\n"
     ]
    }
   ],
   "source": [
    "values = [-7, -7, 7, 7]\n",
    "std = 42\n",
    "\n",
    "def count_std():\n",
    "    mean = sum(values)/len(values)\n",
    "    std = (sum([(value-mean)**2 for value in values])/len(values))**0.5\n",
    "    return std\n",
    "\n",
    "def normalize(value):\n",
    "    result = value/std\n",
    "    return result \n",
    "\n",
    "print(normalize(21))"
   ]
  },
  {
   "cell_type": "code",
   "execution_count": 90,
   "metadata": {},
   "outputs": [
    {
     "name": "stdout",
     "output_type": "stream",
     "text": [
      "8\n"
     ]
    }
   ],
   "source": [
    "rabbits = 0\n",
    "\n",
    "def count_rabbits(spotted):\n",
    "    global rabbits\n",
    "    rabbits += spotted\n",
    "\n",
    "    \n",
    "count_rabbits(3)\n",
    "count_rabbits(5)\n",
    "print(rabbits)"
   ]
  },
  {
   "cell_type": "code",
   "execution_count": 116,
   "metadata": {},
   "outputs": [
    {
     "data": {
      "text/plain": [
       "[-5, 5]"
      ]
     },
     "execution_count": 116,
     "metadata": {},
     "output_type": "execute_result"
    }
   ],
   "source": [
    "\"\"\"\n",
    "Если вы обратили внимание, в предыдущих частях модуля у вас было несколько заданий с функцией normalize.\n",
    "Нормализацию часто применяют в машинном обучении, приводят данные к виду, когда среднее значение равно 0,\n",
    "а стандартное отклонение — 1.\n",
    "\n",
    "Определите функцию normalize с тремя аргументами:\n",
    "\n",
    "numbers — список чисел;\n",
    "mean — число, необязательный аргумент, по умолчанию 0;\n",
    "std — число, необязательный аргумент, по умолчанию 1.\n",
    "\n",
    "Функция должна для каждого числа из numbers вычитать mean и полученный результат делить на std.\n",
    "\n",
    "На выходе ожидается список из этих новых чисел.\n",
    "\n",
    "normalize([10, 20])\n",
    "\n",
    "=> [10, 20]\n",
    "\n",
    "normalize([10, 20], std=2)\n",
    "\n",
    "=> [5, 10]\n",
    "\n",
    "normalize([10, 20], mean=15)\n",
    "\n",
    "=> [-5, 5]\n",
    "\n",
    "\"\"\"\n",
    "\n",
    "def normalize(numbers, mean=0, std=1):\n",
    "    new_list = [int((number - mean) / std) for number in numbers]\n",
    "    return new_list\n",
    "\n",
    "normalize([10, 20], mean=15)"
   ]
  },
  {
   "cell_type": "code",
   "execution_count": 117,
   "metadata": {},
   "outputs": [
    {
     "data": {
      "text/plain": [
       "21"
      ]
     },
     "execution_count": 117,
     "metadata": {},
     "output_type": "execute_result"
    }
   ],
   "source": [
    "\"\"\"\n",
    "Теперь немного практики для закрепления.\n",
    "\n",
    "Определите функцию sum_args, которая суммирует все свои аргументы.\n",
    "\n",
    "Например, sum_args(10, 15, -4) должна возвращать 21\n",
    "\n",
    "\"\"\"\n",
    "\n",
    "def sum_args(*args):\n",
    "    return sum(x for x in args)\n",
    "    \n",
    "sum_args(10, 15, -4)"
   ]
  },
  {
   "cell_type": "code",
   "execution_count": 118,
   "metadata": {},
   "outputs": [
    {
     "name": "stdout",
     "output_type": "stream",
     "text": [
      "verbose mode\n"
     ]
    }
   ],
   "source": [
    "def show_keys(**kwargs):\n",
    "    print(' '.join(kwargs.keys()))\n",
    "\n",
    "show_keys(verbose=True, mode='constant')"
   ]
  },
  {
   "cell_type": "code",
   "execution_count": 126,
   "metadata": {},
   "outputs": [
    {
     "data": {
      "text/plain": [
       "24"
      ]
     },
     "execution_count": 126,
     "metadata": {},
     "output_type": "execute_result"
    }
   ],
   "source": [
    "\"\"\"\n",
    "Определите функцию count_letters(sentence, average), которая считает количество букв в строке без учёта пробелов.\n",
    "\n",
    "У функции должен быть необязательный булевый аргумент average, который по умолчанию равен False.\n",
    "\n",
    "Если он равен True, то функция должна возвращать количество букв в среднем на слово.\n",
    "\n",
    "count_letters(\"Beep boop\") # => 8\n",
    "count_letters(\"Beep boop\", average=True) # => 4\n",
    "count_letters(\"I will build my own theme park\") # => 24\n",
    "count_letters(\"I will build my own theme park\", average=True) # => 3.429\n",
    "Словом считается любая последовательность символов, отделённая пробелами или границами предложения.\n",
    "\n",
    "Cреднюю длину слова можно не округлять\n",
    "\n",
    "\n",
    "\"\"\"\n",
    "\n",
    "def count_letters(sentence, average=False):\n",
    "    if average==False:\n",
    "        letters_count = 0\n",
    "        for x in sentence:\n",
    "            if x != ' ':\n",
    "                letters_count += 1\n",
    "        return letters_count\n",
    "        \n",
    "    else:\n",
    "        letters_count = 0\n",
    "        words_count = 1\n",
    "        for x in sentence:\n",
    "            if x != ' ':\n",
    "                letters_count += 1\n",
    "            else:\n",
    "                words_count += 1\n",
    "        avr_letters_in_word = letters_count / words_count\n",
    "        return (round(avr_letters_in_word, 3))\n",
    "    \n",
    "count_letters(\"I will build my own theme park\")"
   ]
  },
  {
   "cell_type": "code",
   "execution_count": 141,
   "metadata": {},
   "outputs": [
    {
     "ename": "TypeError",
     "evalue": "'tuple' object is not callable",
     "output_type": "error",
     "traceback": [
      "\u001b[1;31m---------------------------------------------------------------------------\u001b[0m",
      "\u001b[1;31mTypeError\u001b[0m                                 Traceback (most recent call last)",
      "\u001b[1;32m<ipython-input-141-1302a7c494d6>\u001b[0m in \u001b[0;36m<module>\u001b[1;34m\u001b[0m\n\u001b[0;32m      1\u001b[0m \u001b[0mwords\u001b[0m \u001b[1;33m=\u001b[0m \u001b[1;33m[\u001b[0m\u001b[1;34m\"sofa\"\u001b[0m\u001b[1;33m,\u001b[0m \u001b[1;34m\"suitcase\"\u001b[0m\u001b[1;33m,\u001b[0m \u001b[1;34m\"valise\"\u001b[0m\u001b[1;33m,\u001b[0m \u001b[1;34m\"picture\"\u001b[0m\u001b[1;33m,\u001b[0m \u001b[1;34m\"basket\"\u001b[0m\u001b[1;33m,\u001b[0m \u001b[1;34m\"carton\"\u001b[0m\u001b[1;33m,\u001b[0m \u001b[1;34m\"doggie\"\u001b[0m\u001b[1;33m]\u001b[0m\u001b[1;33m\u001b[0m\u001b[1;33m\u001b[0m\u001b[0m\n\u001b[1;32m----> 2\u001b[1;33m \u001b[0mlist\u001b[0m\u001b[1;33m(\u001b[0m\u001b[0mmap\u001b[0m\u001b[1;33m(\u001b[0m\u001b[1;32mlambda\u001b[0m \u001b[0mw\u001b[0m\u001b[1;33m:\u001b[0m \u001b[0msorted\u001b[0m\u001b[1;33m(\u001b[0m\u001b[0mw\u001b[0m\u001b[1;33m)\u001b[0m\u001b[1;33m[\u001b[0m\u001b[1;36m0\u001b[0m\u001b[1;33m]\u001b[0m\u001b[1;33m,\u001b[0m \u001b[0mwords\u001b[0m\u001b[1;33m)\u001b[0m\u001b[1;33m)\u001b[0m\u001b[1;33m[\u001b[0m\u001b[1;36m5\u001b[0m\u001b[1;33m]\u001b[0m\u001b[1;33m\u001b[0m\u001b[1;33m\u001b[0m\u001b[0m\n\u001b[0m",
      "\u001b[1;31mTypeError\u001b[0m: 'tuple' object is not callable"
     ]
    }
   ],
   "source": [
    "words = [\"sofa\", \"suitcase\", \"valise\", \"picture\", \"basket\", \"carton\", \"doggie\"]\n",
    "list(map(lambda w: sorted(w)[0], words))[5]"
   ]
  },
  {
   "cell_type": "code",
   "execution_count": 140,
   "metadata": {},
   "outputs": [
    {
     "data": {
      "text/plain": [
       "5"
      ]
     },
     "execution_count": 140,
     "metadata": {},
     "output_type": "execute_result"
    }
   ],
   "source": [
    "\"\"\"\n",
    "Напишите функцию always(n), которая возвращает функцию, которая в свою очередь возвращает n. Например,\n",
    "\n",
    "five = always(5)\n",
    "five() # должно вернуть 5\n",
    "\n",
    "\"\"\"\n",
    "\n",
    "def always(n):\n",
    "    def func():\n",
    "        return n\n",
    "    return func\n",
    "\n",
    "five = always(5)\n",
    "\n",
    "five()"
   ]
  },
  {
   "cell_type": "code",
   "execution_count": 142,
   "metadata": {},
   "outputs": [
    {
     "name": "stdout",
     "output_type": "stream",
     "text": [
      "The Zen of Python, by Tim Peters\n",
      "\n",
      "Beautiful is better than ugly.\n",
      "Explicit is better than implicit.\n",
      "Simple is better than complex.\n",
      "Complex is better than complicated.\n",
      "Flat is better than nested.\n",
      "Sparse is better than dense.\n",
      "Readability counts.\n",
      "Special cases aren't special enough to break the rules.\n",
      "Although practicality beats purity.\n",
      "Errors should never pass silently.\n",
      "Unless explicitly silenced.\n",
      "In the face of ambiguity, refuse the temptation to guess.\n",
      "There should be one-- and preferably only one --obvious way to do it.\n",
      "Although that way may not be obvious at first unless you're Dutch.\n",
      "Now is better than never.\n",
      "Although never is often better than *right* now.\n",
      "If the implementation is hard to explain, it's a bad idea.\n",
      "If the implementation is easy to explain, it may be a good idea.\n",
      "Namespaces are one honking great idea -- let's do more of those!\n"
     ]
    }
   ],
   "source": [
    "import this"
   ]
  },
  {
   "cell_type": "code",
   "execution_count": 146,
   "metadata": {},
   "outputs": [
    {
     "name": "stdout",
     "output_type": "stream",
     "text": [
      "Загадано число от 1 до 100\n",
      "Угадываемое число меньше 81 \n",
      "Угадываемое число больше 6 \n",
      "Угадываемое число больше 15 \n",
      "Угадываемое число больше 74 \n",
      "Угадываемое число больше 52 \n",
      "Угадываемое число больше 64 \n",
      "Угадываемое число больше 28 \n",
      "Угадываемое число больше 51 \n",
      "Угадываемое число меньше 90 \n",
      "Угадываемое число больше 51 \n",
      "Угадываемое число больше 35 \n",
      "Угадываемое число меньше 95 \n",
      "Угадываемое число больше 28 \n",
      "Угадываемое число больше 27 \n",
      "Угадываемое число больше 46 \n",
      "Угадываемое число больше 13 \n",
      "Угадываемое число меньше 95 \n",
      "Угадываемое число меньше 84 \n",
      "Угадываемое число меньше 86 \n",
      "Угадываемое число больше 40 \n",
      "Угадываемое число меньше 77 \n",
      "Угадываемое число больше 25 \n",
      "Угадываемое число больше 23 \n",
      "Угадываемое число меньше 89 \n",
      "Угадываемое число больше 36 \n",
      "Угадываемое число больше 28 \n",
      "Угадываемое число больше 63 \n",
      "Угадываемое число больше 41 \n",
      "Угадываемое число больше 2 \n",
      "Угадываемое число меньше 100 \n",
      "Угадываемое число больше 24 \n",
      "Угадываемое число меньше 95 \n",
      "Угадываемое число меньше 83 \n",
      "Угадываемое число больше 73 \n",
      "Вы угадали число 76 за 35 попыток.\n",
      "Ваш алгоритм угадывает число в среднем за 101 попыток\n"
     ]
    },
    {
     "data": {
      "text/plain": [
       "101"
      ]
     },
     "execution_count": 146,
     "metadata": {},
     "output_type": "execute_result"
    }
   ],
   "source": [
    "import numpy as np\n",
    "\n",
    "number = np.random.randint(1,101)    # загадали число\n",
    "print (\"Загадано число от 1 до 100\")\n",
    "\n",
    "for count in range(1,101):         # более компактный вариант счетчика\n",
    "    predict = np.random.randint(1,101) # предполагаемое число\n",
    "    if number == predict: break    # выход из цикла, если угадали\n",
    "    elif number > predict: print (f\"Угадываемое число больше {predict} \")\n",
    "    elif number < predict: print (f\"Угадываемое число меньше {predict} \")\n",
    "        \n",
    "print (f\"Вы угадали число {number} за {count} попыток.\")\n",
    "\n",
    "def game_core_v1(number):\n",
    "    '''Просто угадываем на random, никак не используя информацию о больше или меньше.\n",
    "       Функция принимает загаданное число и возвращает число попыток'''\n",
    "    count = 0\n",
    "    while True:\n",
    "        count+=1\n",
    "        predict = np.random.randint(1,101) # предполагаемое число\n",
    "        if number == predict: \n",
    "            return(count) # выход из цикла, если угадали\n",
    "        \n",
    "        \n",
    "def score_game(game_core):\n",
    "    '''Запускаем игру 1000 раз, чтобы узнать, как быстро игра угадывает число'''\n",
    "    count_ls = []\n",
    "    np.random.seed(1)  # фиксируем RANDOM SEED, чтобы ваш эксперимент был воспроизводим!\n",
    "    random_array = np.random.randint(1,101, size=(1000))\n",
    "    for number in random_array:\n",
    "        count_ls.append(game_core(number))\n",
    "    score = int(np.mean(count_ls))\n",
    "    print(f\"Ваш алгоритм угадывает число в среднем за {score} попыток\")\n",
    "    return(score)\n",
    "\n",
    "# запускаем\n",
    "score_game(game_core_v1)"
   ]
  },
  {
   "cell_type": "code",
   "execution_count": 147,
   "metadata": {},
   "outputs": [
    {
     "name": "stdout",
     "output_type": "stream",
     "text": [
      "Загадано число от 1 до 100\n",
      "Угадываемое число меньше 86 \n",
      "Угадываемое число меньше 94 \n",
      "Угадываемое число меньше 95 \n",
      "Угадываемое число меньше 61 \n",
      "Угадываемое число меньше 31 \n",
      "Угадываемое число больше 4 \n",
      "Угадываемое число больше 11 \n",
      "Угадываемое число больше 1 \n",
      "Угадываемое число меньше 56 \n",
      "Угадываемое число меньше 74 \n",
      "Угадываемое число меньше 65 \n",
      "Угадываемое число больше 13 \n",
      "Угадываемое число меньше 63 \n",
      "Угадываемое число меньше 53 \n",
      "Угадываемое число меньше 52 \n",
      "Угадываемое число больше 24 \n",
      "Угадываемое число меньше 55 \n",
      "Угадываемое число меньше 64 \n",
      "Угадываемое число меньше 45 \n",
      "Угадываемое число меньше 98 \n",
      "Угадываемое число меньше 49 \n",
      "Угадываемое число меньше 70 \n",
      "Угадываемое число больше 10 \n",
      "Угадываемое число меньше 70 \n",
      "Угадываемое число меньше 85 \n",
      "Угадываемое число меньше 36 \n",
      "Угадываемое число больше 23 \n",
      "Угадываемое число меньше 79 \n",
      "Угадываемое число больше 4 \n",
      "Угадываемое число меньше 82 \n",
      "Угадываемое число больше 11 \n",
      "Угадываемое число меньше 66 \n",
      "Угадываемое число больше 12 \n",
      "Угадываемое число меньше 48 \n",
      "Угадываемое число больше 27 \n",
      "Угадываемое число меньше 59 \n",
      "Угадываемое число меньше 52 \n",
      "Угадываемое число меньше 51 \n",
      "Угадываемое число меньше 61 \n",
      "Угадываемое число меньше 36 \n",
      "Угадываемое число больше 22 \n",
      "Угадываемое число меньше 91 \n",
      "Угадываемое число меньше 96 \n",
      "Угадываемое число больше 29 \n",
      "Угадываемое число больше 12 \n",
      "Угадываемое число больше 18 \n",
      "Угадываемое число меньше 68 \n",
      "Угадываемое число меньше 69 \n",
      "Угадываемое число меньше 90 \n",
      "Угадываемое число меньше 44 \n",
      "Угадываемое число меньше 32 \n",
      "Угадываемое число меньше 37 \n",
      "Угадываемое число меньше 46 \n",
      "Угадываемое число больше 19 \n",
      "Угадываемое число меньше 75 \n",
      "Угадываемое число меньше 36 \n",
      "Угадываемое число больше 14 \n",
      "Угадываемое число больше 14 \n",
      "Угадываемое число меньше 96 \n",
      "Угадываемое число меньше 92 \n",
      "Угадываемое число меньше 90 \n",
      "Угадываемое число меньше 50 \n",
      "Угадываемое число меньше 69 \n",
      "Угадываемое число больше 14 \n",
      "Угадываемое число больше 12 \n",
      "Угадываемое число больше 20 \n",
      "Угадываемое число меньше 87 \n",
      "Угадываемое число больше 21 \n",
      "Угадываемое число больше 28 \n",
      "Угадываемое число меньше 88 \n",
      "Угадываемое число меньше 86 \n",
      "Угадываемое число меньше 99 \n",
      "Угадываемое число меньше 51 \n",
      "Угадываемое число меньше 88 \n",
      "Угадываемое число больше 13 \n",
      "Угадываемое число меньше 89 \n",
      "Угадываемое число меньше 46 \n",
      "Угадываемое число меньше 67 \n",
      "Угадываемое число больше 22 \n",
      "Угадываемое число меньше 42 \n",
      "Угадываемое число меньше 94 \n",
      "Угадываемое число меньше 78 \n",
      "Угадываемое число меньше 91 \n",
      "Угадываемое число меньше 72 \n",
      "Угадываемое число меньше 37 \n",
      "Угадываемое число меньше 86 \n",
      "Угадываемое число меньше 92 \n",
      "Угадываемое число меньше 94 \n",
      "Угадываемое число больше 2 \n",
      "Угадываемое число меньше 62 \n",
      "Угадываемое число меньше 70 \n",
      "Угадываемое число меньше 74 \n",
      "Угадываемое число меньше 83 \n",
      "Угадываемое число меньше 41 \n",
      "Угадываемое число меньше 55 \n",
      "Угадываемое число больше 21 \n",
      "Угадываемое число меньше 31 \n",
      "Угадываемое число меньше 49 \n",
      "Угадываемое число меньше 76 \n",
      "Угадываемое число больше 2 \n",
      "Вы угадали число 30 за 100 попыток.\n",
      "Ваш алгоритм угадывает число в среднем за 33 попыток\n"
     ]
    },
    {
     "data": {
      "text/plain": [
       "33"
      ]
     },
     "execution_count": 147,
     "metadata": {},
     "output_type": "execute_result"
    }
   ],
   "source": [
    "import numpy as np\n",
    "\n",
    "number = np.random.randint(1,101)    # загадали число\n",
    "print (\"Загадано число от 1 до 100\")\n",
    "\n",
    "for count in range(1,101):         # более компактный вариант счетчика\n",
    "    predict = np.random.randint(1,101) # предполагаемое число\n",
    "    if number == predict: break    # выход из цикла, если угадали\n",
    "    elif number > predict: print (f\"Угадываемое число больше {predict} \")\n",
    "    elif number < predict: print (f\"Угадываемое число меньше {predict} \")\n",
    "        \n",
    "print (f\"Вы угадали число {number} за {count} попыток.\")\n",
    "\n",
    "def game_core_v2(number):\n",
    "    '''Сначала устанавливаем любое random число, а потом уменьшаем или увеличиваем его в зависимости от того, больше оно или меньше нужного.\n",
    "       Функция принимает загаданное число и возвращает число попыток'''\n",
    "    count = 1\n",
    "    predict = np.random.randint(1,101)\n",
    "    while number != predict:\n",
    "        count+=1\n",
    "        if number > predict: \n",
    "            predict += 1\n",
    "        elif number < predict: \n",
    "            predict -= 1\n",
    "    return(count) # выход из цикла, если угадали\n",
    "\n",
    "# Проверяем\n",
    "score_game(game_core_v2)"
   ]
  },
  {
   "cell_type": "code",
   "execution_count": 30,
   "metadata": {},
   "outputs": [
    {
     "name": "stdout",
     "output_type": "stream",
     "text": [
      "[10 16 65 29 90 94 30  9 74  1]\n"
     ]
    }
   ],
   "source": [
    "import numpy as np\n",
    "\n",
    "np.random.seed(10) \n",
    "\n",
    "random_array = np.random.randint(1,101, size=(10))\n",
    "\n",
    "print(random_array)"
   ]
  },
  {
   "cell_type": "code",
   "execution_count": 31,
   "metadata": {},
   "outputs": [
    {
     "name": "stdout",
     "output_type": "stream",
     "text": [
      "0\n"
     ]
    }
   ],
   "source": [
    "result = 1 // 2\n",
    "print(result)"
   ]
  }
 ],
 "metadata": {
  "kernelspec": {
   "display_name": "Python 3",
   "language": "python",
   "name": "python3"
  },
  "language_info": {
   "codemirror_mode": {
    "name": "ipython",
    "version": 3
   },
   "file_extension": ".py",
   "mimetype": "text/x-python",
   "name": "python",
   "nbconvert_exporter": "python",
   "pygments_lexer": "ipython3",
   "version": "3.7.6"
  }
 },
 "nbformat": 4,
 "nbformat_minor": 4
}
